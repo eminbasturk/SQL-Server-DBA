{
 "cells": [
  {
   "cell_type": "markdown",
   "id": "bf4d020a",
   "metadata": {},
   "source": [
    "# 1. Subquery Kavramı\n",
    "* İç içe select gibi düşün.\n",
    "* JOIN ve GROUP BY kullanmadan tabloları birleştirme durumu.\n",
    "\n",
    "### Ürünlerin fiyat analizi - JOIN ve GROUP BY ile\n",
    "<img src = \"https://i.hizliresim.com/cuoq8uf.png\">\n",
    "\n",
    "### Ürünlerin fiyat analizi - Subquery ile\n",
    "<img src = \"https://i.hizliresim.com/q6uq6ji.png\">"
   ]
  },
  {
   "cell_type": "markdown",
   "id": "6c729d94",
   "metadata": {},
   "source": [
    "* **Okumanın ne kadarlık yer kapladığını bulmak için sorgunun başına <code>SET STATISTICS IO ON</code> yazarsın.**\n",
    "    * Pageler toplanır 8 ile çarpılıp 1024.01'e bölünerek kaç mb veri getirdiği bulunur."
   ]
  },
  {
   "cell_type": "markdown",
   "id": "0992b5fe",
   "metadata": {},
   "source": [
    "* **Yukarıdaki aynı sonucu veren işlemler JOIN ve GROUP BY ile yapıldığında Subquery ile yapılmasına göre daha iyi performans verir.**\n",
    "    * JOIN ve GROUP BY'da tablolar bir kez okunur. Subqueryde tekrar tekrar okunmaya devam eder."
   ]
  },
  {
   "cell_type": "markdown",
   "id": "da79a31b",
   "metadata": {},
   "source": [
    "# 2. JOIN ile yapılamayan Subquery\n",
    "\n",
    "* Bir sorgunun içinden yeni bir sorgu yapmak için subquery yani iç içe select kullanman gerekiyor.\n",
    "* Referans tablon hangisiyle parametre olarak o tablodan bir sütunu kullan.\n",
    "\n",
    "<img src = \"https://i.hizliresim.com/s9k906q.png\">"
   ]
  },
  {
   "cell_type": "markdown",
   "id": "eaf41f9d",
   "metadata": {},
   "source": [
    "# 3. JOIN ve Subquery Farkı\n",
    "* JOIN ile sorgu getirildiğinde NULL satırlar gelmez.\n",
    "    * Siparişi olmayan ürünler getirilmez.\n",
    "* Subquery ile NULL satırlar da gelir.\n",
    "    * Siparişi olmayan ürünler NULL ile getirilir.\n",
    "\n",
    "### WHERE içinde Subquery\n",
    "\n",
    "#### Bir subquery sütuna göre boş olan kayıtları getirme\n",
    "<img src = \"https://i.hizliresim.com/1khsrcb.png\">\n",
    "\n",
    "#### ITEM tablosunda olup ORDERDETAILS tablosunda olmayanları getir\n",
    "<img src = \"https://i.hizliresim.com/anfxx3h.png\">\n",
    "\n",
    "Yukarıdakiyke aynı sonuç döner\n",
    "\n",
    "#### Bir subquery sütun olarak da değerlendirilebilir bir tablo olarak da.\n",
    "\n",
    "<img src = \"https://i.hizliresim.com/o5xech4.png\">"
   ]
  },
  {
   "cell_type": "markdown",
   "id": "70294204",
   "metadata": {},
   "source": [
    "# 4. SORULAR\n",
    "\n",
    "#### SUBQUERY kavramı nedir?\n",
    "* İhtiyaç durumunda sorgu içerisinde sorgu yazma durumudur.\n",
    "\n",
    "#### SUBQUERY nasıl kullanılır?\n",
    "* Sütun olarak bir parantez açıp sorgunu yazarak ve where şartı ile mevcut tabloyu işaret ederek kullanılır.\n",
    "\n",
    "#### Join'e göre avantaj ve dezavantajları nelerdir?\n",
    "* Joinin yapamadıklarını yapar ancak istenmeyen verileri de okuyabilir performansı düşük olur.\n",
    "\n",
    "#### Nerede Join, Nerede Subquery kullanılması gerekir?\n",
    "* Subquery ile yapılabilen bir sorgu join ile de yapılabiliyorsa join kullanılmalı aksi takdirde subquerye başvurulmalıdır."
   ]
  }
 ],
 "metadata": {
  "kernelspec": {
   "display_name": "Python 3 (ipykernel)",
   "language": "python",
   "name": "python3"
  },
  "language_info": {
   "codemirror_mode": {
    "name": "ipython",
    "version": 3
   },
   "file_extension": ".py",
   "mimetype": "text/x-python",
   "name": "python",
   "nbconvert_exporter": "python",
   "pygments_lexer": "ipython3",
   "version": "3.11.1"
  }
 },
 "nbformat": 4,
 "nbformat_minor": 5
}
