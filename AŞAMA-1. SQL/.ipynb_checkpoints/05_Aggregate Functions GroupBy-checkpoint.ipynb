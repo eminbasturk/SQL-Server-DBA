{
 "cells": [
  {
   "cell_type": "markdown",
   "id": "c807e3df",
   "metadata": {},
   "source": [
    "# 1. Örnek Database Restore Etme\n",
    "* **.BAK dosyası kullanılacak database'in yedek dosyasıdır.**\n",
    "* SSMS'i yönetici olarak çalıştırdıktan sonra **Databases** kısmına sağ tıklayıp **Restore Database** diyerek **Device** kısmından dosyanın yerini göstererek yedekten dönebilirsin.\n",
    "* SQL Server sürümleri farklı ise Restore işlemleri farklı olabilir."
   ]
  },
  {
   "cell_type": "markdown",
   "id": "4ad7e4ba",
   "metadata": {},
   "source": [
    "# 2. Aggregate Functions\n",
    "* Tablo veya tabloların herhangi bir değere göre özetini almaya yarar.\n",
    "\n",
    "### Örnek\n",
    "* Satışlar yapılan bir mağaza var.\n",
    "* Toplam yapılan ciro **SUM** fonksiyonu ile bulunur.\n",
    "* En ucuza satılan ürün **MIN** fonksiyonu ile bulunur.\n",
    "* En pahalı satılan ürün **MAX** fonksiyonu ile bulunur.\n",
    "* Ortalama ne kadara satıldığı **AVG** fonksiyonu ile bulunur.\n",
    "* Kaç satırlık işlem gerçekleştirildiği **COUNT** fonksiyonu ile bulunur.\n",
    "* Bu fonksiyonlardan sonra **AS** diyerek sütun ismini de ekleyebilirsin.\n",
    "\n",
    "<img src = \"https://i.hizliresim.com/axgxky5.png\" width = 300>"
   ]
  },
  {
   "cell_type": "markdown",
   "id": "34455b3c",
   "metadata": {},
   "source": [
    "# 3. GROUP BY\n",
    "* Aggregate functionlar tek başına fazla bir anlam ifade etmez. **GROUP BY** ile kullanmayı gerektirir.\n",
    "* Veriler tablo formatında tutulurken o şekilde pek bir anlam ifade etmez. Farklı şekilde analiz edilmesi gerekir.\n",
    "    * Örneğin satışların tutulduğu mağazada aylara göre elde edilen ciro miktarı bilinse daha iyi olur.\n",
    "    \n",
    "<img src = \"https://i.hizliresim.com/1uruclu.png\" width = 600>\n",
    "\n",
    "* Veriyi bir sütuna göre gruplar ve diğer satıra aggregate function uygulatarak özet alır ve analiz edilebilir hale gelmiş olur.\n",
    "\n",
    "<img src = \"https://i.hizliresim.com/smh60nt.png\" width = 300>\n",
    "\n",
    "* **ORDER BY** ile birlikte agg func kullanarak örneğin bir toplam değere göre sıralayabilirsin.\n",
    "* Üstüne **TOP** ile istediğin miktarda satırı da seçebilirsin."
   ]
  },
  {
   "cell_type": "markdown",
   "id": "90d1229c",
   "metadata": {},
   "source": [
    "## GROUP BY Uygulamaları\n",
    "\n",
    "### Bir mağazanın gün bazlı satış rakamlarını getirme\n",
    "* Bunu yapmak için öncelikle **DATETIME** türünde olan tarih alanını **DATE** türüne çevirmemiz gerekiyor. Çünkü; **DATETIME** tarih ve saati birlikte verirken, **DATE** türü sadece tarihi verir. (**TIME** ise sadece saati verir)\n",
    "* <code>CONVERT(DATE, DATE_) AS DATE2</code> bu işlemi yapan fonksiyondur.\n",
    "* Bu yeni tarih alanını veri tabanına kayıt etmek için önce yeni bir sütun aç ve **UPDATE** ile sütunu güncelle.\n",
    "* Aynı işlemi veriyi komple kopyalayıp **Excel**e atıp **Pivot Tablo** oluşturarak da yapabilirsin.\n",
    "\n",
    "<img src = \"https://i.hizliresim.com/28khxcy.png\" width = 500>\n",
    "\n",
    "### Bir günün mağaza bazlı satış rakamlarını getirme\n",
    "<img src = \"https://i.hizliresim.com/j0ukajq.png\">\n",
    "\n",
    "* Excelde görmek için sadece şartı yerine getiren tabloyu getirmen yeterli."
   ]
  },
  {
   "cell_type": "markdown",
   "id": "f2bf1635",
   "metadata": {},
   "source": [
    "### Mağazaların aylara göre satış rakamlarını getirme\n",
    "* Eğer ay bilgisini bir sütuna ekleyeceksen başına ay numarasını da yaz.\n",
    "* Excele SQL Serverdan doğrudan veri çekebilirsin.\n",
    "    * Veri > Diğer Kaynaklardan > SQL Server'dan;\n",
    "        * Sunucu adı ve kimlik bilgilerini gir.\n",
    "        * Veritabanı seç.\n",
    "        * Özellikler > Tanım;\n",
    "        * Komut Türü: SQL\n",
    "        * Komut: SELECT * FROM TabloAdi\n",
    "        \n",
    "<img src = \"https://i.hizliresim.com/cvad3zp.png\" width = 500>"
   ]
  },
  {
   "cell_type": "markdown",
   "id": "9284d4e2",
   "metadata": {},
   "source": [
    "### Ürün kategorilerine göre satış rakamlarını getirme\n",
    "* Excel tablosu SQL Server ile eş zamanlı çalışır.\n",
    "\n",
    "<img src = \"https://i.hizliresim.com/b6rx5th.png\" width = 600\n",
    "    >"
   ]
  },
  {
   "cell_type": "markdown",
   "id": "4490985d",
   "metadata": {},
   "source": [
    "### Mağazaların müşteri sayılarını getirme\n",
    "* Excelde pivot tabloda filtreleme kısmına sütun ekleyerek filtreleme yapabilirsin.\n",
    "\n",
    "<img src = \"https://i.hizliresim.com/7tofwyw.png\" width = 600>\n",
    "\n",
    "* **UNIQUECUSTOMER**: Toplam unique müşteri sayısı\n",
    "* **CUSTOMERCOUNT**: Toplam unique fiş sayısı\n",
    "* **ITEMCOUNT**: Toplam kesilen fiş sayısı"
   ]
  },
  {
   "cell_type": "markdown",
   "id": "6ee3ca22",
   "metadata": {},
   "source": [
    "### Belli bir cironun üzerinde satış yapan mağazaları getirme \n",
    "* **WHERE** şartında agg func kullanmaya çalışırsan hata verir onun yerine **GROUP BY**'dan sonra **HAVING** kullanarak o şartı sağlayabilirsin.\n",
    "\n",
    "<img src = \"https://i.hizliresim.com/g6rbpb8.png\" width = 600>\n",
    "\n",
    "* Ama **WHERE** şartında da bazı filtrelemeler yapabilirsin.\n",
    "\n",
    "<img src = \"https://i.hizliresim.com/3vgzfy7.png\" width = 600>"
   ]
  },
  {
   "cell_type": "markdown",
   "id": "6a34df74",
   "metadata": {},
   "source": [
    "# SORULAR\n",
    "\n",
    "#### SQL Server'a bir database nasıl restore edilir?\n",
    "* SSMS'i yönetici olarak çalıştırdıktan sonra **Databases** kısmına sağ tıklayıp **Restore Database** diyerek **Device** kısmından dosyanın yerini göstererek yedekten dönebilirsin.\n",
    "* SQL Server sürümleri farklı ise Restore işlemleri farklı olabilir.\n",
    "\n",
    "#### Aggregate function ne demektir? Hangi çeşitleri vardır?\n",
    "* Verileri analiz etmek amacıyla kullanılan özetleyici fonksiyonlardır.\n",
    "* MAX, MIN, COUNT, SUM, AVG gibi çeşitleri vardır.\n",
    "\n",
    "#### GROUP BY ne amaçla ve nasıl kullanılır?\n",
    "* Aggregate functionlarını daha işlevsel olarak kullanmak amacıyla sütunları gruplayarak kullanılır.\n",
    "\n",
    "#### MIN, MAX, AVG, COUNT, COUNT DISTINCT komutları hangi amaçla ve nasıl kullanılır?\n",
    "* MIN: sütunun minimum değerini alır.\n",
    "* MAX: sütunun maksimum değerini alır.\n",
    "* AVG: sütunun ortalamasını alır.\n",
    "* COUNT: sütunun yinelenme sayısını alır.\n",
    "* COUNT DISTINCT: sütunun unique olarak yinelenme sayısını alır.\n",
    "\n",
    "#### Excel'de özet tablo nasıl kullanılır?\n",
    "* Veri seti üzerinden Ekle dersin pivot tablo eklersin satır sütun ve değerleri seçerek kullanırsın.\n",
    "\n",
    "#### Excel'den bir veritabanına nasıl bağlanılır ve nasıl sorgu çekilir?\n",
    "* Veri kısmından diğer kaynaklardan bağlanırsın ve bağlanırken tanımda sql seçerek sorgunu yazarsın.\n",
    "\n",
    "#### HAVING komutu hangi amaçla ve nasıl kullanılır?\n",
    "* GROUP BY işlemlerinde sonuca şart koymak amacıyla GROUP BY'ın arkasından gelerek kullanılır.\n",
    "\n",
    "#### GROUP BY kullanılan sorguda ORDER BY nasıl kullanılır?\n",
    "* Grupladığın sütunları alfabetik veya tarihler olarak ya da yine agg funclar ile sıralamak için kullaınlır.\n",
    "\n",
    "#### Sözel olarak ifade ettiğimiz raporların sorguları aggregate function ve group by kullanarak nasıl yazılır?\n",
    "* Sözel olan ifade incelenerek uygun sütunlar gruplanır ve uygun aggregate fonksiyonlar kullanılır."
   ]
  }
 ],
 "metadata": {
  "kernelspec": {
   "display_name": "Python 3 (ipykernel)",
   "language": "python",
   "name": "python3"
  },
  "language_info": {
   "codemirror_mode": {
    "name": "ipython",
    "version": 3
   },
   "file_extension": ".py",
   "mimetype": "text/x-python",
   "name": "python",
   "nbconvert_exporter": "python",
   "pygments_lexer": "ipython3",
   "version": "3.11.1"
  }
 },
 "nbformat": 4,
 "nbformat_minor": 5
}
