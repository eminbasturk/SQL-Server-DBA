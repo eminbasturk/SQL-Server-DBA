{
 "cells": [
  {
   "cell_type": "markdown",
   "id": "46cb7a47-2ac9-455e-adf5-a89c1fd6f383",
   "metadata": {},
   "source": [
    "# SQL Connection\n",
    "* SSMS, SQL Servera bağlanmak için bir arayüz uygulamasıdır.\n",
    "* Şu anda sanal makinede SQL Server kurulu olduğu için client da server da aynı yerde çalışıyor.\n",
    "\n",
    "#### Server name\n",
    "* Kendi makinemiz olduğu için aşağıdaki şekillerde bağlanılabilir.\n",
    "* .\n",
    "* localhost\n",
    "* (local)\n",
    "* SQLEGITIM \n",
    "\n",
    "#### Authentication\n",
    "* Windows olduğu takdirde direkt windows ile bağlanılır.\n",
    "* SQL Server olduğu takdirde kayıt edildiği şekilde bağlanılır. (SA)\n",
    "\n",
    "**TCP/IP kullanarak Network üzerinden bağlanma**\n",
    "* Her bir makinenin yerel IPsi vardır. (127.0.0.1)\n",
    "* Eğer bağlantı kabul edilmezse,\n",
    "\n",
    "## SQL Server Configuration Manager\n",
    "\n",
    "### SQL Server Network Configuration\n",
    "\n",
    "#### Shared Memory (Enabled)\n",
    "Kendi makinesinden bağlanma (client ve server aynı)\n",
    "\n",
    "#### Named Pipes (Disabled)\n",
    "* Linux/Unixde kullanılan network protokolü\n",
    "\n",
    "#### TCP/IP (Disabled)\n",
    "* Windowsa kullanılan network protokolü\n",
    "\n",
    "* **Enable** edilip servisler restart edilirse başarılı olur.\n",
    "\n",
    "* Ethernet üzerinden IP de girilip işlem yapılabilir."
   ]
  },
  {
   "cell_type": "markdown",
   "id": "cb912179-b5d4-459b-bdc4-dcf1326372c5",
   "metadata": {},
   "source": [
    "**Eğer Network üzerinden Windows Auth kullanarak bağlanmak istiyorsan domain yapının, active directory yapın olması gerekir. Yapı yoksa güvensiz görür ve bağlanmana izin vermez. SQL Server Auth ile bağlanılabilir.**"
   ]
  },
  {
   "cell_type": "markdown",
   "id": "3fc4a43d-5f9d-4109-83ab-251c5e742487",
   "metadata": {},
   "source": [
    "# Veritabanı Oluşturma\n",
    "* **Object Explorer** alanında **Databases** alanına bir database oluşturup, o databasein altından **Tables** alanından yeni bir tablo ekleyebilirsin.\n",
    "* Her bir tabloda unique bir int ID alanı bulunmalıdır. Bu değer benzersiz olacağı için otomatik olarak artması mantıklıdır ve PRIMARY KEY olmalıdır. (TC Kimlik gibi)\n",
    "* Sayısal veri tipleri için int, metinsel veri tipleri için varchar ünlü bir tiptir.\n",
    "* Varchar içine girilen değer uzunluğunda yazı alabilir. Böyle formatlamalara **normalizasyon** denir.\n",
    "* Bir veri tabanı yönetim sistemi bütün veri işlemlerini gerçekleştirirken arka tarafta SQL dilini veya kendi özelleştirmiş (T-SQL, PL/SQL) dillerini kullanır."
   ]
  },
  {
   "cell_type": "markdown",
   "id": "c7dfc7a1-37a5-4565-be40-730503d4de48",
   "metadata": {},
   "source": [
    "# Sorular\n",
    "\n",
    "#### Management Studio kullanımı\n",
    "* Öğreniyorum\n",
    "\n",
    "#### SQL Server Auth türleri\n",
    "* Windows ve SQL Server ile yapılabilir. Networke veya yerel bilgisayara bağlanılabilir.\n",
    "\n",
    "#### SQL Server üzerinde tablo oluşturma\n",
    "* Önce database oluşturulur, üzerinden sütunlar ve veri tipleri ile tablo oluşturulur.\n",
    "\n",
    "#### Management Studio üzerinden tabloya kayıt girme\n",
    "* Elle tek tek gerçekleştirilir ancak **SQL Server'ın geri planda sadece TSQL komutları çalışır**"
   ]
  }
 ],
 "metadata": {
  "kernelspec": {
   "display_name": "Python 3 (ipykernel)",
   "language": "python",
   "name": "python3"
  },
  "language_info": {
   "codemirror_mode": {
    "name": "ipython",
    "version": 3
   },
   "file_extension": ".py",
   "mimetype": "text/x-python",
   "name": "python",
   "nbconvert_exporter": "python",
   "pygments_lexer": "ipython3",
   "version": "3.10.5"
  }
 },
 "nbformat": 4,
 "nbformat_minor": 5
}
