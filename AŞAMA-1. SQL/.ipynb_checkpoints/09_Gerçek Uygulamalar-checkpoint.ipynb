{
 "cells": [
  {
   "cell_type": "markdown",
   "id": "9c7af69f",
   "metadata": {},
   "source": [
    "# Veritabanı Restore Etme\n",
    "\n",
    "Databases > Restore Database > Device: .BAK uzantılı dosyayı içe aktar.\n",
    "\n",
    "# Gerçek Uygulamalar\n",
    "\n",
    "## 1\n",
    "<img src = \"https://i.hizliresim.com/m85og8o.png\">\n",
    "\n",
    "* Klasik bir ad soyad-adres bilgisi istenmiyor.\n",
    "* Siparişi verilmiş, ödemesi yapılmış, faturası kesilmiş kullanıcıların bilgileri isteniyor.,\n",
    "* Bu yüzden referans tablosu **ORDERS** tablosudur.\n",
    "\n",
    "<img src = \"https://i.hizliresim.com/3ql201v.png\" width = 700>"
   ]
  },
  {
   "cell_type": "markdown",
   "id": "356511a5",
   "metadata": {},
   "source": [
    "## 2\n",
    "#### Belirli bir siparişteki ürünlerin miktarlarını ve satır toplamlarını getirme\n",
    "\n",
    "<img src = \"https://i.hizliresim.com/g7qe79x.png\">"
   ]
  },
  {
   "cell_type": "markdown",
   "id": "ef97b19e",
   "metadata": {},
   "source": [
    "## 3\n",
    "\n",
    "#### Şehirlere göre verilen siparişleri toplam olarak listeleme\n",
    "\n",
    "<img src = \"https://i.hizliresim.com/cq335r2.png\">\n",
    "\n",
    "* **ORDER BY**da sayıları kullanarak sütunları kullanabilirsin."
   ]
  },
  {
   "cell_type": "markdown",
   "id": "ae13ffe4",
   "metadata": {},
   "source": [
    "## 4. Ürün Kategorilerine Göre Sipariş Dağılımı\n",
    "\n",
    "#### CATEGORY1'e göre\n",
    "\n",
    "<img src = \"https://i.hizliresim.com/mxhbimd.png\">\n",
    "\n",
    "#### CATEGORY1'den EV'in CATEGORY2'ye göre \n",
    "\n",
    "<img src = \"https://i.hizliresim.com/79q1cu9.png\">\n",
    "\n",
    "#### Ortalama birim fiyatı bulma\n",
    "\n",
    "<img src = \"https://i.hizliresim.com/740azoy.png\">\n",
    "\n",
    "* Birden çok sütunu aritmetik olarak kullanarak yeni sütunlar oluşturabilirsin."
   ]
  },
  {
   "cell_type": "markdown",
   "id": "575737ba",
   "metadata": {},
   "source": [
    "## 5. \n",
    "\n",
    "#### Tarihe göre sipariş dağılımı\n",
    "\n",
    "* <img src = \"https://i.hizliresim.com/j6lrp9r.png\">\n",
    "\n",
    "#### Aylara göre sipariş dağılımı\n",
    "\n",
    "* <img src = \"https://i.hizliresim.com/dp5f2ue.png\">\n",
    "\n",
    "* **CASE** komutu ile verilere tek tek erişebilirsin ve kategorik verileri istediğin şekilde değiştirebilirsin."
   ]
  },
  {
   "cell_type": "markdown",
   "id": "87f9100a",
   "metadata": {},
   "source": [
    "## 6. Ödeme Türüne Göre Dağılım\n",
    "\n",
    "<code>**SELECT DISTINCT** PAYMENTTYPE **FROM** PAYMENTS</code>\n",
    "\n",
    "* Sadece türleri getirir.\n",
    "\n",
    "<img src = \"https://i.hizliresim.com/61tzt3t.png\">"
   ]
  },
  {
   "cell_type": "markdown",
   "id": "1c2a3ff4",
   "metadata": {},
   "source": [
    "## 7. Ortalama Teslimat Süresi\n",
    "\n",
    "<img src = \"https://i.hizliresim.com/5vkmxu6.png\">\n",
    "\n",
    "<code>DATEDIFF</code> ile iki tarih arasındaki süreyi istediğin formatta hesaplayabilirsin.\n",
    "\n",
    "<code>**AVG**(**DATEDIFF**(**HOUR**, O.DATE_, I.DATE_)) **AS** TESLIMATSURESI_SAAT</code>\n",
    "\n",
    "* Tüm teslimatların ortalama ulaşma süresini verir.\n",
    "\n",
    "<img src = \"https://i.hizliresim.com/h3w1pos.png\">"
   ]
  },
  {
   "cell_type": "markdown",
   "id": "42915d9a",
   "metadata": {},
   "source": [
    "### Kullanıcılara ve koşula göre teslimat süreleri\n",
    "\n",
    "<img src = \"https://i.hizliresim.com/i1guifh.png\">"
   ]
  },
  {
   "cell_type": "markdown",
   "id": "b485861b",
   "metadata": {},
   "source": [
    "### Yıl ve aylara göre ortalama teslimat süreleri \n",
    "<img src =\"https://i.hizliresim.com/466c4yb.png\">\n",
    "\n",
    "* İllere göre de yapılabilir."
   ]
  }
 ],
 "metadata": {
  "kernelspec": {
   "display_name": "Python 3 (ipykernel)",
   "language": "python",
   "name": "python3"
  },
  "language_info": {
   "codemirror_mode": {
    "name": "ipython",
    "version": 3
   },
   "file_extension": ".py",
   "mimetype": "text/x-python",
   "name": "python",
   "nbconvert_exporter": "python",
   "pygments_lexer": "ipython3",
   "version": "3.10.5"
  }
 },
 "nbformat": 4,
 "nbformat_minor": 5
}
