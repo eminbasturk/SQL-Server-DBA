{
 "cells": [
  {
   "cell_type": "markdown",
   "id": "80e2ebfc-3c4c-42b8-86f4-468cce408122",
   "metadata": {},
   "source": [
    "# VMWare Kurulum\n",
    "* Veritabanları üzerinde çalışmak için Veritabanı Yönetim Sistemi yüklemek gerekir. (SQL Server)\n",
    "* VTYS yüklemek için de Sanal Makine kurmak gerekir. Çünkü; bu tür yüklemelerde sorunlarla karşılaşınca sorunları çözmek amacıyla işlemler formata kadar gidebiliyor. O yüzden bunları Sanal Makinelere kurmakta fayda var.\n",
    "* VMWare Player bir Sanal Makine uygulamasıdır. Ve bu sanal makine üzerinde Microsoft Server işletim sistemi kurulacaktır."
   ]
  },
  {
   "cell_type": "markdown",
   "id": "5486ec57-cb5b-4179-98b2-f8994afcb5f7",
   "metadata": {},
   "source": [
    "# SQL Server Kurulum\n",
    "\n",
    "## Installation\n",
    "\n",
    "* **instance** bir makinedeki çalışan SQL Server'in ismidir. Bir makinede birden fazla SQL Server çalışabilir. Dolayısıyla birden fazla instance da bulunabilir.\n",
    "    * **Evaluation** : Standart Sürüm, 180 gün deneme\n",
    "    * **Express** : Ücretsiz Sürüm, özellikleri kısıtlı\n",
    "    * **Developer** : Üst Sürüm, tüm özellikleri kapsar, kendi makinene kurabilirsin, ücretsizdir.\n",
    "\n",
    "#### Install SQL Server Reporting Services\n",
    "* SQL kodlarını yazabildiğimiz bazı verileri görsel ve web ortamında raporlamamız gerekirse grafiklerle ve listelerle göstermek için kullanılan raporlama aracı.\n",
    "\n",
    "#### Install SQL Server Management Tools\n",
    "* SQL Server kurduktan sonra servera bağlanıp sorgular çekmemizi sağlayan Management Studio'nun kullanımıdır.\n",
    "\n",
    "#### Install SQL Server Data Tools\n",
    "* SQL Serverin, Azure adı verilen buluttaki yapısıyla entegrasyonu sağlayan araç.\n",
    "\n",
    "#### New SQL Server failover cluster installation\n",
    "* Birden fazla SQL Serverin birbiriyle yedekli bir şekilde çalışmasıyla alakalı bir konudur.\n",
    "\n",
    "#### Add node to a SQL Server failover cluster\n",
    "* Yukarıda belirtildiği gibi bir yapı varsa yeni sunucu eklemek için kullanılır.\n",
    "\n",
    "#### Upgrade from a previous version of SQL Server\n",
    "* Geçmiş sürümlerden upgrade etmek için kullanılır.\n",
    "\n",
    "#### New Machine Learning Server (Standalone) installation\n",
    "* ML işlemlerinin SQL Server üzerinde Python ve R kullanılarak çalıştırılması için kullanılır."
   ]
  },
  {
   "cell_type": "markdown",
   "id": "8163cb4e-60bb-481b-bcb0-b0e3851d077a",
   "metadata": {
    "tags": []
   },
   "source": [
    "#### SQL Server Replication\n",
    "* İki farklı lokasyondaki SQL Serverların birbirlerini yedeklemesi.\n",
    "\n",
    "#### Full-Text and Semantic Extractions for Search\n",
    "* Düz metinler için kullanılan yapı.\n",
    "\n",
    "#### Data Quality Services\n",
    "* Eldeki kirli datayı temizlemek için kullanılır.\n",
    "\n",
    "#### PolyBase Query Service for External Data\n",
    "* Big Data için entegrasyon \n",
    "\n",
    "#### Analysis Services\n",
    "* Big Datayı analiz eden yapı\n",
    "\n",
    "#### Integration Services\n",
    "* Farklı veri setlerinin birbirleriyle konuşmasını sağlar. (Oracle, Access, PostgreSQL)"
   ]
  },
  {
   "cell_type": "markdown",
   "id": "b76d325a-32d0-4e74-b38d-c741261974c6",
   "metadata": {},
   "source": [
    "#### SQL Server Database Engine\n",
    "* Clienti dinleyip işlemleri gerçekleştiren servis.\n",
    "\n",
    "#### SQL Server Agent\n",
    "* Sistemin kendini yedeklemesi gibi işlemleri yapan servis.\n",
    "\n",
    "#### SQL Server Browser\n",
    "* Bir SQL Server makinesinde birden fazla instance varsa bu servisin çalışması gerekir.\n",
    "\n",
    "#### Collation\n",
    "* SQL Server taşımada önceki değer neyse yeni makinedeki değer de aynı olmalıdır. SQL Serverin dilidir.\n",
    "* Turkish_CI_AS, büyük ı, küçük ı aynıdır mantığında.\n",
    "    * Case Insensitive\n",
    "    * Accent Sensitive\n",
    "* Case-sensitive işaretlenirse büyük küçük harf duyarlı olur. İşaretleme.\n",
    "* Accent-sensitive şapkaları bir tutmaz."
   ]
  },
  {
   "cell_type": "markdown",
   "id": "40da6d1e-0d12-4766-89a6-9bb44f4ca43e",
   "metadata": {},
   "source": [
    "#### SQL Server'a nasıl bağlanacaksın?\n",
    "* Windows authentication mode\n",
    "    * Windowsa bağlandığın kullanıcıyla bağlanma\n",
    "* Mixed Mode (SQL Server authentication)\n",
    "    * SQL Server üzerinde açılan kullanıcı adı şifreyle bağlanma"
   ]
  },
  {
   "cell_type": "markdown",
   "id": "6013437e-07f4-4da2-a77a-51af74675e50",
   "metadata": {},
   "source": [
    "# Management Studio\n",
    "\n",
    "#### SSMS\n",
    "* SQL Server Management Studio\n",
    "\n",
    "#### SSRS\n",
    "* SQL Server Reporting Services\n",
    "\n",
    "#### SSIS\n",
    "* SQL Server Integration Services\n",
    "\n",
    "#### SSAS\n",
    "* SQL Server Analysis Services"
   ]
  },
  {
   "cell_type": "markdown",
   "id": "68da1c03-320e-4d92-89d3-5a1fa73ed069",
   "metadata": {},
   "source": [
    "# Sorular\n",
    "\n",
    "#### Sanallaştırma ne demektir?\n",
    "* Kendi işletim sistemimizde sıkıntılara sebep olabileceği için SQL Server kullanmak amacıyla sanal bir işletim sistemi kurmaya sanallaştırma denir.\n",
    "\n",
    "#### VMWare ne demektir? Nasıl kurulur?\n",
    "* VMWare sanal makine kurma yazılımıdır. .exe dosyası yüklenerek kurulur\n",
    "\n",
    "#### VMWare üzerine sanal bir işletim sistemi nasıl kurulur?\n",
    "* Sanal işletim sistemi ilgili işletim sisteminin .iso dosyasının elde edilmesi ile kurulur.\n",
    "\n",
    "#### SQL Server nasıl kurulur?\n",
    "* Sanal işletim sistemine gerekli .iso dosyasının aktarımıyla kurulur.\n",
    "\n",
    "#### SQL Server sürümleri nelerdir?\n",
    "* 2017, 2019 gibi sürümleri bulunur.\n",
    "\n",
    "#### SQL Server Management Studio (SSMS) nedir? Nasıl kurulur?\n",
    "* SQL Server servisleriin kullanabilmek amacıyla SQL kodlarını da yazabildiğimiz yazılımdır. \n",
    "* Sanal makineye yüklenen setup dosyası ile kurulur.\n",
    "\n",
    "#### SQL Server hizmetleri nelerdir?\n",
    "* Verilerin işlenmesi, depolanması, indexlenmesi, sorgulanması, raporlanması, veritabanı yönetimi vs.\n",
    "\n",
    "#### Collation kavramı ne demektir?\n",
    "* Farklı bir SQL Servera geçildiğinde eski kodların yenilere uyumlu olması için gereklidir.\n",
    "* Eğer bir collation Turkish seçilmişse türkçe karakterlerin kullanımını sağlar ve CI ve AS olarak işaretlenmişse büyük küçük harf hassasiyeti bulunmaz ancak şapkalara hassasiyeti bulunur."
   ]
  }
 ],
 "metadata": {
  "kernelspec": {
   "display_name": "Python 3 (ipykernel)",
   "language": "python",
   "name": "python3"
  },
  "language_info": {
   "codemirror_mode": {
    "name": "ipython",
    "version": 3
   },
   "file_extension": ".py",
   "mimetype": "text/x-python",
   "name": "python",
   "nbconvert_exporter": "python",
   "pygments_lexer": "ipython3",
   "version": "3.11.1"
  }
 },
 "nbformat": 4,
 "nbformat_minor": 5
}
