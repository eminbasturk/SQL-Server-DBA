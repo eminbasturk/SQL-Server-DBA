{
 "cells": [
  {
   "cell_type": "markdown",
   "id": "60cecd87",
   "metadata": {},
   "source": [
    "# 1. İlişkisel Veritabanı Kavramı (RDMS)\n",
    "* Temel amaç tekrar eden verileri minimuma indirmek ve veri bütünlüğünü sağlamaktır.\n",
    "\n",
    "### Örnek: E Ticaret Sistemi\n",
    "\n",
    "<img src = \"https://i.hizliresim.com/4jsyn9j.png\" >"
   ]
  },
  {
   "cell_type": "markdown",
   "id": "66b162e3",
   "metadata": {},
   "source": [
    "# 2. RDSM Tasarımı\n",
    "* İlişkisel veritabanlarında ana tablo ve detay tablo arasında bağlantıyı sağlamak için **PRIMARY KEY** olarak seçilen benzersiz ve değişmeyen sütun kullanılmalıdır. \n",
    "\n",
    "<img src = \"https://i.hizliresim.com/sgo4nmp.png\" width = 600>\n",
    "\n",
    "* Bir kullanıcının birden fazla adresi bulunabilir. Bu yüzden **USERS** tablosu ile **ADDRESS** tablosu arasında **1-n**'lik bir ilişki vardır.\n",
    "* Tablolar birbirlerine **USERS**ın *ID* alanı aracılığıyla bağlanır. Bu alan **ADDRESS** alanındaki *USERID* alanına tekabül eder.\n",
    "* *USERS* tablosu **master** tablo, *ADDRES* tablosu ise **detay** tablodur. Bu tabloların ilişkilerine **master-detay ilişkisi** denir.\n",
    "\n",
    "<img src = \"https://i.hizliresim.com/tw09q1i.png\" width = 600>\n",
    "\n",
    "* Veritabanının boyutsal olarak büyüklüğü sadece veritabanını etkilemez sorguların geliş hızını da etkiler. Bu yüzden doğru veri türleri kullanılmalıdır. Özellikle PRIMARY KEYler tam sayı ve türlerini içermelidir.\n",
    "\n",
    "* **ADDRESS** = n olmak kaydıyla **COUNTRIES**, **CITIES**, **TOWNS**, **DISTRICTS** gibi alanlar 1e eşitlenir.\n",
    "\n",
    "<img src = \"https://i.hizliresim.com/emf8xjl.png\">\n",
    "\n",
    "* Yukarıdaki örneğe bağlı olarak işlemler tablolar ve ilişkiler şeklinde devam eder."
   ]
  },
  {
   "cell_type": "markdown",
   "id": "0c842e78",
   "metadata": {},
   "source": [
    "# 3. Veritabanına Kayıt Girme\n",
    "\n",
    "<img src = \"https://i.hizliresim.com/4ac345g.png\">\n",
    "\n",
    "* Kullanıcı kullanıcı adı, şifre, ad soyad, email, cinsiyet, doğum tarihi ve telefon numarası bilgileriyle siteye kayıt olur.\n",
    "    * Yukarıdaki özelliklere ek olarak kayıt olma tarihi ve id kullanıcıya atanır.\n",
    "* Kullanıcı farklı bir ekranda adreslerini de kayıt eder.\n",
    "    * Bu veri oluşturulurken kullanıcının idsi, seçtiği ülkenin, şehrin, ilçenin ve semtin idleri veri tabanına eklenir.\n",
    "    * Kullanıcı posta kodunu ve adres açıklamasını da seçtikten sonra otomatik bir id ile birlikte adres tablosuna eklenir.\n",
    "* Ülke, şehir, ilçe ve semt tabloları hiyerarşik olarak birbirleri içinden çekilir.\n",
    "\n",
    "* **Master tablolardan detay tablolara gitmek daha kolay olur.**"
   ]
  },
  {
   "cell_type": "markdown",
   "id": "5f343b48",
   "metadata": {},
   "source": [
    "<img src = \"https://i.hizliresim.com/kdw6aor.png\">"
   ]
  },
  {
   "cell_type": "markdown",
   "id": "601551d7",
   "metadata": {},
   "source": [
    "* Kullanıcının seçtiği ürünlere göre sipariş detayları ve dolayısıyla siparişin kendisi oluşur.\n",
    "* Nihai siparişin tutulduğu tabloda id, kullanıcının idsi, sipariş tarihi, toplam ödeme miktarı, siparişin durumu ve gönderilecek adres bulunur.\n",
    "* Sipariş detayları tablosunda ise id, sipariş idsi, ürünlerin idsi, miktarı, birim fiyatı ve ürün özelinde toplam fiyatı bulunur.\n",
    "* Sipariş tamamlandıktan sonra ödeme ekranına geçilir. Ödeme ekranında id, siparişin idsi, ödeme türü, ödemenin yapılma tarihi, başarılı olup olmaması, onay kodu ve ödeme toplamı bulunur.\n",
    "* Ardından fatura tablosu, id, siparişid, fatura kesim tarihi, adres id, kargo fiş numarası ve toplam tutar ile birlikte oluşur.\n",
    "* Faturanın detaylarında sipariş detayları ve ürünler ile beraber ücretler bulunur. Fatura siparişten sonra kesileceği için aralıklarla kesilebilir.\n",
    "* Geçmişe yönelik raporlardan sipariş detaylarına bakıldığında satış fiyatlarını değil de güncel fiyatı göstereceği için hem ürünler tablosunda hem de sipariş detayları tablosunda ayrı ayrı birim fiyatı tutulur.\n",
    "* Fatura, sipariş verildikten sonra kesildiği için adres değiştirmeler gibi durumlar göz önüne alındığında adres id fatura tablosunda da tutulur."
   ]
  },
  {
   "cell_type": "markdown",
   "id": "c01c208e",
   "metadata": {},
   "source": [
    "# 4. Management Studio'da RDMS\n",
    "* SQL Server'da database oluşturulurken master ve log dosyaları oluşur.\n",
    "* Bir tablo oluştururken tablo içindeki bir sütuna içine ekleme yapılmadığı takdirde default olarak bulunan bir değer ekleyebilirsin. (<code>GETDATE()</code> gibi.)"
   ]
  },
  {
   "cell_type": "markdown",
   "id": "bc3dc554",
   "metadata": {},
   "source": [
    "# 5. Relation Kavramı\n",
    "* İlişkisel veritabanı SQL Server'da **PRIMARY KEY** - **FOREIGN KEY** bağlantıları ile tanımlanır.\n",
    "* **PRIMARY KEY** bir tablonun unique sütununu temsil ederken bu sütunun farklı bir tabloda yansıması **FOREIGN KEY** olur.\n",
    "* Hiçbir ilişki sağlanmadığı takdirde iki tablonun ilişkisel gözükmesi bir şey ifade etmez.\n",
    "* İlişki detay tablodan sağlanır. Detay tablonun *Design* kısmında tabloya tıklayıp *Relationships* seçerek yeni bir ilişkiyi *Add* ile ekleyebiliriz. Ardından *General* ın altında bulunan *Tables And Columnns Specific* kısmından ilişkiler oluşturulabilir. Ardından *primary key* ve *foreign key* tabloları ve sütunları belirlenerek ilişki sağlanır.\n",
    "\n",
    "### INSERT And UPDATE Specification\n",
    "* İlişkiyi oluştururken bu ilişkinin kurallarını da belirleyebiliriz.\n",
    "\n",
    "#### Delete Rule\n",
    "* **No Action**: Master tablodan primary key verisinin silinmesine izin vermez. Çünkü detay tabloda da karşılığı vardır. Ancak detay tablodan foreign key verisi silinirse, master tablodan da silme işlemi gerçekleştirilebilir.\n",
    "* **Cascade**: Master tablodan primary key verisinin silinmesine izin verir. Ayrıca detay tablodaki karşılığını da siler. \n",
    "    * Tehlikeli bir işlemdir.\n",
    "* **Set Null**: Master tablodan primary key verisinin silinmesine izin verir. Detay tabloda da ilgili bağlantıyı kopararak foreign sütunundaki değere *NULL* atar.\n",
    "* **Set Default**: Set Null işlemine benzer bir işlemdir. Eğer sütuna default bir değer atanmışsa o değeri atar.\n",
    "\n",
    "#### Veritabanı bazlı ilişki kullanmak zorunlu değildir. (PRIMARY KEY - FOREIGN KEY)"
   ]
  },
  {
   "cell_type": "markdown",
   "id": "2bf7a291",
   "metadata": {},
   "source": [
    "# 6. Script ile Tablo Oluşturma\n",
    "* İlişkisel veritabanını hem Excel hem de MS'de ayrı ayrı oluşturmak çok zaman alır.\n",
    "* SSMS'de çalışırken üzerinde çalışılan uygulama ne olursa olsun. Arka tarafta SQL komutları çalışır.\n",
    "* Bu zamana kadar gördüğümüz komutlar (SELECT, UPDATE vs.) Data Manipulation Languge (**DML**) komutlarıydı.\n",
    "* Arka tarafta işleyen tablo oluşturma ve diğer veritabanı nesneleri için ise Data Definition Language (**DDL**) komutları kullanılır.\n",
    "* Tablonun **script**ini almak için ilgili tabloya sağ tıklayıp *Script Table as* > *CREATE To* > *New Query Editor Window* yolunu izlemek yeterlidir.\n",
    "* Tables üzerinde durup **F7**e basarsan çıkan tabloların hepsini silebilirsin.\n",
    "\n",
    "#### Tablo oluşturma\n",
    "<code>**CREATE TABLE** TEST (ID **INT IDENTITY**(1,1), CUSTOMERNAME **VARCHAR**(60))</code>\n",
    "* TEST adında bir tablo oluşturur.\n",
    "    * ID sütunu int ve otomatik artan olarak,\n",
    "    * CUSTOMERNAME sütunu varchar olarak oluşur.\n",
    "    \n",
    "#### Tablo silme\n",
    "<code>**DROP TABLE** TEST</code>\n",
    "* TEST tablosunu siler.\n",
    "\n",
    "* **Veritabanını Excelde tasarladıktan sonra otomatik script oluşturarak SSMS'e aktarabilirsin.**"
   ]
  },
  {
   "cell_type": "markdown",
   "id": "9eb560b0",
   "metadata": {},
   "source": [
    "# SORULAR\n",
    "\n",
    "#### İlişkisel veritabanı ne demektir? (RDMS)\n",
    "* Verilerin tekrarından kaçınmak ve veri bütünlüğünü sağlamak adına birçok tablonun bir arada bulunup yardımlaşabildiği veritabanlarıdır.\n",
    "\n",
    "#### RDMS sistemine sahip bir yapı temel anlamda nasıl çalışır? (Fatura örneği)\n",
    "* Her bir tablo sadece ihtiyacı kadar sütun ve satır tutar. Oluşturulan diğer tablolar ihtiyaçları doğrultusunda master-detay hale getirilir.\n",
    "\n",
    "#### Bir E-Ticaret sistemi temel olarak nasıl çalışır?\n",
    "* Kullanıcı bilgileriyle kayıt olur ve giriş yapar.\n",
    "* Siparişi için ürünler ekler.\n",
    "* Tamamladığı sipariş için ödeme yapar.\n",
    "* Ödeme yapıldıktan sonra fatura kesilir ve ürünler gönderilir.\n",
    "\n",
    "#### RDMS bir yapıda veritabanı mimarisi nasıl oluşturulur?\n",
    "* Tekrarlardan kaçınarak ve ilişkileri sağlayarak ihtiyaca göre tabloların oluşturulmasıyla RDMS oluşur."
   ]
  }
 ],
 "metadata": {
  "kernelspec": {
   "display_name": "Python 3 (ipykernel)",
   "language": "python",
   "name": "python3"
  },
  "language_info": {
   "codemirror_mode": {
    "name": "ipython",
    "version": 3
   },
   "file_extension": ".py",
   "mimetype": "text/x-python",
   "name": "python",
   "nbconvert_exporter": "python",
   "pygments_lexer": "ipython3",
   "version": "3.11.1"
  }
 },
 "nbformat": 4,
 "nbformat_minor": 5
}
