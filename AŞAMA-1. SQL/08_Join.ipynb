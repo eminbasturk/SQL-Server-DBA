{
 "cells": [
  {
   "cell_type": "markdown",
   "id": "f7bb5bf3",
   "metadata": {},
   "source": [
    "# 1. Örnek Data Atma\n",
    "* Exceldeki veriyi oluşturduğun tabloya atmak için ID alanı hariç tüm satır ve sütunları Excelden kopyala. Ctrl + Shift + Alt ok\n",
    "* Tablonun içinden *Edit Top 200 Rows* sekmesine girdikten sonra yukarıdaki sekmelerden *Show SQL Pane* alanından sorgu içinden ID alanını çıkartarak alt kısımdan verileri yapıştırabilirsin.\n",
    "* Eğer daha önceden tablo içinde veri varsa ve **DELETE** ile silmişsen yeni eklenen veriler eski kaldığı unique değerden devam edeceği için önce tabloyu **TRUNCATE** ile tamamen boşalt."
   ]
  },
  {
   "cell_type": "markdown",
   "id": "a6276b5a",
   "metadata": {},
   "source": [
    "# 2. İki Tabloyu Birleştirme\n",
    "* İlişkisel veritabanlarında iki tabloyu birleştirip sorgu çekmenin en temel yöntemi;\n",
    "* **SELECT** ile her iki tablodan da çekilecek sütunlar belirlenir.\n",
    "    * Bu işlem TABLOADI.SÜTUNADI şeklinde yapılır.\n",
    "* **FROM** ile her iki tabloyu da kapsadığını belirterek iki tabloyu da yazarsın.\n",
    "* **WHERE** ile tabloların ilişkiyi sağlayan sütunlarını birbirleri ile eşlersin ve istersen yeni koşullar eklersin.\n",
    "\n",
    "<img src = \"https://i.hizliresim.com/lwbwlvi.png\" width = 400>\n",
    "\n",
    "* USERS tablosunun tüm sütunları ve ADDRESS tablosunun ADDRESSTEXT sütunu istenir. IDlere göre eşlenir ve ID'si 4 olanın bilgilerine bakılır.\n",
    "    \n",
    "<img src = \"https://i.hizliresim.com/jdo8u9r.png\">"
   ]
  },
  {
   "cell_type": "markdown",
   "id": "27ef2337",
   "metadata": {},
   "source": [
    "# 3. Alias Kullanımı\n",
    "* İki tablodan da istediğin sayıda sütun çekmek istediğinde USERS ve ADDRESS ifadelerini sık sık kullanmak sorguyu karmaşıklaştırır ve çirkin görünmesine neden olur. Bu yüzden **Alias** ifadesi kullanılır.\n",
    "* Aynı zamanda çıktıyı getirirken sütun isimlerini de bu yolla değiştirebiliriz.\n",
    "\n",
    "<img src = \"https://i.hizliresim.com/f7sua6r.png\" width = 500>\n",
    "\n",
    "* İstersen tablo isminden veya sütun isminden sonra boşluk koyarak istediğin ismi yazabilirsin ya da bu işlemi **AS** ile bağlayarak da yapabilirsin."
   ]
  },
  {
   "cell_type": "markdown",
   "id": "3fa71e1f",
   "metadata": {},
   "source": [
    "# 4. İkiden Fazla Tablo Kullanımı\n",
    "* Aynı şekilde birden fazlo tablo birleştirilerek yeni bir veri seti gösterip üzerinden sorgular yapılabilir hale gelir.\n",
    "\n",
    "<img src= \"https://i.hizliresim.com/bfkg2br.png\" width = 800>"
   ]
  },
  {
   "cell_type": "markdown",
   "id": "d9f40a06",
   "metadata": {},
   "source": [
    "# 5. İlişkisel Veritabanları Üzerinde GROUP BY\n",
    "* İlişkisel veritabanları üzerinde de **GROUP BY** ve **Aggregation Functions** ile beraber gelişmiş sorgulamalar yapabilirsin.\n",
    "\n",
    "<img src = \"https://i.hizliresim.com/jss2b52.png\">\n",
    "\n",
    "* Hangi şehirlerden ve ilçelerden kaçar kullanıcı var.\n",
    "\n",
    "<img src = \"https://i.hizliresim.com/n03fz4c.png\">\n",
    "\n",
    "* Adres sayısı 2'den fazla olan kullanıcıların farklı adreslerinin ülke ve şehir sayıları."
   ]
  },
  {
   "cell_type": "markdown",
   "id": "f593979a",
   "metadata": {},
   "source": [
    "# 6. JOIN İşlemlere Giriş\n",
    "\n",
    "* Temel manada ilişkisel tablolardan veri sorgulamak için aşağıdaki şablon kullanılır.\n",
    "<img src = \"https://i.hizliresim.com/ctf7w5l.png\" width = 300>\n",
    "\n",
    "* Ancak bu teknik eski bir tekniktir. Bazı yetersizlikleri vardır.\n",
    "\n",
    "<img src = \"https://i.hizliresim.com/svz0en1.png\" width = 330>\n",
    "\n",
    "#### Doğrudan sütun çekmek için kullanım\n",
    "\n",
    "<img src = \"https://i.hizliresim.com/kt1nkbh.png\" width = 700>\n",
    "\n",
    "#### Agg func ve group by ile çekmek için kullanım\n",
    "\n",
    "<img src = \"https://i.hizliresim.com/1bzf86r.png\" width = 700>"
   ]
  },
  {
   "cell_type": "markdown",
   "id": "0ba9bd01",
   "metadata": {},
   "source": [
    "# 7. JOIN Türleri\n",
    "\n",
    "## INNER JOIN\n",
    "* İki tablonun **kesişim**ini alan JOIN türüdür.\n",
    "\n",
    "<img src = \"https://i.hizliresim.com/id6vrpo.png\">\n",
    "\n",
    "* Her iki tabloda da bulunan ortak değerler görüntülenir.\n",
    "* JOIN default olarak INNER JOINdir.\n",
    "\n",
    "<img src = \"https://i.hizliresim.com/d95ufv5.png\" width =400>\n",
    "\n",
    "## LEFT (OUTER) JOIN\n",
    "* Sol tablonun tamamını ve dolayısıyla iki tablo kesişimini de getiren JOIN türüdür.\n",
    "\n",
    "<img src = \"https://i.hizliresim.com/mdbw3n7.png\">\n",
    "\n",
    "* **WHERE** yerine **JOIN** kullanmanın avantajı budur. Bir tabloda olup başka tabloda olmayan veriler böyle bağlanabilir. WHERE ile JOIN sağlandığında aslında **INNER JOIN** yapılır.\n",
    "\n",
    "<img src = \"https://i.hizliresim.com/j1xbt66.png\" width =400>\n",
    "\n",
    "## RIGHT (OUTER) JOIN\n",
    "* **LEFT JOIN**'in tam tersidir. Sağdaki küme asıl kümedir.\n",
    "\n",
    "<img src = \"https://i.hizliresim.com/5dlr1ay.png\">\n",
    "\n",
    "<img src = \"https://i.hizliresim.com/prhlbni.png\" width =400>\n",
    "\n",
    "## FULL JOIN\n",
    "* İki tablodaki tüm verileri getirir. İki kümenin **birleşim**i gibidir.\n",
    "\n",
    "<img src = \"https://i.hizliresim.com/8ghw2oq.png\">\n",
    "\n",
    "<img src = \"https://i.hizliresim.com/ggvd4u6.png\" width =400>"
   ]
  },
  {
   "cell_type": "markdown",
   "id": "5214769b",
   "metadata": {},
   "source": [
    "# SORULAR\n",
    "\n",
    "#### İlişkisel veritabanında birden fazla tablo nasıl birleştirilir?\n",
    "* Ortak kullanılan sütunlar **WHERE** şartı ile veya **JOIN** türleri ile birleştirilir.\n",
    "\n",
    "#### JOIN kavramı ne demektir?\n",
    "* RDSMlerde tabloları birbirlerine bağlamak için kullanılan komuttur.\n",
    "\n",
    "#### INNER JOIN, LEFT JOIN, RIGHT JOIN, FULL JOIN kavramları arasında ne farklar vardır?\n",
    "* INNER JOIN; iki tablonun kesişimini getirir.\n",
    "* LEFT JOIN; sol tablonun tamamını ve kesişimleri getirir.\n",
    "* RIGHT JOIN; sağ tablonun tamamını ve kesişimleri getirir.\n",
    "* FULL JOIN; iki tablonun birleşimini getirir.\n",
    "\n",
    "#### Master Detay özelliğindeki tablolar nasıl bağlanarak soru çekilir?\n",
    "* PRIMARY KEY ve FOREIGN KEYler birbirlerine bağlanarak tablolar arası bağlantı sağlanır ve doğrudan sorgulama veya agg funcs ve group by kullanımları ile soru çekilir.\n",
    "\n",
    "#### ALIAS nedir?\n",
    "* Tablolara veya sütunlara takma isim vermeye yarar. Tablo isimlerini kısaltmak istiyorsak veya sütunları farklı şekilde açıklamak istiyorsak kullanılır.\n",
    "\n",
    "#### JOIN kullandığımız tablolarda ALIAS kullanımı nasıl yapılır?\n",
    "* İlgili tablolar yazıldıktan sonra boşluk bırakıp takma isim yazılarak ALIAS kullanılır.\n",
    "\n",
    "#### JOIN kullandığımız tablolarda GROUP BY nasıl kullanılır?\n",
    "* İki tablo birleştirildikten sonra yeni tabloda GROUP BY diğerleri gibi normal bir biçimde kullanılır."
   ]
  }
 ],
 "metadata": {
  "kernelspec": {
   "display_name": "Python 3 (ipykernel)",
   "language": "python",
   "name": "python3"
  },
  "language_info": {
   "codemirror_mode": {
    "name": "ipython",
    "version": 3
   },
   "file_extension": ".py",
   "mimetype": "text/x-python",
   "name": "python",
   "nbconvert_exporter": "python",
   "pygments_lexer": "ipython3",
   "version": "3.11.1"
  }
 },
 "nbformat": 4,
 "nbformat_minor": 5
}
