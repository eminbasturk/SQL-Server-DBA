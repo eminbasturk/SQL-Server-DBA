{
 "cells": [
  {
   "cell_type": "markdown",
   "id": "931a76d8",
   "metadata": {},
   "source": [
    "# 1. Temel SQL Komutları\n",
    "* SQL, veritabanındaki verileri sorgulamamızı ve yönetmemizi sağlayan komutları barındırır.\n",
    "\n",
    "## A. Data Manipülasyon Komutları (DML)\n",
    "* Veri üzerinde işlemler gerçekleştirdiğimiz komutlar\n",
    "    * **SELECT** : Veritabanındaki tablolardan kayıtları çeker.\n",
    "    * **INSERT** : Tabloya yeni kayıt ekler.\n",
    "    * **UPDATE** : Bir tablodaki kaydın bir ya da daha fazla alanını günceller, değiştirir.\n",
    "    * **DELETE** : Bir tablodan kayıt siler. Tüm tabloyu da silebilir.\n",
    "    * **TRUNCATE** : Tablonun içini boşaltır. Tablonun ilk oluşmuş haline dönülmesini sağlar ve içindeki kayıtları siler.\n",
    "    \n",
    "## B. Veritabanı Manipülasyon Komutları (DDL)\n",
    "* Veritabanını nesneleri üzerinde işlemler yapmamızı sağlayan komutlar\n",
    "    * **CREATE** : Bir veritabanı nesnesini oluşturur. Veritabanı, Tablo, View\n",
    "        * **CREATE DATABASE** : Yeni veritabanı oluşturur.\n",
    "        * **CREATE TABLE** : Yeni bir tablo oluşturur.\n",
    "        * **CREATE INDEX** : Index oluşturur.\n",
    "    * **ALTER** : Bir veritabanı nesnesinin özelliğini değiştirir.\n",
    "        * **ALTER DATABASE** : Bir veritabanının özelliklerini değiştirir.\n",
    "        * **ALTER TABLE** : Bir tablonun özelliklerini değiştirir..\n",
    "    * **DROP** : Bir veritabanı nesnesini siler.\n",
    "        * **DROP TABLE** : Bir tabloyu tamamen siler.\n",
    "        * **DROP INDEX** : Index'i siler."
   ]
  },
  {
   "cell_type": "markdown",
   "id": "5a5b5f7e",
   "metadata": {},
   "source": [
    "# 2. SELECT Komutu\n",
    "* Verileri çekmemize yarayan bir komuttur.\n",
    "\n",
    "<img src = \"https://i.hizliresim.com/kri4zcu.png\" width = 200>\n",
    "\n",
    "* Seçilmek istenen sütunlar , ile ayrılarak yazılır. Eğer tüm sütunlar isteniyorsa * konur.\n",
    "* Bağlantı üzerinden yeni **query** oluşturacaksan sorgulayacağın veritabanını yazmak için **USE** kullan.\n",
    "* Eğer kolonları tek tek yazmak istemiyorsan tablonun altındaki **Columns**ı komutların arasına sürükle bırak.\n",
    "* Burada sütunlar köşeli parantez içinde gelir bunun sebebi eğer sütun isimlerinde boşluk bıraktıysan hata vermesin diyedir.\n",
    "* Tabloların kolon isimlerini verirken boşluk ve türkçe kullanma ve özel karakter olarak yalnızca _ kullan."
   ]
  },
  {
   "cell_type": "markdown",
   "id": "274e821a",
   "metadata": {},
   "source": [
    "# 3. INSERT Komutu\n",
    "* Bir tabloya yeni kayıtlar eklemek için kullanılan komuttur.\n",
    "\n",
    "<img src = \"https://i.hizliresim.com/4atw6gv.png\" width = 200>\n",
    "\n",
    "* **INTO** ile birlikte kullanılır.\n",
    "* Tüm sütun isimlerini yazmak için * kullanılamaz.\n",
    "* Otomatik artan bir sütun varsa yazılmaz.\n",
    "* Kayıt eklemek istenen diğer tüm sütunlar değerleriyle birlikte yazılır.\n",
    "* Sayısal değerler olduğu gibi yazılırken sözel değerler '' içinde yazılır.\n",
    "* Tarih de '' içinde yazılırken 'YIL-AY-GÜN' şeklinde formatlanarak yazılır.\n",
    "\n",
    "### Excel'den veri alma\n",
    "* Excelde tutulan bir veri setini veritabanına eklemek için önce ilk satıra **INSERT** komutunu gir.\n",
    "* Bu komutu = ile başlat ve \"\" içine yaz.\n",
    "* **INSERT INTO TABLOADI(KOLONLAR) VALUES**'den sonra değerleri parantez içine tek tek yazmak için '\"&HÜCREKODU&\"' kalıbını kullan. \n",
    "* Tek bir satıra yaptıktan sonra komutu aşağıya kadar sürükle ve oluşan komutları kopyalayıp veritabanına at."
   ]
  },
  {
   "cell_type": "markdown",
   "id": "0e7e66e0",
   "metadata": {},
   "source": [
    "# 4. UPDATE Komutu\n",
    "* Olan bir kaydı güncellemeye ve değiştirmeye yarar.\n",
    "* Tüm sütunlar veya bir kaç sütun aynı anda istenildiği şekilde değiştirilebilir.\n",
    "\n",
    "<img src = \"https://i.hizliresim.com/ksd4299.png\" width = 400>\n",
    "\n",
    "### Doğum tarihine göre yaş güncelleme\n",
    "* <code>DATEDIFF(YEAR, BIRTHDATE, GETDATE())</code> ile doğum tarihine göre güncelleme yapabilirsin.\n",
    "* **DATEDIFF()**, iki tarih arasındaki farkı veren fonksiyondur. \n",
    "* **YEAR**, yıla göre alınacağını bildirir. \n",
    "* **BIRTHDATE**, CUSTOMERS tablomuzdaki doğum tarihi kolonunu temsil eder.\n",
    "* **GETDATE()**, bugünün tarihini veren fonksiyondur.\n",
    "* Eğer fonksiyonun ne yaptığını direkt görmek istiyorsan yine **SELECT** kullanabilirsin."
   ]
  },
  {
   "cell_type": "markdown",
   "id": "17698a94",
   "metadata": {},
   "source": [
    "# 5. DELETE Komutu\n",
    "* Kayıt silmek için kullanılan komuttur.\n",
    "\n",
    "<img src = \"https://i.hizliresim.com/82i3kp8.png\" width = 200>\n",
    "\n",
    "* **WHERE**'e şart yazılmazsa direkt tüm tablo, yazılırsa şarta göre kayıt siler."
   ]
  },
  {
   "cell_type": "markdown",
   "id": "d4739c45",
   "metadata": {},
   "source": [
    "# 6. TRUNCATE Komutu\n",
    "* Tabloyu ilk oluşturduğumuz hale dönüştüren komuttur.\n",
    "\n",
    "<img src = \"https://i.hizliresim.com/azab1iv.png\" width = 300>\n",
    "\n",
    "* Eğer bir tablonun içini tamamen boşaltmak istiyorsan **DELETE** yerine **TRUNCATE** kullan.\n",
    "* **DELETE** ile tablonun içindekileri silersen ID alanı hafızada kalır bir sonraki seferde kaldığı yerden devam eder. Ancak **TRUNCATE** ile tablonun içini boşaltırsan ID alanı en baştan başlar."
   ]
  },
  {
   "cell_type": "markdown",
   "id": "a8688540",
   "metadata": {},
   "source": [
    "# 7. WHERE Şartı\n",
    "* Veri seti içindeki verileri çekerken, silerken, eklerken, kısaca veri üzerinde işlemler yaparken belli şartlara bağlı yapmamızı sağlar.\n",
    "* Örneğin <code>SELECT</code> ile **CUSTOMERS** tablosu çekilirken sadece İstanbuldan olan kişiler çekilebilir. \n",
    "    * <code>WHERE CITY = 'İSTANBUL'</code>\n",
    "* Ya da yaşı 20'den fazla olan kişiler seçilebilir.\n",
    "    * <code>WHERE AGE > 20</code>\n",
    "* Ya da cinsiyeti erkek olan kişiler seçilebilir.\n",
    "    * <code>WHERE GENDER = 'E'</code>\n",
    "    \n",
    "### WHERE ile birlikte kullanılan operatörler\n",
    "<img src = \"https://i.hizliresim.com/qm5io0a.png\" align = left width = 340>\n",
    "\n",
    "* <code>WHERE CITY = 'İSTANBUL'</code> İstanbul'dan olanlar\n",
    "* <code>WHERE CIYY <> 'İSTANBUL'</code> İstanbul dışından olanlar\n",
    "* <code>WHERE BIRTHDATE > '1990-01-01'</code> Tarihten sonra doğanlar\n",
    "* <code>WHERE BIRTHDATE < '1990-01-01'</code> Tarihten önce doğanlar\n",
    "* <code>WHERE BIRTHDATE >= '1990-01-01'</code> Tarihi de dahil eder\n",
    "* <code>WHERE BIRTHDATE <= '1990-01-01'</code> Tarihi de dahil eder\n",
    "* <code>WHERE AGE BETWEEN 20 AND 30</code> 20 ile 30 yaş arasındakileri getirir\n",
    "* <code>WHERE CUSTOMERNAME LIKE 'ÖMER%'</code> İsmi ÖMER ile başlayanları getirir, %ÇOLAKOĞLU, %MİN%\n",
    "* <code>WHERE CITY IN ('İSTANBUL', 'ANKARA', 'BURSA')</code> Şehri seçilen şehirler olanları getirir\n",
    "* <code>WHERE CUSTOMERNAME NOT LIKE 'ÖMER%'</code> Tersi olanları getirir\n",
    "* <code>WHERE CITY NOT IN ('İSTANBUL', 'ANKARA', 'BURSA')</code> Tersi olanları getirir"
   ]
  },
  {
   "cell_type": "markdown",
   "id": "38d79569",
   "metadata": {},
   "source": [
    "* <CODE>WHERE CITY <> 'İSTANBUL</CODE> = <CODE>WHERE NOT CITY = 'İSTANBUL'</CODE>\n",
    "* <CODE>WHERE CITY = 'İSTANBUL</CODE> = <CODE>WHERE CITY IN 'İSTANBUL'</CODE>\n",
    "* **Tarih formatını aralara - yazmadan YILAYGÜN şeklinde yaz.**\n",
    "* <CODE>BETWEEN</CODE> >= ve <= anlamındadır yani yazılanları da dahil eder.\n",
    "    * Tarihler '' içine sayılar doğrudan yazılır.  \n",
    "* **Tablodaki verinin veri türünü sonradan değiştirmek için Tools > Options > Designers > Yeniden oluşturma**\n",
    "* **WHERE** Şartı **INSERT** ile de kullanılabilir."
   ]
  },
  {
   "cell_type": "markdown",
   "id": "379fc3cf",
   "metadata": {},
   "source": [
    "# 8. AND / OR Operatörleri\n",
    "* **WHERE** şartları genelde tek bir şarta bağlı olarak kullanılmaz.\n",
    "* Örneğin ili İstanbul ve ilçesi Üsküdar ya da Sarıyer olan müşterileri beraber getirmek isteyebilirsin. Bu gibi durumlarda **AND** / **OR** operatörleri kullanılır.\n",
    "* <code>WHERE CITY = 'İSTANBUL' AND DISTRICT = 'SARIYER' OR DISTRICT = 'ÜSKÜDAR'</code>\n",
    "\n",
    "### AND Operatörü\n",
    "* **Bütün şartları karşıladığı sürece çalışan operatördür.**\n",
    "* Bütün şartlar tek tek incelendiğinde sonuç olarak en fazla en az kayıt getiren şart kadar kayıt döndürülür.\n",
    "* Aynı sütun için şartlar koşuyorsan **BETWEEN** de kullanabilirsin. (**NOT** da kullanılabilir.)\n",
    "\n",
    "### OR Operatörü\n",
    "* **En az bir şartı karşıladığı sürece çalışan operatördür.**\n",
    "* Eğer aynı sütun birden fazla şartla getiriliyorsa şartların kayıtlarının birleşimi döndürülür.\n",
    "* Aynı sütun için şartlar koşuyorsan **IN** de kullanabilirsin. (**NOT** da kullanılabilir.)"
   ]
  },
  {
   "cell_type": "markdown",
   "id": "a6052b3d",
   "metadata": {},
   "source": [
    "**SQL'de bir satırı yoruma almak için başına -- getir.**"
   ]
  },
  {
   "cell_type": "markdown",
   "id": "a3c045f3",
   "metadata": {},
   "source": [
    "# 9. DISTINCT Komutu\n",
    "* Tekrar eden satırları tekilleştirmek amacıyla kullanılır.\n",
    "\n",
    "<img src = \"https://i.hizliresim.com/gydro54.png\" width = 600>\n",
    "\n",
    "<img src = \"https://i.hizliresim.com/6lirsdh.png\" width = 600>\n",
    "\n",
    "* Klasik **SELECT** komutunun ardından konulur.\n",
    "\n",
    "<img src = \"https://i.hizliresim.com/7nto5vb.png\" width = 200>\n",
    "\n",
    "* Bir sütundaki **unique** kategorileri görmeye yarar."
   ]
  },
  {
   "cell_type": "markdown",
   "id": "a69f7735",
   "metadata": {},
   "source": [
    "# 10. ORDER BY Komutu\n",
    "* Verileri belirli şartlara göre çekeceğin zaman bir sütuna göre sıralı şekilde getir diyebilirsin.\n",
    "* Mesela yaşa göre sıralı olsun;\n",
    "\n",
    "<img src = \"https://i.hizliresim.com/m0k45or.png\" width = 600>\n",
    "\n",
    "* Kullanımı;\n",
    "\n",
    "<img src = \"https://i.hizliresim.com/p6sdqdh.png\" width = 250>\n",
    "\n",
    "* Birden fazla sıralı sıralama yapabilirsin. \n",
    "* **ASC**, Ascending -> Küçükten büyüğe, A'dan Z'ye, **Default**\n",
    "* **DESC**, Descending -> Büyükten küçüğe, Z'den A'ya,\n",
    "* Default sıralama **PRIMARY KEY** alanına göre gerçekleşir.\n",
    "* **Sütun adı yerine sütunun sırasını da girebilirsin.**"
   ]
  },
  {
   "cell_type": "markdown",
   "id": "1d1458c0",
   "metadata": {},
   "source": [
    "# 11. TOP Komutu\n",
    "* Veri setinden dönen kaydın tamamını görmek yerine bir kısmını görmemizi sağlar.\n",
    "    * İlk 5, 100, %25\n",
    "\n",
    "<img src = \"https://i.hizliresim.com/dl1iod4.png\" width = 200>\n",
    "\n",
    "* N'den sonra **PERCENT** getirirsen yüzdesel olarak düşünür."
   ]
  },
  {
   "cell_type": "markdown",
   "id": "201fe2bc",
   "metadata": {},
   "source": [
    "# SORULAR\n",
    "\n",
    "#### SQL komutları temel anlamda nelerdir?\n",
    "* Veri manipülasyonu ve veritabanı manipülasyonu komutları olarak ikiye ayrılır. SELECT, INSERT, DELETE, UPDATE, TRUNCATE veri manipülasyonu komutlarıdır. CREATE, ALTER, DROP veritabanı komutlarıdır.\n",
    "\n",
    "#### Veri manipülasyonu ve Veritabanı manipülasyonu komutları ne demektir?\n",
    "* Veri manipülasyonu komutları sadece veriyle ilgili çekme, ekleme, silme ve güncelleme komutlarıdır. Veritabanı manipülasyonu ise veritabanı nesneleri ile ilgilenir.\n",
    "\n",
    "#### TRUNCATE ile DELETE arasında ne fark vardır?\n",
    "* TRUNCATE tabloyu içini boşaltarak ilk haline getirirken, DELETE gerek koşula bağlı olarak gerekse doğrudan sadece tablodan veri siler. İçi boşaltılan tabloya yeni veriler eklenirken TRUNCATE baştan başlar, DELETE kaldığı yerden devam eder.\n",
    "\n",
    "#### SELECT Komutu ne işe yarar ve nasıl kullanılır?\n",
    "* Veri setinden istenilen şekilde verinin çekilmesini sağlar.\n",
    "* <code>SELECT * FROM CUSTOMERS</CODE> en basit kullanımıdır.\n",
    "\n",
    "#### INSERT Komutu ne işe yarar ve nasıl kullanılır?\n",
    "* Veri setine kayıt eklemeye yarar.\n",
    "* <code>INSERT INTO CUSTOMERS(CUSTOMERNAME, CITY) VALUES ('GİZEM KOÇ', 'ANKARA')</code> şeklindedir.\n",
    "\n",
    "#### UPDATE Komutu ne işe yarar ve nasıl kullanılır?\n",
    "* Veri setindeki belirli verileri değiştirmeye yarar.\n",
    "* <code>UPDATE CUSTOMERS SET CITY = 'İSTANBUL'</CODE> gibi\n",
    "\n",
    "#### DELETE Komutu ne işe yarar ve nasıl kullanılır?\n",
    "* Veri setinden veri silmeye yarar.\n",
    "* <code>DELETE FROM CUSTOMERS</CODE>\n",
    "\n",
    "#### WHERE Şartı ile sorgu nasıl filtrelenir?\n",
    "* Önce koşul koyacağın sütunu yazarsın ardından bir operatör ve koşul değeri. İsteğe bağlı olarak and ve or ile koşulları arttırırsın.\n",
    "\n",
    "#### =, >, <, <>, LIKE, BETWEEN komutları nasıl kullanılır.\n",
    "* WHERE içerisinde sütun ile istenen değer arasında kullanılır.\n",
    "\n",
    "#### WHERE şartında AND ve OR kullanımı?\n",
    "* Koşulları birleştirmek için kullanılır.\n",
    "\n",
    "#### DISTINCT komutu ne işe yarar? Nasıl kullanılır?\n",
    "* Sütunlardan sadece benzersiz değerleri çeker.\n",
    "* <CODE>SELECT DISTINCT CITY FROM CUSTOMERS</CODE> gibi.\n",
    "\n",
    "#### TOP komutu ne işe yarar? Nasıl kullanılır?\n",
    "* Veri setinden istenilen sayıda kayıt çekmeye yarar.\n",
    "* <CODE>SELECT TOP 10 * FROM CUSTOMERS</CODE> gibi."
   ]
  }
 ],
 "metadata": {
  "kernelspec": {
   "display_name": "Python 3 (ipykernel)",
   "language": "python",
   "name": "python3"
  },
  "language_info": {
   "codemirror_mode": {
    "name": "ipython",
    "version": 3
   },
   "file_extension": ".py",
   "mimetype": "text/x-python",
   "name": "python",
   "nbconvert_exporter": "python",
   "pygments_lexer": "ipython3",
   "version": "3.11.1"
  }
 },
 "nbformat": 4,
 "nbformat_minor": 5
}
