{
 "cells": [
  {
   "cell_type": "markdown",
   "id": "a22bbe10",
   "metadata": {},
   "source": [
    "\n",
    "#### Fonksiyonlar sonuçta bi değeri return ettiği için iç içe fonksiyon yazılabilir."
   ]
  },
  {
   "cell_type": "markdown",
   "id": "594e0d39",
   "metadata": {},
   "source": [
    "# 1. String İşlemleri Giriş\n",
    "* SQL ve T-SQL ile bir programlama dilinde yapılabilen hemen hemen her şey yapılabilir.\n",
    "* String operasyonları, matematik operasyonları, değişken atama, döngüler, dosya okuma gibi.\n",
    "\n",
    "#### Gelişmiş String Fonksiyonları\n",
    "<img src = \"https://i.hizliresim.com/sjkq1kz.png\" width = 500>\n",
    "\n"
   ]
  },
  {
   "cell_type": "markdown",
   "id": "73d67689",
   "metadata": {},
   "source": [
    "## ASCII - CHAR\n",
    "\n",
    "#### ASCII\n",
    "* İçerisine aldığı karakterin ASCII türünden değerini verir.\n",
    "\n",
    "#### CHAR\n",
    "* İçerisine aldığı ASCII türünden değerin karakterini verir.\n",
    "\n",
    "<img src = \"https://i.hizliresim.com/ft688c9.png\">\n",
    "\n",
    "* ASCII değerleri 0-255 arasındaki 256 değerden oluşur. Her bir değerin bir karşılığı vardır."
   ]
  },
  {
   "cell_type": "markdown",
   "id": "de96725a",
   "metadata": {},
   "source": [
    "## SUBSTRING\n",
    "\n",
    "* Çok kullanılan bir fonksiyondur.\n",
    "* Bir stringin içerisindeki bir karakterden itibaren ifade ettiğin sayı kadar karakter alır.\n",
    "\n",
    "<img src = \"https://i.hizliresim.com/pw0qf50.png\">\n",
    "\n",
    "* İlk örnekte 1. karakterden itibaren 4 karakter alınmıştır.\n",
    "* İkinci örnekte ise 9. karakterden itibaren 4 karakter alınmıştır.\n",
    "\n",
    "#### LIKE vs SUBSTRING\n",
    "* LIKE, veri setine .. ile başlayan veya .. ile biten gibi söylemlerde bulunabilirken; SUBSTRING, ilk karakterden itibaren veya son karakterden itibaren gibi anlamlarda kullanılabilir.\n",
    "\n",
    "<img src = \"https://i.hizliresim.com/kewt9hx.png\">\n",
    "\n",
    "* İlk örnekte ilk satırda amaç kullanıcı adı O ile başlayan kullanıcıyı getirmek iken ikinci satırda amaç ilk harfi O olan kullanıcıları getirmektir. Mantıken iki işlem de aynı sonuca varmaktadır.\n",
    "\n",
    "* İkinci örnekte ise ilk satırda amaç kullanıcı adı O ile biten kullanıcıları getirmek iken ikinci satırda amaç son harfi O olan kullanıcıları getirmektir. Ancak burada son harfi belirtmek için **LEN** fonksiyonu kullanılmıştır. LEN fonksiyonu stringin uzunluğunu verir buna göre de son karakter seçilebilir."
   ]
  },
  {
   "cell_type": "markdown",
   "id": "76f6ee62",
   "metadata": {},
   "source": [
    "## CHARINDEX\n",
    "* Bir stringin içerisinde başka bir stringi buldurup onun hangi pozisyondan başladığını söyler. İstediğin pozisyondan aramaya başlayabilirsin. Eğer o string yoksa 0 döndürür.\n",
    "\n",
    "<img src = \"https://i.hizliresim.com/ew8ivlr.png\" >"
   ]
  },
  {
   "cell_type": "markdown",
   "id": "7b63727a",
   "metadata": {},
   "source": [
    "# CONCAT\n",
    "* İki veya daha fazla stringin yan yana birleştirilmesini sağlar.\n",
    "* SQL'de stringler **+** ile yan yana getirilebilir. Bu işlem **CONCAT** fonksiyonu ile de yapılabilir.\n",
    "* Ancak bu şekilde birleştirilen stringler tam olarak yan yana getirilir eğer aralarında boşluk veya virgül gibi karakterler bulunmasını istiyorsan ya **CONCAT** içinde belirtirsin ya da ayırıcıları belirtebildiğin **CONCAT_WS** fonksiyonunu kullanırsın.\n",
    "\n",
    "<img src=\"https://i.hizliresim.com/ehktmp0.png\">\n",
    "\n",
    "#### Tablolarda;\n",
    "* Eğer bi ayırıcı kullanacaksan **CONCAT_WS** kullan.\n",
    "\n",
    "<img src = \"https://i.hizliresim.com/jtslet7.png\">"
   ]
  },
  {
   "cell_type": "markdown",
   "id": "c1fee53a",
   "metadata": {},
   "source": [
    "# FORMAT\n",
    "* Sayı ya da tarih türündeki değerleri lokal olarak istenilen formatta yazdırmayı sağlar.\n",
    "* SQL de mevcut tarihi almak için **GETDATE()** fonksiyonu kullanılır. \n",
    "* **FORMAT** fonksiyonunda ilk parametreye tarih veya saat bilgisi girilir. Eğer tarih girildiyse ikinci parametrede ne olarak görmek istediğini yazarsın, üçüncü parametrede ise istediğin formatı belirtirsin.\n",
    "\n",
    "<img src = \"https://i.hizliresim.com/cvdx37e.png\">\n",
    "\n",
    "* İnternette diğer ülkelerin formatlarının kodlarını bulabilirsin.\n",
    "* **Bir tarihi formatlayacaksan FORMAT fonksiyonunu kullanırsın.**\n",
    "\n"
   ]
  },
  {
   "cell_type": "markdown",
   "id": "69fc88dd",
   "metadata": {},
   "source": [
    "# LEFT, RIGHT, LEN\n",
    "* **LEFT**, soldan; **RIGHT** ise sağdan istediğimiz kadar karakter almamızı sağlar.\n",
    "* **LEN** ise stringin uzunluğunu yani karakter sayısını söyler.\n",
    "* Fonksiyonları birlikte kullanarak stringleri sütunlara bölebilirsin.\n",
    "\n",
    "<img src = \"https://i.hizliresim.com/brnhemg.png\">\n",
    "\n",
    "<img src = \"https://i.hizliresim.com/d3dp66s.png\">"
   ]
  },
  {
   "attachments": {},
   "cell_type": "markdown",
   "id": "4c19c832",
   "metadata": {},
   "source": [
    "# TRIM, LTRIM, RTRIM\n",
    "* **TRIM**, stringlerdeki baştaki ve sondaki boşlukları silmek için kullanılır.\n",
    "* **LTRIM** : Left TRIM, sadece baştaki boşlukları siler.\n",
    "* **RTRIM** : Right TRIM, sadece sondaki boşlukları siler.\n",
    "* LTRIM ve RTRIM iç içe kullanılabilir ve TRIM etkisi verir.\n",
    "\n",
    "<img src = \"https://i.hizliresim.com/7m4d31l.png\">"
   ]
  },
  {
   "cell_type": "markdown",
   "id": "59d4b708",
   "metadata": {},
   "source": [
    "# LOWER, UPPER, REVERSE, REPLICATE\n",
    "* **LOWER**, harfleri küçük harf yapar.\n",
    "* **UPPER**, harfleri büyük harf yapar.\n",
    "* **REVERSE**, karakterleri tersten yazdırır.\n",
    "\n",
    "<img src = \"https://i.hizliresim.com/1pjrb38.png\">\n",
    "\n",
    "* **REPLICATE**, stringi istenen değer kadar kopyalar. Belirli bir standart karakter sayısını tutturmak amacıyla kullanılır.\n",
    "\n",
    "<img src = \"https://i.hizliresim.com/rop2sqf.png\">\n",
    "\n",
    "* **CONVERT**, hedeflenen veri türüne elindeki değeri dönüştürmek için kullanılır."
   ]
  },
  {
   "cell_type": "markdown",
   "id": "bc2d2fe2",
   "metadata": {},
   "source": [
    "# REPLACE\n",
    "* Bir şey ile bir şeyi yer değiştiren fonksiyondur.\n",
    "* Eğer bir string düşünürsek string içindeki bir bölümü başka bir string ifade ile değiştiren fonksiyondur.\n",
    "* **REPLACE** fonksiyonunun ilk parametresi stringi, ikinci parametresi değiştirilecek ifadeyi, üçüncü parametre ise yerine konmak istenen ifadeyi içerir.\n",
    "\n",
    "<img src = \"https://i.hizliresim.com/cc31m9l.png\">\n",
    "\n",
    "### SQL'de değişken tanımlama\n",
    "\n",
    "* **DECLARE** komutu ile başlar. *@* ile değişken ismi tanımlanır. **AS** ile hangi veri türünde tanımlanacağı söylenir.\n",
    "* İçine değer atama **SET** ile yapılır.\n",
    "\n",
    "<img src = \"https://i.hizliresim.com/5vv7rnp.png\">\n",
    "\n",
    "* Bir kelimenin bir string içerisinde kaç kez geçtiğini hesaplamak için replace ile kelimeyi stringden kaldırarak o hali ve önceki hali ile uzunluğunun farkını alıp kelime uzunluğuna bölersin."
   ]
  },
  {
   "cell_type": "markdown",
   "id": "b432ed05",
   "metadata": {},
   "source": [
    "# SORULAR\n",
    "\n",
    "#### ASCII\n",
    "* İçine girilen değerin ASCII değerini veren fonksiyon\n",
    "\n",
    "#### CHAR\n",
    "* İçine girilen ASCII değerin karakter karşılığını veren fonksiyon\n",
    "\n",
    "#### CHARINDEX\n",
    "* İçine girilen string, karakter ve pozisyon başlangıcına göre karakterin stringde bulunma pozisyonunu veren fonksiyon\n",
    "\n",
    "#### CONCAT\n",
    "* İki stringi birleştiren fonksiyon\n",
    "\n",
    "#### CONCAT_WS\n",
    "* İki stringi belirli bir ayırıcıyla birleştiren fonksiyon\n",
    "\n",
    "#### FORMAT\n",
    "* Bir tarihi formatlayan fonksiyon\n",
    "\n",
    "#### LEFT\n",
    "* Stringin başından substring alan fonksiyon\n",
    "\n",
    "#### LEN\n",
    "* Stringin veya sayının uzunluğunu alan fonksiyon\n",
    "\n",
    "#### LOWER\n",
    "* Kelimenin harflerini küçük harf yapan fonksiyon\n",
    "\n",
    "#### LTRIM\n",
    "* Stringin solundaki boşlukları silen fonksiyon\n",
    "\n",
    "#### REPLACE\n",
    "* Stringin içindeki substringi farklı bir string ile değiştiren fonksiyon\n",
    "\n",
    "#### REPLICATE\n",
    "* Stringi istenildiği kadar çoğaltan fonksiyon\n",
    "\n",
    "#### REVERSE\n",
    "* Stringin tersini alan fonksiyon\n",
    "\n",
    "#### RTRIM\n",
    "* Stringin sağındaki boşlukları alan fonksiyon\n",
    "\n",
    "#### SUBSTRING\n",
    "* Stringin içinden string çıkarmaya yarayan fonksiyon\n",
    "\n",
    "#### TRIM\n",
    "* Stringin sol ve sağındaki boşlukları alan fonksiyon\n",
    "\n",
    "#### UPPER\n",
    "* Kelimenin harflerini büyük harf yapan fonksiyon"
   ]
  }
 ],
 "metadata": {
  "kernelspec": {
   "display_name": "Python 3 (ipykernel)",
   "language": "python",
   "name": "python3"
  },
  "language_info": {
   "codemirror_mode": {
    "name": "ipython",
    "version": 3
   },
   "file_extension": ".py",
   "mimetype": "text/x-python",
   "name": "python",
   "nbconvert_exporter": "python",
   "pygments_lexer": "ipython3",
   "version": "3.10.5"
  }
 },
 "nbformat": 4,
 "nbformat_minor": 5
}
