{
 "cells": [
  {
   "cell_type": "markdown",
   "id": "dcf79788",
   "metadata": {},
   "source": [
    "# 1. Ortalama zorluk\n",
    "\n",
    "**Birisi bir ülke eklediğinde, sildiğinde veya yeniden adlandırdığında günlüğe kaydetmek için bir trigger kullan**\n",
    "\n",
    "Bu alıştırmanın amacı, yapılan herhangi bir ülke değişikliğini ayrı bir tabloya yazmak için bir trigger kullanmaktır.\n",
    "\n",
    "**Vietnam**'ı **Viet Nam** olarak yeniden adlandırırsan ve ardından (bugüne kadar) hayali ülke **OwlLand**'i ekleyip silersen tablonun göstermesi gerekenler:\n",
    "\n",
    "<img src = \"https://i.hizliresim.com/liz5fm8.png\">\n",
    "\n",
    "Topu yuvarlamaya başlamak için yukarıda gösterilen tabloyu iki kolonla oluştur: \n",
    "\n",
    "| Kolon | Ne içermeli |\n",
    "| --- | --- |\n",
    "| **CountryName** | Yeni eklenen, düzenlenen veya silinen ülkenin adı |\n",
    "| **Change** | Bunun inserted, deleted veya changed olup olmadığı |\n",
    "\n",
    "Şimdi herhangi biri bir ülkeyi değiştirdikten sonra çalışacak bir trigger oluştur. Bu, iki satır yakalamalıdır: \n",
    "\n",
    "| Row | Notlar |\n",
    "| --- | --- |\n",
    "| Eski ülke adı | **Deleted** tablonun ülke adını al |\n",
    "| Yeni ülke adı | **Inserted** tablonun ülke adını al |\n",
    "\n",
    "**Bir tabloyu güncellediğinde, hem *deleted* hem de *inserted* tabloları doldurduğunu unutma.**\n",
    "\n",
    "Şimdi iki trigger daha oluştur:\n",
    "\n",
    "| Trigger | Ne yapmalı |\n",
    "| --- | --- |\n",
    "| After insert | Yeni ülkenin adını içeren değişiklikler tablosuna bir satır ekle |\n",
    "| After delete | Yeni silinen adı içeren değişiklikler tablosuna bir satır ekle |\n",
    "\n",
    "Her şeyin yolunda gittiğinden memnun olduğunda, isteğe bağlı olarak sorgunu **Catalonia perhaps.sql** olarak kaydet ve ardından kapat.\n"
   ]
  },
  {
   "cell_type": "markdown",
   "id": "f5a79734",
   "metadata": {},
   "source": [
    "# 2. Ortalamadan daha zor\n",
    "\n",
    "**INSTEAD OF DELETE triggerı ile UK'deki olayların silinmesini önle**\n",
    "\n",
    "Bu alıştırmanın amacı, UK'deki (ülke numarası 7) meydana gelen olayların herhangi birinin silinmesini durdurmaktır. Bunu yapmak için **tblEvent** tablosunda çalışan bir tetikleyici oluştur.\n",
    "\n",
    "***AFTER UPDATE* yerine *INSTEAD OF UPDATE* seçeneğini kullan, böylece sen özellikle yetkilendirmediğin sürece silme işlemi gerçekleşemez.**\n",
    "\n",
    "Triggerında, **deleted** tablodan aşağıdaki iki değişkenin değerini oluştur ve ayarla:\n",
    "\n",
    "| Variable | Ne içermeli |\n",
    "| --- | --- |\n",
    "| **@EventId** | Birisinin silmeye çalıştığı olayın numarası |\n",
    "| **@CountryId** | Bu olayın gerçekleştiği ülke numarası |\n",
    "\n",
    "Bu olay 7 country idli ülkede gerçekleşmediyse sil: \n",
    "\n",
    "<img src = \"https://i.hizliresim.com/8cjohoo.png\">\n",
    "\n",
    "UK'de olan ve olmayan olayları silerek sorgunun çalış çalışmadığını test et.\n",
    "\n",
    "Dikkatli ol! Bunu satırları düzenleyerek manuel olarak yaparken, bildirilen satır sayısı yanlış olabilir. UK olaylarının silinip silinmediğini kontrol etmek için tablonu kapatıp yeniden açman gerekebilir.\n",
    "\n",
    "İsteğe bağlı olarak sorguyu **Brexit event.sql** olarak kaydet ve ardından kapat."
   ]
  }
 ],
 "metadata": {
  "kernelspec": {
   "display_name": "Python 3 (ipykernel)",
   "language": "python",
   "name": "python3"
  },
  "language_info": {
   "codemirror_mode": {
    "name": "ipython",
    "version": 3
   },
   "file_extension": ".py",
   "mimetype": "text/x-python",
   "name": "python",
   "nbconvert_exporter": "python",
   "pygments_lexer": "ipython3",
   "version": "3.11.1"
  }
 },
 "nbformat": 4,
 "nbformat_minor": 5
}
