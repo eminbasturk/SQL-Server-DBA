{
 "cells": [
  {
   "cell_type": "markdown",
   "id": "36f94835",
   "metadata": {},
   "source": [
    "# 1098. Ortalamadan daha zor\n",
    "\n",
    "**Bir kelimenin uzunluğunu bulmak için LEN'i ve bunu stringe dönüştürmek için CAST'ı kullanarak metin ve sayıları birleştiren bir sorgu oluştur.**\n",
    "\n",
    "Ülke adlarını aşağıdaki gibi listelemek için bir sorgu oluştur: \n",
    "\n",
    "<img src = \"https://i.hizliresim.com/5zs542h.png\">\n",
    "\n",
    "Sorguyu **Length of country name.sql** olarak kaydet ve kapat.\n",
    "\n",
    "<img src = \"https://i.hizliresim.com/7by1tte.png\">"
   ]
  }
 ],
 "metadata": {
  "kernelspec": {
   "display_name": "Python 3 (ipykernel)",
   "language": "python",
   "name": "python3"
  },
  "language_info": {
   "codemirror_mode": {
    "name": "ipython",
    "version": 3
   },
   "file_extension": ".py",
   "mimetype": "text/x-python",
   "name": "python",
   "nbconvert_exporter": "python",
   "pygments_lexer": "ipython3",
   "version": "3.11.1"
  }
 },
 "nbformat": 4,
 "nbformat_minor": 5
}
