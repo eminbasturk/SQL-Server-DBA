{
 "cells": [
  {
   "cell_type": "markdown",
   "id": "2f645af3",
   "metadata": {},
   "source": [
    "# SIMPLE QUERIES"
   ]
  },
  {
   "cell_type": "markdown",
   "id": "c2844090",
   "metadata": {},
   "source": [
    "## 1. Nispeten kolay\n",
    "\n",
    "**Veritabanındaki tüm olayları, en yenisi en başta olmak üzere listelemek için bir sorgu oluştur**\n",
    "\n",
    "**tblEvent** tablosundan aşağıdaki kolonları en yenisi en başta olmak üzere listelemek için bir sorgu oluştur (bunun için **ORDER BY** kullanman gerekir):\n",
    "* Event adı\n",
    "* Event tarihi\n",
    "\n",
    "**Not:** Sorgunun çeşitli kısımlarına girinti koyarsan ve üzerine yorumlar eklersen daha kaliteli bir sorgu olur!\n",
    "\n",
    "Çalıştırdığında sorgunun göstermesi gereken: \n",
    "\n",
    "<img src = \"https://i.hizliresim.com/q2hi85y.png\">\n",
    "\n",
    "Sorguyu **What a way to start.sql** olarak kaydet ve kapat.\n",
    "\n",
    "### What a way to start.sql\n",
    "\n",
    "<img src = \"https://i.hizliresim.com/7569sbd.png\">\n",
    "\n",
    "---"
   ]
  },
  {
   "cell_type": "markdown",
   "id": "386c7109",
   "metadata": {},
   "source": [
    "## 2. Nispeten kolay\n",
    "\n",
    "**Tablodaki son 3 kategoriyi göstermek için TOP N'i kullanarak bir sorgu oluştur**\n",
    "\n",
    "**tblCategory** tablosundan son 3 kategorinin id numarasını ve adını alfabetik sırayla listelemek için bir sorgu oluştur: \n",
    "\n",
    "<img src = \"https://i.hizliresim.com/o4z0ovm.png\">\n",
    "\n",
    "**Not:** Yalnızca bir sorgu için ilk *N* satırı listelemek için *SELECT TOP N*i kullanabileceğini unutma.\n",
    "\n",
    "Sorguyu **Last 3 categories.sql** olarak kaydet ve kapat.\n",
    "\n",
    "### Last 3 categories.sql\n",
    "\n",
    "<img src = \"https://i.hizliresim.com/qm3k4qs.png\">\n",
    "\n",
    "---"
   ]
  },
  {
   "cell_type": "markdown",
   "id": "ad23d3d3",
   "metadata": {},
   "source": [
    "## 3. Ortalama zorluk\n",
    "\n",
    "**İlk 5 olayı kronolojik sırayla listelemek için bir sorgu oluştur**\n",
    "\n",
    "**tblEvent** tablosundan ilk 5 olayı (tarih sırasına göre) göstermek için bir sorgu yaz:\n",
    "\n",
    "<img src = \"https://i.hizliresim.com/3avwlxk.png\">\n",
    "\n",
    "Bu konuda dikkat edilmesi gereken birkaç şey var:\n",
    "\n",
    "* Kolonlara alias vermelisin (**What** ve **Details**);\n",
    "* Sonuçları 5 satırla sınırlamak için *SELECT TOP 5* kullanmalısın;\n",
    "* Etkinlik tarihine göre sıralama yapıyorsanız bile bunu sonuca dahil etmen gerekmez.\n",
    "\n",
    "Sorguyu **The dawn of history.sql** olarak kaydet ve kapat.\n",
    "\n",
    "### The dawn of history.sql\n",
    "\n",
    "<img src = \"https://i.hizliresim.com/p7sp31b.png\">\n",
    "\n",
    "---"
   ]
  },
  {
   "cell_type": "markdown",
   "id": "d42c339b",
   "metadata": {},
   "source": [
    "## 4. Ortalamadan daha zor\n",
    "\n",
    "**İlk ve son olayları göstermek için iki SELECT sorgusu çalıştır**\n",
    "\n",
    "**tblEvent** tablosundan ilk ve son 2 olayı tarih sırasına göre göstermek için iki ayrı **SELECT** ifadesi kullanan bir sorgu oluştur: \n",
    "\n",
    "<img src = \"https://i.hizliresim.com/68z43q6.png\">\n",
    "\n",
    "* Bu sonuçları almak için iki **SELECT** komutunu arka arkaya çalıştır.\n",
    "\n",
    "Şimdi çalıştırdığında böyle bir şey elde etmek için bu sorgunun çıktısını grid yerine texte yönlendir: \n",
    "\n",
    "<img src = \"https://i.hizliresim.com/iwmxa5m.png\">\n",
    "\n",
    "* Aynı sonuç ancak text formunda. (Resul to Text (Ctrl + T))\n",
    "\n",
    "**Not:** Bunun dağınık göründüğünü düşünüyorsan (ki öyle), satır numarası mesajlarını bastırmak için sorgunun başına **SET NOCOUNT ON** komutunu eklemeyi dene.\n",
    "\n",
    "Sorguyu **How times change.sql** olarak kaydet ve kapat.\n",
    "\n",
    "### How times change.sql\n",
    "\n",
    "<img src = \"https://i.hizliresim.com/jnrnh6b.png\">\n",
    "\n",
    "<img src = \"https://i.hizliresim.com/n1i3xey.png\">\n",
    "\n",
    "---"
   ]
  },
  {
   "cell_type": "markdown",
   "id": "0f67cf9e",
   "metadata": {},
   "source": [
    "# ARCHIEVED"
   ]
  },
  {
   "cell_type": "markdown",
   "id": "004c9c0c",
   "metadata": {},
   "source": [
    "## 1092. Ortalama zorluk\n",
    "\n",
    "**Fransa'da gerçekleşen başlıkta Concorde'un yer aldğı tüm olayları göstermek için bir sorgu oluştur**\n",
    "\n",
    "Concorde ile ilgili tüm olayları listeyelen bir sorgu oluştur (yani, **Description** kolonunda bir yerde **Concorde** olan):\n",
    "\n",
    "<img src = \"https://i.hizliresim.com/1t7thly.png\">\n",
    "\n",
    "* Belirgin hale gelecek nedenlerden dolayı, CountryId'yi sorguna dahil et.\n",
    "\n",
    "Şimdi, yalnıca 6 numaralı ülkede (Fransa) gerçekleşen Concorde ile ilgili olayları gösterecek şekilde sorguna başka bir **WHERE** ekle:\n",
    "\n",
    "<img src = \"https://i.hizliresim.com/svswfck.png\">\n",
    "\n",
    "Sorguyu **French Concorde events.sql** olarak kaydet ve kapat.\n",
    "\n",
    "### French Concorde events.sql\n",
    "\n",
    "<img src = \"https://i.hizliresim.com/6gpgxns.png\">\n",
    "\n",
    "---"
   ]
  },
  {
   "cell_type": "markdown",
   "id": "0b708890",
   "metadata": {},
   "source": [
    "## 1091. Nispeten kolay\n",
    "\n",
    "**1940'larda Almanya'da meydana gelen tüm tarihsel olayları listeleyen bir sorgu oluştur**\n",
    "\n",
    "Tüm Almanya olayları için olay tarihini ve olay adını listeleyen bir sorgu oluştur (yani, CountryId'nin 7'ye eşit olduğu tüm olaylar için): \n",
    "\n",
    "<img src = \"https://i.hizliresim.com/pgqjrxe.png\">\n",
    "\n",
    "* Veritabanımızda Almanya'da gerçekleşen 6 olay var.\n",
    "\n",
    "Şimdi **WHERE**'i yalnızca 1940'larda Almanya'da meydana gelen olayları gösterecek şekilde değiştir (yani, **EventDate** kolonu 1 Ocak 1940 ile 31 Aralık 1949 arasında yer alır):\n",
    "\n",
    "<img src = \"https://i.hizliresim.com/2ekypg0.png\">\n",
    "\n",
    "* Bu seni sadece bu 2 olaya götürmeli.\n",
    "\n",
    "Sorguyu **German events in 40s.sql** olarak kaydet ve kapat.\n",
    "\n",
    "### German events in 40s.sql\n",
    "\n",
    "<img src = \"https://i.hizliresim.com/cv0qqdz.png\">\n",
    "\n",
    "---"
   ]
  },
  {
   "cell_type": "markdown",
   "id": "7829863c",
   "metadata": {},
   "source": [
    "## 1095. Nispeten kolay\n",
    "\n",
    "**Geçmişteki her olay için girilen açıklamanın uzunluğunu gösteren bir sorgu oluştur**\n",
    "\n",
    "Her olayın adını, açıklamasının uzunluğuyla birlikte, en uzun açıklama önce görünecek şekilde sıralanmış olarak göstermek için bir sorgu oluştur: \n",
    "\n",
    "<img src = \"https://i.hizliresim.com/alehws9.png\">\n",
    "\n",
    "Sorguyu **Showing length of description.sql** olarak kaydet ve kapat.\n",
    "\n",
    "### Showing length of description.sql\n",
    "\n",
    "<img src = \"https://i.hizliresim.com/ji00m0i.png\">\n",
    "\n",
    "---"
   ]
  },
  {
   "cell_type": "markdown",
   "id": "44cfc38a",
   "metadata": {},
   "source": [
    "## 1097. Nispeten kolay\n",
    "\n",
    "**ISNULL veya COALESCE kullanarak ülke ve kıta idsini (veya bu boşsa 0) göstermek için bir sorgu oluştur**\n",
    "\n",
    "**tblCountry** tablosundaki tüm üşkelerin listesini ters alfabetik sırayla göstermek için bir sorgu oluştur. Bir ülkenin kıta kimliği yoksa, bunu 0 ile değiştir:\n",
    "\n",
    "<img src = \"https://i.hizliresim.com/6vymfn7.png\">\n",
    "\n",
    "Sorguyu **Denullification** olarak kaydet ve kapat.\n",
    "\n",
    "### Denullification.sql\n",
    "\n",
    "<img src = \"https://i.hizliresim.com/nzii6wf.png\">\n",
    "\n",
    "---"
   ]
  },
  {
   "cell_type": "markdown",
   "id": "65972f08",
   "metadata": {},
   "source": [
    "## 1088. Nispeten kolay\n",
    "\n",
    "**Geçmiş olayları, en yenisi en başta olmak üzere listelemek için basit bir sorgu oluştur**\n",
    "\n",
    "**tblEvent** tablosundan aşağıdaki kolonları listelemek için bir sorgu oluştur:\n",
    "* **EventName**\n",
    "* **EventDate**\n",
    "\n",
    "Satırların, en son olay en başta gelecek şekilde tarih sırasına göre görünmelidir.\n",
    "\n",
    "<img src = \"https://i.hizliresim.com/gltqn4q.png\">\n",
    "\n",
    "**Not**: Sorgunun çeşitli kısımlarına girinti koyarsan ve üzerine yorumlar eklersen daha kaliteli bir sorgu olur!\n",
    "\n",
    "Sorguyu **Listing events in reverse date order.sql** olarak kaydet ve kapat.\n",
    "\n",
    "### Listing events in reverse date order.sql\n",
    "\n",
    "<img src = \"\">\n",
    "\n",
    "---"
   ]
  },
  {
   "cell_type": "markdown",
   "id": "902acb49",
   "metadata": {},
   "source": [
    "## 3993. Nispeten kolay\n",
    "\n",
    "**SELECT kullanarak doktorların isimlerini alfabetik olarak listele.**\n",
    "\n",
    "Burada bir hatırlatma olarak, temel bir **SELECT** ifadesinin düzeni şöyledir: \n",
    "\n",
    "<img src = \"https://i.hizliresim.com/f4im1nf.png\">\n",
    "\n",
    "**tblDoctor**'daki isimleri doğum tarihine göre listelemek için bir **SELECT** ifadesi yaz.\n",
    "\n",
    "**Not:** Sonuçlarının sıralama düzenini ayarlamak için **ORDER BY** kullan.\n",
    "\n",
    "Sonuçların şöyle görünmelidir: \n",
    "\n",
    "<img src = \"https://i.hizliresim.com/hs602q5.png\">\n",
    "\n",
    "Sorguyu **List of Doctors.sql** olarak kaydet ve kapat.\n",
    "\n",
    "### List of Doctors.sql\n",
    "\n",
    "<img src = \"\">\n",
    "\n",
    "---"
   ]
  },
  {
   "cell_type": "markdown",
   "id": "65bd8bd1",
   "metadata": {},
   "source": [
    "## 1090. Ortalamadan daha zor\n",
    "\n",
    "**Bir header oluşturmak için PRINT'i kullanarak bir tablodan metne ayrıntıları listelemek için bir sorgu oluştur**\n",
    "\n",
    "Yeni bir sorgu oluştur ve çıktısını metne yönlendirmeyi seç.\n",
    "\n",
    "**PRINT** kullanarak, sorgunu **tblEvent** tablosundan aşağıdaki kolonları listleyecek şekilde yaz: \n",
    "* **EventName**\n",
    "* **EventDate**\n",
    "\n",
    "Sorgun aşağıdaki metin sonuçlarını üretmelidir: \n",
    "\n",
    "<img src = \"https://i.hizliresim.com/50b5sv7.png\">\n",
    "\n",
    "* EventDate kolonunu görmek için sağa kaydırman gerekebilir.\n",
    "\n",
    "Sorguyu **Printed list.sql** olarak kaydet ve kapat.\n",
    "\n",
    "### Printed list.sql\n",
    "\n",
    "<img src = \"\">\n",
    "\n",
    "---"
   ]
  },
  {
   "cell_type": "markdown",
   "id": "2393b979",
   "metadata": {},
   "source": [
    "## 2361. Ortalamadan daha zor\n",
    "\n",
    "**En üstteki ve en alttaki 5 olayı alfabetik sırayla göstermek için tek bir sorgu oluştur**\n",
    "\n",
    "İlk ve son 5 olayı alfabetik sırayla göstermek için tek bir sorgu oluştur: \n",
    "\n",
    "<img src = \"https://i.hizliresim.com/ajifes9.png\">\n",
    "\n",
    "* Kolon isimlerinin farklı başlıklara sahip olduğunu unutma.\n",
    "\n",
    "Sorguyu **Show top and bottom 5 events.sql** olarak kaydet ve kapat.\n",
    "\n",
    "### Show top and bottom 5 events.sql\n",
    "\n",
    "<img src = \"\">\n",
    "\n",
    "---"
   ]
  },
  {
   "cell_type": "markdown",
   "id": "588ea125",
   "metadata": {},
   "source": [
    "## 1797. Ortalamadan daha zor\n",
    "\n",
    "**Tercih ettiğin herhangi bir yöntemi kullanarak bir eğitmen idleri stringini bir tablo isimleri stringine dönüştür**\n",
    "\n",
    "Bir şekilde, eğitmen idlerinin herhangi bir virgülle ayrılmış id stringini \n",
    "\n",
    "<img src = \"\">\n",
    "\n",
    "Sorguyu **.sql** olarak kaydet ve kapat.\n",
    "\n",
    "### .sql\n",
    "\n",
    "<img src = \"\">\n",
    "\n",
    "---"
   ]
  },
  {
   "cell_type": "markdown",
   "id": "6090ed09",
   "metadata": {},
   "source": [
    "## \n",
    "\n",
    "****\n",
    "\n",
    "\n",
    "\n",
    "<img src = \"\">\n",
    "\n",
    "Sorguyu **.sql** olarak kaydet ve kapat.\n",
    "\n",
    "### .sql\n",
    "\n",
    "<img src = \"\">\n",
    "\n",
    "---"
   ]
  },
  {
   "cell_type": "code",
   "execution_count": null,
   "id": "674bf3a4",
   "metadata": {},
   "outputs": [],
   "source": []
  },
  {
   "cell_type": "code",
   "execution_count": null,
   "id": "f5e0b797",
   "metadata": {},
   "outputs": [],
   "source": []
  },
  {
   "cell_type": "code",
   "execution_count": null,
   "id": "ee48cd2a",
   "metadata": {},
   "outputs": [],
   "source": []
  },
  {
   "cell_type": "code",
   "execution_count": null,
   "id": "7b02b2c8",
   "metadata": {},
   "outputs": [],
   "source": []
  },
  {
   "cell_type": "code",
   "execution_count": null,
   "id": "4308960c",
   "metadata": {},
   "outputs": [],
   "source": []
  },
  {
   "cell_type": "code",
   "execution_count": null,
   "id": "fb2d91dc",
   "metadata": {},
   "outputs": [],
   "source": []
  },
  {
   "cell_type": "code",
   "execution_count": null,
   "id": "2bfc16c0",
   "metadata": {},
   "outputs": [],
   "source": []
  },
  {
   "cell_type": "code",
   "execution_count": null,
   "id": "3fb8be63",
   "metadata": {},
   "outputs": [],
   "source": []
  },
  {
   "cell_type": "code",
   "execution_count": null,
   "id": "c04134ad",
   "metadata": {},
   "outputs": [],
   "source": []
  },
  {
   "cell_type": "code",
   "execution_count": null,
   "id": "d23fc53f",
   "metadata": {},
   "outputs": [],
   "source": []
  },
  {
   "cell_type": "code",
   "execution_count": null,
   "id": "274d1abd",
   "metadata": {},
   "outputs": [],
   "source": []
  },
  {
   "cell_type": "code",
   "execution_count": null,
   "id": "9f69115f",
   "metadata": {},
   "outputs": [],
   "source": []
  },
  {
   "cell_type": "code",
   "execution_count": null,
   "id": "6770daa5",
   "metadata": {},
   "outputs": [],
   "source": []
  },
  {
   "cell_type": "code",
   "execution_count": null,
   "id": "dd8c36b6",
   "metadata": {},
   "outputs": [],
   "source": []
  },
  {
   "cell_type": "code",
   "execution_count": null,
   "id": "0c2d0412",
   "metadata": {},
   "outputs": [],
   "source": []
  },
  {
   "cell_type": "code",
   "execution_count": null,
   "id": "dd4a3109",
   "metadata": {},
   "outputs": [],
   "source": []
  },
  {
   "cell_type": "code",
   "execution_count": null,
   "id": "0b1b5dbc",
   "metadata": {},
   "outputs": [],
   "source": []
  },
  {
   "cell_type": "code",
   "execution_count": null,
   "id": "e8aa35eb",
   "metadata": {},
   "outputs": [],
   "source": []
  },
  {
   "cell_type": "markdown",
   "id": "935dbc07",
   "metadata": {},
   "source": [
    "# JOINS\n",
    "\n",
    "## 2363. Ortalamadan daha zor\n",
    "\n",
    "**Bir tablodaki (films) tüm kayıtları, dolaylı olarak bağlantılı diğerinde (actors) ilgili kayıt olmadan göster**\n",
    "\n",
    "Oyuncusu olmayan 96 filmi göstermek için bir sorgu yaz:\n",
    "\n",
    "<img src = \"https://i.hizliresim.com/2m7u3y4.png\">\n",
    "\n",
    "* Alfabetik sırayla ilk birkaç oyuncusuz film\n",
    "\n",
    "**Not:** Film tablosundan cast tablosuna, cast tablosundan da actor tablosuna join yapman gerekiyor.\n",
    "\n",
    "Vaktin varsa, veri tabanındaki hiçbir filmde yer almayan oyuncu olmadığını göstermek için başka bir sorgu yaz.\n",
    "\n",
    "Sorguyu **Filmes sans acteurs.sql** olarak kaydet ve kapat.\n",
    "\n",
    "### Filmes sans acteurs.sql\n",
    "\n",
    "<img src = \"\">\n",
    "\n",
    "---"
   ]
  },
  {
   "cell_type": "code",
   "execution_count": null,
   "id": "32e8a779",
   "metadata": {},
   "outputs": [],
   "source": []
  }
 ],
 "metadata": {
  "kernelspec": {
   "display_name": "Python 3 (ipykernel)",
   "language": "python",
   "name": "python3"
  },
  "language_info": {
   "codemirror_mode": {
    "name": "ipython",
    "version": 3
   },
   "file_extension": ".py",
   "mimetype": "text/x-python",
   "name": "python",
   "nbconvert_exporter": "python",
   "pygments_lexer": "ipython3",
   "version": "3.11.1"
  }
 },
 "nbformat": 4,
 "nbformat_minor": 5
}
