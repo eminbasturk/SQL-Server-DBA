{
 "cells": [
  {
   "cell_type": "markdown",
   "id": "7fe70b6a",
   "metadata": {},
   "source": [
    "# 1. Nispeten kolay\n",
    "**Çeşitli Doctors'ın saltanatını gösteren bir fonksiyon oluştur**\n",
    "\n",
    "Bu alıştırma, iki tarih arasındaki farkı gün, ay, yıl vb. cinsinden hesaplayan ve 3 bağımsız değişken alan **DateDiff** fonksiyonunu kullanır. \n",
    "\n",
    "| Argüman | Ne konur |\n",
    "| --- | --- |\n",
    "| **Interval** | Kullanılacak zaman aralığı (bu alıştırma için **day**) | \n",
    "| **Start date** | Başlangıç tarihi |\n",
    "| **End date** | Bitiş tarihi |\n",
    "\n",
    "Örneğin aşağıdaki alıştırma çıktı olarak 365 verir:\n",
    "\n",
    "<img src = \"https://i.hizliresim.com/om9l4z8.png\">\n",
    "\n",
    "Verilen herhangi iki tarih arasındaki gün sayısını döndürmek için **DateDiff** fonksiyonunu kullanan **fnReign** adında bir fonksiyon yaz. Scalar function syntaxına dair hızlı bir hatırlatma:\n",
    "\n",
    "<img src = \"https://i.hizliresim.com/49jxs3z.png\">\n",
    "\n",
    "Her doktorun \"saltanatının\" göreli süresini göstermek için bir sorgu içinde gıcırtılı temiz yeni fonksiyonlarını ara:\n",
    "\n",
    "<img src = \"https://i.hizliresim.com/4amrgqq.png\">\n",
    "\n",
    "Bir doktor için bitiş tarihi boşsa, fonksiyonun geçerli tarihi değiştirmelidir. Bu, sorgunu çalıştırdığında **Peter Capaldi**'nin listede burada gösterilenden daha üst sıralarda göründüğü anlamına gelebilir (çünkü son bölüm tarihinin boş olduğu tek doktor odur).\n",
    "\n",
    "İsteğe bağlı olarak, sorgunu **Baker wins.sql** olarak kaydet ve ardından kapat."
   ]
  },
  {
   "cell_type": "markdown",
   "id": "2b2cf6a8",
   "metadata": {},
   "source": [
    "# 2. Nispeten kolay\n",
    "**Toplam harf sayısını saymak için scaler function oluştur**\n",
    "\n",
    "İki parametre alan **fnLetterCount** adlı bir fonksiyon oluştur:\n",
    "\n",
    "| Parametre | Ne içermeli |\n",
    "| --- | --- |\n",
    "| **@First** | Bir eventin adı | \n",
    "| **@Second** | Bir eventin detayları |\n",
    "\n",
    "Fonksiyonun şunları toplamalı:\n",
    "* Event adının harf cinsinden uzunluğu (**LEN** kullanılarak); ve\n",
    "* Event ayrıntıları kolonunun harf cinsinden uzunluğu (yine **LEN** kullanılarak)\n",
    "\n",
    "Fonksiyonun daha sonra bu değeri bir tamsayı olarak döndürmelidir. Bir hatırlatma olarak, temel bir fonksiyonun syntaxi şöyledir: \n",
    "\n",
    "<img src = \"https://i.hizliresim.com/ri5l4ml.png\">\n",
    "\n",
    "Bunun gibi bir sorgu çalıştırarak fonksiyonunun çalıştığını test et:\n",
    "\n",
    "<img src = \"https://i.hizliresim.com/k17xlz9.png\">\n",
    "\n",
    "Eventleri kullanılan toplam karakter sayısına göre en kısası başta olmak üzere listelemek için bu fonksiyonu bir sorguya dahil et: \n",
    "\n",
    "<img src = \"https://i.hizliresim.com/tnmqoff.png\">\n",
    "\n",
    "Bu sorgunun döndürmesi gereken ilk birkaç event.\n",
    "\n",
    "İsteğe bağlı olarak, bunu **Pointless statistics.sql** olarak kaydet ve ardından kapat."
   ]
  },
  {
   "cell_type": "markdown",
   "id": "bf98b987",
   "metadata": {},
   "source": [
    "# 3. Ortalama zorluk\n",
    "**Her bölümün türünü belirlemek için bir scalar function oluştur**\n",
    "\n",
    "Bu alıştırmanın amacı, **fnEpisodeDescription** adında, her türden kaç tane bölüm olduğunu sayabileceğin bir fonksiyon yaratmaktır: \n",
    "\n",
    "<img src = \"https://i.hizliresim.com/dtmcck3.png\">\n",
    "\n",
    "Böyle bir şeyin dönmesi gerekiyor:\n",
    "\n",
    "<img src = \"https://i.hizliresim.com/cn86a4o.png\"> \n",
    "\n",
    "Birince ev ikinci bölümlerin sayısının aynı olduğunu görmek güven verici\n",
    "\n",
    "Bu fonksiyonu yazmak için, bir string dizisinin diğerinin içinde var olup olmadığını belirlemek için **CHARINDEX** fonksiyonunun kullan:\n",
    "\n",
    "<img src = \"https://i.hizliresim.com/rq07cf7.png\">\n",
    "\n",
    "Fonksiyonun, iletilen başlıkta **Part 1** (veya başarısız olursa **Part 2**) kelimesini aramalıdır.\n",
    "\n",
    "Kılavuz olarak, <code>CHARINDEX('owl', 'Wise Owl')</code> 6 döndürürken,  <code>CHARINDEX('fox', 'Wise Owl')</code> 0 döndürür.\n",
    "\n",
    "Fonksiyonunu ve sorgunu çalıştırdığında (isteğe bağlı olarak) SQL'i bir **Part of a couple.sql** olarak kaydet ve kapat."
   ]
  },
  {
   "cell_type": "markdown",
   "id": "778c493a",
   "metadata": {},
   "source": [
    "# 4. Ortalama zorluk\n",
    "**Ay adını göstermek için basit bir fonksiyon oluştur**\n",
    "\n",
    "1'den 12'ye kadar bir sayı verildiğinde ayın adını döndürebilecek bir fonksiyon yok. Neyse ki senin için tam olarak yapacağın şey bu (alıştırmanın geri kalanında nasıl yapılacağı açıklanıyor!)\n",
    "\n",
    "<img src = \"https://i.hizliresim.com/qu7pz76.png\">\n",
    "\n",
    "Yaptığın fonksiyon yalnızca bir ay adı üretecektir. Düzgün çalıştığında, 1'den 12'ye kadar döngü yapmayı dene.\n",
    "\n",
    "Fonksiyon oluşturma düzeni, parametreli bir stored procedure'e çok yakındır, ancak döndürülen veri türünü belirtmek için fazladan bir bölüm vardır: \n",
    "\n",
    "<img src = \"https://i.hizliresim.com/kwc7ppi.png\">\n",
    "\n",
    "Bir ay numarasını ay adına dönüştürmek için aşağıdaki kodu kullanarak bir **DATE** oluşturman gerekiyor.\n",
    "\n",
    "<img src = \"https://i.hizliresim.com/fap15rw.png\">\n",
    "\n",
    "Ay adını döndürmenin birçok yolu vardı -farklı bir ad kullanmaktan çekinme.\n",
    "\n",
    "Birkaç ay rakamını ayrı ayrı girerek fonksiyonunun çalıştığını test et. İsteğe bağlı olarak bunu **Month Name function.sql** olarak kaydet ve kapat."
   ]
  },
  {
   "cell_type": "code",
   "execution_count": null,
   "id": "3c17bed7",
   "metadata": {},
   "outputs": [],
   "source": []
  },
  {
   "cell_type": "code",
   "execution_count": null,
   "id": "5c03263e",
   "metadata": {},
   "outputs": [],
   "source": []
  },
  {
   "cell_type": "code",
   "execution_count": null,
   "id": "64cd84da",
   "metadata": {},
   "outputs": [],
   "source": []
  },
  {
   "cell_type": "code",
   "execution_count": null,
   "id": "4893199d",
   "metadata": {},
   "outputs": [],
   "source": []
  },
  {
   "cell_type": "code",
   "execution_count": null,
   "id": "47202c74",
   "metadata": {},
   "outputs": [],
   "source": []
  }
 ],
 "metadata": {
  "kernelspec": {
   "display_name": "Python 3 (ipykernel)",
   "language": "python",
   "name": "python3"
  },
  "language_info": {
   "codemirror_mode": {
    "name": "ipython",
    "version": 3
   },
   "file_extension": ".py",
   "mimetype": "text/x-python",
   "name": "python",
   "nbconvert_exporter": "python",
   "pygments_lexer": "ipython3",
   "version": "3.11.1"
  }
 },
 "nbformat": 4,
 "nbformat_minor": 5
}
