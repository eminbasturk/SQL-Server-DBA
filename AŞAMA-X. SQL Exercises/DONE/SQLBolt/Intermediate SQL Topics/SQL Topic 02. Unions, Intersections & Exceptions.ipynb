{
 "cells": [
  {
   "cell_type": "markdown",
   "id": "0c4e8319",
   "metadata": {},
   "source": [
    "# SQL Topic 02: Unions, Intersections & Exceptions\n",
    "\n",
    "Birden çok tabloyla çalışırken, **UNINON** veya **UNION ALL** operatörü, aynı sütun sayısına, sırasına ve veri türüne sahip olduklarını varsayarak bir sorgunun sonuçlarını diğerine eklemene izin verir. **ALL** olmadan **UNION** kullanırsan, tablolar arasındaki yinelenen satırlar sonuçtan kaldırılacaktır.\n",
    "\n",
    "```\n",
    "SELECT column, another_column\n",
    "    FROM my table\n",
    "UNION / UNION ALL / INTERSECT / EXCEPT\n",
    "SELECT other_column, yer_another_column\n",
    "    FROM another_table\n",
    "ORDER BY column DESC\n",
    "LIMIT n;\n",
    "```\n",
    "\n",
    "İşlem sırasında **UNION**, **ORDER BY** ve **LIMIT**'den önce gerçekleşir. **UNION**'ları kullanmak yaygın değildir, ancak farklı tablolarda birleştirilip işlenemeyen verileriniz varsa, veritabanında birden çok sorgu yapmaya bir alternatif olabilir.\n",
    "\n",
    "**UNION**'a benzer şekilde, **INTERSECT** operatörü yalnızca her iki sonuç kümesinde de aynı olan satırların döndürülmesini sağlar ve **EXCEPT** operatörü yalnızca birinci sonuç kümesinde ikincide olmayan satırların döndürülmesini sağlar. Bu, **EXCEPT** operatörünün, **LEFT JOIN** ve **RIGHT JOIN** gibi sorgu sırasına duyarlı olduğu anlamına gelir.\n",
    "\n",
    "Hem **INTERSECT** hem de **EXCEPT**, ilgili işlemlerinden sonra yinelenen satıları da atar, ancak bazı veritabanları yinelenenlerin saklanmasına ve döndürülmesine izin vermek için **INTERSECT ALL** ve **EXCEPT ALL**'ı da destekler."
   ]
  }
 ],
 "metadata": {
  "kernelspec": {
   "display_name": "Python 3 (ipykernel)",
   "language": "python",
   "name": "python3"
  },
  "language_info": {
   "codemirror_mode": {
    "name": "ipython",
    "version": 3
   },
   "file_extension": ".py",
   "mimetype": "text/x-python",
   "name": "python",
   "nbconvert_exporter": "python",
   "pygments_lexer": "ipython3",
   "version": "3.11.1"
  }
 },
 "nbformat": 4,
 "nbformat_minor": 5
}
