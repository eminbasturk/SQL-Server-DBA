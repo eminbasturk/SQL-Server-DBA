{
 "cells": [
  {
   "cell_type": "markdown",
   "id": "997e1297",
   "metadata": {},
   "source": [
    "# SQL Lesson 11: Queries with aggregates (Pt. 2)\n",
    "**SQL Ders 11: Toplamalı sorgular (Pt.2)**\n",
    "\n",
    "* Sorgularımız oldukça karmaşık hale geliyor, ancak bir **SELECT** sorgusunun neredeyse tüm önemli kısımlarını tanıttık. Fark etmiş olabileceğin bir şey, eğer **GROUP BY** deyimi **WHERE** deyiminden sonra yürütülürse (gruplanacak satırları filtreler), o zaman gruplanmış satırları tam olarak nasıl filtreleriz?\n",
    "\n",
    "* Neyse ki, SQL, sonuç kümesinden gruplanmış satırları filtrelememize izin vermek için özellikle **GROUP BY** deyimiyle birlikte kullanılan ek bir **HAVING** deyimi ekleyerek bunu yapmamıza izin verir.\n",
    "\n",
    "<img src = \"https://i.hizliresim.com/hvyyeu9.png\">\n",
    "\n",
    "* **HAVING** kısıtlamaları, **WHERE** kısıtlamalarıyla aynı şekilde yazılır ve gruplandırılmış satırlara uygulanır. Örneklerimizle, bu özellikle yararlı bir yapı gibi görünmeyebilir, ancak farklı özelliklere sahip milyonlarca satır içeren veriler hayal ederseniz, verileri hızlı bir şekilde anlamlandırmak için genellikle ek kısıtlamalar uygulayabilmek gerekir.\n",
    "\n",
    "### Did you know?\n",
    "\n",
    "* \"GROUP BY\" kullanmıyorsan, basit bir \"WHERE\" yeterli olur."
   ]
  },
  {
   "cell_type": "markdown",
   "id": "0dc54a6e",
   "metadata": {},
   "source": [
    "## Exercise\n",
    "* Bu alıştırma için, film stüdyosundaki **Employee** verilerini daha derinlemesine inceleyeceksin. Her görev için uygulamak istediğin farklı maddeleri düşün.\n",
    "\n",
    "### 1. Stüdyodaki Artist sayısını bul. (HAVING kullanmadan)\n",
    "\n",
    "<img src = \"https://i.hizliresim.com/qjjghor.png\">\n",
    "\n",
    "<img src = \"https://i.hizliresim.com/3yn4zcr.png\">\n",
    "\n",
    "### 2. Stüdyodaki her rolün Çalışan sayısını bul.\n",
    "\n",
    "<img src = \"https://i.hizliresim.com/nwm3g4b.png\">\n",
    "\n",
    "<img src = \"https://i.hizliresim.com/c29yvii.png\">\n",
    "\n",
    "### 3. Tüm Mühendisler tarafından istihdam edilen toplam yıl sayısını bul.\n",
    "\n",
    "<img src = \"https://i.hizliresim.com/pdfx1bh.png\">\n",
    "\n",
    "<img src = \"https://i.hizliresim.com/gav7tvl.png\">"
   ]
  }
 ],
 "metadata": {
  "kernelspec": {
   "display_name": "Python 3 (ipykernel)",
   "language": "python",
   "name": "python3"
  },
  "language_info": {
   "codemirror_mode": {
    "name": "ipython",
    "version": 3
   },
   "file_extension": ".py",
   "mimetype": "text/x-python",
   "name": "python",
   "nbconvert_exporter": "python",
   "pygments_lexer": "ipython3",
   "version": "3.11.1"
  }
 },
 "nbformat": 4,
 "nbformat_minor": 5
}
