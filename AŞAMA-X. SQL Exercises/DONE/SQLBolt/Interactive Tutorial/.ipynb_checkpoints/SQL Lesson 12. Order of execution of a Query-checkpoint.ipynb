{
 "cells": [
  {
   "cell_type": "markdown",
   "id": "a23382b9",
   "metadata": {},
   "source": [
    "# SQL Lesson 12: Order of execution of a Query\n",
    "\n",
    "**SQL Ders 12: Sorgu yürütme sırası**\n",
    "\n",
    "* Artık bir sorgunun tüm parçaları hakkında bir fikrin olduğuna göre, eksiksiz bir sorgu bağlamında hepsinin nasıl birbirine uyduğu hakkında konuşabiliriz.\n",
    "\n",
    "<img src = \"https://i.hizliresim.com/kw8cq7p.png\">\n",
    "\n",
    "* Her sorgu, bir veritabanında ihtiyacın olan verileri bulmakla başlar ve ardından bu verileri olabildiğince çabuk işlenip anlaşılabilecek bir şeye filtreler. Sorgunun her bölümü sırayla yürütüldüğünden, hangi sonuçlara nerede erişebileceğini bilmen için yürütme sırasını anlamak önemlidir.\n",
    "\n",
    "### Query order of execution\n",
    "**Yürütme sırasını sorgula**\n",
    "\n",
    "#### 1. FROM and JOIN's\n",
    "**FROM** ve sonraki **JOIN**'ler, sorgulanmakta olan toplam çalışan veri kümesini belirlemek için önce yürütülür. Bu, bu deyimdeki alt sorguları içerir ve birleştirilen tabloların tüm kolonlarını ve satırlarını içeren başlık altında geçici tabloların oluşturulmasına neden olabilir.\n",
    "\n",
    "#### 2. WHERE\n",
    "Toplam çalışan veri kümesine sahip olduğumuzda, ilk geçiş **WHERE** kısıtlamaları tek tek satırlara uygulanır ve kısıtlamayı karşılamayan satırlar atılır. Kısıtlamaların her biri kolonlara yalnızca doğrudan **FROM** deyiminde istenen tablolardan erişebilir. Sorgunun **SELECT** bölümündeki diğer aliaslara, sorgunun henüz yürütülmemiş bölümlerine bağlı ifadeler içerebileceğinden, çoğu veritabanında erişilebilir değildir. (GROUP BY yapılmadan, aggregate fonksiyon uygulanmaz gibi herhalde)\n",
    "\n",
    "#### 3. GROUP BY\n",
    "**WHERE** kısıtlamaları uygulandıktan sonra kalan satırlar, **GROUP BY**'da belirtilen kolondaki ortak değerlere göre gruplandırılır. Gruplandırma sonucunda, yalnızca o kolonda benzersiz değerler olduğu kadar çok satır olacaktır. Dolayısıyla, bu, bunu yalnızca sorgunuzda toplama fonksiyonlarına sahip olduğunda kullanman gerektiği anlamına gelir.\n",
    "\n",
    "#### 4. HAVING\n",
    "Sorgunun bir **GROUP BY** deyimi varsa, **HAVING** deyimindeki kısıtlamalar daha sonra gruplandırılmış satırlara uygulanır ve kısıtlamayı karşılamayan gruplanmış satırları atar. **WHERE** gibi aliaslara da çoğu veritabanında bu adımdan erişilemez. \n",
    "\n",
    "#### 5. SELECT\n",
    "Sorgunun **SELECT** bölümündeki tüm ifadeler nihayet hesaplanır.\n",
    "\n",
    "#### 6. DISTINCT\n",
    "Kalan satırlardan, sütununda **DISTINCT** olarak işaretlenen yinelenen değerlere saihp satırlar atılacaktır.\n",
    "\n",
    "#### 7. ORDER BY\n",
    "**ORDER BY** tarafından bir sıra belirtilirse, satırlar daha sonra belirtilen verilere göre artan veya azalan düzeyde sıralanır. Sorgunun **SELECT** bölümündeki tüm ifadeler hesaplandığından, **bu deyimde diğer aliaslara başvurabilirsin**. (NEDEN ORDER BY'DA ALIAS KULLANILABİLİYOR?)\n",
    "\n",
    "#### 8. LIMIT / OFFSET\n",
    "Son olarak, **LIMIT** ve **OFFSET** tarafından belirtilen aralığın dışında kalan satırlar atılır ve geriye sorgudan döndürülecek son satır kümesi kalır.\n",
    "\n",
    "### Conclusion\n",
    "**Çözüm**\n",
    "\n",
    "Her sorgunun yukarıda listelediğimiz tüm parçalara sahip olması gerekmez, ancak SQL'in bu kadar esnek olmasının bir nedeni de, geliştiricilerin ve veri analistlerinin ek kod yazmak zorunda kalmadan, yalnızca yukarıdaki maddeleri kullanarak verileri hızlı bir şekilde manipüle etmlerine izin vermesidir."
   ]
  },
  {
   "cell_type": "markdown",
   "id": "5be62860",
   "metadata": {},
   "source": [
    "## Exercise\n",
    "* **SELECT** sorgularıyla ilgili dersler burada sona eriyor. Bu alıştırma, sorguları anladığını deneyecek ve test edecek, bu yüzden onları zorlayıcı bulursan cesaretin kırılmasın. Sadece elinden gelenin en iyisini yap.\n",
    "\n",
    "<img src = \"https://i.hizliresim.com/t8afdlc.png\">\n",
    "\n",
    "### 1. Her yönetmenin yönettiği film sayısını bul.\n",
    "\n",
    "<img src = \"https://i.hizliresim.com/6hy528i.png\">\n",
    "\n",
    "<img src = \"https://i.hizliresim.com/2359a9f.png\">\n",
    "\n",
    "### 2. Her bir yönetmene atfedilebilecek toplam yurt içi ve yurt dışı satışlarını bul.\n",
    "\n",
    "<img src = \"https://i.hizliresim.com/tcacz6v.png\">\n",
    "\n",
    "<img src = \"https://i.hizliresim.com/hfjmn2b.png\">"
   ]
  }
 ],
 "metadata": {
  "kernelspec": {
   "display_name": "Python 3 (ipykernel)",
   "language": "python",
   "name": "python3"
  },
  "language_info": {
   "codemirror_mode": {
    "name": "ipython",
    "version": 3
   },
   "file_extension": ".py",
   "mimetype": "text/x-python",
   "name": "python",
   "nbconvert_exporter": "python",
   "pygments_lexer": "ipython3",
   "version": "3.11.1"
  }
 },
 "nbformat": 4,
 "nbformat_minor": 5
}
