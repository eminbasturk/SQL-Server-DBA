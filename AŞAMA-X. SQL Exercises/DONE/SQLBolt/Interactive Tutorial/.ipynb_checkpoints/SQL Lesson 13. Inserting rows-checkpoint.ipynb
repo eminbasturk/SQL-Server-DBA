{
 "cells": [
  {
   "cell_type": "markdown",
   "id": "4d412282",
   "metadata": {},
   "source": [
    "# SQL Lesson 13: Inserting rows\n",
    "**SQL Ders 13: Satır ekleme**\n",
    "\n",
    "* Bir veritabanındaki verileri sorgulamak için epeyce ders harcadık, bu yüzden SQL şemaları ve yeni verilerin nasıl ekleneceğini biraz öğrenmeye başlamanın zamanı geldi.\n",
    "\n",
    "### What is a Schema?\n",
    "**Şema nedir?**\n",
    "\n",
    "* Daha önce bir veritabanındaki bir tabloyu, kolonların özellikler ve satırların tablodaki girişlerin örnekleri olduğu iki boyutlu bir satırlar ve kolonlar kümesi olarak tanımlamıştık. SQL'de *veritabanı şeması*, her tablonun yapısını ve tablonun her kolonunun içerebileceği veri türlerini açıklayan şeydir.\n",
    "\n",
    "#### Example: Correlated subquery\n",
    "İlişkili alt sorgu\n",
    "\n",
    "* Örneğin, **Movies** tablomuzda **year** sütunundaki değerler Integer, **title** kolonundaki değerler String olmalıdır.\n",
    "\n",
    "* Bu sabit yapı, bir veritabanının milyonlarca hatta milyarlarca satır depolamasına rağmen verimli ve tutarlı olmasını sağlayan şeydir.\n",
    "\n",
    "### Inserting new data\n",
    "**Yeni veri ekleme**\n",
    "\n",
    "* Bir veritabanına veri eklerken, hangi tabloya yazılacağını, doldurduğumuz veri sütunlarını ve eklenecek bir veya daha fazla satırını bildiren bir **INSERT** deyimi kullanman gerekir. Genel olarak, girdiğin her veri satırı, tablodaki karşılık gelen her sütun için değerler içermelidir. Sırayla listeleyerek aynı anda birden çok satır ekleyebilirsin.\n",
    "\n",
    "<img src = \"https://i.hizliresim.com/jn0jvod.png\">\n",
    "\n",
    "* Bazı durumlarda, eksik verilerin varsa ve tablo varsayılan değerleri destekleyen sütunlar içeriyorsa, yalnızca sahip olduğun veri sütunlarını açıkça belirterek satırlar ekleyebilirsin.\n",
    "\n",
    "<img src = \"https://i.hizliresim.com/hklh908.png\">\n",
    "\n",
    "* Bu durumlarda, değer sayısının belirtilen sütun sayısıyla eşleşmesi gerekir. Bunun yazılması daha ayrıntılı bir ifade olmasına rağmen, değerleri bu şekilde eklemek ileriye dönük uyumlu olma avantajına sahiptir. Örneğin, tabloya varsayılan bir değerle yeni bir kolon eklersen, bu değişikliğe uyum sağlamak için hiçbir sabit kodlanmış **INSERT** deyiminin sonuç olarak değişmesi gerekmeyecektir.\n",
    "\n",
    "* Ek olarak, girdiğin değerlerle matematiksel ve dizi ifadeleri kullanabilirsin. Bu, eklenen tüm verilerin belirli bir şekilde biçimlendiirldiğinden emin olmak için yararlı olabilir.\n",
    "\n",
    "<img src = \"https://i.hizliresim.com/fizj0bz.png\">"
   ]
  },
  {
   "cell_type": "markdown",
   "id": "c7a93bb8",
   "metadata": {},
   "source": [
    "## Exercise\n",
    "\n",
    "* Bu alıştırmada, stüdyo yöneticisini oynayacağız ve portföyümüze **Movies**'e birkaç film ekleyeceğiz. Bu tabloda, **Id** otomatik artan bir tamsayıdır, dolayısıyla yalnızca diğer sütunların tanımlandığı bir satır eklemeyi deneyebilirsiniz.\n",
    "* Aşağıdaki dersler veritabanını değiştireceğinden, kullanıma hazır olduklarında her sorguyu manuel olarak çalıştırmanız gerekecektir. \n",
    "\n",
    "<img src = \"https://i.hizliresim.com/cpwykea.png\">\n",
    "\n",
    "### 1. Stüdyonun yeni yapımı Toy Story 4'ü film listesine ekle (herhangi bir yönetmen kullanabilirsin).\n",
    "\n",
    "<img src = \"https://i.hizliresim.com/rpq9hb6.png\">\n",
    "\n",
    "<img src = \"https://i.hizliresim.com/8lzzlhv.png\">\n",
    "\n",
    "### 2. Toy Story 4 eleştirmenlerce beğenildi! 8.7 puan aldı ve yurt içinde 340 milyon ve yurt dışında 270 milyon kazandı. Kaydı BoxOffice tablosuna ekle.\n",
    "\n",
    "<img src = \"https://i.hizliresim.com/6vfmao6.png\">\n",
    "\n",
    "<img src = \"https://i.hizliresim.com/euzpz3i.png\">"
   ]
  }
 ],
 "metadata": {
  "kernelspec": {
   "display_name": "Python 3 (ipykernel)",
   "language": "python",
   "name": "python3"
  },
  "language_info": {
   "codemirror_mode": {
    "name": "ipython",
    "version": 3
   },
   "file_extension": ".py",
   "mimetype": "text/x-python",
   "name": "python",
   "nbconvert_exporter": "python",
   "pygments_lexer": "ipython3",
   "version": "3.11.1"
  }
 },
 "nbformat": 4,
 "nbformat_minor": 5
}
