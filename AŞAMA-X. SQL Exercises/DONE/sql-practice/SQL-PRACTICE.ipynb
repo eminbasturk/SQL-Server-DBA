{
 "cells": [
  {
   "cell_type": "markdown",
   "id": "f7a45275",
   "metadata": {},
   "source": [
    "# İlişkisel bir veri tabanı\n",
    "\n"
   ]
  },
  {
   "cell_type": "markdown",
   "id": "962d965c",
   "metadata": {},
   "source": [
    "### patients\n",
    "\n",
    "* Kanadadaki hastaların bilgilerinin bulunduğu tablo\n",
    "\n",
    "<img src = \"https://i.hizliresim.com/prxjsh4.png\">\n",
    "\n",
    "* **patient_id**: otomatik artan, PRIMARY KEY, hastanın idsinin tutulduğu sütun.\n",
    "* **first_name**: hastanın adı\n",
    "* **last_name**: hastanın soyadı\n",
    "* **gender**: hastanın cinsiyeti (*F*: kadın, *M*: erkek)\n",
    "* **birth_date**: hastanın doğum tarihi\n",
    "* **city**: hastanın bulunduğu şehir\n",
    "* **province_id**: hastanın bağlı olduğu bölgenin idsi (FOREIGN KEY)\n",
    "* **allergies**: hastanın alerjisinin belirtir, eğer yoksa *NULL* olarak tanımlıdır\n",
    "* **height**: hastanın boyu\n",
    "* **weight**: hastanın kilosu\n",
    "\n",
    "<img src = \"https://i.hizliresim.com/cexhvzy.png\">"
   ]
  },
  {
   "cell_type": "markdown",
   "id": "dc2760a0",
   "metadata": {},
   "source": [
    "### admissions\n",
    "* Hastaların hastaneye girişlerinin tutulduğu tablo.\n",
    "\n",
    "<img src = \"https://i.hizliresim.com/8kl50cg.png\">\n",
    "\n",
    "* **patient_id**: hastanın idsi (FOREIGN KEY)\n",
    "* **admission_date**: hastanın girişinin yapıldığı tarih\n",
    "* **discharge_date**: hastanın taburcu değildiği tarih\n",
    "* **primary_diagnosis**: birincil tanı\n",
    "* **secondary_diagnosis**: ikincil tanı\n",
    "* **attending_physician_id**: muayene eden doktorun idsi (FOREIGN KEY)\n",
    "* **nursing_unit_id**: muayenenin yapıldığı birim\n",
    "* **room**: oda numarası\n",
    "* **bed**: yatak numarası\n",
    "\n",
    "<img src = \"https://i.hizliresim.com/6nz4u1i.png\">"
   ]
  },
  {
   "cell_type": "markdown",
   "id": "300e111a",
   "metadata": {},
   "source": [
    "### physicians\n",
    "* Doktorların bilgilerinin tutulduğu tablo\n",
    "\n",
    "<img src = \"https://i.hizliresim.com/813u373.png\">\n",
    "\n",
    "* **physician_id**: doktorun idsi (PRIMARY KEY)\n",
    "* **first_name**: doktorun adı\n",
    "* **last_name**: doktorun soyadı\n",
    "* **specialty**: doktorun uzmanlığı\n",
    "\n",
    "<img src = \"https://i.hizliresim.com/sg9g2ly.png\">"
   ]
  },
  {
   "cell_type": "markdown",
   "id": "629b11f4",
   "metadata": {},
   "source": [
    "### medications\n",
    "* İlçaların bilgilerinin tutulduğu tablo.\n",
    "\n",
    "<img src = \"https://i.hizliresim.com/2bg58zx.png\">\n",
    "\n",
    "* **medication_id**: ilacın idsi (PRIMARY KEY)\n",
    "* **medication_description**: ilacın açıklaması\n",
    "* **medication_cost**: ilacın fiyatı\n",
    "* **package_size**: paket boyutu\n",
    "* **strength**: ilacın ağırlığı\n",
    "* **sig**: kullanım talimatı\n",
    "* **units_used_ytd**: bir yılda kullanılan ilaç sayısı\n",
    "* **last_prescribed_date**: son reçete tarihi\n",
    "\n",
    "<img src = \"https://i.hizliresim.com/1xi643b.png\">"
   ]
  },
  {
   "cell_type": "markdown",
   "id": "936252f9",
   "metadata": {},
   "source": [
    "### nursing_units\n",
    "* Muayenenin yapıldığı birimlerin tutulduğu tablo.\n",
    "\n",
    "<img src = \"https://i.hizliresim.com/aby0bju.png\">\n",
    "\n",
    "* **nursing_unit_id**: muayene biriminin idsi\n",
    "* **specialty**: uzmanlık\n",
    "* **manager_first_name**: birimin müdürünün adı\n",
    "* **manager_last_name**: birimin müdürünün soyadı\n",
    "* **beds**: birimdeki yatak sayısı\n",
    "* **extension**: birimin uzantısı\n",
    "\n",
    "<img src = \"https://i.hizliresim.com/c18f1w4.png\">"
   ]
  },
  {
   "cell_type": "markdown",
   "id": "8758d949",
   "metadata": {},
   "source": [
    "### vendors\n",
    "* Eczanelerin bilgilerinin tutulduğu tablo.\n",
    "\n",
    "<img src = \"https://i.hizliresim.com/3m5lq7b.png\">\n",
    "\n",
    "* **vendor_id**: eczanenin idsi (PRIMARY KEY)\n",
    "* **vendor_name**: eczanenin adı\n",
    "* **city**: eczanenin bulunduğu il\n",
    "* **province_id**: eczanenin bulunduğu bölgenin idsi (FOREIGN KEY)\n",
    "* **contact_first_name**: eczacının adı\n",
    "* **contact_last_name**: eczacının soyadı\n",
    "* **purchases_ytd**: son 1 yılda sattığı ilaç sayısı\n",
    "\n",
    "<img src = \"https://i.hizliresim.com/sa063dn.png\">"
   ]
  },
  {
   "cell_type": "markdown",
   "id": "ec41ec64",
   "metadata": {},
   "source": [
    "### items\n",
    "* Hastanede bulunan medikal eşyaların bilgilerini tutan tablo.\n",
    "\n",
    "<img src = \"https://i.hizliresim.com/hen7gf4.png\">\n",
    "\n",
    "* **item_id**: eşyanın idsi (PRIMARY KEY)\n",
    "* **item_description**: eşyanın tanımı\n",
    "* **item_cost**: eşyanın fiyatı\n",
    "* **quantity_on_hand**: eldeki miktar\n",
    "* **usage_ytd**: son 1 yılda kullanılma sayısı\n",
    "* **primary_vendor_id**: eşyayı satan eczacının idsi (FOREIGN KEY)\n",
    "\n",
    "<img src = \"https://i.hizliresim.com/g6a06ve.png\">"
   ]
  },
  {
   "cell_type": "markdown",
   "id": "0e0f80c2",
   "metadata": {},
   "source": [
    "### unit_dose_orders\n",
    "* Hastalara uygulanan ilaçların işlemlerinin tutulduğu tablo.\n",
    "\n",
    "<img src = \"https://i.hizliresim.com/9sgict7.png\">\n",
    "\n",
    "* **unit_dose_order_id**: uygulanan işlemin idsi (PRIMARY KEY)\n",
    "* **patient_id**: hastanın idsi (FOREIGN KEY)\n",
    "* **medication_id**: ilacın idsi (FOREIGN KEY)\n",
    "* **dosage**: ilacın uygulandığı doz miktarı\n",
    "* **sig**: ilacın kullanıldığı talimat\n",
    "* **dosage_route**: ilacın kullanıldığı dozaj türü (oral, göz vb.)\n",
    "* **pharmacist_initials**: ilacı veren eczacının adının baş harfleri\n",
    "* **entered_date**: hastanın ilacı kullandığı tarih\n",
    "\n",
    "<img src = \"https://i.hizliresim.com/hhblw7x.png\">"
   ]
  },
  {
   "cell_type": "markdown",
   "id": "6679b57c",
   "metadata": {},
   "source": [
    "### provinces\n",
    "* Kanadadaki bölgelerin isimlerinin tutulduğu tablo.\n",
    "\n",
    "<img src = \"https://i.hizliresim.com/ewmithy.png\">\n",
    "\n",
    "* **province_id**: bölgenin idsi (PRIMARY KEY)\n",
    "* **province_name**: bölgenin adı \n",
    "\n",
    "<img src = \"https://i.hizliresim.com/stegmoz.png\">"
   ]
  },
  {
   "cell_type": "markdown",
   "id": "35e7aa51",
   "metadata": {},
   "source": [
    "# SORULAR"
   ]
  },
  {
   "cell_type": "markdown",
   "id": "10d2073f",
   "metadata": {},
   "source": [
    "## Easy"
   ]
  },
  {
   "cell_type": "markdown",
   "id": "99941a18",
   "metadata": {},
   "source": [
    "### 1. Cinsiyeti erkek olan hastaların ad, soyad ve cinsiyet bilgilerini göster.\n",
    "\n",
    "<img src = \"https://i.hizliresim.com/s5im5gm.png\">"
   ]
  },
  {
   "cell_type": "markdown",
   "id": "8104c844",
   "metadata": {},
   "source": [
    "### 2. Alerjisi olmayan hastaların ad ve soyad bilgilerini göster.\n",
    "\n",
    "<img src = \"https://i.hizliresim.com/axjm1nl.png\">"
   ]
  },
  {
   "cell_type": "markdown",
   "id": "81d659de",
   "metadata": {},
   "source": [
    "### 3. Baş harfi C ile başlayan hastaların ad bilgisini göster.\n",
    "\n",
    "<img src = \"https://i.hizliresim.com/dah4ckx.png\">"
   ]
  },
  {
   "cell_type": "markdown",
   "id": "b8e0b646",
   "metadata": {},
   "source": [
    "### 4. Kilosu 100 ile 120 arasında (değerler dahil) olan hastaların ad ve soyad bilgilerini göster.\n",
    "\n",
    "<img src = \"https://i.hizliresim.com/7np8ee9.png\">"
   ]
  },
  {
   "cell_type": "markdown",
   "id": "857469dd",
   "metadata": {},
   "source": [
    "### 5. Alerjisi olmayan hastaların alerjilerini NKA ile değiştir.\n",
    "\n",
    "<img src = \"https://i.hizliresim.com/qs7bn3g.png\">"
   ]
  },
  {
   "cell_type": "markdown",
   "id": "f33f85e1",
   "metadata": {},
   "source": [
    "### 6. Hastaların ad ve soyad bilgilerini tek bir sütunda göster.\n",
    "\n",
    "<img src = \"https://i.hizliresim.com/np4y5r4.png\">"
   ]
  },
  {
   "cell_type": "markdown",
   "id": "41a8a702",
   "metadata": {},
   "source": [
    "### 7. Her hastanın adını, soyadını ve tam il adını göster. Örnek: 'ON' yerine 'Ontario'\n",
    "* Bilgiyi alacağın tabloyu ilk önce yaz.\n",
    "\n",
    "<img src = \"https://i.hizliresim.com/h4pkikz.png\">"
   ]
  },
  {
   "cell_type": "markdown",
   "id": "da14e80a",
   "metadata": {},
   "source": [
    "### 8. Doğum tarihi 2010 olan kaç tane hastane olduğunu göster.\n",
    "* Bir tarihin hangi bölümünü almak istiyorsan ilgili fonksiyonun içerisine koyarak alabilirsin.\n",
    "\n",
    "<img src = \"https://i.hizliresim.com/phdxwpi.png\">"
   ]
  },
  {
   "cell_type": "markdown",
   "id": "de3c3d21",
   "metadata": {},
   "source": [
    "### 9. Boyu en uzun hastanın adını, soyadını ve boyunu göster.\n",
    "\n",
    "<img src = \"https://i.hizliresim.com/6esh6k2.png\">"
   ]
  },
  {
   "cell_type": "markdown",
   "id": "33fecfc3",
   "metadata": {},
   "source": [
    "### 10. Aşağıdaki hasta kimliklerinden birine sahip hastalar için tüm sütunları göster: 1,45,534,879,1000\n",
    "\n",
    "<img src = \"https://i.hizliresim.com/j85m3lt.png\">"
   ]
  },
  {
   "cell_type": "markdown",
   "id": "72f1e924",
   "metadata": {},
   "source": [
    "### 11. Hastaneye toplam giriş sayısını göster. \n",
    "\n",
    "<img src = \"https://i.hizliresim.com/19j2xwf.png\">"
   ]
  },
  {
   "cell_type": "markdown",
   "id": "caec01ba",
   "metadata": {},
   "source": [
    "### 12. Hastanın aynı gün içinde giriş yapıp taburcu edildiği girişlerdeki tüm sütunları göster.\n",
    "\n",
    "<img src = \"https://i.hizliresim.com/9fxr7ij.png\">"
   ]
  },
  {
   "cell_type": "markdown",
   "id": "d6e84124",
   "metadata": {},
   "source": [
    "### 13. Hasta idsi 573 olan hastanın hastaneye giriş sayısını göster.\n",
    "\n",
    "<img src = \"https://i.hizliresim.com/bojfuim.png\">"
   ]
  },
  {
   "cell_type": "markdown",
   "id": "96479c68",
   "metadata": {},
   "source": [
    "## Medium"
   ]
  },
  {
   "cell_type": "markdown",
   "id": "0aeaee59",
   "metadata": {},
   "source": [
    "### 1. Hastaların benzersiz doğum yıllarını göster ve bunu ascending olarak sırala.\n",
    "\n",
    "<img src = \"https://i.hizliresim.com/ceh1uhx.png\">"
   ]
  },
  {
   "cell_type": "markdown",
   "id": "6fbc7f6c",
   "metadata": {},
   "source": [
    "### 2. Hastaneye gelen unique isme sahip hastaları göster.\n",
    "\n",
    "<img src = \"https://i.hizliresim.com/g5318ez.png\">"
   ]
  },
  {
   "cell_type": "markdown",
   "id": "8ee11825",
   "metadata": {},
   "source": [
    "### 3. S ile başlayıp s ile biten ve isim uzunluğu en az 6 karakter olan hastaların idsi ve ismini göster.\n",
    "\n",
    "<img src = \"https://i.hizliresim.com/p3iamqp.png\">\n",
    "\n",
    "#### Alternatif\n",
    "\n",
    "<img src = \"https://i.hizliresim.com/btw0cg6.png\">"
   ]
  },
  {
   "cell_type": "markdown",
   "id": "b271f526",
   "metadata": {},
   "source": [
    "### 4. Birincil tanısı Dementia olan hastaların id, ad ve soyad bilgilerini göster.\n",
    "\n",
    "<img src = \"https://i.hizliresim.com/cfo6lq6.png\">"
   ]
  },
  {
   "cell_type": "markdown",
   "id": "76869c30",
   "metadata": {},
   "source": [
    "### 5. Hastaların isimlerini önce uzunluğuna, daha sonra alfabetik olarak sırala. \n",
    "\n",
    "<img src = \"https://i.hizliresim.com/hh4q3ef.png\">"
   ]
  },
  {
   "cell_type": "markdown",
   "id": "c601dc10",
   "metadata": {},
   "source": [
    "### 6. Hastalar tablosundaki toplam erkek hasta sayısını ve toplam kadın hasta sayısını göster.\n",
    "\n",
    "<img src = \"https://i.hizliresim.com/g12an8n.png\">\n",
    "\n",
    "#### Alternatif \n",
    "\n",
    "<img src = \"https://i.hizliresim.com/2f0ciaw.png\">"
   ]
  },
  {
   "cell_type": "markdown",
   "id": "123c6b93",
   "metadata": {},
   "source": [
    "### 7. 'Penicillin' veya 'Morphine' alerjisi olan hastalardan adını ve soyadını, alerjilerini gösterin. Sonuçları alerjilere göre artan şekilde, ardından ad ve soyadına göre sıralayın.\n",
    "\n",
    "<img src = \"https://i.hizliresim.com/51revgy.png\">\n",
    "\n",
    "#### Alternatif\n",
    "\n",
    "<img src = \"https://i.hizliresim.com/iel4uxm.png\">"
   ]
  },
  {
   "cell_type": "markdown",
   "id": "81186e23",
   "metadata": {},
   "source": [
    "### 8. Hastanın idsini, birincil tanısını girişlerden göster. Aynı birincil tanı birden çok kez kabul edilen hastaları bul.\n",
    "\n",
    "<img src = \"https://i.hizliresim.com/t30ivw4.png\">"
   ]
  },
  {
   "cell_type": "markdown",
   "id": "6723e54d",
   "metadata": {},
   "source": [
    "### 9. İl ve ildeki hasta sayısını en çoktan en aza doğru sırala.\n",
    "\n",
    "<img src = \"https://i.hizliresim.com/a3xkffl.png\">"
   ]
  },
  {
   "cell_type": "markdown",
   "id": "7a76d0e3",
   "metadata": {},
   "source": [
    "### 10. Hasta veya doktor olan her kişinin adını, soyadını ve rolünü gösterin. Roller ya 'Hasta' ya da 'Hekim'\n",
    "\n",
    "* **UNION** sütunları aynı olan iki listeyi birleştirir.\n",
    "\n",
    "<img src = \"https://i.hizliresim.com/sbrgb6n.png\">"
   ]
  },
  {
   "cell_type": "markdown",
   "id": "92001a08",
   "metadata": {},
   "source": [
    "### 11. Alerjileri popülerliğe göre sırala. Sorgudan 'NKA' ve NULL değerlerini kaldırın. \n",
    "\n",
    "<img src = \"https://i.hizliresim.com/1dpo82s.png\">\n",
    "\n",
    "#### Alternatif\n",
    "\n",
    "<img src = \"https://i.hizliresim.com/hp5yxnl.png\">"
   ]
  },
  {
   "cell_type": "markdown",
   "id": "ea71691f",
   "metadata": {},
   "source": [
    "### 12. 1970'lerde doğan tüm hastaların ad, soyad ve doğum tarihlerini göster. Listeyi en erken doğum tarihinden başlayarak sırala.\n",
    "\n",
    "<img src = \"https://i.hizliresim.com/jxn1uox.png\">\n",
    "\n",
    "#### Alternatif\n",
    "\n",
    "<img src = \"https://i.hizliresim.com/7fyaikj.png\">"
   ]
  },
  {
   "cell_type": "markdown",
   "id": "8626e321",
   "metadata": {},
   "source": [
    "### 13. Her hastanın tam adı tek bir sütunda görüntülenecek. Soyadı tüm harfleri büyük olacak şekilde önce olacak ardından küçük harflerle adı gelecek. Soyad ve ad virgülle ayrılacak. Liste ada göre sıralanacak. Örnek: SMITH, jane\n",
    "\n",
    "<img src = \"https://i.hizliresim.com/1012ryg.png\">"
   ]
  },
  {
   "cell_type": "markdown",
   "id": "0eeae05f",
   "metadata": {},
   "source": [
    "### 14. Hastalarının boylarının toplamı 7000 ve daha büyük olan illeri göster.\n",
    "\n",
    "<img src = \"https://i.hizliresim.com/j57j92b.png\">"
   ]
  },
  {
   "cell_type": "markdown",
   "id": "95396836",
   "metadata": {},
   "source": [
    "### 15. Soyadı 'Maroni' olan hastalar için en büyük ağırlık ile en küçük ağırlık arasındaki farkı göster.\n",
    "\n",
    "<img src = \"https://i.hizliresim.com/9xglkv2.png\">"
   ]
  },
  {
   "cell_type": "markdown",
   "id": "38017a4c",
   "metadata": {},
   "source": [
    "### 16. Hastaların yaşadığı şehirlere göre, province idsi 'NS' olan unique şehirleri göster.\n",
    "\n",
    "<img src = \"https://i.hizliresim.com/f9zbm8u.png\">"
   ]
  },
  {
   "cell_type": "markdown",
   "id": "21009765",
   "metadata": {},
   "source": [
    "### 17. Ayın tüm günlerini ve en çok giriş yapılan günden en aza yapılan günleri sırala.\n",
    "\n",
    "<img src = \"https://i.hizliresim.com/1w67fx0.png\">"
   ]
  },
  {
   "cell_type": "markdown",
   "id": "3141bd3f",
   "metadata": {},
   "source": [
    "### 18. Hasta idsi 542 olan hastanın en son yaptığı girişin bilgilerini getir.\n",
    "\n",
    "<img src = \"https://i.hizliresim.com/bzm8yrr.png\">\n",
    "\n",
    "#### Alternatif\n",
    "\n",
    "<img src = \"https://i.hizliresim.com/6ow527o.png\">"
   ]
  },
  {
   "cell_type": "markdown",
   "id": "8c178a1a",
   "metadata": {},
   "source": [
    "### 19. Her bir hemşirelik birimi idsi için hemşirelik birimi ve giriş sayısını göster. Şu hemşirelik birimleri idleri hariç; 'CCU', 'OR', 'ICU', 'ER'\n",
    "\n",
    "<img src = \"https://i.hizliresim.com/tckh52f.png\">\n",
    "\n",
    "#### Alternatif\n",
    "\n",
    "<img src = \"https://i.hizliresim.com/85j0zew.png\">"
   ]
  },
  {
   "cell_type": "markdown",
   "id": "19688d1f",
   "metadata": {},
   "source": [
    "### 20. Aşağıdaki iki kriterden biriyle eşleşen kayıtlar için hasta id, doktor id ve birincil tanıyı göster;\n",
    "#### 1. Hastanın idsi tek sayıdır ve doktorun idsi 1, 5 veya 10 dur.\n",
    "#### 2. Doktorun idsi 2 içerir ve hastanın idsinin uzunluğu 3 karakterdir.\n",
    "\n",
    "<img src = \"https://i.hizliresim.com/836ax4j.png\">"
   ]
  },
  {
   "cell_type": "markdown",
   "id": "2e621ba9",
   "metadata": {},
   "source": [
    "## Hard"
   ]
  },
  {
   "cell_type": "markdown",
   "id": "bb25c6b4",
   "metadata": {},
   "source": [
    "### 1. Ağırlık gruplarına göre gruplandırılmış tüm hastaları göster. Her ağırlık grubundaki toplam hasta miktarını göster. Listeyi azalan ağırlık grubuna göre sırala. \n",
    "#### Örnek: 100 ile 109 arasında bir ağırlık varsa, 100 ağırlık grubuna, 110-119 arasında bir ağırlık varsa 110 ağırlık grubuna yerleştir.\n",
    "\n",
    "<img src = \"https://i.hizliresim.com/ef1h2br.png\">"
   ]
  },
  {
   "cell_type": "markdown",
   "id": "baec9506",
   "metadata": {},
   "source": [
    "### 2. Hasta tablosundan hastanın idsi, kilosunu, boyunu ve isObese'i göster. \n",
    "\n",
    "#### isObese sütununda 0 veya 1 boolean değeri bulunur. Obez olması için hastanın ağırlığının boyunun karesine bölümü 30a eşit veya büyük olmalıdır. Boy burada metre olarak alınır bizim elimizde cm var. Kilo kg olarak alınır bizim elimizde kg var.\n",
    "\n",
    "<img src = \"https://i.hizliresim.com/bcbc6mp.png\">"
   ]
  },
  {
   "cell_type": "markdown",
   "id": "4f712870",
   "metadata": {},
   "source": [
    "### 3. Hastanın idsi, adı, soyadı ve katıldan doktorun uzmanlığını göster. Birincil tanısı sadece 'Dementia' ve doktorun ilk ismi 'Lisa' olanları getir.\n",
    "#### Gerekli tablolar patients, admissions, physicians\n",
    "\n",
    "<img src = \"https://i.hizliresim.com/6ngjhwt.png\">"
   ]
  },
  {
   "cell_type": "markdown",
   "id": "e5214eb3",
   "metadata": {},
   "source": [
    "### 4. Hastaneye giriş yapan tüm hastalar tıbbi belgelerini sitemizde görebilir. Bu hastalara ilk yatışlarından sonra geçici bir şifre verilir. patient_id ve temp_password göster.\n",
    "#### Hastanın şifresi idsi, soyadının uzunluğu ve doğum yılı olmalıdır.\n",
    "\n",
    "<img src = \"https://i.hizliresim.com/f8kqwaw.png\">"
   ]
  },
  {
   "cell_type": "markdown",
   "id": "85e82830",
   "metadata": {},
   "source": [
    "### 5. Sigortasız hastalar için her bir giriş ücreti 50 dolar ve sigortası olan hastalar için 10 dolardır. Hasta idsi çift olan tüm hastaların sigortası vardır.\n",
    "#### Her hastaya sigortası varsa 'Yes', sigortası yoksa 'Hayır' ver. Her bir has_insurance grubu için toplam admission_total maliyetini topla.\n",
    "\n",
    "<img src = \"https://i.hizliresim.com/hl87tag.png\">"
   ]
  },
  {
   "cell_type": "markdown",
   "id": "b50118c8",
   "metadata": {},
   "source": [
    "### 6. Erkek hasta sayısı kadın hasta sayısından daha fazla olan bölgeleri göster.\n",
    "\n",
    "<img src = \"https://i.hizliresim.com/9i966lz.png\">"
   ]
  },
  {
   "cell_type": "markdown",
   "id": "c77528d3",
   "metadata": {},
   "source": [
    "### 7. Belirli bir hasta aranıyor. Aşağıdaki kriterlere uyan hasta için tüm sütunları çek.\n",
    "* Adı ilk iki harften sonra 'r' içerek.\n",
    "* Cinsiyeti 'F' olacak.\n",
    "* Şubat, Mayıs veya Aralık aylarından birinde doğmuş.\n",
    "* Ağırlığı 60 kg ile 80 kg arasında olacak.\n",
    "* Hasta idsi tek bir sayı olacak.\n",
    "* Halifax şehrinden olacak.\n",
    "\n",
    "<img src = \"https://i.hizliresim.com/h02aveq.png\">"
   ]
  },
  {
   "cell_type": "markdown",
   "id": "329663db",
   "metadata": {},
   "source": [
    "### 8. Cinsiyetleri 'M' olan hastaların yüzdesini göster. Yüzdelik formatta en yakın sayıya yuvarla.\n",
    "\n",
    "<img src = \"https://i.hizliresim.com/ecikgjf.png\">"
   ]
  },
  {
   "cell_type": "markdown",
   "id": "0d48ebbb",
   "metadata": {},
   "source": [
    "### 9. Toplamda 150'den fazla harcama yapan hastalar için hasta idsini ve toplam harcanan tutarı göster. En çok harcama yapandan en az yapana doğru sırala.\n",
    "\n",
    "<img src = \"https://i.hizliresim.com/s837qpy.png\">"
   ]
  },
  {
   "cell_type": "markdown",
   "id": "4beec8f5",
   "metadata": {},
   "source": [
    "### 10. Her eşyanın açıklamasını sağlayın (item_description), eldeki miktarın toplam maliyeti ile, ve ilişkili birincil satıcı. En çok harcanandan en az harcanana göre sırala.\n",
    "\n",
    "<img src = \"https://i.hizliresim.com/5oxbs0v.png\">"
   ]
  }
 ],
 "metadata": {
  "kernelspec": {
   "display_name": "Python 3 (ipykernel)",
   "language": "python",
   "name": "python3"
  },
  "language_info": {
   "codemirror_mode": {
    "name": "ipython",
    "version": 3
   },
   "file_extension": ".py",
   "mimetype": "text/x-python",
   "name": "python",
   "nbconvert_exporter": "python",
   "pygments_lexer": "ipython3",
   "version": "3.10.5"
  }
 },
 "nbformat": 4,
 "nbformat_minor": 5
}
