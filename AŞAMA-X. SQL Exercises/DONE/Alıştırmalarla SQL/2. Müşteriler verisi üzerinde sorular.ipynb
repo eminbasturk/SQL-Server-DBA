{
 "cells": [
  {
   "cell_type": "markdown",
   "id": "01af04ec",
   "metadata": {},
   "source": [
    "# Senaryo\n",
    "\n",
    "<img src = \"https://i.hizliresim.com/tamv9ek.png\">\n",
    "\n",
    "<img src = \"https://i.hizliresim.com/nknxyon.png\">"
   ]
  },
  {
   "cell_type": "markdown",
   "id": "6eb44a38",
   "metadata": {},
   "source": [
    "## 1. Soru\n",
    "**Customers isimli bir veritabanı oluşturunuz ve bu veritabanı içerisine gösterilen tabloları Management Studio üzerinden oluşturunuz.**\n",
    "\n",
    "* Zorluk: 1\n",
    "\n",
    "<img src = \"https://i.hizliresim.com/nt1be05.png\">\n",
    "\n",
    "* Veritabanı, tablo, obje ve sütun isimlerini büyük harflerle oluştur.\n",
    "* "
   ]
  },
  {
   "cell_type": "markdown",
   "id": "eff9bae5",
   "metadata": {},
   "source": [
    "## 2. Soru \n",
    "\n",
    "**Customers isimli bir veritabanı oluşturunuz ve bu veritabanı içerisine gösterilen tabloları SQL kodu yazarak oluşturunuz.**\n",
    "\n",
    "* Zorluk: 2\n",
    "\n",
    "<img src = \"https://i.hizliresim.com/5u3wcet.png\">\n",
    "\n",
    "* Databasei silerken bağlı kullanıcılardan da çıkış yapmak için **Close existing connections**ı işaretle.\n",
    "* Tüm database nesnelerinde oluşturmak için **CREATE**, değiştirmek için **ALTER**, silmek için **DROP** kullanılır.\n",
    "* <CODE>IDENTITY(1, 1)</CODE> kalıbı sütunun otomatik artan olduğunu belirtir.\n",
    "    * 1'den başlar ve 1 eklenerek artar.\n",
    "* Bir sütunda boş değer olmasını istemiyorsan **NOT NULL** da ekleyebilirsin ancak otomatik artan bir sütun için bu gerekli değildir."
   ]
  },
  {
   "cell_type": "markdown",
   "id": "383bc328",
   "metadata": {},
   "source": [
    "## 3. Soru\n",
    "\n",
    "**Kaynaklar bölümünden indirdiğiniz Customer.xlsx dosyasındaki kayıtları tablolara kopyala yapıştır yöntemi ile ekleyiniz.**\n",
    "\n",
    "* Zorluk: 1\n",
    "\n",
    "* Kayıtları atacağın tabloya sağ tıkla ve **Edit Top 200 Rows** sekmesine git.\n",
    "* Sekmenin SQL kodunu görmek için **Show SQL Pane** sekmesine tıkla. (Ctrl+3)\n",
    "* Baştaki ID kısmını sil ve **Execute SQL** yap. (Ctrl+R)\n",
    "    * Bunun sebebi zaten otomatik artan bir ID alanı olması.\n",
    "* Kayıtları alacağın excel dosyasına Shift ile sütunların değerlerini seçip Shift+Ctrl+Alt yön tuşu ile tüm verileri seçip kopyala.\n",
    "* SSMS'de alttaki kısımdan satırı seçip yapıştır."
   ]
  },
  {
   "cell_type": "markdown",
   "id": "f2c66bed",
   "metadata": {},
   "source": [
    "## 4. Soru\n",
    "\n",
    "**Kaynaklar bölümünden indirdiğiniz Customer.xlsx dosyasındaki kayıtları import-export yöntemi ile ekleyiniz.**\n",
    "\n",
    "* Zorluk: 3\n",
    "\n",
    "* Veri setinin ilk satırı sütun başlıklarını barındırmalı.\n",
    "* Seçili veritabanı üzerinden *Tasks* > *Import Data...* sekmesine git.\n",
    "* Kaynağı Microsoft Excel olarak seç ve dosyanın dizinini belirt.\n",
    "* SQL Server'a atmak istediğini belirt.\n",
    "* Databasei import işleminden sonra belirli düzenlemeler yapman gerekebilir.\n",
    "    * Örneğin id alanı float ve primary key olmayan şekilde gelebilir.\n",
    "* Değiştirme işlemi hata verebileceği için;\n",
    "    * *Tools* > *Options* > *Designers* > Son tiki kaldır."
   ]
  },
  {
   "cell_type": "markdown",
   "id": "0a7618ed",
   "metadata": {},
   "source": [
    "## 5. Soru\n",
    "\n",
    "**Kaynaklar bölümünden indirdiğiniz Customer.xlsx dosyasındaki kayıtları tablolara excel formülü yazarak ekleyiniz.**\n",
    "\n",
    "* Zorluk: 3\n",
    "\n",
    "* Formülü ilk satıra göre yaz. \n",
    "* Sayıları tırnak olmadan diğerlerini tek tırnak içerisinde yaz.\n",
    "* Script çift tırnak içerisinde yazılır. Scriptten çıkıp excelden hücre eklemek için & kullanılır.\n",
    "* <code>=\"INSERT INTO DISTRICTS VALUES(\"&Tablo3[@CITYID]&\", '\"&Tablo3[@DISTRICT]&\"')\"</code>"
   ]
  },
  {
   "cell_type": "markdown",
   "id": "f17bcc60",
   "metadata": {},
   "source": [
    "## 6. Soru\n",
    "**Customers tablosundan adı 'A' harfi ile başlayan kişileri çeken sorguyu yazınız.**\n",
    "\n",
    "* Zorluk: 1\n",
    "\n",
    "<img src = \"https://i.hizliresim.com/39iw4oe.png\">"
   ]
  },
  {
   "cell_type": "markdown",
   "id": "fe469722",
   "metadata": {},
   "source": [
    "## 7. Soru\n",
    "**Customers tablosundan adı 'A' harfi ile başlayan erkek müşterileri çeken sorguyu yazınız.**\n",
    "* Zorluk: 1\n",
    "\n",
    "<img src = \"https://i.hizliresim.com/65qcqyu.png\">\n",
    "\n",
    "* **AND** ile şart sağlandığında ifadelerin hepsi tek tek düşünüldüğünde sorgunun sonucu en fazla, kayıtı en az getiren ifade kadar olur.\n",
    "* **OR** ile şart sağlandığında ifadelerin hepsi tek tek düşünüldüğünde sorgunun sonucu en az, kayıtı en fazla getiren ifade kadar olur."
   ]
  },
  {
   "cell_type": "markdown",
   "id": "bb83ef26",
   "metadata": {},
   "source": [
    "## 8. Soru\n",
    "**1990 ve 1995 yılları arasında doğan müşterileri çekiniz. 1990 ve 1995 yılları dahildir.**\n",
    "\n",
    "* Zorluk: 2\n",
    "\n",
    "<img src = \"https://i.hizliresim.com/s4l4jj2.png\">"
   ]
  },
  {
   "cell_type": "markdown",
   "id": "405bf622",
   "metadata": {},
   "source": [
    "## 9. Soru\n",
    "**İstanbul'da yaşayan kişileri Join kullanarak getiren sorguyu yazınız.**\n",
    "\n",
    "* Zorluk: 1\n",
    "\n",
    "<img src = \"https://i.hizliresim.com/7srze9v.png\">"
   ]
  },
  {
   "cell_type": "markdown",
   "id": "8eb94432",
   "metadata": {},
   "source": [
    "## 10. Soru\n",
    "**İstanbul'da yaşayan kişileri subquery kullanarak getiren sorguyu yazınız.**\n",
    "* Zorluk: 2\n",
    "\n",
    "<img src = \"https://i.hizliresim.com/nj90x3q.png\">\n",
    "\n",
    "* Subqueryi istersen select içinde istersen where şartında kullanabilirsin.\n",
    "* Where şartının eşleştiğine dikkat et.\n",
    "* Eğer birden fazla şehir istersen hem joinde hem de subqueryde in kullanırsın."
   ]
  },
  {
   "cell_type": "markdown",
   "id": "e622c3de",
   "metadata": {},
   "source": [
    "## 11. Soru\n",
    "**Hangi şehirde kaç müşterimizin olduğu bilgisini getiren sorguyu yazınız.**\n",
    "\n",
    "* Zorluk: 1\n",
    "\n",
    "<img src = \"https://i.hizliresim.com/r03r9xe.png\">\n",
    "\n",
    "* Bütün şehirleri almak için ya join türünü değiştir ya da cities üzerinden gidip subquery olarak getir."
   ]
  },
  {
   "cell_type": "markdown",
   "id": "c3747a17",
   "metadata": {},
   "source": [
    "## 12. Soru\n",
    "**10'dan fazla müşterimiz olan şehirleri müşteri sayısı ile birlikte müşteri sayısına göre fazladan aza doğru şekilde getiriniz.**\n",
    "\n",
    "* Zorluk: 2\n",
    "\n",
    "<img src = \"https://i.hizliresim.com/bqj2h6i.png\">\n",
    "\n",
    "* Aggregate functions WHERE şartında kullanılmaz.\n",
    "* HAVING'de AS'lı sütun kullanılmaz ama ORDER BY'da kullanılır."
   ]
  },
  {
   "cell_type": "markdown",
   "id": "a3c2693c",
   "metadata": {},
   "source": [
    "## 13. Soru\n",
    "**Hangi şehirde kaç erkek, kaç kadın müşterimizin olduğu bilgisini şekildeki gibi getiren sorguyu yazınız.**\n",
    "<img src = \"https://i.hizliresim.com/15ua2rp.png\" width = 300>\n",
    "\n",
    "* Zorluk: 2\n",
    "\n",
    "<img src = \"https://i.hizliresim.com/qsypgpc.png\">"
   ]
  },
  {
   "cell_type": "markdown",
   "id": "d6fff5cd",
   "metadata": {},
   "source": [
    "## 14. Soru\n",
    "**Hangi şehirde kaç erkek, kaç kadın müşterimizin olduğu bilgisinin şekildeki gibi getiren sorguyu yazınız.**\n",
    "<img src = \"https://i.hizliresim.com/e1u0qry.png\" width = 300>\n",
    "\n",
    "* Zorluk: 2\n",
    "\n",
    "<img src = \"https://i.hizliresim.com/6xcgm3n.png\">"
   ]
  },
  {
   "cell_type": "markdown",
   "id": "257867c5",
   "metadata": {},
   "source": [
    "## 15. Soru\n",
    "**Customers tablosuna yaş grubu için yeni bir alan ekleyiniz. Bu işlemi hem management studio ile hem de sql kodu ile yapınız. Alan adı AGEGROUP veritipi varchar(50)**\n",
    "\n",
    "* Zorluk: 2\n",
    "\n",
    "<img src = \"https://i.hizliresim.com/2qt9zsm.png\">"
   ]
  },
  {
   "cell_type": "markdown",
   "id": "75835973",
   "metadata": {},
   "source": [
    "## 16. Soru\n",
    "**Customers tablosuna eklediğiniz AGEGROUP alanını 20-35 yaş arası, 36-45 yaş arası, 46-55 yaş arası, 55-65 yaş arası ve 65 yaş üstü olarak güncelleyiniz.**\n",
    "\n",
    "* Zorluk: 3\n",
    "\n",
    "<img src = \"https://i.hizliresim.com/pwknd2m.png\">"
   ]
  },
  {
   "cell_type": "markdown",
   "id": "ce080597",
   "metadata": {},
   "source": [
    "# 17. Soru\n",
    "**Customers tablosunda müşterinin yaşına göre hesaplayarak şekildeki gibi bir sonuç getiriniz. Not: AGEGROUP alanı kullanılmadan sorgu getirilecektir.**\n",
    "\n",
    "* Zorluk: 4\n",
    "\n",
    "<img src = \"https://i.hizliresim.com/cwjm41r.png\">\n",
    "\n",
    "* **Dinamik view** yapısı geçici olarak oluşturduğun tabloyu sorgulanacak hale getirmeye yarar. Parantez içine alıp isim vererek geçici bir tablo oluşturup üzerinden sorgular yapabilirsin.\n",
    "* Ancak isimleri normal tablo ile farklı vermen gerekiyor ki aynı sütun aynı anda bulunamasın.\n",
    "* Select içinde gruplanacak uzun bi sorguya ihtiyaç duyarsan tekrardan kaçınmak için bu yolu kullan."
   ]
  },
  {
   "cell_type": "markdown",
   "id": "d27c9a0e",
   "metadata": {},
   "source": [
    "## 18. Soru\n",
    "**İstanbul'da yaşayıp ilçesi 'Kadıköy' dışında olanları listeleyiniz.**\n",
    "\n",
    "* Zorluk: 2\n",
    "\n",
    "<img src = \"https://i.hizliresim.com/le6hp3l.png\">"
   ]
  },
  {
   "cell_type": "markdown",
   "id": "9996f508",
   "metadata": {},
   "source": [
    "## 19. Soru\n",
    "**CITIES tablosundan 'ANKARA' kaydını sildiğimizi varsayalım. Bu durumda şehri 'ANKARA' olan müşterilerin şehir alanı boş gelecektir. Şehir alanı boş olan müşterileri listeleyen sorguyu yazınız.**\n",
    "\n",
    "* Zorluk: 2\n",
    "\n",
    "<img src = \"https://i.hizliresim.com/eu69dw3.png\">"
   ]
  },
  {
   "cell_type": "markdown",
   "id": "9fe5956c",
   "metadata": {},
   "source": [
    "## 20. Soru\n",
    "**Önceki soruda CITIES tablosundan silmiş olduğumuz Ankara ve İstanbul kayıtlarını aynı IDleri alacak şekilde yeniden tabloya insert ediniz.**\n",
    "\n",
    "* Zorluk: 3\n",
    "\n",
    "<img src = \"https://i.hizliresim.com/jvmgqsl.png\">\n",
    "\n",
    "* <code>SET IDENTITY_INSERT ON</code> komutu kullanılarak otomatik artan sütunlara insert işlemi yapabilirsin."
   ]
  },
  {
   "cell_type": "markdown",
   "id": "29a49c2a",
   "metadata": {},
   "source": [
    "## 21. Soru\n",
    "**Müşterilerimizin telefon numaralarının operatör bilgisini getirmek istiyoruz. TELNR1 ve TELNR2 alanlarının yanına operatör numarasını (532), (505) gibi getirmek istiyoruz. Bu sorgu için gereken SQL cümlesini yazınız.**\n",
    "\n",
    "<img src = \"https://i.hizliresim.com/4nagtxa.png\" width = 300>\n",
    "\n",
    "* Zorluk: 2\n",
    "\n",
    "<img src = \"https://i.hizliresim.com/iid450b.png\">\n",
    "\n",
    "* **SUBSTRING**, başlangıç ve karakter sayısını alır\n",
    "* **LEFT**, başlangıcı 1'dir sadece karakter sayısı alır"
   ]
  },
  {
   "cell_type": "markdown",
   "id": "f30ac840",
   "metadata": {},
   "source": [
    "## 22. Soru\n",
    "**Müşterilerimizin telefon operatör bilgisini getirmek istiyoruz. Örneğin telefon numaraları \"50\" ya da \"55\" ile başlayan \"X\" operatörü, \"54\" ile başlayan \"Y\" operatörü, \"53\" ile başlayan \"Z\" operatörü olsun. Burada hangi operatörden ne kadar müşterimiz olduğu bilgisini getirecek sorguyu yazınız.**\n",
    "\n",
    "* Zorluk: 4\n",
    "\n",
    "<img src = \"https://i.hizliresim.com/tlqe32r.png\">\n",
    "\n",
    "#### Alternatif \n",
    "\n",
    "<img src = \"https://i.hizliresim.com/hxkpa4g.png\">"
   ]
  },
  {
   "cell_type": "markdown",
   "id": "9de298bd",
   "metadata": {},
   "source": [
    "## 23. Soru\n",
    "**Her ilde en çok müşteriye sahip olduğumuz ilçeleri müşteri sayısına göre çoktan aza doğru sıralı şekilde şekildeki gibi getirmek için gereken sorguyu yazınız.**\n",
    "\n",
    "<img src = \"https://i.hizliresim.com/qpy75dw.png\" width = 300>\n",
    "\n",
    "* Zorluk: 2\n",
    "\n",
    "<img src = \"https://i.hizliresim.com/cdeb73w.png\">"
   ]
  },
  {
   "cell_type": "markdown",
   "id": "55e57394",
   "metadata": {},
   "source": [
    "## 24. Soru\n",
    "**Müşterilerin doğum günlerini resimdeki gibi haftanın günü olarak getiren sorguyu yazınız.**\n",
    "\n",
    "<img src = \"https://i.hizliresim.com/lid8w48.png\" width = 300>\n",
    "\n",
    "* Zorluk: 3\n",
    "\n",
    "<img src = \"https://i.hizliresim.com/imtagzr.png\">"
   ]
  },
  {
   "cell_type": "markdown",
   "id": "d17ef8b9",
   "metadata": {},
   "source": [
    "## 25. Soru\n",
    "**Doğum günü bugün olan müşterilerin listesini getiriniz.**\n",
    "* Zorluk: 3\n",
    "\n",
    "<img src = \"https://i.hizliresim.com/ktx02fp.png\">"
   ]
  }
 ],
 "metadata": {
  "kernelspec": {
   "display_name": "Python 3 (ipykernel)",
   "language": "python",
   "name": "python3"
  },
  "language_info": {
   "codemirror_mode": {
    "name": "ipython",
    "version": 3
   },
   "file_extension": ".py",
   "mimetype": "text/x-python",
   "name": "python",
   "nbconvert_exporter": "python",
   "pygments_lexer": "ipython3",
   "version": "3.10.5"
  }
 },
 "nbformat": 4,
 "nbformat_minor": 5
}
