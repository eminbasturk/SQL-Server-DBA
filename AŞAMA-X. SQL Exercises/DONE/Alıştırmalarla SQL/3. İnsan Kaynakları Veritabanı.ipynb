{
 "cells": [
  {
   "cell_type": "markdown",
   "id": "3faacfe1",
   "metadata": {},
   "source": [
    "# Senaryo\n",
    "\n",
    "<img src = \"https://i.hizliresim.com/ojvqz3y.png\">\n",
    "\n",
    "<img src = \"https://i.hizliresim.com/48uc01o.png\">\n",
    "\n",
    "<img src = \"https://i.hizliresim.com/pcfzot2.png\">"
   ]
  },
  {
   "cell_type": "markdown",
   "id": "eaa53d57",
   "metadata": {},
   "source": [
    "## 1. Soru\n",
    "**HR isimli bir veritabanı oluşturunuz ve bu veritabanı içerisine gösterilen tabloları Management Studio üzerinden oluşturunuz.**\n",
    "\n",
    "* Zorluk: 1\n",
    "\n",
    "<img src = \"https://i.hizliresim.com/5tfv46e.png\" width = 350>\n",
    "\n",
    "<img src = \"https://i.hizliresim.com/25st5wm.png\" width = 350>\n",
    "\n",
    "<img src = \"https://i.hizliresim.com/6t23qv6.png\" width = 350>"
   ]
  },
  {
   "cell_type": "markdown",
   "id": "c29e5331",
   "metadata": {},
   "source": [
    "## 2. Soru\n",
    "**HR isimli bir veritabanı oluşturunuz ve bu veritabanı içerisine gösterilen tabloları SQL kodu yazarak oluşturunuz.**\n",
    "\n",
    "* Zorluk: 2\n",
    "\n",
    "<img src = \"https://i.hizliresim.com/fh9s0tz.png\">"
   ]
  },
  {
   "cell_type": "markdown",
   "id": "0d4036b9",
   "metadata": {},
   "source": [
    "## 3. Soru\n",
    "**Kaynaklar bölümünden indirdiğiniz HR.xlsx dosyasındaki kayıtları tablolara kopyala-yapıştır yöntemi ile ekleyiniz.**\n",
    "\n",
    "* Zorluk: 1"
   ]
  },
  {
   "cell_type": "markdown",
   "id": "bc99f94e",
   "metadata": {},
   "source": [
    "## 4. Soru\n",
    "**Şirketimizde halen çalışmaya devam eden çalışanların listesini getiren sorgu hangisidir? Not: İşten çıkış tarihi boş olanlar çalışmaya devam eden çalışanlardır.**\n",
    "\n",
    "* Zorluk: 2\n",
    "\n",
    "<img src = \"https://i.hizliresim.com/kfz4fwn.png\">\n",
    "\n",
    "* *NULL* olan alanlar *WHERE* şartında *=* ile getirilmez. Onun yerine *IS* kullanılır. Eğer boş olmayanları getirmek istiyorsan da *IS NOT NULL* kullanırsın."
   ]
  },
  {
   "cell_type": "markdown",
   "id": "65e72e01",
   "metadata": {},
   "source": [
    "## 5. Soru\n",
    "**Şirketimizde departman bazlı halen çalışmaya devam eden KADIN ve ERKEK sayılarını şekildeki gibi getiren sorguyu yazınız.**\n",
    "\n",
    "<img src = \"https://i.hizliresim.com/tl7bdy8.png\" width = 300>\n",
    "\n",
    "* Zorluk: 2\n",
    "\n",
    "<img src = \"https://i.hizliresim.com/1ok3gc4.png\">\n",
    "\n",
    "* Eğer iki seçenekli *CASE* kullanıyorsan *ELSE* kullan. \n",
    "* *CASE* kullandığında gruplaman aynı temelde kalıyorsa *GROUP BY*da *CASE* kullanmana gerek yok."
   ]
  },
  {
   "cell_type": "markdown",
   "id": "407e547b",
   "metadata": {},
   "source": [
    "## 6. Soru\n",
    "**Şirketimizde departman bazlı halen çalışmaya devam eden KADIN ve ERKEK sayılarını şekildeki gibi getiren sorguyu yazınız.**\n",
    "\n",
    "<img src = \"https://i.hizliresim.com/sijdjx5.png\" width = 300>\n",
    "\n",
    "* Zorluk: 3\n",
    "\n",
    "<img src = \"https://i.hizliresim.com/6f2qp49.png\">"
   ]
  },
  {
   "cell_type": "markdown",
   "id": "7f270da1",
   "metadata": {},
   "source": [
    "## 7. Soru\n",
    "**Şirketimizin Planlama departmanına yeni bir şef ataması yapıldı ve maaşını belirlemek istiyoruz. Planlama departmanı için minimum, maximum ve ortalama şef maaşı getiren sorgu hangisidir? (Not: işten çıkmış olan personel maaşları da dahildir.)**\n",
    "\n",
    "<img src = \"https://i.hizliresim.com/26hz9cl.png\" width = 350>\n",
    "\n",
    "* Zorluk: 3\n",
    "\n",
    "<img src = \"https://i.hizliresim.com/89ixn9h.png\">\n",
    "\n",
    "* Özetlediğimiz bir *POSITION* olduğu için o tablodan da ilerlenilebilir. \n",
    "* Hem *INNER JOIN* ile hem de *SUBQUERY* ile yapılabilir.\n",
    "* *SUBQUERY* 'den bir değer geldiği için üzerinde *ROUND* gibi bir fonksiyon uygulanabilir."
   ]
  },
  {
   "cell_type": "markdown",
   "id": "b8482af4",
   "metadata": {},
   "source": [
    "## 8. Soru\n",
    "**Her bir pozisyonda mevcut halde çalışanlar olarak kaç  kişi ve ortalama maaşlarının ne kadar olduğunu listelettirmek istiyoruz. Bu sonucu getiren sorguyu yazınız.**\n",
    "\n",
    "<img src = \"https://i.hizliresim.com/hsmp0nd.png\" width = 350>\n",
    "\n",
    "* Zorluk: 3\n",
    "\n",
    "<img src = \"https://i.hizliresim.com/2p7axoo.png\">"
   ]
  },
  {
   "cell_type": "markdown",
   "id": "3bb53ca9",
   "metadata": {},
   "source": [
    "## 9. Soru\n",
    "**Yıllara göre işe alınan personel sayısını kadın ve erkek bazında listelettiren sorguyu yazınız.**\n",
    "\n",
    "<img src = \"https://i.hizliresim.com/nz4linj.png\" width = 350>\n",
    "\n",
    "* Zorluk: 3\n",
    "\n",
    "<img src = \"https://i.hizliresim.com/b73u83g.png\">\n",
    "\n",
    "* Eğer *Aggregate functions* kullanmayacaksan *GROUP BY* yerine *DISTINCT* kullanmak mantıklı olabilir.\n",
    "* *SUBQUERY* işlemini aynı tablo içerisinden de yapabilirsin bunun için tablona *Alias* ver."
   ]
  },
  {
   "cell_type": "markdown",
   "id": "c99c600c",
   "metadata": {},
   "source": [
    "## 10. Soru\n",
    "**Her bir personelimizin ne kadar zamandır çalıştığı bilgisini şekildeki gibi ay olarak getiren sorguyu yazınız.**\n",
    "\n",
    "<img src = \"https://i.hizliresim.com/kgm6cu1.png\" width = 350>\n",
    "\n",
    "* Zorluk: 3\n",
    "\n",
    "<img src = \"https://i.hizliresim.com/hgmtccs.png\">\n",
    "\n",
    "* *UNION ALL* ile sütunları aynı bilgiyi taşıyan tabloları birleştirebilirsin."
   ]
  },
  {
   "cell_type": "markdown",
   "id": "c195487e",
   "metadata": {},
   "source": [
    "## 11. Soru\n",
    "**Şirketimizin 5. Yılında üstünde herkesin isminin ve soyisminin baş harflerinin bulunduğu bir ajanda bastırıp çalışanlarına hediye edecektir. Bunun için hangi harf kombinasyonundan en az ne kadar sayıda ajanda bastırılacağı sorusunun cevabını getiren sorguyu yazınız. Not: İki isimli olanların birinci isminin baş harfi kullanılacaktır.**\n",
    "\n",
    "<img src = \"https://i.hizliresim.com/k7jq03l.png\">\n",
    "\n",
    "* Zorluk: 3\n",
    "\n",
    "<img src = \"https://i.hizliresim.com/nwwidyi.png\">\n",
    "\n",
    "* *SUBSTRING* fonksiyonunu da kullanabilirsin.\n",
    "* *GROUP BY* alırken noktaları koymana gerek yok."
   ]
  },
  {
   "cell_type": "markdown",
   "id": "111fbb49",
   "metadata": {},
   "source": [
    "## 12. Soru\n",
    "**Maaş ortalaması 5.500 TL'den fazla olan departmanları listeleyecek sorguyu yazınız.**\n",
    "\n",
    "<img src = \"https://i.hizliresim.com/36c3mqy.png\" width = 350>\n",
    "\n",
    "* Zorluk: 3\n",
    "\n",
    "<img src = \"https://i.hizliresim.com/fif6rjy.png\">\n",
    "\n",
    "* Dinamik view kullanarak filtrelemeyi *WHERE* ile de yapabilirsin."
   ]
  },
  {
   "cell_type": "markdown",
   "id": "117cb271",
   "metadata": {},
   "source": [
    "## 13. Soru\n",
    "**Departmanların ortalama kıdemini ay olarak hesaplayacak ve şekildeki gibi çekecek sorguyu yazınız.**\n",
    "\n",
    "<img src = \"https://i.hizliresim.com/q4po2p9.png\" width = 350>\n",
    "\n",
    "* Zorluk: 4\n",
    "\n",
    "<img src = \"https://i.hizliresim.com/tq3cy1y.png\">\n",
    "\n",
    "* *CASE* 'in ortalamasını almayıp dinamik view kullanıp oradan da ortalamayı alabilirsin ama ne gerek var xd"
   ]
  },
  {
   "cell_type": "markdown",
   "id": "ac2aa105",
   "metadata": {},
   "source": [
    "## 14. Soru\n",
    "**Her personelin adını, pozisyonunun bağlı olduğu birim, yöneticisinin adını ve pozisyonunu şekildeki gibi getiren sorguyu yazınız.**\n",
    "\n",
    "<img src = \"https://i.hizliresim.com/1jnyerv.png\">\n",
    "\n",
    "* Zorluk: 4\n",
    "\n",
    "<img src = \"https://i.hizliresim.com/9a8q6f1.png\">\n",
    "\n",
    "* Eğer bir tablo içindeki bir sütun aynı tablodaki başka bir sütunu işaret ediyorsa tablo kendisiyle *INNER JOIN* yapılır.\n",
    "* *JOIN* lediğin tablodaki ID'yi önce yaz."
   ]
  },
  {
   "cell_type": "code",
   "execution_count": null,
   "id": "f74c76f3",
   "metadata": {},
   "outputs": [],
   "source": []
  }
 ],
 "metadata": {
  "kernelspec": {
   "display_name": "Python 3 (ipykernel)",
   "language": "python",
   "name": "python3"
  },
  "language_info": {
   "codemirror_mode": {
    "name": "ipython",
    "version": 3
   },
   "file_extension": ".py",
   "mimetype": "text/x-python",
   "name": "python",
   "nbconvert_exporter": "python",
   "pygments_lexer": "ipython3",
   "version": "3.10.5"
  }
 },
 "nbformat": 4,
 "nbformat_minor": 5
}
