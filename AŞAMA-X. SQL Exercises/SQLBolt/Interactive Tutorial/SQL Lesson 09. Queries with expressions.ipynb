{
 "cells": [
  {
   "cell_type": "markdown",
   "id": "c77c120a",
   "metadata": {},
   "source": [
    "# SQL Lesson 9: Queries with expressions\n",
    "**SQL Ders 9: İfade içeren sorgular**\n",
    "\n",
    "* Ham kolon verilerini SQL ile sorgulamaya ve elde etmeye ek olarak, bir srogudaki kolon değerlerine daha karmaşık mantık yazmak için *ifadeler* de kullanabilirsin. Bu ifadeler, bu fizik örneğinde gösterildiği gibi, sorgu yürütüldüğünde değerleri dönüştürmek için temel aritmetik ile birlikte matematiksel ve string fonksiyonlarını kullanabilir.\n",
    "\n",
    "<img src = \"https://i.hizliresim.com/m1b7s4v.png\">\n",
    "\n",
    "* Her veritabanının, kendi ilgili dökümanlarında bulabileceğin, bir sorguda kullanılabilecek kendi desteklenen matematiksel, string ve tarih fonksiyonları kümesi vardır.\n",
    "\n",
    "* İfadelerin kullanılması, zamandan ve sonuç verilerinin sonradan işlenmesinden tasarruf sağlayabilir, ancak aynı zamanda sorgunun okunmasını zorlaştırabilir, bu nedenle, sorgunun **SELECT** bölümünde ifadeler kullanıldığında, bunlara açıklayıcı bir özellik de verilmesini öneriririz. **AS** keywordunu kullanarak ifadelere açıklama niyetine *alias* (takma ad) verebilirsin.\n",
    "\n",
    "<img src = \"https://i.hizliresim.com/6r4ja0g.png\">\n",
    "\n",
    "* İfadelere ek olarak, normal sütunlar ve hatta tablolar, çıktıda başvurulmasını kolaylaştırmak için ve daha karmaşık sorguları basitleştirmenin bir parçası olarak aliaslara sahip olabilir.\n",
    "\n",
    "<img src = \"https://i.hizliresim.com/fogcl5t.png\">"
   ]
  },
  {
   "cell_type": "markdown",
   "id": "fcdb56a1",
   "metadata": {},
   "source": [
    "## Exercise\n",
    "\n",
    "* Aşağıdaki görevler için **BoxOffice** verilerini daha kolay anlaşılır bir şeye dönüştürmek için ifadeler kullanman gerekecek.\n",
    "\n",
    "<img src = \"https://i.hizliresim.com/o75oabi.png\">\n",
    "\n",
    "### 1. Tüm filmleri ve bunların toplam satışlarını milyonlarca dolar cinsinden listele.\n",
    "\n",
    "<img src = \"https://i.hizliresim.com/11m1xe1.png\">\n",
    "\n",
    "### 2. Tüm filmleri ve ratingleri yüzde olarak listele.\n",
    "\n",
    "<img src = \"https://i.hizliresim.com/7hv1oy4.png\">\n",
    "\n",
    "### 3. Çift sayılı yıllarda vizyona giren tüm filmleri listele.\n",
    "\n",
    "<img src = \"https://i.hizliresim.com/eha6efj.png\">\n",
    "\n",
    "<img src = \"https://i.hizliresim.com/gng9lqa.png\">"
   ]
  }
 ],
 "metadata": {
  "kernelspec": {
   "display_name": "Python 3 (ipykernel)",
   "language": "python",
   "name": "python3"
  },
  "language_info": {
   "codemirror_mode": {
    "name": "ipython",
    "version": 3
   },
   "file_extension": ".py",
   "mimetype": "text/x-python",
   "name": "python",
   "nbconvert_exporter": "python",
   "pygments_lexer": "ipython3",
   "version": "3.11.1"
  }
 },
 "nbformat": 4,
 "nbformat_minor": 5
}
