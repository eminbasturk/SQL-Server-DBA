{
 "cells": [
  {
   "cell_type": "markdown",
   "id": "b0756cc5",
   "metadata": {},
   "source": [
    "# SQL Lesson 1: SELECT queries 101\n",
    "**SQL Ders 1: SELECT sorguları 101**\n",
    "\n",
    "* Bir SQL veritabanından veri almak için, genellikle halk arasında **query** (sorgu) olarak adlandırılan <code>SELECT</code> ifadeleri yazmamız gerekir. Kendi içinde bir sorgu, hangi verileri aradığımızı, veritabanında nerede bulacağımızı ve isteğe bağlı olarak, döndürülmeden önce nasıl dönüştürüleceğini bildiren bir ifadedir. Bununla birlikte, aşağıdaki alıştırmalarda öğreneceğimiz belirli bir syntaxa sahiptir.\n",
    "\n",
    "* Giriş bölümünde belirtildiği gibi, SQL'de bir tabloyu bir varlığın türü (mesela Dogs) ve bu tablodaki her satırı o türün belirli bir örneği olarak düşünebilirsin (bir pug, bir beagle, farklı renkli bir pug, gibi). Bu, sütunların o varlığın tüm örnekleri tarafından paylaşılan ortak özellikleri temsil edeceği anlamına gelir (kürk rengi, kuyruk uzunluğu gibi).\n",
    "\n",
    "* Ve bir veri tablosu verildiğinde, yazabileceğin en temel sorgu, tüm satırları (instances, örnekleri) içeren tablonun birkaç sütununu (properties, özellikleri) seçen sorgu olacaktır.\n",
    "\n",
    "### Belirli sütunlar için SELECT sorgusu\n",
    "\n",
    "<img src = \"https://i.hizliresim.com/qs30zdf.png\">\n",
    "\n",
    "* Bu sorgunun sonucu, tablonun etkin bir kopyası olan, ancak yalnızca istediğimiz sütunlarla birlikte iki boyutlu bir satır ve sütun kümesi olacaktır.\n",
    "* Bir tablodan mutlak olarak tüm veri sütunlarını almak istiyorsak, tüm sütun adlarını ayrı ayrı listelemek yerine <code>*</code> kısayolunu kullanabiliriz.\n",
    "\n",
    "### Bütün sütunlar için SELECT sorgusu\n",
    "\n",
    "<img src = \"https://i.hizliresim.com/e9k9l9u.png\">\n",
    "\n",
    "* Özellikle bu sorgu, tüm verileri bir kerede boşaltarak bir tabloyu incelemenin basit bir yolu olduğu için gerçekten kullanışlıdır."
   ]
  },
  {
   "cell_type": "markdown",
   "id": "41d89870",
   "metadata": {},
   "source": [
    "## Exercise\n",
    "\n",
    "* Alıştırmalarımızın çoğu için Pixar'ın bazı klasik filmleriyle ilgili verileri içeren bir veritabanı kullanılacak. Bu ilk alıştırma yalnızca **Movies** tablosunu içerecek ve aşağıdaki varsayılan sorgu şu anda her filmin tüm özelliklerini göstermektedir. Bir sonraki derse devam etmek için sorguyu değiştirerek her görev için tam olarak ihtiyacın olan bilgileri bul.\n",
    "\n",
    "<img src = \"https://i.hizliresim.com/483i3rt.png\">\n",
    "\n",
    "### 1. Her bir filmin title'ını bul.\n",
    "\n",
    "<img src = \"https://i.hizliresim.com/r7hszvx.png\">\n",
    "\n",
    "### 2. Her bir filmin director'ını bul.\n",
    "\n",
    "<img src = \"https://i.hizliresim.com/7id6ml7.png\">\n",
    "\n",
    "### 3. Her bir filmin title ve director'ını bul.\n",
    "\n",
    "<img src = \"https://i.hizliresim.com/8iryufx.png\">\n",
    "\n",
    "### 4. Her bir filmin title ve year'ını bul.\n",
    "\n",
    "<img src = \"https://i.hizliresim.com/8zeifjc.png\">\n",
    "\n",
    "### 5. Her bir filmin tüm bilgilerini bul.\n",
    "\n",
    "<img src = \"https://i.hizliresim.com/n9sftxu.png\">"
   ]
  }
 ],
 "metadata": {
  "kernelspec": {
   "display_name": "Python 3 (ipykernel)",
   "language": "python",
   "name": "python3"
  },
  "language_info": {
   "codemirror_mode": {
    "name": "ipython",
    "version": 3
   },
   "file_extension": ".py",
   "mimetype": "text/x-python",
   "name": "python",
   "nbconvert_exporter": "python",
   "pygments_lexer": "ipython3",
   "version": "3.11.1"
  }
 },
 "nbformat": 4,
 "nbformat_minor": 5
}
