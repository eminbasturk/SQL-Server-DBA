{
 "cells": [
  {
   "cell_type": "markdown",
   "id": "79334346",
   "metadata": {},
   "source": [
    "# SQL Lesson 7: OUTER JOINs\n",
    "**SQL Ders 7: Dış Birleştirmeler**\n",
    "\n",
    "* **INNER JOIN**'de ortaya çıkan tablo sadece her iki tablonun kesişimini aldığı için yeterli değildir.\n",
    "* Farklı aşamalarda veri girilebildiği için iki tablo asimetrik verilere sahip olabilir, ihtiyacın olan verilerin sonuçların dışında kalmamasını sağlamak için INNER JOIN yerine **LEFT JOIN**, **RIGHT JOIN** veya **FULL JOIN** kullanman gerekir.\n",
    "\n",
    "<img src = \"https://i.hizliresim.com/2uu1pzo.png\">\n",
    "\n",
    "* **INNER JOIN**'de olduğu gibi bu birleştirmelerde de verilerin hangi sütunda birleştirileceği belirtilir.\n",
    "* A tablosunu B tablosuyla birleştirirken, **LEFT JOIN**, B'de eşleşen bir satır bulunup bulunmadığına bakılmaksızın A'daki satırların tümünü içerir. **RIGHT JOIN** de aynıdır, ancak tersine çevrilir ve A'da bir eşleşme bulunup bulunmadığına bakılmaksızın B'deki satırları tutar. Son olarak bir **FULL JOIN**, diğer tabloda eşleşen bir satır olup olmadğına bakılmaksızın, her iki tablodaki satırları da tutar.\n",
    "* Bu yeni birleştirmelerden herhangi birini kullanırken, sonuçtaki **NULL**larla ve kısıtlamalarla başa çıkmak için muhtemelen ek mantık cümleleri yazman gerekecektir (ileride).\n",
    "\n",
    "### Did you know?\n",
    "\n",
    "* Bu birleştirmeleri **LEFT OUTER JOIN**, **RIGHT OUTER JOIN** veya **FULL OUTER JOIN** olarak yazılmış sorguların olduğunu görebilirsin, ancak **OUTER** kelimesi *SQL-92* ile uyumlu olması için tutulur."
   ]
  },
  {
   "cell_type": "markdown",
   "id": "b67dab14",
   "metadata": {},
   "source": [
    "## Exercise\n",
    "\n",
    "* **Employees** tablosunda film stüdyosundaki çalışanlar, **Buildings** tablosunda da çalışanların çalıştıkları binalar bulunuyor. Binaların bazıları yeni olduğu için henüz içlerinde çalışan yok ama ne olursa olsun onlar hakkında bazı bilgiler bulmamız gerekiyor.\n",
    "\n",
    "* Tarayıcı SQL veritabanı biraz sınırlı olduğundan, aşağıdaki alıştırmalarda yalnızca **LEFT JOIN** desteklenmektedir. KEKW.\n",
    "\n",
    "<img src = \"https://i.hizliresim.com/sjybw13.png\">\n",
    "\n",
    "### 1. Çalışanı olan tüm binaların listesini bul.\n",
    "\n",
    "<img src = \"https://i.hizliresim.com/hky8g8a.png\">\n",
    "\n",
    "<img src = \"https://i.hizliresim.com/bne5xdt.png\">\n",
    "\n",
    "### 2. Tüm binaların listesini ve kapasitelerini bul.\n",
    "\n",
    "<img src = \"https://i.hizliresim.com/fg1trzo.png\">\n",
    "\n",
    "<img src = \"https://i.hizliresim.com/ie7p81y.png\">\n",
    "\n",
    "### 3. Tüm binaları ve her binadaki farklı çalışan rollerini listele (boş binalar dahil).\n",
    "\n",
    "**Eğer birden fazla kolona DISTINCT uygularsan tüm kolonlardaki kombinasyonlara göre uniquelik arar.**\n",
    "\n",
    "<img src = \"https://i.hizliresim.com/spbi27g.png\">\n",
    "\n",
    "<img src = \"https://i.hizliresim.com/75qf3tg.png\">"
   ]
  }
 ],
 "metadata": {
  "kernelspec": {
   "display_name": "Python 3 (ipykernel)",
   "language": "python",
   "name": "python3"
  },
  "language_info": {
   "codemirror_mode": {
    "name": "ipython",
    "version": 3
   },
   "file_extension": ".py",
   "mimetype": "text/x-python",
   "name": "python",
   "nbconvert_exporter": "python",
   "pygments_lexer": "ipython3",
   "version": "3.11.1"
  }
 },
 "nbformat": 4,
 "nbformat_minor": 5
}
