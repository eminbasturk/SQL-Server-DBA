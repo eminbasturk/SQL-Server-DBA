{
 "cells": [
  {
   "cell_type": "markdown",
   "id": "ca4a422c",
   "metadata": {},
   "source": [
    "# SQL Lesson 17: Altering tables\n",
    "**SQL Ders 17: Tabloları değiştirme**\n",
    "\n",
    "* Verilerin zaman içinde değiştikçe SQL, sütunları ve tablo kısıtlamalarını eklemek, kaldırmak veya değiştirmek için **ALTER TABLE** deyimini kullanarak karşılık gelen tabloları ve veritabanı şemalarını güncellemen için bir yol sağlar.\n",
    "\n",
    "### Adding columns\n",
    "**Kolon ekleme**\n",
    "\n",
    "Yeni bir sütun ekleme syntaxı, **CREATE TABLE** deyiminde yeni satırlar oluştururken kullanıaln sözdizimine benzer. Hem mevcut hem de yeni satırlara uygulanacak olası tablo kısıtlamaları ve varsayılan değerlerle birlikte sütunun veri türünü belirtmen gerekir. MySQL gibi bazı veritabanlarında, **FIRST** veya **AFTER** deyimlerini kullanarak yeni sütunun nereye ekleneceğini bile belirtebilirsiniz, ancak bu standart bir özellik değildir.\n",
    "\n",
    "<img src = \"https://i.hizliresim.com/8gyntah.png\">\n",
    "\n",
    "### Removing columns\n",
    "**Kolon kaldırma**\n",
    "\n",
    "Kolonları bırakmak, bırakılacak kolonları belirtmek kadar kolaydır, ancak bazı veritabanları (SQLite dahil) bu özelliği desteklemez. Bunun yerine yeni bir tablo oluşturmanız ve verileri aktarmanız gerekebilir.\n",
    "\n",
    "<img src = \"https://i.hizliresim.com/7kgl2cl.png\">\n",
    "\n",
    "### Renaming the table\n",
    "**Tabloyu yeniden adlandırma**\n",
    "\n",
    "Tablonun kendisini yeniden adlandırmamız gerekirse, bunu ifadenin **RENAME TO** deyimini kullanarak da yapabiliriz.\n",
    "\n",
    "<img src = \"https://i.hizliresim.com/krei5jb.png\">\n",
    "\n",
    "### Other changes\n",
    "**Diğer değişiklikler**\n",
    "\n",
    "Her veritabanı uygulaması, tablolarını değiştirmek için farklı yöntemleri destekler, bu nedenle devam etmeden önce veritabanı belgelerine başvurmak her zaman en iyisidir: MySQL, Postgres, SQLite, Microsoft SQL Server"
   ]
  },
  {
   "cell_type": "markdown",
   "id": "e933b10a",
   "metadata": {},
   "source": [
    "## Exercise\n",
    "\n",
    "* Alıştırmalarımız yalnızca yeni sütun eklemeyi destekleyen bir uygulama kullanır, bu nedenle aşağıda bir dene.\n",
    "\n",
    "### 1. Her filmin yayınlandığı görüntü oranını depolamak için FLOAT veri türüyle Aspect_ratio adlı bir sütun ekle.\n",
    "\n",
    "<img src = \"https://i.hizliresim.com/sljtccw.png\">\n",
    "\n",
    "### 2. Filmin yayınlandığı dili saklamak için TEXT veri türüyle Language adlı başka bir sütun ekle. Bu dil için varsayılanın English olduğundan emin ol.\n",
    "\n",
    "<img src = \"https://i.hizliresim.com/1m0r47q.png\">"
   ]
  }
 ],
 "metadata": {
  "kernelspec": {
   "display_name": "Python 3 (ipykernel)",
   "language": "python",
   "name": "python3"
  },
  "language_info": {
   "codemirror_mode": {
    "name": "ipython",
    "version": 3
   },
   "file_extension": ".py",
   "mimetype": "text/x-python",
   "name": "python",
   "nbconvert_exporter": "python",
   "pygments_lexer": "ipython3",
   "version": "3.11.1"
  }
 },
 "nbformat": 4,
 "nbformat_minor": 5
}
