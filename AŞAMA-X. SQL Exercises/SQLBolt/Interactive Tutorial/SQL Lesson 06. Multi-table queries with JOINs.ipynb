{
 "cells": [
  {
   "cell_type": "markdown",
   "id": "c9f070c1",
   "metadata": {},
   "source": [
    "# SQL Lesson 6: Multi-table queries with JOINs\n",
    "**SQL Ders 6: JOIN'lerle çok tablolu sorgular**\n",
    "\n",
    "* Şimdiye kadar tek bir tabloyla çalışıyorduk, ancak gerçek dünyadaki veriler genellikle parçalara bölünür ve *normalization* olarak bilinen bir işlem kullanılarak birden çok ortogonal tabloda depolanır.\n",
    "\n",
    "## Database normalization\n",
    "* **Normalizasyon, veritabanlarında çok fazla sütun ve satırdan oluşan bir tabloyu tekrarlardan arındırmak için daha az satır ve sütun içeren alt kümelerine ayrıştırma işlemidir.**\n",
    "\n",
    "* Veritabanı normalizasyonu kullanışlıdır, çünkü herhangi bir tablodaki yinelenen verileri en aza indirir ve veritabanındaki verilerin birbirinden bağımsız olarak büyümesine izin verir (yani, araba motorlarının türleri, her araba türünden bağımsız olarak büyüyebilir). Veritabanının farklı bölümlerinden veri bulabilmek için sorgular biraz daha karmaşık hale gelebilir ve birçok büyük tabloyla çalışırken performans sorunları ortaya çıkabilir.\n",
    "\n",
    "* Normalleştirilmiş bir veritabanında birden çok tabloyu kapsayan verilere sahip bir satır hakkındaki soruları yanıtlamak için, tüm bu verileri birleştirebilen ve tam olarak ihtiyacın olan bilgileri çıkarabilen bir sorgu yazmayı öğrenmen gerekir.\n",
    "\n",
    "## Multi-table queries with JOINs\n",
    "\n",
    "* Tek bir satır hakkında bilgi paylaşan tabloların, o satırı veritabanı genelinde *uniquely* şekilde tanımlayan bir *primary key*i olması gerekir. Yaygın bir primary key türü, otomatik artan bir tamsayıdır (çünkü fazla yer kaplamazlar), ancak benzersiz (unique) olduğu sürece bir string veya hashed (karma) değer de olabilir.\n",
    "\n",
    "* <code>JOIN</code> clause'unu bir sorguda kullanarak, bu unique key ile iki ayrı tablodaki satır verilerini birleştirebilirsin. Tanıtılacak birleştirme türlerinden ilki <code>INNER JOIN</code>'dir.\n",
    "\n",
    "### Birden çok tabloda INNER JOIN ile SELECT sorgusu\n",
    "\n",
    "<img src = \"https://i.hizliresim.com/djxt6gw.png\">\n",
    "\n",
    "* <code>INNER JOIN</code>, her iki tablodan birleştirilmiş sütunlarla bir sonuç satırı oluşturmak için (<code>ON</code> kısıtlaması tarafından tanımlandığı gibi) aynı anahtara sahip olan birinci tablodaki ve ikinci tablodaki satırları eşleştiren bir işlemdir. Tablolar birleştirildikten sonra daha önce öğrendiğimiz diğer maddeler uygulanır.\n",
    "\n",
    "#### Did you know?\n",
    "* <code>INNER JOIN</code>'in basitçe <code>JOIN</code> olarak yazıldığı sorgular görebilirsin. Bu ikisi eşdeğerdir, ancak bir sonraki derste tanıtılacak olan diğer birleştirme türlerini kullanmaya başladığınızda sorgunun okunmasını kolaylaştırdıkları için bu joinlere inner joinler olarak atıfta bulunmaya devam edeceğiz."
   ]
  },
  {
   "cell_type": "markdown",
   "id": "2e22412f",
   "metadata": {},
   "source": [
    "## Exercise\n",
    "\n",
    "* Bazı birleştirmeleri deneyebilmen için Pixar veritabanına yeni bir tablo ekledik. **BoxOffice** tablosu, her bir Pixar filminin ratingleri ve satışlarıyla ilgili bilgileri depolar ve bu tablodaki **Movie_id** sütunu, **Movies** tablosundaki **Id** sütunu ile 1'e 1 olarak eşleşir. Yukarıda tanıtılan <code>INNER JOIN</code>'i kullanarak aşağıdaki görevleri çözmeye çalış.\n",
    "\n",
    "<img src = \"https://i.hizliresim.com/bwkem3i.png\">\n",
    "\n",
    "### 1. Her film için yurt içi ve yurt dışı satışlarını bul.\n",
    "\n",
    "<img src = \"https://i.hizliresim.com/oqjpj8e.png\">\n",
    "\n",
    "### 2. Yurt içinde değil uluslararası alanda daha başarılı olan her filmin satış rakamlarını göster.\n",
    "\n",
    "<img src = \"https://i.hizliresim.com/jrm80wr.png\">\n",
    "\n",
    "### 3. Tüm filmleri ratinglerine göre azalan sırayla listele.\n",
    "\n",
    "<img src = \"https://i.hizliresim.com/9apfpjp.png\">"
   ]
  }
 ],
 "metadata": {
  "kernelspec": {
   "display_name": "Python 3 (ipykernel)",
   "language": "python",
   "name": "python3"
  },
  "language_info": {
   "codemirror_mode": {
    "name": "ipython",
    "version": 3
   },
   "file_extension": ".py",
   "mimetype": "text/x-python",
   "name": "python",
   "nbconvert_exporter": "python",
   "pygments_lexer": "ipython3",
   "version": "3.11.1"
  }
 },
 "nbformat": 4,
 "nbformat_minor": 5
}
