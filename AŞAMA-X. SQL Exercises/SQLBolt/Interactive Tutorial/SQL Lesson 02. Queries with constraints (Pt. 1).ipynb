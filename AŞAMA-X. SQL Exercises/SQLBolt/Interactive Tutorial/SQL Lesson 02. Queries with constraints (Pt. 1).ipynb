{
 "cells": [
  {
   "cell_type": "markdown",
   "id": "13e02196",
   "metadata": {},
   "source": [
    "# SQL Lesson 2: Queries with constraints (Pt. 1)\n",
    "**SQL Ders 2: Kısıtlamalı sorgular (Part 1)**\n",
    "\n",
    "* Artık bir tablodan belirli veri sütunlarını nasıl seçeceğimizi biliyoruz, ancak yüz milyon veri satırı içeren bir tablon olsaydı, tüm satırları okumak verimsiz ve hatta belki de imkansız olurdu.\n",
    "\n",
    "* Belirli sonuçların döndürülmesini filtrelemek için, sorguda bir <code>WHERE</code> clause'u kullanmamız gerekir. Clause, sonuçlara dahil edilip edilmeyeceğini belirlemek için belirli sütun değerleri kontrol edilerek her bir veri satırına uygulanır.\n",
    "\n",
    "### Kısıtlamalı SELECT sorgusu\n",
    "\n",
    "<img src = \"https://i.hizliresim.com/f91ep3j.png\">\n",
    "\n",
    "* Çok sayıda <code>AND</code> veya <code>OR</code> mantıksal keywordü birleştirilerek daha karmaşık clauselar oluşturulabilir (örneğin num_wheels >= 4 AND doors <=2). Ve aşağıda sayısal veriler için kullanabileceğin bazı yararlı operatörler bulunmaktadır (integer veya floating point (tam sayı veya ondalıklı sayı))\n",
    "\n",
    "<img src = \"https://i.hizliresim.com/4b6gy5l.png\">\n",
    "\n",
    "* Döndürülen satır kümesini kısıtlamak için clauselar yazmak, sonuçların anlaşılmasını daha kolay hale getirmenin yanı sıra, döndürülen gereksiz verilerin azalması nedeniyle sorgunun daha hızlı çalışmasına da olanak tanır.\n",
    "\n",
    "#### Did you know?\n",
    "* Şimdiye kadar fark etmiş olabileceğin gibi, SQL, keywordleri tamamen büyük harfle yazmanı gerektirmez, ancak bir kural olarak, insanların SQL keywordlerini sütun ve tablo adlarından ayırt etmesine yardımcı olur ve sorguların okunmasını kolaylaştırır."
   ]
  },
  {
   "cell_type": "markdown",
   "id": "27bc6b28",
   "metadata": {},
   "source": [
    "## Exercise\n",
    "* Doğru kısıtlamaları kullanarak, aşağıdaki her görev için **Movies** tablosundan ihtiyacın olan bilgileri bul.\n",
    "\n",
    "### 1. Satır id'si 6 olan filmi bul.\n",
    "\n",
    "<img src = \"https://i.hizliresim.com/rrmtqfo.png\">\n",
    "<img src = \"https://i.hizliresim.com/6pdw8du.png\">\n",
    "\n",
    "### 2. 2000 ile 2010 yılları arasında vizyona giren filmleri bul.\n",
    "\n",
    "<img src = \"https://i.hizliresim.com/kjfwhi8.png\">\n",
    "\n",
    "### 3. 2000 ile 2010 yılları arasında vizyona girmeyen filmleri bul.\n",
    "\n",
    "<img src = \"https://i.hizliresim.com/rganfpf.png\">\n",
    "\n",
    "### 4. İlk 5 Pixar filmini ve onların vizyona girme yıllarını bul.\n",
    "\n",
    "<img src = \"https://i.hizliresim.com/jpi90su.png\">\n"
   ]
  }
 ],
 "metadata": {
  "kernelspec": {
   "display_name": "Python 3 (ipykernel)",
   "language": "python",
   "name": "python3"
  },
  "language_info": {
   "codemirror_mode": {
    "name": "ipython",
    "version": 3
   },
   "file_extension": ".py",
   "mimetype": "text/x-python",
   "name": "python",
   "nbconvert_exporter": "python",
   "pygments_lexer": "ipython3",
   "version": "3.11.1"
  }
 },
 "nbformat": 4,
 "nbformat_minor": 5
}
