{
 "cells": [
  {
   "cell_type": "markdown",
   "id": "7c8ecc1f",
   "metadata": {},
   "source": [
    "**NORMALİZASYON**\n",
    "* Veri türlerinin formatlarını belirlemek."
   ]
  },
  {
   "cell_type": "markdown",
   "id": "2f09903e",
   "metadata": {},
   "source": [
    "#### SSRS\n",
    "* SQL Server Reporting Services\n",
    "* Sorgulardan raporlar oluşturmak için kullanılır.\n",
    "\n",
    "#### SSMS\n",
    "* SQL Server Management Studio\n",
    "* SQL Server ile konuşmamızı sağlayan yazılım.\n",
    "\n",
    "#### SSDT\n",
    "* SQL Server Data Tools\n",
    "* Visual Studio ile entegrasyon için kullanılır.\n",
    "\n",
    "#### SQL Server failover cluster\n",
    "* Büyük kurumlarda kesintisiz hizmet vermek amacıyla kurgulanan bir yapı.\n",
    "* Eski tip sunucu mimarisinde bir makine ve diskler bulunuyordu. Makinenin başına bir şey geldiğinde diskler artık kullanılamaz hale geliyordu. Diskler sunucunun üzerinde bulunuyordu.\n",
    "* Yeni tip sunucu mimarisinde server var ancak diskler storage denen yapılar üzerinde duruyor. Hem performans için önemli hem de verinin güvenliği için önemli. Sunucuya bağlantı fiberoptik gibi bağlantılarla sağlanıyor. Bu şekilde sunucu yandığında datalara bir şey olmuyor ve kopyalanması gerekmiyor o yüzden yedek bi sunucu tutmak iyi olur.\n",
    "* Sunucu yanıp yedek sunucu başlatıldığında kayıp bu süreye düşer. Bu da yaklaşık 15-20 dakikalık bir zamandır ancak bu da kabul edilebilir olmayabilir.\n",
    "* Hayatın akışının devam etmesi, kesintinin olmaması için **failover cluster** yapısı kullanılır. İki makine birbiriyle sürekli haberleşir. Biri diğerinin gittiğini anladığında otomatik olarak hayatı kendi üzerinden devam ettirecek şekilde SQL Serveri kendi üzerinden çalıştırır.\n",
    "* Bu noktada kullanıcılar IP değiştirmek zorunda kalmasın diye sanal bir IP tanımlanır ve hangi sunucu aktifse ona bağlanırlar.\n",
    "* Bu tüm süreç için sunuculardan birinin başına bir sıkıntı geldiğinde uygulanan bu otomatik mimariye **failover cluster** denir.\n",
    "\n",
    "<img src = \"https://i.hizliresim.com/r3tqy8w.png\">\n",
    "\n",
    "#### Add node to a SQL Server failover cluster\n",
    "* Mevcuttaki bir failover cluster yapısına **node** (sunucu) eklemek için bu yapı kullanılır.\n"
   ]
  },
  {
   "cell_type": "markdown",
   "id": "349f7db8",
   "metadata": {},
   "source": [
    "### SQL Server Replication\n",
    "* Bir yerdeki sunucuyla başka bir yerdeki sunucu arasındaki veri transferidir.\n",
    "\n",
    "#### Örnek\n",
    "* Türkiyede bir mağazalar zincirin olduğunu düşün ve online olarak da satış yaptığını düşün.\n",
    "* Eğer online alım yapacaksan faturan merkezdeki ana bilgisayarda kesilir. Bu birinci yöntemdir ve bu yöntemde çok iyi bir internet altyapısı ve çok iyi bir veri merkezi altyapısı olması gerekir.\n",
    "* İkinci yöntem ise bu riskler göze alınamadığı için farklı farklı şubelere küçük küçük sunucular koymak ve işlemleri buralarda offline olarak gerçekleştirmek. Belirli zamanlarda ise şubedeki bilgileri merkeze yazdırmak, merkezdeki bilgileri de şubelere yazdırmak.\n",
    "\n",
    "<img src = \"https://i.hizliresim.com/548it9g.png\" width = 900>\n",
    "\n",
    "* Bir mağazalar zincirinde merkezden şubelere *günlük değişen fiyatlar, yeni ürünler* gibi veriler gönderilir.\n",
    "* Şubelerden merkeze de *günlük yapılan satışlar, mağazanın hareketleri* gibi veriler gönderilir.\n",
    "* Bütün bu işlemleri veritabanı sunucu bazında yaptıran ve veritabanı tabloları bazında otomatik olarak değişenleri algılattırıp karşı tarafa gönderen yapıya **SQL Server Replication** denir.\n",
    "\n",
    "<img src = \"https://i.hizliresim.com/5xega5k.png\" width = 900>\n",
    "\n",
    "* Bir de yedekleme amacıyla kullanılır. İstanbul merkezli bir sunucumuz olduğunu düşünürsek. İstanbulda veya sunucuda yaşanacak ters giden bir durumda veri kaybı gibi sorunlar olmaması için merkezdeki sunucuyu farklı illere eş zamanlı veya belirli sürelerle yedekleyerek verilerimizi koruyabiliriz."
   ]
  },
  {
   "cell_type": "markdown",
   "id": "8c3bca04",
   "metadata": {},
   "source": [
    "#### Full-Text and Semantic Extractions for Search\n",
    "* Twitter datası, kitap datası gibi büyük verilerde yatayda arama yapabilmeyi sağlayan özellik.\n",
    "* Veritabanlarında tablolar listeler halinde tutulur ve dikey bi arama yapılır o yüzden bu özelliğe ihtiyaç duyulur eğer büyük yatak verilerle çalışılacaksa."
   ]
  },
  {
   "cell_type": "markdown",
   "id": "1e3b1135",
   "metadata": {},
   "source": [
    "#### Data Quality Services\n",
    "* Elimizdeki kirli veriyi temizlemek için kullanılan yapı\n",
    "\n",
    "#### PolyBase Query Service for External Data\n",
    "* Başka veritabanları sistemlerinden T-SQL kullanarak veri çekmek için kullanılan özellik\n",
    "\n",
    "#### Analysis Services\n",
    "* Veri analizi ve iş zekası ile alakalı olarak verileri analiz etmek için kullanılan özellik\n",
    "\n",
    "#### Integration Services\n",
    "* Farklı veri kaynaklarının birbirleriyle konuşması ve toplulaştırma amacıyla eşlenmesi "
   ]
  },
  {
   "cell_type": "markdown",
   "id": "f637cc23",
   "metadata": {},
   "source": [
    "### Instance Configuration\n",
    "Örnek Yapılandırması\n",
    "\n",
    "* Bilgisayarda kurulan her bir SQL Server hizmetine **instance** denir.\n",
    "* *Default instance* bir bilgisayarda bir tane olabilir. IP ile direkt bağlanılabilir.\n",
    "* *Named instance* ile bir çok instance kurabilirsin. IPyi yazıp instance ismi ile bağlanırsın.\n",
    "\n",
    "\n",
    "### Server Configuration\n",
    "\n",
    "#### SQL Server Database Engine\n",
    "* SQL Serverin ana hizmeti\n",
    "* Kullanıcılara dokunma\n",
    "* Başlangıç türü otomatik olarak çalışsın\n",
    "\n",
    "#### SQL Server Agent\n",
    "* Otomatik ve periyodik çalışan işlemlerin takip edildiği sistem\n",
    "* Otomatik yap\n",
    "\n",
    "#### SQL Server Browser\n",
    "* Birden fazla instance varsa kullanılması gereken servis"
   ]
  },
  {
   "cell_type": "markdown",
   "id": "5443f7cc",
   "metadata": {},
   "source": [
    "### Collation\n",
    "* Mevcut collation değeri neyse aynı değerle taşı.\n",
    "* Turkish_CI_AS\n",
    "* Turkish: İSTANBUL ve istanbul birbirine eşit\n",
    "* CI: Case-insensitive: ADANA ve adana birbirine eşit eğer seçersen eşit değil\n",
    "* AS: Accent-sensitive: Ala ve Alâ birbirinden farklı"
   ]
  },
  {
   "cell_type": "markdown",
   "id": "c851fb1c",
   "metadata": {},
   "source": [
    "### Database Engine Configuration\n",
    "\n",
    "#### Server Configuration- Authentication mode\n",
    "* SQL Servera nasıl bağlanacağımızı anlattığımız yer.\n",
    "* SQL Servera bağlanmak için iki tür Auth mode var.\n",
    "    * Windows authentication mode\n",
    "        * Windows kullanıcısı, SQL Servera kullanıcı olarak tanımlanmışsa sunucuya şifre girmeden bağlanabilir.\n",
    "    * SQL Server authentication mode\n",
    "        * SQL Server kullanıcı ve password kullanarak bağlanılır.\n",
    "\n",
    "* sa: system administrator\n",
    "    * SQL Server auth için şifresini gir\n",
    "    \n",
    "* Windows auth için *Add Current User*"
   ]
  },
  {
   "cell_type": "markdown",
   "id": "99bc0d1d",
   "metadata": {},
   "source": [
    "#### Data Directories\n",
    "* SQL Server kurulumu nereye yapsın.\n",
    "* System databaseleri\n",
    "    * SQL Server kendi kendini yönetirken de databaseleri kullanır.\n",
    "        * Master\n",
    "        * Model\n",
    "        * MSDB\n",
    "        * TempDB\n",
    "* User database directory\n",
    "    * Kullanıcı veritabanı oluştururken nereye oluştursun\n",
    "* SQL Server temelde data dosyası MDF ve log dosyası LDF ile iki dosyadan oluşur.\n",
    "* Backup directory\n",
    "    * Default olarak yedekleri nereye alayım"
   ]
  },
  {
   "cell_type": "markdown",
   "id": "866e15e1",
   "metadata": {},
   "source": [
    "#### TempDB\n",
    "* Geçici tabloların oluşturulduğu **GROUP BY** ve **ORDER BY** işlemlerinin yapıldığı geçici bir sistem databasei.\n",
    "* Kaç dosyada tutayım, ilk açılışta boyutum ne kadar olsun, nasıl büyüyeyim gibi\n",
    "\n",
    "#### MaxDOP\n",
    "* Bir işlem yaparken sistem maksimum kaç CPU kullansın.\n",
    "\n",
    "#### Memory\n",
    "* Makinenin bellek alanı ne kadar olsun\n",
    "\n",
    "#### FILESTREAM\n",
    "* Word dosyası, video dosyası, JPEG dosyalarını SQL Server içinde tutabilmek için kullanılan parametre"
   ]
  },
  {
   "cell_type": "markdown",
   "id": "80c122ed",
   "metadata": {},
   "source": [
    "## Management Tools\n",
    "\n",
    "### SQL Connection\n",
    "\n",
    "**SSMS**: SQL Server veritabanı sunucusuna bağlanmak için kullandığımız arayüz.\n",
    "\n",
    "#### Connect to Server\n",
    "* **Server type**: Sunucunun türü\n",
    "* **Server name**: Sunucunun ismi\n",
    "    * Sunucu kendi makinemiz olduğu için bağlanma türleri değişir;\n",
    "        * **.** ile bağlanılabilir.\n",
    "        * **localhost** ile bağlanılabilir.\n",
    "        * **(local)** ile bağlanılabilir.\n",
    "        * Makine adı (**UCTANUCA**) ile bağlanılabilir.\n",
    "* **Authentication**: Authentication türü\n",
    "    * *Windows Authentication*: Doğrudan windowsa kayıtlı kullanıcı ile bağlanma.\n",
    "    * *SQL Server Authentication*: SQL Servera kayıtlı kullanıcı ile bağlanma\n",
    "        * SA kullanıcı adı kullanılır, şifreyi kendimiz belirledik.\n",
    "\n",
    "* Her bir makinenin network bağlantısı olsun olmasın bir IPsi vardır.\n",
    "    * 127.0.0.1 ile bağlanabilir.\n",
    "* Eğer bağlanamıyorsa ya güvenlik duvarı açıktır ya antivirüs vardır ya da SQL Server network bağlantılarına izin vermemiştir.\n",
    "\n",
    "### SQL Server Configuration Manager\n",
    "\n",
    "#### SQL Server Network Configuration\n",
    "* SQL Servera bağlanırken kullanılan temel protokoller\n",
    "* **Shared Memory**: aynı makine üzerinden bağlanmak\n",
    "* **Named Pipes**: network protokolü, linux-unix\n",
    "* **TCP/IP**: network protokolü, windows\n",
    "\n",
    "* **Network üzerinden SQL Servera bağlanacaksan SQL Server Auth kullanırsın.**"
   ]
  }
 ],
 "metadata": {
  "kernelspec": {
   "display_name": "Python 3 (ipykernel)",
   "language": "python",
   "name": "python3"
  },
  "language_info": {
   "codemirror_mode": {
    "name": "ipython",
    "version": 3
   },
   "file_extension": ".py",
   "mimetype": "text/x-python",
   "name": "python",
   "nbconvert_exporter": "python",
   "pygments_lexer": "ipython3",
   "version": "3.10.5"
  }
 },
 "nbformat": 4,
 "nbformat_minor": 5
}
