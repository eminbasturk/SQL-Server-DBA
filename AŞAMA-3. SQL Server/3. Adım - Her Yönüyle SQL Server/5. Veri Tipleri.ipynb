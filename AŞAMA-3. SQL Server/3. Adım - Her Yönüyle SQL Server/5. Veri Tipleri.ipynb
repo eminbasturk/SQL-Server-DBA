{
 "cells": [
  {
   "cell_type": "markdown",
   "id": "ad40ce3e",
   "metadata": {},
   "source": [
    "# 1. Giriş\n",
    "* SQL Server'daki en önemli konulardan birisi **veri tipleri**dir."
   ]
  },
  {
   "cell_type": "markdown",
   "id": "406b862b",
   "metadata": {},
   "source": [
    "# 2. Tamsayı Veri Tipleri\n",
    "* "
   ]
  },
  {
   "cell_type": "code",
   "execution_count": null,
   "id": "e9f064ad",
   "metadata": {},
   "outputs": [],
   "source": []
  }
 ],
 "metadata": {
  "kernelspec": {
   "display_name": "Python 3 (ipykernel)",
   "language": "python",
   "name": "python3"
  },
  "language_info": {
   "codemirror_mode": {
    "name": "ipython",
    "version": 3
   },
   "file_extension": ".py",
   "mimetype": "text/x-python",
   "name": "python",
   "nbconvert_exporter": "python",
   "pygments_lexer": "ipython3",
   "version": "3.10.5"
  }
 },
 "nbformat": 4,
 "nbformat_minor": 5
}
