{
 "cells": [
  {
   "cell_type": "markdown",
   "id": "a5c75459",
   "metadata": {},
   "source": [
    "# 1. SQL Server'da Index Kavramı\n",
    "* Bir veritabanı yönetim sisteminin bilinmesi gereken en önemli özelliklerinden biridir. **Performansa etkisi çok fazladır**.\n",
    "* Veritabanı yönetim sistemlerinin temel misyonu veriyi yönetmektir. Veriyi okumak, yazmak.\n",
    "* Genel ortalamada veritabanı yönetim sistemlerinde %95 okuma, %5 yazma yapılır. IoT'de yazma fazladır.\n",
    "* Bu durumda okuma performansını arttıracak her türlü işlem veritabanı sunucunun performansının arttırılmasında doğrudan etkili olur.\n",
    "\n",
    "## Rehber Örneği\n",
    "* Rehberler alfabetik sıraya göre A'dan Z'ye sıralanmaktadır.\n",
    "* Aranmak istenen isim seçildiğinde rehberin sayfa sayısına göre tam ortadan rehber kesilir.\n",
    "* Aranan isim sayfanın başındaki kişiyle karşılaştırıldığında büyük veya küçüklük durumuna göre rehberin yarısı atılır.\n",
    "* Bu işlem ortadan bölerek devam eder. \n",
    "* SQL Serverdaki index mantığı bu şekilde çalışır."
   ]
  },
  {
   "cell_type": "markdown",
   "id": "7d4ffa58",
   "metadata": {},
   "source": [
    "# 2. Excel Üzerinde Arama 1\n",
    "* Sıralamak istediğin sütunu seçip *Filter* ile sıralama yapabilirsin.\n",
    "* Sütunu sıraladıktan sonra rehber örneğindeki gibi iterasyon yapılarak örneğin 1000 satırlık bir veriden bir ismi 9 adımda çekebilirsin.\n",
    "* Bu algoritmaya **binary tree** denir."
   ]
  },
  {
   "cell_type": "markdown",
   "id": "53f77639",
   "metadata": {},
   "source": [
    "# 3. Excel Üzerinde Arama 2\n",
    "* Aramayı gerçekleştirmek için sıralama yaptığın sayfa index sayfası olur.\n",
    "* Bulduğun sonucu ID ile eşleştirerek ID'ye göre sıralı data sayfasından arama yapabilirsin.\n",
    "* Hızlı arama index sayfasından gerçekleştirilir, veri data sayfasından getirilir. Bu işlemin teknik adı **page lookup**dır.\n",
    "* Eğer farklı bir sütundaki farklı bir değere göre veriler aranacaksa da o sütuna page lookup yapılır.\n",
    "* Bir tabloda birden fazla index olabilir. \n",
    "* Tablodaki satırı tanımlayan ve primary key olan sütun **clustered index** anlamına gelir.\n",
    "* **Clustered index, veriyi sql'de fiziksel olarak sıraya sokan yapıdır.**\n",
    "* **Non-clustered index**, page lookup yapmak amacıyla elde edilen sütunların indexli yapısına denir."
   ]
  },
  {
   "cell_type": "markdown",
   "id": "a13b0f63",
   "metadata": {},
   "source": [
    "# 4. Büyüyen Veride Performans Hesaplama\n",
    "\n",
    "<img src = \"https://i.hizliresim.com/8lznjg4.png\" width = 700>\n",
    "\n",
    "* 5000 satırlık bir veride aranılacak satır index sayesinde en fazla 11 adımda bulunur.\n",
    "\n",
    "<img src = \"https://i.hizliresim.com/t2im6yl.png\" width = 700>\n",
    "\n",
    "* Veri 2 katına çıktığı takdirde indexli arama sadece 1 adım yavaşlar.\n",
    "\n",
    "<img src = \"https://i.hizliresim.com/1sm10r8.png\" width = 700>\n",
    "\n",
    "* Index olmasa 200.000 kat fazla işlemle bulunacak sonuç index ile sadece 3 kat daha fazla işlemle bulunur.\n",
    "\n",
    "* **Index gerçek performansını büyük veride gösterir.**\n",
    "\n",
    "* **Indexleme okumayı hızlandırır.**\n",
    "\n",
    "* **Doğru indexleme yapılırsa performans 1 milyar veride yaklaşık 30 milyon kat daha hızlı okuma yapılabilir.**\n"
   ]
  },
  {
   "cell_type": "markdown",
   "id": "a3438295",
   "metadata": {},
   "source": [
    "# 5. Index Uygulama\n",
    "* Okuma işleminin nasıl yapıldığını *Display Estimated Execution Plan* sekmesinden öğrenebilirsin.\n",
    "\n",
    "### Table Scan\n",
    "<img src = \"https://i.hizliresim.com/itbxpdd.png\" width = 700>\n",
    "\n",
    "* Table Scan, kayıtların karışık pagelerde tutulduğu ve pagelere tek tek bakılıp kayıtların tek tek arandığı en kötü, en verimsiz arama yöntemidir.\n",
    "* Eğer tabloda PRIMARY KEY yoksa bu tarama yapılır.\n",
    "\n",
    "### Clustered Index Scan\n",
    "<img src = \"https://i.hizliresim.com/jcfmaae.png\" width = 700>\n",
    "\n",
    "* Tabloda PRIMARY KEY varsa bu tarama yapılır.\n",
    "* Clustered Index, fiziken tablodaki veridelerin sıralanma ve yazılma şeklidir.\n",
    "* Her satırı tek tek kontrol eder."
   ]
  },
  {
   "cell_type": "markdown",
   "id": "ae379efe",
   "metadata": {},
   "source": [
    "#### <CODE>SET STATISTICS IO ON</CODE>\n",
    "* Okuma sayısının öğrenilebileceğin komut.\n",
    "* Sorgu yapıldıktan sonra *Messages* kısmından *logical reads* bölümü bize okumanın yapılma sayısını gösterir. Bu sayı okunan page sayısıdır.\n",
    "* Bir page 8 KB olduğundan *logical reads* ile çarpımı okumanın maaliyetini verir.\n",
    "\n",
    "#### <CODE>SP_SPACEUSED 'TABLOADI'</CODE>\n",
    "* Tablonun kapladığı alanı ve satır sayısını bulabilirsin."
   ]
  },
  {
   "cell_type": "markdown",
   "id": "3717580f",
   "metadata": {},
   "source": [
    "### Non-clustered Index Atama\n",
    "* **WHERE** ile veri çektiğinde o verinin daha hızlı gelmesini sağlayacak öneriyi yine *Display Estimated Execution Plan* sekmesinde bulabilirsin.\n",
    "* Non-clustered index oluşturma scriptini çalıştırdığın takdirde okuma işlemi daha hızlı yapılır.\n",
    "\n",
    "* Tablonun *Indexes* kısmından eklenilebileceği gibi kendi scriptimizi yazarak da eklenebilr.\n",
    "\n",
    "<img src = \"https://i.hizliresim.com/lzjqyms.png\">"
   ]
  },
  {
   "cell_type": "markdown",
   "id": "79bf01e4",
   "metadata": {},
   "source": [
    "# 6. Included Column\n",
    "\n",
    "<img src = \"https://i.hizliresim.com/nuw40mx.png\">\n",
    "\n",
    "### Index Seek\n",
    "* Binary tree yapısına göre yapılan aramanın adıdır.\n",
    "\n",
    "### Key Lookup\n",
    "* Indexe göre veri bulunduktan sonra ID'ye göre verinin getirilmesi için kullanılan yapı.\n",
    "\n",
    "#### Sadece NAMESURNAME sütununu getirdiğimizde zaten indexleme o sütuna göre yapıldığı için sadece Index Seek işlemi yapılır.\n",
    "\n",
    "<img src = \"https://i.hizliresim.com/25q0z00.png\">"
   ]
  },
  {
   "cell_type": "markdown",
   "id": "fe9302ae",
   "metadata": {},
   "source": [
    "* *Index Seek* ve *Key Lookup* işlemlerinin yapılması iki kere işlem yapıldığı için can sıkıcı olabilir. \n",
    "* Bunu daha hızlı çalıştırmak için **Included Column** kullanılabilir.\n",
    "\n",
    "### Included Column\n",
    "* ID ve indexlenecek sütunun haricinde diğer sütunlarında bulunduğu index yapısına **Included Column** denir.\n",
    "* Nonclustered index oluşturulurken **Included Column** sekmesinde diğer sütunlar seçilerek işlem gerçekleştirilir.\n",
    "\n",
    "<img src = \"https://i.hizliresim.com/5zy21hu.png\">\n",
    "\n",
    "* Sonuçta *logical reads* değeri düşer. Ancak bunun da bir maaliyeti vardır.\n",
    "\n",
    "<img src = \"https://i.hizliresim.com/48sp5as.png\">\n",
    "\n",
    "* Sadece primary key için index alanı kullanıldığında 408 KBlık küçük bir alan kullanılır.\n",
    "* Nonclustered index kullanıldığında bu alan 69560 KB'a çıkarken (ekstra olarak ID alanı ve ilgili kolon eklenir), included column eklendiğinde alan neredeyse veriye eşit olur."
   ]
  },
  {
   "cell_type": "markdown",
   "id": "6a2b4da2",
   "metadata": {},
   "source": [
    "# 7. Birden Fazla Index Kullanma\n",
    "* Yaptığın sorgulardan ulaştığın indexleme tavsiyelerine göre yeni indexler oluşturabilirsin.\n",
    "* Birden fazla ifadenin geçtiği sorgularda hangi indexlemenin kullanılacağına sistem karar verir. Maaliyeti düşük olan yol seçilir.\n",
    "* **AND** sorgusunda 1 tane index kullanıldı. **OR**'da 2 tane.\n",
    "* Indexin değeri tarih gibi birden fazla kopyası bulunabilen bir değer olduğunda indexleme önerisi **included** şeklinde olur. Key lookup yapılmaz.\n",
    "* Birden fazla ifadenin geçtiği sorgularda daha az kayıt getiren ifadenin indexi kullanılır."
   ]
  },
  {
   "cell_type": "markdown",
   "id": "b4f0b6c2",
   "metadata": {},
   "source": [
    "# 8. Unique Index\n",
    "* SQL Serverda indexin unique olduğu belirtilmediği takdirde satırı bulsa bile başka var mı diye aramaya devam eder.\n",
    "* Indexi tanımlarken unique olduğu belirtilebilir. Unique olarak belirtildikten sonra yeni bir kayıt eklendiği veya bir kayıt değiştirildiği takdirde önceden bulunan değerlerden biri kullanılamaz.\n",
    "* Ayrıca aramada bulunduktan sonra aramaya devam edilmez.\n",
    "* **Unique olan sütunlarını unique index olarak ayarla.**"
   ]
  },
  {
   "cell_type": "markdown",
   "id": "f779c988",
   "metadata": {},
   "source": [
    "# 9. Index Bozulmaları\n",
    "* Gerçekte data statik değildir, sürekli yeni kayıtlar eklenmektedir.\n",
    "* Veri fiziksel olarak primary keye göre yazılır.\n",
    "* Clustered index, bozulmasın diye, özellikle otomatik artan olarak verilir.\n",
    "* Sonradan eklenen kayıt otomatik IDsi ile eklendiği için en sona eklenir ve sıralama hiç bozulmaz.\n",
    "\n",
    "<img src = \"https://i.hizliresim.com/fkut0ja.png\" width = 500>\n",
    "\n",
    "---------\n",
    "\n",
    "* Index tarafında ise index oluşturulduğunda, index alanına göre sıralama yapılır.\n",
    "\n",
    "<img src = \"https://i.hizliresim.com/sn4m1ym.png\" width = 500>\n",
    "\n",
    "* Tablolar geri tarafta pageler halinde tutulur.\n",
    "* Binlerce olan satır 8 KBlık pagelere bölünmüş şekilde tutulur.\n",
    "\n",
    "<img src = \"https://i.hizliresim.com/hrct26m.png\" width =700>\n",
    "\n",
    "* Kayıtın boyutuna göre bir pagede farklı sayıda kayıt olabilir.\n",
    "* Yeni bir kayıt geldiğinde yeni bir page açılır ve kayıtlar yeni page'e eklenmeye devam eder.\n",
    "\n",
    "<img src = \"https://i.hizliresim.com/k2noyvg.png\" width = 700>\n",
    "\n",
    "* Index pagelerinde ise yine yeni kayıtlar yeni pagelere eklenir ancak sıralanması indexi bozuk ve sırasız bir şekilde eklenir.\n",
    "* Indexlerin önceden sıralanmış halinde indexler düzgün iken yeni eklenen kayıtlar fragmantasyona sebebiyet verir.\n",
    "* Indexler her kayıt eklendiğinde bozulur ancak bu bozulmanın süresini uzatmanın da bir yolu vardır. Bu süreyi uzatmanın nedeni sistemlerin 7/24 açık olmalarından kaynaklanır. Her fragmantasyonda bozulma yaşanabileceği için rebuild süresi uzatılır.\n",
    "\n",
    "\n",
    "<img src = \"https://i.hizliresim.com/r0vforl.png\" width = 700>\n",
    "\n",
    "* Pageler içinde fill factor denilen boşluklar oluşturularak yeni kayıtların gelmesi durumunda page içinde minik kaydırmalar ile veriler indexleri bozulmadan eklenir.\n",
    "* Bu süreç fill factorun doluluğa erişmesiyle son bulur ve index bozulur ancak o zamana kadar bize bakım için zaman kazandırır.\n",
    "* **Indexler satır satır oluşturulmaz page page oluşturulur.**"
   ]
  },
  {
   "cell_type": "markdown",
   "id": "feb6c1ff",
   "metadata": {},
   "source": [
    "# 10. Index Bozulmaları Uygulama\n",
    "* Fragmantasyonun ortadan kaldırılıp indexlerin düzeltilmesine **rebuild** denir.\n",
    "* Fragmantasyon ilgili indexin *Properties > Fragmentation* sekmesinden görülebilir.\n",
    "* Indexleme yeni yapılmışken bu değer 0'lar civarında iken eklenen kayıt sayısına göre artarak değişkenlik gösterir.\n",
    "* Properties kısmından minimum row size ve maximum row size kısımlarından bir pagein tuttuğu minimum ve maksimum satır sayısını görüntüleyebilirsin.\n",
    "* Eğer %40 üstüne çıkarsa bu değer indexler kesinlikle düzeltilmelidir.\n",
    "* Fragmantasyon durumunda arama yaparken sistem bir yere kadar sıralı olarak bakar ancak bir süre sonra sırasız olarak bakmaya devam eder.\n",
    "\n",
    "------\n",
    "\n",
    "* Bir indexi düzeltmenin iki yolu vardır.\n",
    "    * **Rebuild**\n",
    "    * **Reorganize**\n",
    "* Aralarındaki fark şudur;\n",
    "    * Eğer masanın üzerinde bir sürü kağıt olduğunu düşünürsek ve bu kayıtlar dağınık haldeyse toparlanması gerekiyorsa;\n",
    "    * Eğer masanın üzerinde hallediliyorsa bu düzeltme işlemi; **reorganize**,\n",
    "    * Eğer masanın üzeri boşaltılıp yerden tek tek kağıtlar düzeltilerek koyuluyorsa bu düzeltme işlemi; **rebuild** olarak adlandırılır.\n",
    "   \n",
    "#### Fragmantasyon %40'ın altındaysa *reorganize*, %40'ün üzerindeyse *rebuild* ama sen hep rebuild yap.   \n",
    "------\n",
    "#### Fill factor\n",
    "\n",
    "* Ancak buna gerek kalmadan ya da daha ileri bir zamanda yapmak için *Options > Fill factor* alanına doluluk oranı gir.\n",
    "* Eğer 70 girersen pagein %70ini doldurur %30unu yeni gelecek kayıtlar için boş tutar.\n",
    "* Index bozulmalarının önüne geçilir ve performans olarak geri döner.\n",
    "\n",
    "-------\n",
    "\n",
    "* Eğer fillfactor default olarak her indexlemede aynı değeri alsın istiyorsan *Server > Properties > Database Settings*'den ayarlayabilirsin."
   ]
  },
  {
   "cell_type": "markdown",
   "id": "05fb6007",
   "metadata": {},
   "source": [
    "# 11. İstatistikler\n",
    "* SQL Server performansında önemli bir yere sahiptir.\n",
    "* Eğer iki farklı kolon için indexleme yapmışsan ve bu iki kolonu where şartında AND ile getiriyorsan hangi şartta daha az kayıt varsa o indexi kullanır.\n",
    "\n",
    "<img src = \"https://i.hizliresim.com/9oh4aj3.png\">\n",
    "\n",
    "* Peki SQL Server IX1'i kullanacağını yani o indexin kolonundan daha az kayıt geleceğini nereden biliyor? Burada istatistikler devreye girer.\n",
    "* **Statistics**, Indexes klasörünün altında tutulur ve her index için bulunur.\n",
    "* Her bir index tanımlandığında veya bozulmadan rebuild edildiğinde istatistikler güncellenir.\n",
    "* Eğer istatistikler güncellenmezse sorgu hala daha az maliyetli olacağını bildiği indexi kullanır.\n",
    "* **Eğer sorgunun istediğin indexini kullanmasını istiyorsan WITH ile belirtirsin ancak pek önerilmez.**\n",
    "\n",
    "<img src = \"https://i.hizliresim.com/4u4jwio.png\" width = 500>\n",
    "\n",
    "### İstatistik güncellemenin üç yolu vardır;\n",
    "\n",
    "#### 1. Index rebuild veya reorganize edilirse istatistik güncellenir.\n",
    "* Ancak rebuild ve reorganize her zaman yapabileceğin işler değil.\n",
    "\n",
    "#### 2. <code>SP_UPDATESTATS</code>\n",
    "* Veri tabanındaki tüm tablolar için istatistikleri günceller.\n",
    "\n",
    "#### 3. <code>UPDATE STATISTICS CUSTOMERS</code>\n",
    "* Sadece update edilmek istenen tablonun istatistiklerini günceller.\n",
    "\n",
    "#### İSTATİSTİKLERİN HER GÜN GÜNCELLENMESİ GEREKİR!"
   ]
  }
 ],
 "metadata": {
  "kernelspec": {
   "display_name": "Python 3 (ipykernel)",
   "language": "python",
   "name": "python3"
  },
  "language_info": {
   "codemirror_mode": {
    "name": "ipython",
    "version": 3
   },
   "file_extension": ".py",
   "mimetype": "text/x-python",
   "name": "python",
   "nbconvert_exporter": "python",
   "pygments_lexer": "ipython3",
   "version": "3.10.5"
  }
 },
 "nbformat": 4,
 "nbformat_minor": 5
}
