{
 "cells": [
  {
   "cell_type": "markdown",
   "id": "f2bc71de",
   "metadata": {},
   "source": [
    "# 4.1_Datetime Fonksiyonları Giriş\n",
    "\n",
    "* Tarih, saat veya aynı anda ikisi üzerinde de gerçekleştirebildiğimiz fonksiyonlara denir.\n",
    "* Oldukça yoğun kullanılan fonksiyonlardır.\n",
    "* Veri tabanlarında tarih ve saatin kullanıldığı bir çok kolon vardır.\n",
    "    * Doğum tarihi, son işlem tarihi, login saati gibi.\n",
    "    * Bu tarihler üzerinde de işlem gerçekleştirebilmek için bu fonksiyonlara ihtiyaç duyarız.\n",
    "\n",
    "### En sık kullanılanlar;\n",
    "\n",
    "<img src = \"https://i.hizliresim.com/1o8eqrj.png\">\n",
    "\n",
    "* **DATEADD**: Bir tarihe bir değer eklemek için kullanılan fonksiyondur. 3 ay ekleme, 2 yıl çıkarma gibi.\n",
    "* **DATEDIFF**: İki tarih arasındaki farkı alan fonksiyondur. Yıla göre, aya göre veya güne göre alabilir.\n",
    "* **DATEFROMPARTS**: Gün, ay ve yıl sayısal değerlerini alıp tarih değişkeni üreten fonksiyondur.\n",
    "* **DATENAME**: Bir datetime türündeki verinin içindeki belirli kısımları isim olarak almamızı sağlar.\n",
    "* **DATEPART**: Bir datetime türündeki verinin içindeki belirli kısımları değer olarak almamızı sağlar.\n",
    "* **DATETIMEFROMPARTS**: Gün, ay, yıl, saat, dakika ve saniye sayısal değerlerini alıp datetime değişkeni üreten fonksiyondur.\n",
    "* **DAY**: Tarihin sadece gün bilgisini alır. DATEPART'tan daha pratiktir.\n",
    "* **MONTH**: Tarihin sadece ay bilgisini alır. DATEPART'tan daha pratiktir.\n",
    "* **YEAR**: Tarihin sadece yıl bilgisini alır. DATEPART'tan daha pratiktir.\n",
    "* **GETDATE**: SQL Serverın çalıştığı sunucunun anlık olarak tarih ve saat bilgisini döndürür.\n",
    "* **ISDATE**: Herhangi bir string değerinin tarih formatında olup olmadığı bilgisini döndürür.\n",
    "* **TIMEFROMPARTS**: Saat, dakika, saniye ve milisaniye sayısal değerlerini alıp saat değişkeni üreten fonksiyondur.\n",
    "\n",
    "Datetime fonksiyonları hakkında ayrıntılı bilgi için google'a *[t sql datetime functions](https://learn.microsoft.com/en-us/sql/t-sql/functions/date-and-time-data-types-and-functions-transact-sql?view=sql-server-ver16)* yazabilirsin.\n",
    "\n",
    "------"
   ]
  },
  {
   "cell_type": "markdown",
   "id": "fc56f11c",
   "metadata": {},
   "source": [
    "# 4.2_Anlık Tarih-Saat Bilgisini Getiren Fonksiyonlar\n",
    "\n",
    "* Aralarında bazı küçük farklılıklar olsa da aşağıdaki fonksiyonların hepsi sistemin anlık tarih-saat bilgisini getirir ancak **GETDATE** bu bağlamdaki en sık kullanılan fonksiyondur.\n",
    "\n",
    "### Kullanımı\n",
    "\n",
    "<img src = \"https://i.hizliresim.com/nn2a4el.png\" width = 400>\n",
    "\n",
    "* **<code>GETDATE</code>**: Milisaniyeye kadar getirir. DATETIME\n",
    "* **SYSDATETIME**: Mikrosaniyeye kadar getirir. DATETIME2\n",
    "* **SYSDATETIMEOFFSET**: Mikrosaniyeye kadar getirir. Ekstra olarak zaman dilimi bilgisini de getirir. DATETIME2\n",
    "* **SYSUTCDATETIME**: Mikrosaniyeye kadar Greenwiche göre getirir. DATETIME2\n",
    "* **CURRENT_TIMESTAMP**: Milisaniyeye kadar getirir. DATETIME\n",
    "* **GETUTCDATE**: Milisaniyeye kadar Greenwiche göre getirir. DATETIME\n",
    "\n",
    "### Örnek\n",
    "\n",
    "<img src = \"https://i.hizliresim.com/3vv7ssx.png\">\n",
    "\n",
    "----"
   ]
  },
  {
   "cell_type": "markdown",
   "id": "cd24ac0d",
   "metadata": {},
   "source": [
    "# 4.3_DATEPART Fonksiyonu\n",
    "\n",
    "* Bir tarih-saat verisinden belirli bölümleri integer olarak parçalamak ve almak için kullandığımız fonksiyondur.\n",
    "\n",
    "### Kullanımı\n",
    "\n",
    "<img src = \"https://i.hizliresim.com/covuu54.png\" width = 400>\n",
    "\n",
    "### Örnek\n",
    "\n",
    "* İki farklı parametre alır.\n",
    "    * Birinci parametre tarih ve saatin istediğin bir bölümü.\n",
    "    * İkinci parametre tarih-saat bilgisi\n",
    "    \n",
    "<img src = \"https://i.hizliresim.com/1d33v2f.png\">    \n",
    "\n",
    "### Diğer;\n",
    "\n",
    "<img src = \"https://i.hizliresim.com/phy6ms0.png\">\n",
    "\n",
    "----"
   ]
  },
  {
   "cell_type": "markdown",
   "id": "26961287",
   "metadata": {},
   "source": [
    "# 4.4_DATENAME Fonksiyonu\n",
    "\n",
    "* Bir tarih-saat verisinden belirli bölümleri parçalamak ve almak için kullandığımız fonksiyondur. Adı verilebilen tarihlerin adını verir. (Ay ve gün gibi)\n",
    "\n",
    "### Kullanımı\n",
    "\n",
    "<img src = \"https://i.hizliresim.com/ls30nv1.png\">\n",
    "\n",
    "### Örnek\n",
    "\n",
    "<img src = \"https://i.hizliresim.com/4wv9a96.png\">\n",
    "\n",
    "### Türkçe olsun istiyorsan;\n",
    "\n",
    "<img src = \"https://i.hizliresim.com/5etsnb7.png\">\n",
    "\n",
    "---"
   ]
  },
  {
   "cell_type": "markdown",
   "id": "dee56a1b",
   "metadata": {},
   "source": [
    "# 4.5_DATE-TIMEFROMPARTS Fonksiyonları\n",
    "\n",
    "* **DATEFROMPARTS**, içerisine yıl, ay ve gün değerlerini alarak date türünde veri döndürür.\n",
    "* **DATETIMEFROMPARTS**, içerisine yıl, ay, gün, saat, dakika, saniye ve milisaniye değerlerini alarak datetime türünde veri döndürür.\n",
    "* **TIMEFROMPARTS**, içerisinesaat, dakika, saniye ve milisaniye değerlerini alarak time türünde veri döndürür.\n",
    "\n",
    "### Kullanımı\n",
    "\n",
    "<img src = \"https://i.hizliresim.com/rd0ae9o.png\">\n",
    "\n",
    "### Örnek\n",
    "\n",
    "\n",
    "<img src = \"https://i.hizliresim.com/5iffkrt.png\">\n",
    "\n",
    "### Not\n",
    "\n",
    "* Eğer gün ve aylarda olması gereken aralığı aşarsan hata verir. (2022de şubat 29 çekmez mesela)\n",
    "* Bütün parametrelerin doldurulması gerekir.\n",
    "* TIMEFROMPARTS'ın son parametresi milisaniyenin kaç basamak olacağını söyler. Yuvarlama yapmaz hata verir. Fazla basamak olursa 0 doldurur.\n",
    "* Optik formlar gibi tarihin tek tek yazıldığı sistemlerde parçaları birleştirip date veya datetime türünde tutmak için kullanılır.\n",
    "\n",
    "\n",
    "----"
   ]
  },
  {
   "cell_type": "markdown",
   "id": "6a81cca6",
   "metadata": {},
   "source": [
    "# 4.6_DAY, MONTH, YEAR Fonksiyonları\n",
    "\n",
    "* Herhangi bir date ya da datetime türündeki verinin gün, ay veya yıl bölümlerini çekmeye yarayan fonksiyonlardır. \n",
    "* Kullanımları DATEPART ve DATENAME'den daha kolaydır.\n",
    "\n",
    "### Kullanımı\n",
    "\n",
    "<img src = \"https://i.hizliresim.com/7foetrv.png\">\n",
    "\n",
    "### Örnek\n",
    "\n",
    "<img src = \"https://i.hizliresim.com/k7rjo3h.png\">\n",
    "\n",
    "----"
   ]
  },
  {
   "cell_type": "markdown",
   "id": "32bef0fe",
   "metadata": {},
   "source": [
    "# 4.7_DATEDIFF Fonksiyonu\n",
    "\n",
    "* İki tarih arasındaki farkı almak için kullanılan fonksiyondur.\n",
    "    * Müşterinin bizden ne kadar süredir alışveriş yapmadığını belirlemek için kullanabiliriz. \n",
    "        * En satın satın alma tarihi ile bugünün tarihinin farkına bakarak.\n",
    "    * Yaşımızı öğrenmek için kullanabiliriz.\n",
    "        * Doğum tarihi ile bugünün tarihinin farkına bakarak.\n",
    "        \n",
    "### Kullanımı\n",
    "\n",
    "* Üç adet parametre alır.\n",
    "    * Birinci parametre farkın hangi zaman aralığından alınacağını belirler. (yıl, gün, saat vs.)\n",
    "    * İkinci parametre başlangıç tarihi, yani çıkarılacak tarih.\n",
    "    * Üçüncü parametre bitiş tarihi\n",
    "    \n",
    "<img src = \"https://i.hizliresim.com/gjq2fgs.png\">\n",
    "\n",
    "### Örnek\n",
    "\n",
    "<img src = \"https://i.hizliresim.com/ceuudy0.png\">\n",
    "\n",
    "---"
   ]
  },
  {
   "cell_type": "markdown",
   "id": "689cdb33",
   "metadata": {},
   "source": [
    "# 4.8_DATEADD Fonksiyonu \n",
    "\n",
    "* Bir tarihe bir zaman aralığı eklemeye (ya da çıkarmaya) yarayan fonksiyondur.\n",
    "\n",
    "### Kullanım\n",
    "\n",
    "* Üç adet parametre alır.\n",
    "    * Birinci parametre eklenecek zaman aralığının seçer.\n",
    "    * İkinci parametre ne kadar ekleneceğini seçer. (negatif ekleme yapılırsa çıkarılır)\n",
    "    * Üçünü parametre üzerine eklenilecek tarihtir.\n",
    "    \n",
    "<img src = \"https://i.hizliresim.com/2x9wl5q.png\">\n",
    "\n",
    "### Örnek\n",
    "\n",
    "<img src = \"https://i.hizliresim.com/arcpdt0.png\">\n",
    "\n",
    "----"
   ]
  },
  {
   "cell_type": "markdown",
   "id": "dd58e0f2",
   "metadata": {},
   "source": [
    "# 4.9_ISDATE Fonksiyonu\n",
    "\n",
    "* Bir fonksiyonun başında IS varsa muhtemelen öyle mi değil mi diye kontrol ediliyordur.\n",
    "* ISDATE, içine alınan değerin tarih olup olmadığını döndürür.\n",
    "\n",
    "### Kullanımı\n",
    "\n",
    "<img src = \"https://i.hizliresim.com/onlfwvb.png\">\n",
    "\n",
    "### Örnek\n",
    "\n",
    "<img src = \"https://i.hizliresim.com/21b65uj.png\">\n",
    "\n",
    "### Not\n",
    "\n",
    "* YILAYGÜN şeklindeki peşpeşe bir kullanım hiçbir SQL bağlantısında sıkıntı çıkarmaz.\n",
    "* Bir veri ekleyeceğimiz zaman tarih değilse yani formata uygun değilse atma gibi bir kontrol sağlayabiliriz.\n",
    "\n",
    "----"
   ]
  },
  {
   "cell_type": "markdown",
   "id": "20c2cb09",
   "metadata": {},
   "source": [
    "# 4.10_Alıştırmalar 1\n",
    "\n",
    "### Soru\n",
    "\n",
    "<img src = \"https://i.hizliresim.com/rewlsey.png\">\n",
    "\n",
    "### Çözüm\n",
    "\n",
    "<img src = \"https://i.hizliresim.com/94tyvwi.png\">"
   ]
  },
  {
   "cell_type": "markdown",
   "id": "46f98b6b",
   "metadata": {},
   "source": [
    "# 4.11_Alıştırmalar 2\n",
    "\n",
    "### Soru\n",
    "\n",
    "<img src = \"https://i.hizliresim.com/cxuecl8.png\">\n",
    "\n",
    "### Çözüm\n",
    "\n",
    "<img src = \"https://i.hizliresim.com/adh88o1.png\">"
   ]
  },
  {
   "cell_type": "markdown",
   "id": "1389b146",
   "metadata": {},
   "source": [
    "# 4.12_Alıştırmalar 3\n",
    "\n",
    "### Soru\n",
    "\n",
    "<img src = \"https://i.hizliresim.com/glj6tws.png\">\n",
    "\n",
    "### Çözüm\n",
    "\n",
    "<img src = \"https://i.hizliresim.com/b4eprb4.png\">\n",
    "\n",
    "### Not \n",
    "\n",
    "WHERE şartında direkt tarihi eşitlemek yerine BETWEEN kullanarak stringler üzerinde aratırsan daha hızlı sonuç alırsın."
   ]
  },
  {
   "cell_type": "markdown",
   "id": "e8322caa",
   "metadata": {},
   "source": [
    "# 4.13_Alıştırmalar 4\n",
    "\n",
    "### Soru\n",
    "\n",
    "<img src = \"https://i.hizliresim.com/5t8nuy3.png\">\n",
    "\n",
    "### Çözüm\n",
    "\n",
    "<img src = \"https://i.hizliresim.com/knpv90n.png\">"
   ]
  },
  {
   "cell_type": "markdown",
   "id": "66391f83",
   "metadata": {},
   "source": [
    "# 4.14_Alıştırmalar 5\n",
    "\n",
    "### Soru\n",
    "\n",
    "<img src = \"https://i.hizliresim.com/ba6fydr.png\">\n",
    "\n",
    "### Çözüm\n",
    "\n",
    "<img src = \"https://i.hizliresim.com/9gz6msp.png\">"
   ]
  },
  {
   "cell_type": "markdown",
   "id": "4d35e55c",
   "metadata": {},
   "source": [
    "# 4.15_Alıştırmalar 6\n",
    "\n",
    "### Soru\n",
    "\n",
    "<img src = \"https://i.hizliresim.com/kun3zyc.png\">\n",
    "\n",
    "### Çözüm\n",
    "\n",
    "<img src = \"https://i.hizliresim.com/58a5agb.png\">"
   ]
  },
  {
   "cell_type": "markdown",
   "id": "542909bf",
   "metadata": {},
   "source": [
    "# 4.16_Alıştırmalar 7\n",
    "\n",
    "### Soru\n",
    "\n",
    "<img src = \"https://i.hizliresim.com/sugywhj.png\">\n",
    "\n",
    "### Çözüm\n",
    "\n",
    "<img src = \"https://i.hizliresim.com/348ehtu.png\">"
   ]
  },
  {
   "cell_type": "markdown",
   "id": "7823374a",
   "metadata": {},
   "source": [
    "# 4.17_Alıştırmalar 8\n",
    "\n",
    "### Soru\n",
    "\n",
    "<img src = \"https://i.hizliresim.com/pktu7j0.png\">\n",
    "\n",
    "### Çözüm\n",
    "\n",
    "<img src = \"\">"
   ]
  },
  {
   "cell_type": "markdown",
   "id": "403f8028",
   "metadata": {},
   "source": [
    "# 4.18_Alıştırmalar 9\n",
    "\n",
    "### Soru\n",
    "\n",
    "<img src = \"\">\n",
    "\n",
    "### Çözüm\n",
    "\n",
    "<img src = \"\">"
   ]
  }
 ],
 "metadata": {
  "kernelspec": {
   "display_name": "Python 3 (ipykernel)",
   "language": "python",
   "name": "python3"
  },
  "language_info": {
   "codemirror_mode": {
    "name": "ipython",
    "version": 3
   },
   "file_extension": ".py",
   "mimetype": "text/x-python",
   "name": "python",
   "nbconvert_exporter": "python",
   "pygments_lexer": "ipython3",
   "version": "3.11.1"
  }
 },
 "nbformat": 4,
 "nbformat_minor": 5
}
