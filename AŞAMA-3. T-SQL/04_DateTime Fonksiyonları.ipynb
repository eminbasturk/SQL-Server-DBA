{
 "cells": [
  {
   "cell_type": "markdown",
   "id": "f2bc71de",
   "metadata": {},
   "source": [
    "# 4.1_Datetime Fonksiyonları Giriş\n",
    "\n",
    "* Tarih, saat veya aynı anda ikisi üzerinde de gerçekleştirebildiğimiz fonksiyonlara denir.\n",
    "* Oldukça yoğun kullanılan fonksiyonlardır.\n",
    "\n",
    "<img src = \"https://i.hizliresim.com/1o8eqrj.png\">"
   ]
  }
 ],
 "metadata": {
  "kernelspec": {
   "display_name": "Python 3 (ipykernel)",
   "language": "python",
   "name": "python3"
  },
  "language_info": {
   "codemirror_mode": {
    "name": "ipython",
    "version": 3
   },
   "file_extension": ".py",
   "mimetype": "text/x-python",
   "name": "python",
   "nbconvert_exporter": "python",
   "pygments_lexer": "ipython3",
   "version": "3.11.1"
  }
 },
 "nbformat": 4,
 "nbformat_minor": 5
}
