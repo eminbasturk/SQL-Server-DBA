{
 "cells": [
  {
   "cell_type": "markdown",
   "id": "45d29479",
   "metadata": {},
   "source": [
    "# 2.1_Kurulum\n",
    "\n",
    "### Sanal Makine Kavramı\n",
    "* Fiziksel bir işletim sisteminin içinde başka işletim sistemlerinin de gerçek birer bilgisayar gibi çalıştırılması kavramıdır.\n",
    "\n",
    "#### Fiziksel Server\n",
    "\n",
    "<img src = \"https://i.hizliresim.com/spjqbr0.png\">\n",
    "\n",
    "* Eskiden şirketlerde fiziksel olarak bir sunucu bulunurdu.\n",
    "* Bu sunucu evlerdeki bilgisayarların biraz daha gelişmiş halleridir.\n",
    "* Bu tür sunucularda her bir uygulama için aynı sunucu ve aynı işletim sistemi kullanılırdı.\n",
    "* Bu noktada bu süreç bütün yumurtaları tek bir sepete koymak gibiydi.\n",
    "* Örneğin File Server'a virüslü bir dosya geldi ve buraya bulaştı. Devamında bütün sunucu aynı işletim sistemini kullandığı için diğer bütün uygulamalara bu virüs bulaşırdı.\n",
    "* Bir başka örnekte mesela Application Server'da bir SAP programı kullanıyorsun ve upgrade yapman gerekiyor. Upgrade ettikten sonra da restart gerekiyor diyelim. Bu restart sadece Application Serveri etkilemez, diğer uygulamaların da restart edilmesi gerekir.\n",
    "\n",
    "<img src = \"https://i.hizliresim.com/dafb9gp.png\">\n",
    "\n",
    "* Daha sonra her uygulamanın farklı sunucuda bulunduğu yukarıdaki modele geçildi.\n",
    "* Bu türde herhangi bir uygulamada sorun çıksa diğeri etkilenmiyordu.\n",
    "* Ancak bunda da şöyle bir sıkıntı vardı.\n",
    "* Bunların hepsi fiziksel bir makine ve hepsinin bir kapasitesi var. \n",
    "    * Diyelim bütün sunucular aynı CPU ve aynı RAM ile kuruldu.\n",
    "    * 1 sene sonra Web Server'in bulunduğu sunucu onun için fazla iken, Database Server'in bulunduğu sunucu onun için az bir konuma gelmiş olabilir.\n",
    "    * Bu noktada keşke bütün sunucuların kaynakları birlikte yönetilebilse diye bir düşünce ortaya çıktı.\n",
    "\n",
    "<img src = \"https://i.hizliresim.com/93ebwbw.png\">\n",
    "\n",
    "* **Sanallaştırma** teknolojisinde tek bir güçlü fiziksel sunucu var ve farklı farklı sanal işletim sistemleri kurularak birbirlerinden izole şekilde çalışmaya devam edebiliyorlar. Kaynaklar da kaynak havuzundan makinelere dağıtılabiliyor.\n",
    "\n",
    "### Popüler Sanallaştırma Ürünleri\n",
    "\n",
    "<img src = \"https://i.hizliresim.com/askfr88.png\">\n",
    "\n",
    "---"
   ]
  },
  {
   "cell_type": "markdown",
   "id": "2603851b",
   "metadata": {},
   "source": [
    "# 2.2_Vmware Kurulumu\n",
    "\n",
    "* Google'a **vmware workstation player** yazıp aratarak setup dosyasını download edip kurabilirsin.\n",
    "\n",
    "---"
   ]
  },
  {
   "cell_type": "markdown",
   "id": "6ececa25",
   "metadata": {},
   "source": [
    "# 2.3_Windows Server 2019 Kurulum-1\n",
    "\n",
    "* Vmware kurulup sanal makineye CPU ve RAM atadıktan sonra google'a **windows server 2019 iso download** yazarak microsoft sitesinden işletim sistemini kurmak için gerekli iso dosyasını indirebilirsin.\n",
    "* Kurulumda sanallaştırma teknolojisi hatası alırsan BIOS'da teknolojiyi **Enabled** hale getirmen gerekiyor.\n",
    "\n",
    "---"
   ]
  },
  {
   "cell_type": "markdown",
   "id": "3eb80f60",
   "metadata": {},
   "source": [
    "# 2.4_Windows Server 2019 Kurulum-2\n",
    "\n",
    "* **Ctrl + Alt** ile imleci sanal makineden kendi makinene alabilirsin.\n",
    "\n",
    "---"
   ]
  },
  {
   "cell_type": "markdown",
   "id": "cee7062d",
   "metadata": {},
   "source": [
    "# 2.5_VMWare Tools Kurulumu\n",
    "* Tam ekran yapma, dosya kopyalama vs için gerekli.\n",
    "* Player -> Manage -> Install VMWare Tools\n",
    "    * This PC'den kurabilirsin.\n",
    "* Sanal makineye chrome indirebilmek için Server Manager'da Local Server'dan IE Enhanced Security Configuration kısmını Off haline getirerek chrome'u indirebilirsin.\n",
    "* Google'a **microsoft sql server 2019 download** yazarak **Developer** sürümünü indirebilirsin.\n",
    "\n",
    "---"
   ]
  },
  {
   "cell_type": "markdown",
   "id": "f0182abd",
   "metadata": {},
   "source": [
    "# 2.6_ SQL Server Kurulum-1\n",
    "\n",
    "* Bilgisayarın adını da SQLEgitim olarak değiştir.\n",
    "* Önceki kurumlardakiyle benzer şeyler.\n",
    "\n",
    "---"
   ]
  },
  {
   "cell_type": "markdown",
   "id": "b89d2f54",
   "metadata": {},
   "source": [
    "# 2.7_SQL Server Kurulum-2\n",
    "* instance, bir makine üzerinde çalışan SQL Server'in kendisidir. \n",
    "* Birden fazla çalıştırılabilir. Bir tanesi default olur.\n",
    "* **SQL Server Database Engine**, SQL Server'in kendisidir.\n",
    "* **SQL Server Agent**, otomatik ve periyodik olarak çalışan yapıları kontrol eden hizmet.\n",
    "* **SQL Server Browser**, farklı instanceların hangi port üzerinde çalıştığı bilgisini veren hizmet.\n",
    "\n",
    "---"
   ]
  },
  {
   "cell_type": "markdown",
   "id": "9730b65d",
   "metadata": {},
   "source": [
    "# 2.8_Management Studio Kurulumu\n",
    "* Google'dan **sql server management studio download** diyerek kurabilirsin."
   ]
  }
 ],
 "metadata": {
  "kernelspec": {
   "display_name": "Python 3 (ipykernel)",
   "language": "python",
   "name": "python3"
  },
  "language_info": {
   "codemirror_mode": {
    "name": "ipython",
    "version": 3
   },
   "file_extension": ".py",
   "mimetype": "text/x-python",
   "name": "python",
   "nbconvert_exporter": "python",
   "pygments_lexer": "ipython3",
   "version": "3.11.1"
  }
 },
 "nbformat": 4,
 "nbformat_minor": 5
}
