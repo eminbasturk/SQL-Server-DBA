{
 "cells": [
  {
   "cell_type": "markdown",
   "id": "704bde20",
   "metadata": {},
   "source": [
    "# 8.1_Şart Blokları Giriş\n",
    "\n",
    "Eğer bir şart sağlanıyorsa şu işlem gerçekleşsin, sağlanmıyorsa bu işlem gerçekleşsin.\n",
    "\n",
    "### T-SQL'de Şart Komutları\n",
    "\n",
    "* **IF**, şu şart sağlanıyorsa şu işlem gerçekleşsin, **ELSE**, sağlanmıyorsa bu işlem gerçekleşsin. T-SQL komutları varken kullanılır. Sorgu içerisinde doğrudan kullanılamaz.\n",
    "* **CASE-WHEN**, SQL cümlelerinin içerisinde kullanılır. Birden fazla şart değerlendirilebilir.\n",
    "* **IIF**, CASE-WHEN'in benzeridir. SQL cümlelerinin içerisinde kullanılır. İki durum söz konusudur.\n",
    "\n",
    "---"
   ]
  },
  {
   "cell_type": "markdown",
   "id": "dccff71f",
   "metadata": {},
   "source": [
    "# 8.2_IF Bloğu\n",
    "\n",
    "### Kullanım\n",
    "\n",
    "<img src= \"https://i.hizliresim.com/aw9mtp9.png\">\n",
    "\n",
    "* *EXAMRESULT* değişkeni int olarak 70 değeri ile tanımlanmış, *STATUS* değişkeni varchar olarak tanımlanmış.\n",
    "* Eğer EXAMRESULT değişkeninin değeri 60'dan büyük ise *STATUS* değişkenine 'BAŞARILI' değeri atanacak, eşit ya da küçük ise 'BAŞARISIZ' değeri atanacak.\n",
    "\n",
    "### Not\n",
    "\n",
    "* **IF** bloğu sadece 1 satırlık işleme izin verir. Eğer birden fazla işlem yapacaksan bloğu açtıktan sonra **BEGIN-END** bloğunu da açman gerekir. **ELSE** için de kullanılabilir.\n",
    "* Birden fazla koşul koymak istiyorsan **ELSE**'den sonra bir **IF** bloğu daha açabilirsin. İç içe de yapılabilir.\n",
    "\n",
    "---"
   ]
  },
  {
   "cell_type": "markdown",
   "id": "86858293",
   "metadata": {},
   "source": [
    "# 8.3_CASE WHEN Bloğu\n",
    "\n",
    "### Kullanım\n",
    "\n",
    "<img src = \"https://i.hizliresim.com/ohk65vh.png\">\n",
    "\n",
    "* *AGE* kolonu şart olarak kullanılıyor. Eğer 35'den küçük ise 'GENÇ', 55'den büyük ise 'YAŞLI', arada kalan alanda ise de 'ORTA YAŞLI' olarak değer veriliyor.\n",
    "* <code>**CASE**</code> ile başlayıp <code>**END**</code> ile sonlanması gerekiyor, daha sonra alias verebiliyorsun.\n",
    "* <code>**WHEN** şart **THEN** değer</code> şeklinde ilerleyen bir yapı var.\n",
    "\n",
    "### Örnek\n",
    "\n",
    "<img src = \"https://i.hizliresim.com/3zbm3er.png\">\n",
    "\n",
    "### Not\n",
    "\n",
    "* CASE-WHEN bloğunda **ELSE** kullanarak şartların dışında kalan tüm verilere bir değer ataması yapabilirsin.\n",
    "\n",
    "---"
   ]
  },
  {
   "cell_type": "markdown",
   "id": "984a6ff4",
   "metadata": {},
   "source": [
    "# 8.4_IIF Bloğu\n",
    "\n",
    "* CASE-WHEN gibi SQL cümleleri içerisinde kullanılabilen bir komuttur.\n",
    "* IIF'de yalnızca tek bir şartın iki sonucuna göre hareket eder.\n",
    "\n",
    "### Kullanım\n",
    "\n",
    "<img src = \"https://i.hizliresim.com/juoahuw.png\">\n",
    "\n",
    "---"
   ]
  },
  {
   "cell_type": "markdown",
   "id": "7b0684f8",
   "metadata": {},
   "source": [
    "# 8.5_Alıştırmalar 1\n",
    "\n",
    "### Soru\n",
    "\n",
    "<img src = \"https://i.hizliresim.com/neh8h1o.png\">\n",
    "\n",
    "### Cevap\n",
    "\n",
    "<img src = \"https://i.hizliresim.com/dpcr9tl.png\">\n",
    "\n",
    "### Benim\n",
    "\n",
    "<img src = \"https://i.hizliresim.com/rd47kbd.png\">\n",
    "\n",
    "---"
   ]
  },
  {
   "cell_type": "markdown",
   "id": "a5a67492",
   "metadata": {},
   "source": [
    "# 8.6_Alıştırmalar 2\n",
    "\n",
    "### Soru\n",
    "\n",
    "<img src = \"https://i.hizliresim.com/81gokhz.png\">\n",
    "\n",
    "### Cevap\n",
    "\n",
    "<img src = \"https://i.hizliresim.com/ra58x07.png\">\n",
    "\n",
    "### Not\n",
    "\n",
    "* CASE-WHENi doğrudan GROUP BY içerisine yazmana gerek yok. Sadece koşul ifadesini yazsan yeter.\n",
    "\n",
    "### IIF ile iki durumlu\n",
    "\n",
    "<img src = \"https://i.hizliresim.com/8a1840o.png\">\n",
    "\n",
    "\n",
    "---"
   ]
  },
  {
   "cell_type": "markdown",
   "id": "274ad289",
   "metadata": {},
   "source": [
    "# 8.7_Alıştırmalar 3\n",
    "\n",
    "### Soru\n",
    "\n",
    "<img src = \"https://i.hizliresim.com/p4tcmrs.png\">\n",
    "\n",
    "### Cevap\n",
    "\n",
    "<img src = \"https://i.hizliresim.com/junqgfd.png\">\n"
   ]
  }
 ],
 "metadata": {
  "kernelspec": {
   "display_name": "Python 3 (ipykernel)",
   "language": "python",
   "name": "python3"
  },
  "language_info": {
   "codemirror_mode": {
    "name": "ipython",
    "version": 3
   },
   "file_extension": ".py",
   "mimetype": "text/x-python",
   "name": "python",
   "nbconvert_exporter": "python",
   "pygments_lexer": "ipython3",
   "version": "3.11.1"
  }
 },
 "nbformat": 4,
 "nbformat_minor": 5
}
