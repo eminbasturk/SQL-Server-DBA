{
 "cells": [
  {
   "cell_type": "markdown",
   "id": "704bde20",
   "metadata": {},
   "source": [
    "# 8.1_Şart Blokları Giriş\n",
    "\n",
    "Eğer bir şart sağlanıyorsa şu işlem gerçekleşsin, sağlanmıyorsa bu işlem gerçekleşsin.\n",
    "\n",
    "### T-SQL'de Şart Komutları\n",
    "\n",
    "* **IF**, şu şart sağlanıyorsa şu işlem gerçekleşsin, **ELSE**, sağlanmıyorsa bu işlem gerçekleşsin. T-SQL komutları varken kullanılır. Sorgu içerisinde doğrudan kullanılamaz.\n",
    "* **CASE-WHEN**, SQL cümlelerinin içerisinde kullanılır. Birden fazla şart değerlendirilebilir.\n",
    "* **IIF**, CASE-WHEN'in benzeridir. SQL cümlelerinin içerisinde kullanılır. İki durum söz konusudur.\n",
    "\n",
    "---"
   ]
  },
  {
   "cell_type": "markdown",
   "id": "dccff71f",
   "metadata": {},
   "source": [
    "# 8.2_IF Bloğu\n",
    "\n",
    "### Kullanım\n",
    "\n",
    "<img src= \"https://i.hizliresim.com/aw9mtp9.png\">\n",
    "\n",
    "* *EXAMRESULT* değişkeni int olarak 70 değeri ile tanımlanmış, *STATUS* değişkeni varchar olarak tanımlanmış.\n",
    "* Eğer EXAMRESULT değişkeninin değeri 60'dan büyük ise *STATUS* değişkenine 'BAŞARILI' değeri atanacak, eşit ya da küçük ise 'BAŞARISIZ' değeri atanacak.\n",
    "\n",
    "### Not\n",
    "\n",
    "* **IF** bloğu sadece 1 satırlık işleme izin verir. Eğer birden fazla işlem yapacaksan bloğu açtıktan sonra **BEGIN-END** bloğunu da açman gerekir. **ELSE** için de kullanılabilir.\n",
    "* Birden fazla koşul koymak istiyorsan **ELSE**'den sonra bir **IF** bloğu daha açabilirsin. İç içe de yapılabilir.\n",
    "\n",
    "---"
   ]
  }
 ],
 "metadata": {
  "kernelspec": {
   "display_name": "Python 3 (ipykernel)",
   "language": "python",
   "name": "python3"
  },
  "language_info": {
   "codemirror_mode": {
    "name": "ipython",
    "version": 3
   },
   "file_extension": ".py",
   "mimetype": "text/x-python",
   "name": "python",
   "nbconvert_exporter": "python",
   "pygments_lexer": "ipython3",
   "version": "3.11.1"
  }
 },
 "nbformat": 4,
 "nbformat_minor": 5
}
