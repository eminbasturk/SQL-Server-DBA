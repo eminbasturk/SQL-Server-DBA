{
 "cells": [
  {
   "cell_type": "markdown",
   "id": "2b63ba46",
   "metadata": {},
   "source": [
    "# 7.1_T-SQL Programlamaya Giriş\n",
    "\n",
    "Diğer tüm programlama dillerinde yapılabilecek hemen her şey T-SQL'de yapılabilir.\n",
    "Bu işlemler arasında;\n",
    "* **Değişkenler**; değişken tanımlama, değer atama, veritabanı sorgusundan gelen veriyi değişkene atama \n",
    "* **Şart blokları**; bir şart sağlanıyor ise şu işlemi yap\n",
    "* **Döngüler**; bir işlemi belli bir sayıda tekrar ederek yaptır\n",
    "* **Hata yönetimi**; herhangi bir hata ile karşılaşıldığında bir takım işlemler gerçekleştirme vs\n",
    "* **Cursor kavramı**; bir takım işlemleri döngüyle gerçekleştirme, müşteri tablosundaki her bir müşteri için satır satır dönerek işlem gerçekleştir, sorgudan dönen veriler içinde döngü\n",
    "\n",
    "----"
   ]
  },
  {
   "cell_type": "markdown",
   "id": "c794409e",
   "metadata": {},
   "source": [
    "# 7.2_T-SQL'de Değişkenler Giriş\n",
    "\n",
    "Bir işlem gerçekleştireceğin zaman o değeri tekrar tekrar kullanmak için bir değişken tanımlayıp içine atarsın.\n",
    "\n",
    "Değişken altbaşlıkları;\n",
    "\n",
    "* Değişken kavramı\n",
    "* Değişken tanımlama\n",
    "* Değişkene değer atama\n",
    "* Varsayılan değer tanımlama\n",
    "* Değişkenden değer okuma\n",
    "* SQL sorgusundan gelen değerden değişkene değer atama\n",
    "* SQL sorgusu içinde değişkenleri kulanma\n",
    "    \n",
    "----"
   ]
  },
  {
   "cell_type": "markdown",
   "id": "6abaff57",
   "metadata": {},
   "source": [
    "# 7.3_Değişkene Değer Tanımlama (Integer)\n",
    "\n",
    "T-SQL'de bir değişken **DECLARE** komutu ile **@** işaretiyle değişkene bir isim ve bir de tip verilerek tanımlanır.\n",
    "\n",
    "<img src = \"https://i.hizliresim.com/aijenv5.png\">\n",
    "\n",
    "### Örnek\n",
    "Değişkenler ile işlemler yaparak değişkene değer atama\n",
    "\n",
    "<img src = \"https://i.hizliresim.com/dvxfl0i.png\">\n",
    "\n",
    "### Not\n",
    "* **NULL** bir değer ile matematiksel bir değer işleme girerse **NULL** döner.\n",
    "\n",
    "## Default Değer Tanımlama\n",
    "\n",
    "<img src = \"https://i.hizliresim.com/jrzh4qn.png\">\n",
    "\n",
    "* Default olarak tanımlandıktan sonra **SET** ile tekrar değer atama yapılırsa atanan son değer değişkenin değeridir.\n",
    "\n",
    "----"
   ]
  },
  {
   "cell_type": "markdown",
   "id": "54a4e186",
   "metadata": {},
   "source": [
    "# 7.4_Değişkene Değer Tanımlama (Varchar)\n",
    "\n",
    "* Değişkenler **VARCHAR** türünde de tanımlanabilir ve üzerinde işlemler yapılabilir.\n",
    "* Değişkenler üzerinde fonksiyonlar kullanılabilir.\n",
    "\n",
    "<img src = \"https://i.hizliresim.com/e8xdv5d.png\">\n",
    "\n",
    "* **NULL** bir değer ile string bir değer işleme girerse yine **NULL** döner. Ancak **CONCAT** ile NULL dönmemesini sağlayabilirsin.\n",
    "\n",
    "---"
   ]
  },
  {
   "cell_type": "markdown",
   "id": "cd6b412c",
   "metadata": {},
   "source": [
    "# 7.5_Değişkene Değer Tanımlama (Datetime)\n",
    "\n",
    "* Doğum tarihi bilinen birinin 28 ay önceki yaşı\n",
    "\n",
    "<img src = \"https://i.hizliresim.com/h1w68kd.png\">\n",
    "\n",
    "* Bir tarih saat değişkeninin aralıklarını farklı değişkenlere atama\n",
    "\n",
    "<img src = \"https://i.hizliresim.com/cw9foun.png\">\n",
    "\n",
    "---"
   ]
  },
  {
   "cell_type": "markdown",
   "id": "b495097d",
   "metadata": {},
   "source": [
    "# 7.6_SQL Sorgusundan Gelen Değeri Değişkene Atama\n",
    "\n",
    "* SQL sorgusundan gelen tek bir değeri değişkene atamak için iki farklı yol vardır.\n",
    "* Ya değişkeni tanımlayıp doğrudan sorgunun içinde atama yaparsın;\n",
    "\n",
    "<img src = \"https://i.hizliresim.com/o11rk9s.png\">\n",
    "\n",
    "* Ya da dönen tekli değeri **SET** ile değişkene atarsın;\n",
    "\n",
    "<img src = \"https://i.hizliresim.com/9lqiwn5.png\">\n",
    "\n",
    "### Sorgudan birden fazla değer dönüyorsa;\n",
    "\n",
    "* Bu durumda **SET** ile atama yaptığımız yöntem pek kullanışlı olmaz çünkü SQL sorgularını tekrar tekrar yazmayı gerektirir.\n",
    "\n",
    "<img src = \"https://i.hizliresim.com/d4hn97d.png\">\n",
    "\n",
    "----"
   ]
  },
  {
   "cell_type": "markdown",
   "id": "3d8f4805",
   "metadata": {},
   "source": [
    "# 7.7_SQL Sorgusuna Parametre Gönderme\n",
    "\n",
    "* T-SQL'de tanımladığın bir değişkeni SQL sorgularında koşul parametresi olarak kullanabilirsin.\n",
    "\n",
    "<img src = \"https://i.hizliresim.com/a20c5w5.png\">\n",
    "\n",
    "---"
   ]
  },
  {
   "cell_type": "markdown",
   "id": "37a3a160",
   "metadata": {},
   "source": [
    "# 7.8_Alıştırmalar 1\n",
    "\n",
    "### Soru\n",
    "\n",
    "T-SQL ile tanımlanan iki sayının toplamını, farkını, çarpımını ve birbirine olan bölme işlemlerini gerçekleştiriniz.\n",
    "\n",
    "### Cevap\n",
    "\n",
    "<img src = \"https://i.hizliresim.com/l8ugjo6.png\">\n",
    "\n",
    "### Not\n",
    "\n",
    "* Bölme işleminde iki int bölündüğünde değişkeni float olarak tanımlasan bile int elde edersin. İki int değerinin sonucunda float değer elde edebilmek için herhangi bir değişkeni floata dönüştürmen gerekir."
   ]
  },
  {
   "cell_type": "markdown",
   "id": "29080951",
   "metadata": {},
   "source": [
    "# 7.9_Alıştırmalar 2\n",
    "\n",
    "### Soru\n",
    "\n",
    "<img src = \"https://i.hizliresim.com/fa5iezx.png\">\n",
    "\n",
    "### Cevap\n",
    "\n",
    "<img src = \"https://i.hizliresim.com/75mtxju.png\">\n",
    "\n",
    "---"
   ]
  },
  {
   "cell_type": "markdown",
   "id": "b9260b19",
   "metadata": {},
   "source": [
    "# 7.10_Alıştırmalar 3\n",
    "\n",
    "### Soru\n",
    "\n",
    "<img src = \"https://i.hizliresim.com/gbjxlzf.png\">\n",
    "\n",
    "### Cevap\n",
    "\n",
    "<img src = \"https://i.hizliresim.com/pvjxnhg.png\">\n",
    "\n",
    "---"
   ]
  },
  {
   "cell_type": "markdown",
   "id": "1342ba2b",
   "metadata": {},
   "source": [
    "# 7.11_Alıştırmalar 4\n",
    "\n",
    "### Soru\n",
    "\n",
    "<img src = \"https://i.hizliresim.com/m1dw9ti.png\">\n",
    "\n",
    "### Cevap\n",
    "\n",
    "<img src = \"https://i.hizliresim.com/m0b4rrh.png\">\n",
    "\n",
    "#### Benim anladığım\n",
    "\n",
    "<img src = \"https://i.hizliresim.com/s8us6ke.png\">\n",
    "\n",
    "---"
   ]
  },
  {
   "cell_type": "markdown",
   "id": "593dc742",
   "metadata": {},
   "source": [
    "# 7.12_Alıştırmalar 5\n",
    "\n",
    "### Soru\n",
    "\n",
    "<img src = \"https://i.hizliresim.com/63dvt1u.png\">\n",
    "\n",
    "### Cevap\n",
    "\n",
    "<img src = \"https://i.hizliresim.com/gc7uu8d.png\">\n"
   ]
  }
 ],
 "metadata": {
  "kernelspec": {
   "display_name": "Python 3 (ipykernel)",
   "language": "python",
   "name": "python3"
  },
  "language_info": {
   "codemirror_mode": {
    "name": "ipython",
    "version": 3
   },
   "file_extension": ".py",
   "mimetype": "text/x-python",
   "name": "python",
   "nbconvert_exporter": "python",
   "pygments_lexer": "ipython3",
   "version": "3.11.1"
  }
 },
 "nbformat": 4,
 "nbformat_minor": 5
}
