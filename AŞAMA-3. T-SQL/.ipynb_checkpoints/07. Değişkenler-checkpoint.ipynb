{
 "cells": [
  {
   "cell_type": "markdown",
   "id": "2b63ba46",
   "metadata": {},
   "source": [
    "# 7.1_T-SQL Programlamaya Giriş\n",
    "\n",
    "Diğer tüm programlama dillerinde yapılabilecek hemen her şey T-SQL'de yapılabilir.\n",
    "Bu işlemler arasında;\n",
    "* **Değişkenler**; değişken tanımlama, değer atama, veritabanı sorgusundan gelen veriyi değişkene atama \n",
    "* **Şart blokları**; bir şart sağlanıyor ise şu işlemi yap\n",
    "* **Döngüler**; bir işlemi belli bir sayıda tekrar ederek yaptır\n",
    "* **Hata yönetimi**; herhangi bir hata ile karşılaşıldığında bir takım işlemler gerçekleştirme vs\n",
    "* **Cursor kavramı**; bir takım işlemleri döngüyle gerçekleştirme, müşteri tablosundaki her bir müşteri için satır satır dönerek işlem gerçekleştir, sorgudan dönen veriler içinde döngü\n",
    "\n",
    "----"
   ]
  },
  {
   "cell_type": "markdown",
   "id": "c794409e",
   "metadata": {},
   "source": [
    "# 7.2_T-SQL'de Değişkenler Giriş\n",
    "\n",
    "Bir işlem gerçekleştireceğin zaman o değeri tekrar tekrar kullanmak için bir değişken tanımlayıp içine atarsın.\n",
    "\n",
    "Değişken altbaşlıkları;\n",
    "\n",
    "* Değişken kavramı\n",
    "* Değişken tanımlama\n",
    "* Değişkene değer atama\n",
    "* Varsayılan değer tanımlama\n",
    "* Değişkenden değer okuma\n",
    "* SQL sorgusundan gelen değerden değişkene değer atama\n",
    "* SQL sorgusu içinde değişkenleri kulanma\n",
    "    \n",
    "----"
   ]
  },
  {
   "cell_type": "markdown",
   "id": "6abaff57",
   "metadata": {},
   "source": [
    "# 7.3_Değişkene Değer Tanımlama (Integer)\n",
    "\n",
    "T-SQL'de bir değişken **DECLARE** komutu ile **@** işaretiyle değişkene bir isim ve bir de tip verilerek tanımlanır.\n",
    "\n",
    "<img src = \"https://i.hizliresim.com/aijenv5.png\">\n",
    "\n",
    "### Örnek\n",
    "Değişkenler ile işlemler yaparak değişkene değer atama\n",
    "\n",
    "<img src = \"https://i.hizliresim.com/dvxfl0i.png\">\n",
    "\n",
    "### Not\n",
    "* **NULL** bir değer ile matematiksel bir değer işleme girerse **NULL** döner.\n",
    "\n",
    "## Default Değer Tanımlama\n",
    "\n",
    "<img src = \"https://i.hizliresim.com/jrzh4qn.png\">\n",
    "\n",
    "* Default olarak tanımlandıktan sonra **SET** ile tekrar değer atama yapılırsa atanan son değer değişkenin değeridir.\n",
    "\n",
    "----"
   ]
  },
  {
   "cell_type": "markdown",
   "id": "54a4e186",
   "metadata": {},
   "source": [
    "# 7.4_Değişkene Değer Tanımlama (Varchar)"
   ]
  },
  {
   "cell_type": "code",
   "execution_count": null,
   "id": "b26c77c3",
   "metadata": {},
   "outputs": [],
   "source": []
  }
 ],
 "metadata": {
  "kernelspec": {
   "display_name": "Python 3 (ipykernel)",
   "language": "python",
   "name": "python3"
  },
  "language_info": {
   "codemirror_mode": {
    "name": "ipython",
    "version": 3
   },
   "file_extension": ".py",
   "mimetype": "text/x-python",
   "name": "python",
   "nbconvert_exporter": "python",
   "pygments_lexer": "ipython3",
   "version": "3.11.1"
  }
 },
 "nbformat": 4,
 "nbformat_minor": 5
}
