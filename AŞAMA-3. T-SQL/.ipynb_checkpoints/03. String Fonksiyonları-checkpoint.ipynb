{
 "cells": [
  {
   "cell_type": "markdown",
   "id": "55eed0a3",
   "metadata": {},
   "source": [
    "# 3.1_T-SQL'de Fonksiyonlar Giriş\n",
    "\n",
    "T-SQL, içerisinde kullanabileceğin bir çok fonksiyon barındırır.\n",
    "\n",
    "Fonksiyonlar, içerisine hiç parametre almayan veya bir ya da birden fazla parametre alabilen içerisinde hedefe yönelik belirli işlemler gerçekleştirip bize sonuç dönen bir yapıdır.\n",
    "\n",
    "T-SQL'de kullanıma hazır fonksiyonlar da bulunur. Biz de fonksiyon yazabiliriz.\n",
    "\n",
    "## T-SQL'deki fonksiyon türleri\n",
    "\n",
    "* **String Fonksiyonları**\n",
    "    * String ifadeler üzerinde yaptığımız işlemler için kullandığımız fonksiyonlar\n",
    "* **Datetime Fonksiyonları**\n",
    "    * Tarih ve saat işlemleri için kullandığımız fonksiyonlar\n",
    "* **Matematik Fonksiyonları**\n",
    "    * Matematiksel işlemleri gerçekleştirmek için kullandığımız fonksiyonlar\n",
    "* **Tip Dönüşüm Fonksiyonları**\n",
    "    * Veri tipleri arasında dönüşüm sağlamak için kullandığımız fonksiyonlar\n",
    "* **Sistem Fonksiyonları**\n",
    "    * Sistemle ilgili bilgiler getiren fonksiyonlar\n",
    "    \n",
    "---"
   ]
  },
  {
   "cell_type": "markdown",
   "id": "8225bf01",
   "metadata": {},
   "source": [
    "# 3.2_String Fonksiyonları Giriş\n",
    "\n",
    "Veritabanlarında çalışırken en çok karşılaştığımız veri tiplerinden birisi *string* veri tipleridir.  **Char**, **varchar**, **nchar**, **nvarchar** veri tipleri string veri tipleridir.\n",
    "\n",
    "Stringler üzerinde rahat çalışabilmemizi sağlayan T-SQLdeki bu fonksiyonlara string fonksiyonları denir.\n",
    "\n",
    "T-SQL'deki bu string fonksiyonları kütüphanesi oldukça zengindir;\n",
    "<img src = \"https://i.hizliresim.com/9g31q7t.png\">\n",
    "\n",
    "String fonksiyonları hakkında ayrıntılı bilgi için google'a *[t sql string functions](https://learn.microsoft.com/en-us/sql/t-sql/functions/string-functions-transact-sql?view=sql-server-ver16)* yazabilirsin.\n",
    "\n",
    "---"
   ]
  },
  {
   "cell_type": "markdown",
   "id": "241c9c6f",
   "metadata": {},
   "source": [
    "# 3.3_<code>ASCII</code> Fonksiyonu\n",
    "\n",
    "### Tanım\n",
    "Bir karakterin ASCII değerini (0-255 arasındaki rakamsal değerini) döndürür.\n",
    "\n",
    "### Kullanım\n",
    "<img src = \"https://i.hizliresim.com/el2n297.png\">\n",
    "<img src = \"https://i.hizliresim.com/f2zj4na.png\">\n",
    "\n",
    "### Not\n",
    "Verinin içerisinde kirli veri varsa, istenmeyen değerler varsa, gözle görünmeyen karakterler varsa ve bu karakterlerin temizlenmesi gerekiyorsa bu karaktere karşılık gelen ASCII değerini bulup temizleyebiliriz.\n",
    "\n",
    "----"
   ]
  },
  {
   "cell_type": "markdown",
   "id": "fc581c34",
   "metadata": {},
   "source": [
    "# 3.4_<code>CHAR</code> Fonksiyonu\n",
    "\n",
    "### Tanım\n",
    "ASCII fonksiyonunun tam tersidir. İçine ASCII değeri girilen karakteri döndürür.\n",
    "\n",
    "### Kullanım\n",
    "<img src = \"https://i.hizliresim.com/js4kd86.png\">\n",
    "\n",
    "### Not\n",
    "CHAR fonksiyonuna 13 değerini girdiğimizde bize enter karakterini vermez. Bu yüzden farklı bir yerden veri çekerken kirli verilerin yakalanmasında ASCII ile birlikte kullanılır.\n",
    "\n",
    "---"
   ]
  },
  {
   "cell_type": "markdown",
   "id": "c91ba478",
   "metadata": {},
   "source": [
    "# 3.5_<code>CONCAT</code> Fonksiyonu\n",
    "\n",
    "### Tanım\n",
    "\n",
    "Birden fazla string ifadeyi birleştirmek için kullandığımız fonksiyondur.\n",
    "\n",
    "### Kullanım\n",
    "\n",
    "<img src = \"https://i.hizliresim.com/f6uiogk.png\">\n",
    "\n",
    "### Not\n",
    "\n",
    "SQL Server'da string birleştirme şu şekilde de yapılabilir;\n",
    "\n",
    "<img src = \"https://i.hizliresim.com/jh1cz2p.png\">\n",
    "\n",
    "**'+' operatörünü her zaman düzgün kullanamayabilirsin. O yüzden sen string birleştirmelerde daima CONCAT kullan.**\n",
    "\n",
    "----"
   ]
  },
  {
   "cell_type": "markdown",
   "id": "9c98889c",
   "metadata": {},
   "source": [
    "# 3.6_<code>LEFT</code>/<code>RIGHT</code> Fonksiyonları\n",
    "\n",
    "### Tanım\n",
    "\n",
    "Bir stringin sağından ve solundan belirli karakterleri alabildiğimiz string fonksiyonlarıdır.\n",
    "\n",
    "### Kullanım\n",
    "\n",
    "<img src = \"https://i.hizliresim.com/dkozjrt.png\">\n",
    "\n",
    "### Not\n",
    "\n",
    "Belirli bir karakteri buldurup o karaktere gidip, karakterin sağından veya solundan o karakter kadar bölümü aldırmak için kullanılır.\n",
    "\n",
    "----"
   ]
  },
  {
   "cell_type": "markdown",
   "id": "56da1c08",
   "metadata": {},
   "source": [
    "# 3.7_<code>TRIM</code>/<code>LTRIM</code>/<code>RTRIM</code> Fonksiyonları\n",
    "\n",
    "### Tanım\n",
    "\n",
    "Trim kelimesi İngilizce'de kırpmak, temizlemek anlamındadır. String fonksiyonlarında TRIM, ifadenin başındaki ve sonundaki boşluk karakterlerinden kurtulmaya yarayan fonksiyondur. \n",
    "\n",
    "* LTRIM fonksiyonu stringin başındaki boşlukları temizler. (Left TRIM)\n",
    "* RTRIM fonksiyonu stringin sonundaki boşlukları temizler. (Right TRIM)\n",
    "* TRIM fonksiyonu stringin başında ve sonundaki boşlukları temizler.\n",
    "\n",
    "### Kullanım\n",
    "\n",
    "<img src = \"https://i.hizliresim.com/suc7qn7.png\">\n",
    "\n",
    "### Not\n",
    "\n",
    "TRIM fonksiyon SQL Server 2012 öncesinde yoktu. TRIM fonksiyonu yerine aşağıdaki şekilde bir kullanım tercih ediliyordu;\n",
    "\n",
    "<img src = \"https://i.hizliresim.com/cfh4v4v.png\">\n",
    "\n",
    "----"
   ]
  },
  {
   "cell_type": "markdown",
   "id": "94727656",
   "metadata": {},
   "source": [
    "# 3.8_<code>LOWER</code>/<code>UPPER</code>/<code>REVERSE</code>/<code>REPLICATE</code> Fonksiyonları\n",
    "\n",
    "### Tanım\n",
    "\n",
    "LOWER, string ifadeyi küçük harfli haline çevirir.\n",
    "UPPER, string ifadeyi büyük harfli haline çevirir.\n",
    "REVERSE, stringi tersten yazdırır.\n",
    "REPLICATE, string ifadeyi belirlediğimiz sayıda tekrar ettirir.\n",
    "\n",
    "### Kullanım\n",
    "\n",
    "<img src = \"https://i.hizliresim.com/ew2g7gu.png\">\n",
    "\n",
    "### Not\n",
    "\n",
    "Fonksiyonlar, SQL Server hangi dildeyse (**collation**: Turkish_CI_AS) o dile göre büyültme veya küçültme yapar.\n",
    "\n",
    "<img src = \"https://i.hizliresim.com/onwqj3g.png\">\n",
    "\n",
    "* 'DATA SCIENCE', LOWER ile 'data scıence' olurken,\n",
    "* 'data science', UPPER ile 'DATA SCİENCE' olur.\n",
    "\n",
    "REVERSE fonksiyonu büyük verilerde performans kazancı oluşturmak için kullanılır. Diyelim bir string ifadenin bir değerden sonraki kısmını aratmak istiyorsun bu noktada index kullanamayacağın için performanslı bir arama yapamazsın. Bunun yerine ifadeyi farklı bir kolonda tersine çevirip tersinden arama yaparak hızlı sonuç elde edebilirsin.\n",
    "\n"
   ]
  },
  {
   "cell_type": "code",
   "execution_count": null,
   "id": "313ad0a3",
   "metadata": {},
   "outputs": [],
   "source": []
  }
 ],
 "metadata": {
  "kernelspec": {
   "display_name": "Python 3 (ipykernel)",
   "language": "python",
   "name": "python3"
  },
  "language_info": {
   "codemirror_mode": {
    "name": "ipython",
    "version": 3
   },
   "file_extension": ".py",
   "mimetype": "text/x-python",
   "name": "python",
   "nbconvert_exporter": "python",
   "pygments_lexer": "ipython3",
   "version": "3.11.1"
  }
 },
 "nbformat": 4,
 "nbformat_minor": 5
}
