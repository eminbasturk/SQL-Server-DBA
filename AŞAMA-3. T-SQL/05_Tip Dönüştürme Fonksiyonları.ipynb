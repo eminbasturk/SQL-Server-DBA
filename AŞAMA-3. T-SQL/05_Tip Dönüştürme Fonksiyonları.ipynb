{
 "cells": [
  {
   "cell_type": "markdown",
   "id": "1f19a3f7",
   "metadata": {},
   "source": [
    "# 5.1_Tip Dönüştürme Fonksiyonları\n",
    "\n",
    "* Veritabanlarında normalizasyon yapılırken kolonların veri tipleri tanımlanır.\n",
    "* Bazen bir veri tipindeki kolon farklı bir veri tipiyle birleştirilip yazılmak istenebilir.\n",
    "    * Örneğin doğum tarihini yazarken.\n",
    "* Herhangi bir veri tipindeki bir kolonu farklı bir veri tipine dönüştürme işlemine tip dönüştürme denir.\n",
    "\n",
    "### Hangi veri türü hangi veri türüne dönüştürülebilir?\n",
    "\n",
    "<img src = \"https://i.hizliresim.com/hqe91ur.png\">\n",
    "\n",
    "### Tip dönüştürmeye yarayan fonksiyonlar;\n",
    "\n",
    "<img src = \"https://i.hizliresim.com/add1ngz.png\">\n",
    "\n",
    "* En sık kullanılanlar; **CONVERT** ve **CAST**\n",
    "\n",
    "---"
   ]
  },
  {
   "cell_type": "markdown",
   "id": "f3fa8d3c",
   "metadata": {},
   "source": [
    "# 5.2_CAST/CONVERT Fonksiyonları\n",
    "\n",
    "* **CAST** bütün SQL dillerinde kullanılan dönüştürme fonksiyonudur.\n",
    "* **CONVERT** ise T-SQL özelinde kullanılır.\n",
    "\n",
    "### Kullanımı\n",
    "\n",
    "<img src = \"https://i.hizliresim.com/d7wucja.png\">\n",
    "\n",
    "### Not\n",
    "\n",
    "* Tip dönüşümü gerçekleşemeyecek bir dönüşüm ise hata döndürür.\n",
    "* **CONVERT** fonksiyonun **CAST** ile bir farkı özellikle **DATE**, **TIME** ve **DATETIME** türlerini **VARCHAR** türüne dönüştürürken aldığı parametreler ile farklı formatlarda dönüşüm yapabilmesidir.\n",
    "\n",
    "### Örnek\n",
    "\n",
    "<img src = \"https://i.hizliresim.com/i4xhfy2.png\">"
   ]
  },
  {
   "cell_type": "markdown",
   "id": "b0eec4e2",
   "metadata": {},
   "source": [
    "# 5.3_TRY_CAST/TRY_CONVERT Fonksiyonları\n",
    "\n",
    "* **TRY_CAST** ve **TRY_CONVERT** fonksiyonları **CAST** ve **CONVERT** ile veri tipi dönüşümü yapılamayıp hata veren değerleri hata mesajı yazdırmak yerine *null* değer döndürecek şekilde kullanılır.\n",
    "* Neden kullanırız?\n",
    "    * Diyelim elimizde 1 milyon satırlık bir müşteri verisi var ve her bir müşterinin bir *BIRTHDATE* alanı var. \n",
    "    * Bu veriler veritabanına eklenmek üzere excel formatında .csv dosyasında tutuluyor.\n",
    "    * Excel ortamı elle veri girilmeye müsait bir ortam olduğu için ve veriler string olarak tutulduğu için *BIRTHDATE* alanına **DATE** türüne uygun olmayan veriler istemeden girilebilir.\n",
    "    * Bizden istenen bu veri database'e import edilirken düzgün bir şekilde normalizasyon yapılarak import edilmesidir.\n",
    "    * Eğer bu örnekte **CAST** veya **CONVERT** kullansaydık sistem bize tip dönüşümü yapamadığı için hata verecekti.\n",
    "    * Ve 1 milyon satırlık veride 10 satırlık düzgün formatta olmayan veri yüzünden insert işlemi gerçekleşemeyecekti.\n",
    "    * Bu durumu düzeltmek için iki farklı yöntem bulunurdu;\n",
    "        * Hatalı olan verileri insert etmemek.\n",
    "            * Bu işlem de uzun sürebilir ve sıkıntılar çıkabilir.\n",
    "        * Hiçbir veriyi insert edememek.\n",
    "    * Bu yüzden bu gibi durumlarda **TRY_CAST** veya **TRY_CONVERT** kullanılır.\n",
    "\n",
    "### Kullanımı\n",
    "\n",
    "<img src = \"https://i.hizliresim.com/8djepyy.png\">\n",
    "\n"
   ]
  },
  {
   "cell_type": "markdown",
   "id": "60e65e4a",
   "metadata": {},
   "source": [
    "# 5.4_Alıştırma 1\n",
    "\n",
    "### Soru\n",
    "\n",
    "<img src = \"https://i.hizliresim.com/leq3j3p.png\">\n",
    "\n",
    "### Cevap\n",
    "\n",
    "<img src = \"https://i.hizliresim.com/ns9k0bo.png\">"
   ]
  },
  {
   "cell_type": "markdown",
   "id": "9286e35f",
   "metadata": {},
   "source": [
    "# 5.5_Alıştırma 2\n",
    "\n",
    "### Soru\n",
    "\n",
    "<img src = \"https://i.hizliresim.com/k8o4szc.png\">\n",
    "\n",
    "### Cevap\n",
    "\n",
    "<img src = \"https://i.hizliresim.com/a0smpme.png\">"
   ]
  },
  {
   "cell_type": "markdown",
   "id": "1c0881ee",
   "metadata": {},
   "source": [
    "# 5.6_Alıştırma 3\n",
    "\n",
    "### Soru\n",
    "\n",
    "<img src = \"https://i.hizliresim.com/k57j3hl.png\">\n",
    "\n",
    "### Cevap\n",
    "\n",
    "<img src = \"https://i.hizliresim.com/knmihtm.png\">"
   ]
  }
 ],
 "metadata": {
  "kernelspec": {
   "display_name": "Python 3 (ipykernel)",
   "language": "python",
   "name": "python3"
  },
  "language_info": {
   "codemirror_mode": {
    "name": "ipython",
    "version": 3
   },
   "file_extension": ".py",
   "mimetype": "text/x-python",
   "name": "python",
   "nbconvert_exporter": "python",
   "pygments_lexer": "ipython3",
   "version": "3.11.1"
  }
 },
 "nbformat": 4,
 "nbformat_minor": 5
}
