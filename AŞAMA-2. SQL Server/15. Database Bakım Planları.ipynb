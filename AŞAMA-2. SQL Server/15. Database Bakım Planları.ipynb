{
 "cells": [
  {
   "cell_type": "markdown",
   "id": "3da72459",
   "metadata": {},
   "source": [
    "# 1. DB Bakım Planları Giriş\n",
    "\n",
    "## Periyodik Bakım Planları\n",
    "\n",
    "* Yeni veri eklendikçe index, istatistikler falan bozulur.\n",
    "* Bu yaşayan yapının devamlılığı için sisteme belirli zamanlarda bakımlar yapılmalıdır.\n",
    "\n",
    "### Index Bozulmaları\n",
    "* SQL Server'da yeni kayıtlar oluştukça, kayıtlar silindikçe ve güncellendikçe indexler bozulur. \n",
    "* Bozulan indexleri düzeltmek için Index Rebuild ya da Index Reorganize işlemi yapılır.\n",
    "\n",
    "### İstatistik Güncellemeleri\n",
    "* SQL Server'da sistem doğru indexi bulabilmek için istatistiklere bakar.\n",
    "* Yeni kayıtlar oluştukça, kayıtlar silindikçe ve güncellendikçe bir indexte hangi kaydın ne kadar olduğu (kayıt frekansı) değişir. (Emin isimli kaç kişi var, 11.05.1998 tarihinde doğan kaç kişi var- isme göre mi index yoksa doğum tarihine göre mi)\n",
    "* İstatistikler ne kadar güncel ise sistem doğru indexi o kadar iyi bulur.\n",
    "* Indexlere göre daha sık güncellenmelidir. Her gün veya gün içerisinde bir kaç kez.\n",
    "\n",
    "### Database Shrink\n",
    "* SQL Server'da bir database'e yeni kayıt eklendikçe database büyür ama kayıt silindikçe küçülmez.\n",
    "* Eğer büyüyen bir veritabanı küçültülmek isteniyorsa shrink işlemi gerçekleştirilir.\n",
    "\n",
    "### Database Backup\n",
    "* Bir veya birden fazla database'in yedeğinin alınma işlemidir. \n",
    "* Full, Differential ya da Transaction Log Backup olarak istenen şekilde otomatik olarak çalışacak backup işlemidir.\n",
    "\n",
    "### Check Database Integrity\n",
    "* Database index ve table pagelerde herhangi bir sıkıntı olup olmadığını kontrol eder.\n",
    "* Yani databasede bir bozukluk olup olmadığına bakar."
   ]
  },
  {
   "cell_type": "markdown",
   "id": "86cdc11d",
   "metadata": {},
   "source": [
    "# 2. DB Bakım Planları Wizard\n",
    "\n",
    "<img src = \"https://i.hizliresim.com/g4f86g3.png\">\n",
    "<img src = \"https://i.hizliresim.com/ivspi2s.png\">\n",
    "<img src = \"https://i.hizliresim.com/hbe28do.png\">\n",
    "<img src = \"https://i.hizliresim.com/evyp5qr.png\">\n",
    "\n",
    "* Benzer şekilde differential backup planı oluşturarak backup/restore bölümünde stratejisini yaptığın bakım planını wizard ile kolayca halledebilirsin."
   ]
  },
  {
   "cell_type": "markdown",
   "id": "6b681667",
   "metadata": {},
   "source": [
    "# 3. Yedek Bakım Planı Oluşturma\n",
    "\n",
    "<img src = \"https://i.hizliresim.com/ba42nif.png\">\n",
    "<img src = \"https://i.hizliresim.com/l4ytz7t.png\">\n",
    "<img src = \"https://i.hizliresim.com/8wnxy3v.png\">\n",
    "<img src = \"https://i.hizliresim.com/bkp61xk.png\">\n",
    "\n",
    "* Task ağacını kopyalayarak ve üzerinde oynamalar yaparak backup planını differential backup için de uyarlayabilirsin."
   ]
  },
  {
   "cell_type": "markdown",
   "id": "c1389757",
   "metadata": {},
   "source": [
    "# 4. Maintenance Cleanup Task\n",
    "\n",
    "* Günde 4 kez full yedek almak, 10 günde 40, 20 günde 80 kez full yedeğin alınması demektir.\n",
    "* Sonuç olarak bu full yedeklerin de kapladığı bir alan vardır ve bir süre sonra diski şişirmeye başlar.\n",
    "* Bu noktada daha önceden alınan ve ihtiyacın kalmadığı full backupların silinmesi gerekir.\n",
    "    * Mesela 10 günlük full backup benim için yeterlidir. O yüzden 10 günü aşan full backupların silinmesi gerekir.\n",
    "* Bu işlemi de planlayarak otomatikleştirebiliriz.\n",
    "* Yeni bir maintenance plan oluşturduktan sonra;\n",
    "\n",
    "<img src = \"https://i.hizliresim.com/qthap13.png\">\n",
    "\n",
    "* Diff back up için kopyalayıp dosya dizinini değiştirebilirsin.\n",
    "\n",
    "<img src = \"https://i.hizliresim.com/4orgbg8.png\">\n",
    "\n",
    "* Back up aldığın plana da koyabilirsin. O şekilde clean up taskın çalışması backupın alınmasına da bağlı olur. O yüzden şimdilik bağımsız yap daha iyi.\n",
    "\n",
    "<img src = \"https://i.hizliresim.com/dee5crt.png\">\n"
   ]
  },
  {
   "cell_type": "markdown",
   "id": "6f70bdbc",
   "metadata": {},
   "source": [
    "# 5. Index Rebuild Task\n",
    "\n",
    "* Index, performans için bilinmesi gereken ve iyi yönetilmesi gereken bir konudur.\n",
    "* Indexler yaşayan bir yapıdır ve zamanla bozulmalar gösterebilir.\n",
    "* Yeni gelen kayıtlar sonra ekleniyor ve sıralı halde tutulan yapılar bir şekilde bozulma eğilimi gösteriyor.\n",
    "* Bu bozulmaları elle rebuild veya reorganize ederek düzeltebilirsin.\n",
    "* Ancak bu bozulmaların sistem tarafından periyodik ve otomatik olarak düzeltilmesi gerekir.\n",
    "* Ve bu rebuild işleminin bir veritabanının bir tablosu için değil tüm veritabanlarındaki tablolar için yapılması gerekir.\n",
    "\n",
    "### Task\n",
    "* Önce veritabanı ayarlarından fill factor değerini 70'den 0'a çek ve daha öncesinde fill factor değerini 70'e aldığın indexleri de tekrar 0'a çek.\n",
    "* Fragmantasyon değerlerinin %90lara çıkan indexlerin olduğunu düşün.\n",
    "\n",
    "<img src = \"https://i.hizliresim.com/a5rbn48.png\">\n",
    "\n",
    "* Üzerine tekrar mail göndertebilirsin.\n",
    "* Reorganize'ı da benzer şekilde yapabilirsin ancak her zaman rebuild yapmak daha iyidir."
   ]
  },
  {
   "cell_type": "markdown",
   "id": "2b10c35e",
   "metadata": {},
   "source": [
    "# 6. Notify Operator Task\n",
    "\n",
    "* SQL Server'da gerçekleştirilen planların sonucunda bildirim almak için kullanılan görevdir.\n",
    "* Kullanım için mailini aldığın bir operatör tanımlaman gerekir.\n",
    "\n",
    "<img src = \"https://i.hizliresim.com/ggg34ea.png\">\n",
    "\n",
    "* Bu şekilde de göndereceğin maili oluşturabilirsin. Başarısız olma durumuna göre de bir task daha tanımlayabilirsin.\n",
    "\n",
    "<img src = \"https://i.hizliresim.com/beu5ulx.png\">"
   ]
  },
  {
   "cell_type": "markdown",
   "id": "8036a9a7",
   "metadata": {},
   "source": [
    "# 7. Update Statistics Task\n",
    "\n",
    "* Veritabanlarında performans için indexler önemlidir ancak istatistikler de en az indexler kadar önemlidir.\n",
    "* İstatistikler indexlerden daha hızlı bozulabilir. Indexlerde fill factor olayı olduğu için daha rahat olur.\n",
    "* İstatistiklerin indexlerden daha kısa sürede güncellenmesi gerekir. Bunun için de yine maintenance task kullanılır.\n",
    "* İstatistiklerin güncellenmesi index rebuild veya reorganize'ı gibi sistemi yoran bir işlem değildir. Çok daha kısa sürer, daha sıklıkla çalıştırılmalıdır. Bu sıklık genelde günde 1 ya da 2 kere olmalıdır.\n",
    "* Burada günde 1 kez (her gün saat 12.00) olarak ayarlandı.\n",
    "\n",
    "<img src = \"https://i.hizliresim.com/fzo3539.png\">\n",
    "\n",
    "* Sample by, içinden yüzdeyle örneklem çeker ya da full tarama yapabilirsin.\n",
    "* Tüm kullanıcı databaselerinde güncelleme yapsın. \n",
    "* Hem index hem de kolon istatistiklerini güncellesin.\n",
    "\n",
    "<img src = \"https://i.hizliresim.com/f20fe2z.png\">\n",
    "\n",
    "* Notify operator task ile de mail gönderebilirsin.\n",
    "* **Gün içerisinde en az 1 kez yap.** Manuel yapacaksan direkt execute et."
   ]
  },
  {
   "cell_type": "markdown",
   "id": "56c4cd49",
   "metadata": {},
   "source": [
    "# 8. Shrink Database Task\n",
    "\n",
    "<img src= \"https://i.hizliresim.com/kkh12f3.png\">\n",
    "\n",
    "* Bir database oluştururken iki farklı dosya oluştururuz birisi data dosyamız diğeri log dosyamız.\n",
    "* **Initial Size** bize MB cinsinden dosyaların başlangıç boyutlarını seçmemizi sağlar.\n",
    "* **Autogrowth / Maxsize** ise veritabanımızın büyüme oranını ve maksimum ulaşacağı boyutu seçmemizi sağlar.\n",
    "    * *File Growth*'a *In Percent* dersen her seferinde yüzdelik olarak büyür, *In Megabytes* dersen her seferinde belirli sabit bir MB'a göre büyür.\n",
    "    * *Maximum File Size*'da da veritabanının ulaşabileceği maksimum boyutu verebilirsin veya *Unlimited* seçerek limitsiz olsun diyebilirsin."
   ]
  },
  {
   "cell_type": "markdown",
   "id": "48457f2e",
   "metadata": {},
   "source": [
    "#### Örnek\n",
    "\n",
    "* Mesela CRM databaseinin boyutu 600 MB diyelim. \n",
    "* 200 MBlık bir yeni kayıt girdiğimizde databaseimizin yeni boyutu 800 MB olur.\n",
    "* Eklediğimiz veriyi silelim dediğimizde ise databaseimizin boyutu 600'e inmez 800'de kalır.\n",
    "* Çünkü bu maaliyetli bir işlemdir ve dosyanın büyüklüğüyle oynamak bizim isteyebileceğimiz bir şey değildir.\n",
    "    * Kayıt eklerken mecbur büyüyor ancak silindiğinde küçültülmez tekrar büyüdüğünde o boşluklar doldurulur.\n",
    "    * Ancak o boşlukların doldurulmasını beklemeden bizim databasei periyodik ve otomatik olarak küçültmemiz gerekir.\n",
    "* Örnek olarak bir databasei SELECT * INTO ile tablo ekleyerek büyütüp sonra da DROP ile silerek küçültebiliriz ancak sen şu an sadece taska odaklan.\n",
    "\n",
    "<img src = \"https://i.hizliresim.com/hyontxz.png\">\n",
    "\n",
    "* Log dosyanı bu şekilde 0layabilirsin.\n",
    "\n",
    "<img src = \"https://i.hizliresim.com/t3m588v.png\">\n",
    "\n",
    "* Data dosyanı da bu şekilde minimuma alabilirsin."
   ]
  },
  {
   "cell_type": "markdown",
   "id": "aa791d03",
   "metadata": {},
   "source": [
    "### Shrink Database Task\n",
    "\n",
    "<img src = \"https://i.hizliresim.com/pxhba04.png\">\n",
    "\n",
    "* Bunun üzerinden de Notify yollayabilirsin.\n",
    "\n",
    "* **Shrink işlemini otomatik olarak yapmak yerine kontrollü bir şekilde manuel olarak yapmak daha iyidir.**"
   ]
  }
 ],
 "metadata": {
  "kernelspec": {
   "display_name": "Python 3 (ipykernel)",
   "language": "python",
   "name": "python3"
  },
  "language_info": {
   "codemirror_mode": {
    "name": "ipython",
    "version": 3
   },
   "file_extension": ".py",
   "mimetype": "text/x-python",
   "name": "python",
   "nbconvert_exporter": "python",
   "pygments_lexer": "ipython3",
   "version": "3.11.1"
  }
 },
 "nbformat": 4,
 "nbformat_minor": 5
}
