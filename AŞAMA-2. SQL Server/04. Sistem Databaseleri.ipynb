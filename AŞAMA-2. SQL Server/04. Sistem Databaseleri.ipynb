{
 "cells": [
  {
   "cell_type": "markdown",
   "id": "efb35402",
   "metadata": {},
   "source": [
    "# 1. Sistem Databases Giriş\n",
    "* SQL Server bir veritabanı yönetim sistemidir.\n",
    "* Veritabanı yönetim sistemlerinin en önemli nesneleri veritabanlarıdır.\n",
    "* SQL Server kendi kendini yönetirken de veritabanlarını kullanır. Bu veritabanlarına **sistem databaseleri** denir.\n",
    "* Sistem databaseleri *Databases > System Databases*'da bulunur.\n",
    "\n",
    "## Sistem Databaseleri\n",
    "\n",
    "<img src = \"https://i.hizliresim.com/dld17fh.png\" width = 600>\n",
    "\n",
    "* SQL Server yukarıdaki 4 veritabanı ile kendisini yönetir. "
   ]
  },
  {
   "cell_type": "markdown",
   "id": "57860ca3",
   "metadata": {},
   "source": [
    "# 2. Master DB\n",
    "\n",
    "* SQL Serveri yöneten en önemli veritabanıdır.\n",
    "* Master DB'nin içerisinde sistem ile alakalı tüm konfigürasyon bilgileri tutulur. \n",
    "* **Sistem Konfigürasyonu**nun içerisinde;\n",
    "    * **Kullanıcılar** ve bu kullanıcıların yetkileri\n",
    "    * **Veritabanları** ve bu veritabanlarına kullanıcıların erişim yetkileri\n",
    "    * **Sistem Dosyaları**\n",
    "    * Databaselerin ve sunucunun **Collation Bilgisi**\n",
    "* gibi SQL Server sisteminin temel konfigürasyon bilgileri tutulur.\n",
    "------\n",
    "* Master DB'yi tutulduğu dizinde silmeye, kopyalamaya, adını değiştirmeye kalkarsan buna izin vermez.\n",
    "* SQL Server hizmetini;\n",
    "    * Windowsta Services kısmından durdurabilirsin.\n",
    "    * Configuration Manager kısmından durdurabilirsin.\n",
    "    * SQL Server içinden authenticationı durdurabilirsin.\n",
    "* Hizmeti durdurduktan sonra Master DB'yi silebilirsin ve tekrar hizmeti başlattığında hata verir.\n",
    "* Bu hatanın detaylarını incelemek için **Event Viewer**ı kontrol edebilirsin.\n",
    "    * Windows Logs > Application\n",
    "* **Master DB**, SQL Serveri başlatan dosya (**.mdf** uzantılı) olduğu için silinmesi durumunda SQL Server başlamaz.\n",
    "* **Master DB olmazsa SQL Server çalışmaz.**\n",
    "* Aynı zamanda Master DB'nin **.ldf** uzantılı log dosyası silinirse de SQL Server çalışmaz.\n",
    "------\n",
    "* Eğer Master DB'nin bir yedeğini aldıktan sonra sunucu üzerinde yeni bir database ve user oluşturursan bu bilgiler ve nesneler Master DB üzerinde tutulur. Daha sonra Master DByi silip yedeğini geri eklersen daha önce eklemiş olduğun database ve userlar gözükmez. Çünkü o işlemler bu Master DB üzerinde yapılmamıştır. Ancak dosyalar klasör içinde durmaya devam eder ve silinebilir haldedir.\n",
    "* **Eğer yeni bir sunucu kuruyorsan ve mevcut sunucuyu oraya taşımak istiyorsan Master DB'yi -SQL Server versiyonları aynı olmak şartıyla- olduğu gibi kopyalabilirsin.**"
   ]
  },
  {
   "cell_type": "markdown",
   "id": "43b3b61b",
   "metadata": {},
   "source": [
    "# 3. Model DB\n",
    "\n",
    "### Model DB\n",
    "* **Şablon veritabanıdır. Yani her bir oluşturulacak veritabanı Model DB'nin bir kopyası olarak oluşturulur.**\n",
    "* Her veritabanında otomatik olarak olmasını istediğimiz tipler, fonksiyonlar, tablolar vs varsa bu veritabanının içine konulabilir.\n",
    "------\n",
    "* Oluşturulan her bir database model dbnin bir kopyası olacağı için modeldbye eklenen bir tablonun aynısı yeni açılan databasede oluşur.\n",
    "* Modeldbde yapılan işlem sonrasında kullanıcı bağlandığı için yeni bir database oluşturulamaz kilitleme gerçekleşir.\n",
    "* **Model DB'nin kopyasını oluşturmak için o database'e bağlı kullanıcının bulunmaması gerekir.**\n",
    "* Bunun için bağlantı üzerinden **Activity Monitor**e erişerek **model**e bağlı kullanıcının *kill* edilmesi gerekir. Ardından yeni oluşturulan veritabanı model dbnin bir kopyasıdır.\n",
    "------\n",
    "* **Model DB olmazsa da SQL Server çalışmaz.**"
   ]
  },
  {
   "cell_type": "markdown",
   "id": "a0ac5da4",
   "metadata": {},
   "source": [
    "# 4. MSDB\n",
    "* SQL Server Agent servisinin kullandığı veritabanıdır.\n",
    "* Sistem üzerinde otomatik ve periyodik olarak çalıştırılan her türlü işlemi (joblar, schedulelar, alertlar) yöneten servisin adıdır.\n",
    "* Sistemin her gün yedeğinin alınması, sisteme her hafta bakımlar yapılması, her akşam bir sorgunun çekilip bakımların yapılması\n",
    "* Bu işlemlere **job**, ne zaman çalışacağının tutulduğu yapılara **schedule**, işlem olduğu zaman ya da hata verdiği zaman bir alarm üretme işlemine **alert** denir. Tüm bu işlemler **SQL Server Agent** servisiyle gerçekleşir. Bilgiler de **MSDB** içinde tutulur.\n",
    "\n",
    "------\n",
    "\n",
    "* SQL Server Agent, SQL Server gibi Windows'un altında çalışan servistir. SQL Server servisi çalıştığı müddetçe çalışır.\n",
    "* SQL Server Agent, SQL Server içinde connectionın en alt satırlarında bulunur.\n",
    "* İçerisinde işlerin girildiği **Jobs** bulunur.\n",
    "* *New Jobs* dendiği zaman işin ismini *General* kısmından, işin adımlarını *Steps* kısmından (işin yapılacağı veritabanını bildirerek) ve işin ne sürede yapılacağını *Schedules* kısmından tanımlayabilirsin.\n",
    "* Bu yapılan SQL Server Agent işlemleri **MSDB**de tutulur ve aşağıdaki komutlar ile izlenebilir.\n",
    "\n",
    "<img src = \"https://www.resimupload.org/images/2022/07/07/Screenshot_5.png\">\n",
    "\n",
    "------\n",
    "\n",
    "* SQL Server hizmeti durdurulmak istendiğinde SQL Server Agent hizmeti de ona bağlı olduğu için durdurmak istiyor musun? diye sorar.\n",
    "* Eğer hizmet durdurulduktan sonra MSDB dosyaları silinirse SQL Server ve SQL Server Agent hizmetleri tekrar başlatılmak istendiğinde bir hata vermez ancak SSMS'de SQL Server Agent disabled konuma geçer ve MSDB de kaybolmuş olur.\n",
    "\n",
    "-----\n",
    "\n",
    "* MSDB databaseini işlerini ve periyotlarını tanımladıktan sonra başka bir sunucuya aktarırsan işlemler orada da yapılmaya devam eder."
   ]
  },
  {
   "cell_type": "markdown",
   "id": "4fcbdb09",
   "metadata": {},
   "source": [
    "# 5. TempDB\n",
    "\n",
    "* Geçici tabloların oluşturulduğu işlemler burada gerçekleşir.\n",
    "* Kullanıcı veritabanlarından çekilen dataları *group by*, *order by*, *sum*, *count*, *max*, *min* gibi komutlarla özetlemek amacıyla kullandığımız aggregation işlemleri için de temp dB kullanılır.\n",
    "\n",
    "------\n",
    "\n",
    "* Databasein çekilmesi işlemi databasein kendisi içerisinde gerçekleşir. Ancak databasein aggregate fonksiyonlarla harmanlanması işlemi **TempDB** üzerinde gerçekleşir.\n",
    "* O yüzden TempDB'nin ayrı ve hızlı bir diskte parçalanarak bulunması performansı artırır.\n",
    "\n",
    "------\n",
    "* **tempdb** içindeki *Temporary Tables* sistemin kendisinin oluşturduğu geçici tabloların bulunduğu klasördür..\n",
    "* Normal bir şekilde bir database içerisinde query ile tablo tanımlayıp, kayıt atarsan tablo artık databasee eklendiği için ne zaman istersen çalıştırabilirsin çünkü diske yazılmıştır.\n",
    "* Ancak geçici bir şekilde yaparsan bu işlemleri yani tablo isminin başına **#** ekleyip bu işlemleri gerçekleştirirsen sadece o query içerisinde çalışır ve hafızada o anlık yer tutar, diske yazılmaz. Bu tür tablolara geçici tablolar denir, sadece anlık olarak hafızaya alınır ve çok hızlı çalışır. Raporlama için uygundur.\n",
    "* Temp tablolar başka bir queryden çağırıldıkları zaman getirilmezler. Ve bu tablolar o anki eklenen database'e fiziksel olarak eklenmezler.\n",
    "* Ancak **tempdb**nin *Temporary Tables* kısmına eklenir. DROP edildiği veya query sayfası kapandığı anda tablo gider.\n",
    "* Eğer tablonun başına **##** getirilirse query özelinde bir tablo olmaktan çıkar herkesin görebileceği bir tablo haline gelir. Artık bu tablo silindiği anda veya hizmetler restart edildiği anda gider.\n",
    "\n",
    "------\n",
    "\n",
    "* TempDB'nin performans amacıyla .mdf dosyaları birden fazla dosyaya bölünmüş halde bulunur.\n",
    "* TempDB'ler silindiği takdirde SQL Server hizmeti çalışabilir ve yeniden oluşturulur."
   ]
  }
 ],
 "metadata": {
  "kernelspec": {
   "display_name": "Python 3 (ipykernel)",
   "language": "python",
   "name": "python3"
  },
  "language_info": {
   "codemirror_mode": {
    "name": "ipython",
    "version": 3
   },
   "file_extension": ".py",
   "mimetype": "text/x-python",
   "name": "python",
   "nbconvert_exporter": "python",
   "pygments_lexer": "ipython3",
   "version": "3.11.1"
  }
 },
 "nbformat": 4,
 "nbformat_minor": 5
}
