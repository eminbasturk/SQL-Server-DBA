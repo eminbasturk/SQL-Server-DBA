{
 "cells": [
  {
   "cell_type": "markdown",
   "id": "6673bb8e",
   "metadata": {},
   "source": [
    "# 1. SQL Server Agent Giriş\n",
    "\n",
    "* SQL Server'ın servislerinden biridir.\n",
    "* SQL Server'da otomatik ve periyodik olarak çalışmasını istediğimiz işlemler için kullandığımız yapıdır.\n",
    "    * Yedek alma\n",
    "        * Backup stratejilerinin uygulanması (Şu saatlerde full backup alsın, yarım saat arayla differential backup alsın gibi)\n",
    "    * Index bakım planları\n",
    "        * Indexlerin rebuild edilmesi (Haftada 1 pazar günü)\n",
    "    * Database shrink planları\n",
    "        * Veritabanları veri girildikçe büyür, silindikçe küçülmez, elle küçültülmesi gerekir\n",
    "    * Veri ambarı doldurma\n",
    "        * Çok büyük verilerden rapor çekmek için\n",
    "    * Otomatik raporlar oluşturma\n",
    "    * Mail gönderme\n",
    "        * Sistem üzerindeki belirli raporları bir yerlere kaydedebilir ve gönderebilir\n",
    "    * ...\n",
    "* Geri planda SQL Server Agent hizmetini kullanır.\n",
    "* Job, Schedule, Alert gibi kavramlar vardır.\n",
    "    * Job, periyodik ve otomatik olarak çalışmasını istediğimiz işler.\n",
    "    * Schedule, işlerin takvimlerini, hangi periyotlarda çalıştığını tutar.\n",
    "    * Alert, uyarı mekanizmasıdır.\n",
    "* Tüm konfigürasyonunu MSDB sistem database'inde tutar."
   ]
  },
  {
   "cell_type": "markdown",
   "id": "90bc741f",
   "metadata": {},
   "source": [
    "# 2.  SQL Server Agent Uygulama\n",
    "\n"
   ]
  }
 ],
 "metadata": {
  "kernelspec": {
   "display_name": "Python 3 (ipykernel)",
   "language": "python",
   "name": "python3"
  },
  "language_info": {
   "codemirror_mode": {
    "name": "ipython",
    "version": 3
   },
   "file_extension": ".py",
   "mimetype": "text/x-python",
   "name": "python",
   "nbconvert_exporter": "python",
   "pygments_lexer": "ipython3",
   "version": "3.11.1"
  }
 },
 "nbformat": 4,
 "nbformat_minor": 5
}
