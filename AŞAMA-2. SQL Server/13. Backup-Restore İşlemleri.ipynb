{
 "cells": [
  {
   "cell_type": "markdown",
   "id": "60cd64f6",
   "metadata": {},
   "source": [
    "### SQL Server'da Yedekleme Yönetimi\n",
    "\n",
    "* SQL Server'ı küçük işletmelerden büyük işletmelere kadar bir çok firma kullanır.\n",
    "* İşletmeler büyüdükçe verinin önemi daha çok ortaya çıkar ve veri kaybının minimumda tutulması gerekir. \n",
    "\n",
    "# 1. Yedeklemeye Giriş\n",
    "\n",
    "## Backup Alma Yöntemleri\n",
    "\n",
    "### FULL BACKUP\n",
    "\n",
    "* Standart backup yöntemidir.\n",
    "* Tüm veritabanının yedeğinin alınması işlemidir.\n",
    "* Aynı sürüm veya daha üst sürüm SQL Serverlarda çalışabilirdir. \n",
    "* Sistem çalışırken online olarak alınabilir.\n",
    "* Sıkıştırma parametresi ile %95'lere kadar sıkıştırılarak alınabilir.\n",
    "* Sadece backup alınan zamana dönülebilir.\n",
    "\n",
    "### DIFFERENTIAL BACKUP\n",
    "\n",
    "* Alınan son full backup ile differential backup alınan zaman arasındaki değişim farkının alındığı backup türüdür.\n",
    "* Full backup'a göre daha az yer kaplar.\n",
    "* Sistem çalışırken online olarak alınabilir.\n",
    "* Sıkıştırma parametresi ile %95'lere kadar sıkıştırılarak alınabilir.\n",
    "* Sadece backup alınan zamana dönülebilir.\n",
    "    * Önce full backupa sonra differential backupa dönülür.\n",
    "\n",
    "### TRANSACTION LOG BACKUP\n",
    "\n",
    "* Transaction log dosyasının yedeklenmesidir.\n",
    "* En son alınan backup hangisi ise (full, differential ya da transaction log farketmez) onunla arasındaki değişimi alır.\n",
    "* Sistem çalışırken online olarak alınabilir.\n",
    "* Sıkıştırma parametresi ile %95'lere kadar sıkıştırılarak alınabilir.\n",
    "* Saniyelik olarak istediğimiz ana dönme imkanı verir.\n",
    "* Bankalarda sıklıkla kullanılır.\n",
    "\n"
   ]
  },
  {
   "cell_type": "markdown",
   "id": "8d2677c5",
   "metadata": {},
   "source": [
    "# 2. Backup / Restore Uygulama\n",
    "\n",
    "* Sistemden üzerinden nasıl backup alınıyor, nasıl restore ediliyor ve backup alma teknikleri nasıl çalışıyor?\n",
    "\n",
    "### Hazırlık\n",
    "\n",
    "* **BACKUPTEST** ismiyle bir database oluştur.\n",
    "\n",
    "* İçerisine **DATES** adını verdiğin şöyle bir tablo ekle;\n",
    "\n",
    "<img src = \"https://i.hizliresim.com/93fqh4v.png\">\n",
    "\n",
    "* Bir de öylesine veri gir;\n",
    "\n",
    "<img src = \"https://i.hizliresim.com/lfnl16r.png\">\n",
    "\n",
    "## Backup\n",
    "\n",
    "<img src = \"https://i.hizliresim.com/sf2arz7.png\">\n",
    "\n",
    "<img src = \"https://i.hizliresim.com/ahsc5qn.png\">\n",
    "\n",
    "<img src = \"https://i.hizliresim.com/rnrxols.png\">\n",
    "\n",
    "## Restore\n",
    "\n",
    "<img src = \"https://i.hizliresim.com/c1mtdd3.png\">\n",
    "\n",
    "<img src = \"https://i.hizliresim.com/t79dqwf.png\">\n",
    "\n",
    "* Restore ettikten sonra verilerle oynamaya var olan veritabanı üzerinden devam edebilirsin.\n",
    "\n",
    "<img src = \"https://i.hizliresim.com/sl5d8jq.png\">\n",
    "\n",
    "* Eğer veritabanını silip veya bir şekilde kaybedip tekrar restore edersen önceki backup aldığın haliyle geri döner.\n",
    "\n",
    "<img src = \"https://i.hizliresim.com/2imrsy2.png\">\n",
    "\n",
    "* Yedeklerin sıklığı ve risk analizi çok önemlidir.\n",
    "\n"
   ]
  },
  {
   "cell_type": "code",
   "execution_count": null,
   "id": "01438a42",
   "metadata": {},
   "outputs": [],
   "source": []
  },
  {
   "cell_type": "code",
   "execution_count": null,
   "id": "81d077c4",
   "metadata": {},
   "outputs": [],
   "source": []
  },
  {
   "cell_type": "code",
   "execution_count": null,
   "id": "9d57759d",
   "metadata": {},
   "outputs": [],
   "source": []
  },
  {
   "cell_type": "code",
   "execution_count": null,
   "id": "deb927b0",
   "metadata": {},
   "outputs": [],
   "source": []
  },
  {
   "cell_type": "code",
   "execution_count": null,
   "id": "d30cefb1",
   "metadata": {},
   "outputs": [],
   "source": []
  },
  {
   "cell_type": "code",
   "execution_count": null,
   "id": "9ed09ce5",
   "metadata": {},
   "outputs": [],
   "source": []
  },
  {
   "cell_type": "code",
   "execution_count": null,
   "id": "c170b1c2",
   "metadata": {},
   "outputs": [],
   "source": []
  },
  {
   "cell_type": "code",
   "execution_count": null,
   "id": "9e39d122",
   "metadata": {},
   "outputs": [],
   "source": []
  },
  {
   "cell_type": "code",
   "execution_count": null,
   "id": "81a84ef1",
   "metadata": {},
   "outputs": [],
   "source": []
  },
  {
   "cell_type": "code",
   "execution_count": null,
   "id": "77b3cdd0",
   "metadata": {},
   "outputs": [],
   "source": []
  },
  {
   "cell_type": "code",
   "execution_count": null,
   "id": "23f95242",
   "metadata": {},
   "outputs": [],
   "source": []
  },
  {
   "cell_type": "code",
   "execution_count": null,
   "id": "e1a34f53",
   "metadata": {},
   "outputs": [],
   "source": []
  },
  {
   "cell_type": "code",
   "execution_count": null,
   "id": "899bbea2",
   "metadata": {},
   "outputs": [],
   "source": []
  }
 ],
 "metadata": {
  "kernelspec": {
   "display_name": "Python 3 (ipykernel)",
   "language": "python",
   "name": "python3"
  },
  "language_info": {
   "codemirror_mode": {
    "name": "ipython",
    "version": 3
   },
   "file_extension": ".py",
   "mimetype": "text/x-python",
   "name": "python",
   "nbconvert_exporter": "python",
   "pygments_lexer": "ipython3",
   "version": "3.11.1"
  }
 },
 "nbformat": 4,
 "nbformat_minor": 5
}
