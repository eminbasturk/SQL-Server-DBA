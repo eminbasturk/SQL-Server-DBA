{
 "cells": [
  {
   "cell_type": "markdown",
   "id": "4c5ec408",
   "metadata": {},
   "source": [
    "# 1. Cursor\n",
    "\n",
    "* Bir tablodan dönen değerleri bir döngü içerisinde döndürüp sıralı işlemleri yaptırmamıza cursor denir.\n",
    "\n",
    "### Örnek\n",
    "\n",
    "* Mesela **ETRADE** databaseindeki **USERS** tablosundaki kullanıcılardan bugün doğanlara \"iyi ki doğdun\" maili gönderelim.\n",
    "* Diyelim bugün doğan kişiler bu kişiler;\n",
    "\n",
    "<img src = \"https://i.hizliresim.com/4qj9tvq.png\">\n",
    "\n",
    "* Tek bir kişiye şu şekilde mail gönderebilirsin;\n",
    "\n",
    "<img src = \"https://i.hizliresim.com/pzq0tbn.png\">\n",
    "\n",
    "* İstediğin kişilere tek tek göndermek için de **cursor** kullanman gerekir.\n",
    "\n",
    "## CURSOR\n",
    "\n",
    "<img src = \"https://i.hizliresim.com/3mcef4a.png\">\n",
    "\n",
    "\n",
    "* Cursor için tablondan dönecek kolonları ve elde etmek istediğin değişkenleri tanımla.\n",
    "* <code>DECLARE CRS CURSOR FOR</code>\n",
    "    * *CRS* isimli bir **CURSOR** tanımla.\n",
    "    * **FOR** diyerek verileri hangi tablodan çekeceğini belirle.\n",
    "* <code>OPEN CRS</code>\n",
    "    * Cursorü aç.\n",
    "* <code>FETCH NEXT FROM CRS INTO</code>\n",
    "    * **FETCH** ile tut.\n",
    "    * **NEXT FROM** *CRS*, CRS'den gelen sıradaki değeri\n",
    "    * **INTO** ile depola.\n",
    "* <code>WHILE @@FETCH_STATUS=0</code>\n",
    "    * **WHILE** ile döngüyü devam ettir.\n",
    "    * *@@FETCH_STATUS* bir cursorün içerisine girdiğimizde son satıra gelip gelmediğimizin bilgisini tutar.\n",
    "        * Eğer 0 ise son satıra gelmediğimiz anlamına gelir.\n",
    "* <code>BEGIN</code>\n",
    "    * Döngüyü başlat.\n",
    "* <code>FETCH NEXT FROM CRS INTO @NAMESURNAME, @AGE, @EMAIL</code>\n",
    "    * Sıradan verileri almaya devam et.\n",
    "* <code>END</code>\n",
    "    * Döngüyü bitir.\n",
    "* <code>CLOSE CRS</code>\n",
    "    * Cursorü kapat.\n",
    "* <code>DEALLOCATE CRS</code>\n",
    "    * Cursorü hafızadan temizle.\n",
    "    \n",
    "* **KIRMIZI ÇERÇEVELİ ALAN**\n",
    "    * İşlemlerin yapıldığı yer.\n",
    "    * Örneğimizde her döngüde elde ettiğimiz verileri kişilerin doğum günlerini mail aracılığıyla kutlamak için kullanıyoruz.\n",
    "\n",
    "#### Döngü ile tablolarda işlem yapman gereken neresi varsa cursorü kullanabilirsin."
   ]
  }
 ],
 "metadata": {
  "kernelspec": {
   "display_name": "Python 3 (ipykernel)",
   "language": "python",
   "name": "python3"
  },
  "language_info": {
   "codemirror_mode": {
    "name": "ipython",
    "version": 3
   },
   "file_extension": ".py",
   "mimetype": "text/x-python",
   "name": "python",
   "nbconvert_exporter": "python",
   "pygments_lexer": "ipython3",
   "version": "3.11.1"
  }
 },
 "nbformat": 4,
 "nbformat_minor": 5
}
