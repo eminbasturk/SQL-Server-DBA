{
 "cells": [
  {
   "cell_type": "markdown",
   "id": "cde3f01f",
   "metadata": {},
   "source": [
    "# SENARYO\n",
    "* 30.000+ satır kategorize edilmiş araç ilanı\n",
    "* 10.000+ satır kullanıcı\n",
    "* 2.500+ satır araç kategorisi\n",
    "\n",
    "<img src = \"https://i.hizliresim.com/ly4g7v6.png\">\n",
    "\n",
    "<img src = \"https://i.hizliresim.com/1yff03d.png\">\n",
    "\n",
    "<img src = \"https://i.hizliresim.com/ij2nbot.png\">\n",
    "\n",
    "<img src = \"https://i.hizliresim.com/sd115sm.png\">\n",
    "\n",
    "<img src = \"https://i.hizliresim.com/i56cqg2.png\">"
   ]
  },
  {
   "cell_type": "markdown",
   "id": "cbe445df",
   "metadata": {},
   "source": [
    "## 1. Soru\n",
    "**Araç markalarına göre her markadan ne kadar araç olduğu bilgisini şekildeki gibi getiren sorguyu yazınız.**\n",
    "\n",
    "<img src = \"https://i.hizliresim.com/sqs92me.png\">\n",
    "\n",
    "* Zorluk: 2\n",
    "\n",
    "<img src = \"https://i.hizliresim.com/tjjateb.png\">"
   ]
  },
  {
   "cell_type": "markdown",
   "id": "34b265a9",
   "metadata": {},
   "source": [
    "## 2. Soru\n",
    "**Araç markalarına göre her markadan ne kadar araç olduğu ve yüzdesel olarak toplamın ne kadarına tekabül ettiği bilgisini şekildeki gibi getiren sorguyu yazınız.**\n",
    "\n",
    "<img src = \"https://i.hizliresim.com/oq7i4uu.png\">\n",
    "\n",
    "* Zorluk: 3\n",
    "\n",
    "<img src = \"https://i.hizliresim.com/6c3uxud.png\">"
   ]
  },
  {
   "cell_type": "markdown",
   "id": "f6bc2324",
   "metadata": {},
   "source": [
    "## 3. Soru\n",
    "**Hangi şehirde ne kadar araç ilanı olduğu bilgisini şekildeki gibi getiren sorguyu yazınız.**\n",
    "\n",
    "<img src= \"https://i.hizliresim.com/e8608ex.png\">\n",
    "\n",
    "* Zorluk: 3\n",
    "\n",
    "<img src = \"https://i.hizliresim.com/jz7gvng.png\">\n",
    "\n",
    "* CITY tablosunu baz alıp SUBQUERY'de parametre olarak ID ve CITYID alarak da yapabilirsin."
   ]
  },
  {
   "cell_type": "markdown",
   "id": "3af5274d",
   "metadata": {},
   "source": [
    "## 4. Soru\n",
    "**İstanbul'da Volkswagen Passat marka bir araç arıyoruz. Kriterlerimiz şu şekilde.**\n",
    "* Kimden: Sahibinden, Model: 2014-2018 arası, Vites: Otomatik, Yakıt: Dizel, Sıralama: Kilometre ve fiyata göre\n",
    "\n",
    "<img src = \"https://i.hizliresim.com/147e96q.png\">\n",
    "\n",
    "* Zorluk: 3\n",
    "\n",
    "<img src = \"https://i.hizliresim.com/ckt8f6v.png\">"
   ]
  },
  {
   "cell_type": "markdown",
   "id": "d043bbc8",
   "metadata": {},
   "source": [
    "## 5. Soru\n",
    "**BMW marka araçları Ankara, İstanbul ve İzmir'de listelettiren sorguyu yazınız.**\n",
    "* Burada sorguya gönderilen şehir isimleri teker teker değil, virgül ile birleştirilerek gönderilecek. 'Ankara, İstanbul, İzmir' şeklinde.\n",
    "\n",
    "<img src = \"https://i.hizliresim.com/m8me5fo.png\">\n",
    "\n",
    "* Zorluk: 4\n",
    "\n",
    "<img src =\"https://i.hizliresim.com/o17qoa1.png\">\n",
    "\n",
    "* İçeriye gönderilen değişkenlerin sınırı belli değilse kolaylık sağlar. Tek tek yazmaya gerek duyulmaz."
   ]
  }
 ],
 "metadata": {
  "kernelspec": {
   "display_name": "Python 3 (ipykernel)",
   "language": "python",
   "name": "python3"
  },
  "language_info": {
   "codemirror_mode": {
    "name": "ipython",
    "version": 3
   },
   "file_extension": ".py",
   "mimetype": "text/x-python",
   "name": "python",
   "nbconvert_exporter": "python",
   "pygments_lexer": "ipython3",
   "version": "3.10.5"
  }
 },
 "nbformat": 4,
 "nbformat_minor": 5
}
