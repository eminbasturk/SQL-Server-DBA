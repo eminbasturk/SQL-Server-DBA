{
 "cells": [
  {
   "cell_type": "markdown",
   "id": "ab2d661e",
   "metadata": {},
   "source": [
    "# 1. Giriş\n",
    "\n",
    "<img src = \"https://i.hizliresim.com/4q6rulk.png\">\n",
    "\n",
    "#### Sanal Makine\n",
    "* Fiziksel bir işletim sisteminin içinde başka işletim sistemlerinin de gerçek birer bilgisayar gibi çalıştırılması kavramıdır.\n",
    "    * vmware\n",
    "    * Microsoft Hyper-V\n",
    "    * Virtual box\n",
    "    * Red hat\n",
    "    * Citrix"
   ]
  }
 ],
 "metadata": {
  "kernelspec": {
   "display_name": "Python 3 (ipykernel)",
   "language": "python",
   "name": "python3"
  },
  "language_info": {
   "codemirror_mode": {
    "name": "ipython",
    "version": 3
   },
   "file_extension": ".py",
   "mimetype": "text/x-python",
   "name": "python",
   "nbconvert_exporter": "python",
   "pygments_lexer": "ipython3",
   "version": "3.10.5"
  }
 },
 "nbformat": 4,
 "nbformat_minor": 5
}
