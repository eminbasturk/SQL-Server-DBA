{
 "cells": [
  {
   "cell_type": "markdown",
   "id": "b9ec6988",
   "metadata": {},
   "source": [
    "# Senaryo\n",
    "* Türkiyenin 81 ilinde şubesi olan ve online satışlar yapabilen bir e ticaret sitesi\n",
    "    * 28.000 Ürün\n",
    "    * 100.000+ Sipariş\n",
    "    * 500.000+ Sipariş Satırı\n",
    "    * 100.000+ Fatura\n",
    "    * 10.000 Müşteri\n",
    "    \n",
    "<img src = \"https://i.hizliresim.com/9jinoy1.png\">\n",
    "\n",
    "<img src = \"https://i.hizliresim.com/qjghsgs.png\">\n",
    "\n",
    "<img src = \"https://i.hizliresim.com/ra4axz4.png\">\n",
    "\n",
    "* Data Warehouse (Veri Ambarı) yapısı, raporlama adına ilişkisel verilerin joinlerinin yapılmış halde tek bir tabloda bulunduğu yapıdır. Tüm veriler tek bir tablodadır. Veritabanını yormamak üzere kullanılır. Özellikle geçmiş verilerde kullanılır. Flat table denir."
   ]
  },
  {
   "cell_type": "markdown",
   "id": "80a11d3e",
   "metadata": {},
   "source": [
    "## 1. Soru\n",
    "**SALEORDERS Tablosu üzerinde hangi şehirde ne kadarlık satış yapıldığı bilgisini çeken SQL sorgusunu yazınız.**\n",
    "\n",
    "<img src = \"https://i.hizliresim.com/lri6vm7.png\">\n",
    "\n",
    "* Zorluk: 2\n",
    "\n",
    "<img src = \"https://i.hizliresim.com/fdp8oui.png\">"
   ]
  },
  {
   "cell_type": "markdown",
   "id": "4ca18f51",
   "metadata": {
    "tags": []
   },
   "source": [
    "## 2. Soru\n",
    "**SALEORDERS Tablosu şehirlere göre hangi ayda ne kadarlık satış yapıldığı bilgisini çeken SQL sorgusunu yazınız.**\n",
    "\n",
    "<img src = \"https://i.hizliresim.com/e4dkkcw.png\">\n",
    "\n",
    "* Zorluk: 2\n",
    "\n",
    "<img src = \"https://i.hizliresim.com/gws5g2b.png\">"
   ]
  },
  {
   "cell_type": "markdown",
   "id": "1b251ce9",
   "metadata": {},
   "source": [
    "## 3. Soru\n",
    "**Her ilin haftanın en çok hangi gününde satış yaptığını öğrenip ona göre şehir ve günlere özel kampanya yapmak istiyoruz. Şehirlerin haftanın günlerine göre ne kadarlık satış yaptığı bilgisini şekildeki gibi getiren sorguyu getiriniz.**\n",
    "\n",
    "<img src = \"https://i.hizliresim.com/rh0wxqh.png\">\n",
    "\n",
    "* Zorluk: 2\n",
    "\n",
    "<img src = \"https://i.hizliresim.com/spdjwad.png\">"
   ]
  },
  {
   "cell_type": "markdown",
   "id": "efe7b24b",
   "metadata": {},
   "source": [
    "## 4. Soru\n",
    "\n",
    "**Her ilin haftanın en çok hangi gününde satış yaptığını öğrenip ona göre şehir ve günlere özel kampanya yapmak istiyoruz. Şehirlerin haftanın günlerine göre ne kadarlık satış yaptığı bilgisini şekildeki gibi getiren sorguyu yazınız.**\n",
    "\n",
    "\n",
    "<img src = \"https://i.hizliresim.com/1tph6o6.png\">\n",
    "\n",
    "* Zorluk: 4\n",
    "\n",
    "<img src = \"https://i.hizliresim.com/17la6e7.png\">\n",
    "\n",
    "* Eğer doğrudan bir aggregation func kullanmıyorsan *GROUP BY* yerine *DISTINCT* de kullanabilirsin."
   ]
  },
  {
   "cell_type": "markdown",
   "id": "8f3ac504",
   "metadata": {},
   "source": [
    "## 5. Soru\n",
    "**Her ilin en çok satan ilk 5 kategorisini şekildeki gibi getiren sorguyu yazınız.**\n",
    "\n",
    "<img src = \"https://i.hizliresim.com/b7zi8vx.png\">\n",
    "\n",
    "* Zorluk: 5\n",
    "\n",
    "<img src =\"https://i.hizliresim.com/ryckhsc.png\">\n",
    "\n",
    "* SQL'de ikinci bir tabloyla join yaparken eşleşen ilk bir kaç kaydın gelmesini istiyorsan TOP ifadesini kullanmak için *CROSS APPLY* kullanman gerekir."
   ]
  },
  {
   "cell_type": "markdown",
   "id": "8f72d298-6e7a-49a0-82be-afc8309735cd",
   "metadata": {},
   "source": [
    "## 6. Soru\n",
    "**Her şehirde en çok satış yapılan 3 kategoriyi ve onun altında en çok satış yapılan 3 alt kateogriyi şekildeki gibi getiren sorguyu yazınız.**\n",
    "\n",
    "<img src = \"https://i.hizliresim.com/e0effxv.png\">\n",
    "\n",
    "* Zorluk: 5\n",
    "\n",
    "<img src = \"https://i.hizliresim.com/8s83q6g.png\">"
   ]
  },
  {
   "cell_type": "markdown",
   "id": "cf46543f-dcae-4be8-a699-6ffb3a710f3f",
   "metadata": {},
   "source": [
    "## 7. Soru\n",
    "**Tabloları Join ile birleştirerek SALEORDERS tablosunu doldurunuz.**\n",
    "\n",
    "* Zorluk: 4\n",
    "\n",
    "<img src = \"https://i.hizliresim.com/dq2mwjs.png\">\n",
    "\n",
    "* Bir tablonun içini başka bir tablodan veya sorgudan doldurmanın iki yolu vardır.\n",
    "* Birinci yol;\n",
    "* Eğer ortada içi doldurulacak bir tablo yoksa iki şekilde yapılır.\n",
    "* Bir tablo oluşturulur.\n",
    "* İki tabloyu yazdığımız sorgu oluşturur.\n",
    "\n",
    "<img src = \"\">\n",
    "\n",
    "* **Kısaca sorgunu tablo olarak oluşturmak için FROM'dan önce INTO ile tablo ismi vererek tablonu oluştur.**"
   ]
  },
  {
   "cell_type": "markdown",
   "id": "cdbb7adf",
   "metadata": {},
   "source": [
    "## 8. Soru\n",
    "**İlişkisel tabloları kullanarak hangi şehirde ne kadarlık satış yapıldığı bilgisini getiren sorguyu yazınız.**\n",
    "\n",
    "<img src = \"https://i.hizliresim.com/g8xfmxl.png\">\n",
    "\n",
    "* Zorluk: 3\n",
    "\n",
    "<img src = \"https://i.hizliresim.com/egdj1m0.png\">\n",
    "\n",
    "* <CODE>SET STATISTICS IO ON</CODE> sorgu çalışırken belleğin okuduğu page sayısını gösterir.\n",
    "* *JOIN* ile çözebiliyorsan *JOIN* kullan. Yoksa *SUBQUERY*"
   ]
  },
  {
   "cell_type": "markdown",
   "id": "123d895d",
   "metadata": {},
   "source": [
    "## 9. Soru\n",
    "**Her markanın ana kategoriye göre en çok satan CATEGORY1 alanını şekildeki gibi getiren sorguyu yazınız.**\n",
    "\n",
    "<img src = \"https://i.hizliresim.com/euns8vs.png\">\n",
    "\n",
    "* Zorluk: 3\n",
    "\n",
    "<img src = \"https://i.hizliresim.com/laodwg0.png\">"
   ]
  },
  {
   "cell_type": "markdown",
   "id": "8e401da0",
   "metadata": {},
   "source": [
    "## 11. Soru\n",
    "**Her kategorinin içerisinde en çok satan markayı şekildeki gibi getiren sorguyu yazınız.**\n",
    "\n",
    "<img src = \"https://i.hizliresim.com/djwrdb3.png\">\n",
    "\n",
    "* Zorluk: 3\n",
    "\n",
    "<img src = \"https://i.hizliresim.com/5isjbbn.png\">"
   ]
  },
  {
   "cell_type": "markdown",
   "id": "702c350f",
   "metadata": {},
   "source": [
    "## 12. Soru\n",
    "**Her bir ürün zaman içinde farklı fiyatlar ile satılmaktadır. Her ürünün minimum, maximum ve ortalama ne kadar fiyattan satıldığı bilgisi ile kaç kez ve kaç adet satıldığı bilgisini şekildeki gibi getiren sorguyu yazınız.**\n",
    "\n",
    "<img src = \"https://i.hizliresim.com/6j1nhdj.png\">\n",
    "\n",
    "* Zorluk: 3\n",
    "\n",
    "<img src = \"https://i.hizliresim.com/g1nklar.png\">"
   ]
  },
  {
   "cell_type": "markdown",
   "id": "31419000",
   "metadata": {},
   "source": [
    "## 13. Soru\n",
    "**Müşterilerin sistemde kayıtlı olduğu adres sayısını ve son alışveriş yaptığı adres bilgisini şekildei gibi getiren sorguyu yazınız.**\n",
    "\n",
    "<img src = \"https://i.hizliresim.com/ql7z748.png\">\n",
    "\n",
    "* Zorluk: 4\n",
    "\n",
    "<img src = \"https://i.hizliresim.com/7g4klmo.png\">"
   ]
  },
  {
   "cell_type": "markdown",
   "id": "888f811c",
   "metadata": {},
   "source": [
    "## 14. Soru\n",
    "**Müşterilerin sistemde kayıtlı adres sayısını ve son alışveriş yaptığı adres bilgisini şehir, ilçe ve semti ile birlikte şekildei gibi getiren sorguyu yazınız.**\n",
    "\n",
    "<img src = \"https://i.hizliresim.com/e2prkug.png\">\n",
    "\n",
    "* Zorluk: 5\n",
    "\n",
    "<img src = \"https://i.hizliresim.com/k038pex.png\">"
   ]
  },
  {
   "cell_type": "markdown",
   "id": "e798cf62",
   "metadata": {},
   "source": [
    "## 15. Soru\n",
    "**Ocak ayı içerisinde en az 10 gün boyunca günlük 500 TL ve altında sipariş veren şehirleri şekildeki gibi listerettiren sorguyu yazınız.**\n",
    "\n",
    "<img src = \"https://i.hizliresim.com/4m2jg4f.png\">\n",
    "\n",
    "* Zorluk: 5\n",
    "\n",
    "<img src = \"https://i.hizliresim.com/e3aols3.png\">\n",
    "\n",
    "#### Alternatif\n",
    "\n",
    "<img src = \"https://i.hizliresim.com/64iwl64.png\">"
   ]
  }
 ],
 "metadata": {
  "kernelspec": {
   "display_name": "Python 3 (ipykernel)",
   "language": "python",
   "name": "python3"
  },
  "language_info": {
   "codemirror_mode": {
    "name": "ipython",
    "version": 3
   },
   "file_extension": ".py",
   "mimetype": "text/x-python",
   "name": "python",
   "nbconvert_exporter": "python",
   "pygments_lexer": "ipython3",
   "version": "3.10.5"
  }
 },
 "nbformat": 4,
 "nbformat_minor": 5
}
