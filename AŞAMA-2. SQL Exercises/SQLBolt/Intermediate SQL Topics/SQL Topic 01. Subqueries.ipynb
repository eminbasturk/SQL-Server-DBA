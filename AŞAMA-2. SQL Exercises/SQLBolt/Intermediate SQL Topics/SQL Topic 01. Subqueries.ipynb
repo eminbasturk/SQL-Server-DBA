{
 "cells": [
  {
   "cell_type": "markdown",
   "id": "b8963dcd",
   "metadata": {},
   "source": [
    "## Intermediate SQL Topics\n",
    "**Orta Düzey SQL Konuları**\n",
    "\n",
    "Başlamadan önce, **Interactive Tutorial** eğitimini henüz tamamlamadıysan veya SQL konusunda kendini rahat hissetmiyorsan, lütfen devam etmeden önce bunu tamamla. Aşağıdaki ayrıntılı konular, gerçek dünya verileriyle uğraşırken yararlı bulabileceğin daha gelişmiş SQL yapılarını keşfederek tutorialdkai derslerin temelini oluşturacaktır."
   ]
  },
  {
   "cell_type": "markdown",
   "id": "69a76dae",
   "metadata": {},
   "source": [
    "# SQL Topic 01: Subqueries\n",
    "**SQL Konu 01: Alt sorgular**"
   ]
  },
  {
   "cell_type": "code",
   "execution_count": null,
   "id": "25d3a75b",
   "metadata": {},
   "outputs": [],
   "source": []
  }
 ],
 "metadata": {
  "kernelspec": {
   "display_name": "Python 3 (ipykernel)",
   "language": "python",
   "name": "python3"
  },
  "language_info": {
   "codemirror_mode": {
    "name": "ipython",
    "version": 3
   },
   "file_extension": ".py",
   "mimetype": "text/x-python",
   "name": "python",
   "nbconvert_exporter": "python",
   "pygments_lexer": "ipython3",
   "version": "3.11.1"
  }
 },
 "nbformat": 4,
 "nbformat_minor": 5
}
