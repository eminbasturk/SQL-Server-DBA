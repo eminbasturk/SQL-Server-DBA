{
 "cells": [
  {
   "cell_type": "markdown",
   "id": "32530a7f",
   "metadata": {},
   "source": [
    "# SQL Lesson 18: Dropping tables\n",
    "**SQL Ders 18: Tabloları bırakma**\n",
    "\n",
    "* Bazı nadir durumlarda, tüm verileri ve meta verileri dahil olmak üzere bir tablonun tamamını kaldırmak isteyebilirsin ve bunu yapmak için, tablo şemasını da kaldırması bakımından **DELETE** ifadesinden farklı olan **DROP TABLE** deyimini kullanabilirsin.\n",
    "\n",
    "<img src = \"https://i.hizliresim.com/b1sw0co.png\">\n",
    "\n",
    "* **CREATE TABLE** deyimi gibi, belirtilen tablo yoksa veritabanı bir hata verebilir ve bu hatayı bastırmak için **IF EXISTS** deyimini kullanabilirsin.\n",
    "* Ek olarak, kaldırdığın tablodaki sütunlara bağlı olan başka bir tablon varsa (örneğin **FOREIGN KEY** bağımlılığı olan), o zaman bağımlı satırları kaldırmak için önce tüm bağımlı tabloları güncellemen veya bu tabloları tamamen kaldırman gerekir."
   ]
  },
  {
   "cell_type": "markdown",
   "id": "d347b409",
   "metadata": {},
   "source": [
    "## Exercise\n",
    "* Alıştırmaların sonu.\n",
    "\n",
    "<img src = \"https://i.hizliresim.com/cw7krl6.png\">\n",
    "\n",
    "### 1. Maalesef dersin sonuna geldik, Movies tablosunu kaldırarak ortalığı toparla.\n",
    "\n",
    "<img src = \"https://i.hizliresim.com/t0s4l8r.png\">\n",
    "\n",
    "<img src = \"https://i.hizliresim.com/s9ckzwt.png\">\n",
    "\n",
    "### 2. Ve BoxOffice tablosunu da bırak...\n",
    "\n",
    "<img src = \"https://i.hizliresim.com/t0s4l8r.png\">\n",
    "\n",
    "<img src = \"https://i.hizliresim.com/re3b5qe.png\">"
   ]
  }
 ],
 "metadata": {
  "kernelspec": {
   "display_name": "Python 3 (ipykernel)",
   "language": "python",
   "name": "python3"
  },
  "language_info": {
   "codemirror_mode": {
    "name": "ipython",
    "version": 3
   },
   "file_extension": ".py",
   "mimetype": "text/x-python",
   "name": "python",
   "nbconvert_exporter": "python",
   "pygments_lexer": "ipython3",
   "version": "3.11.1"
  }
 },
 "nbformat": 4,
 "nbformat_minor": 5
}
