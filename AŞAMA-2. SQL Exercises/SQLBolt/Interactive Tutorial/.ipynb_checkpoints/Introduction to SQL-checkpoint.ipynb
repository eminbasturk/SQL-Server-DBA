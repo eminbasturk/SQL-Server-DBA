{
 "cells": [
  {
   "cell_type": "markdown",
   "id": "ec234ee0",
   "metadata": {},
   "source": [
    "# SQLBolt\n",
    "* Learn SQL with simple, interactive exercises. (Basit ve interaktif egzersizlerle SLQ öğren.)\n",
    "\n"
   ]
  },
  {
   "cell_type": "markdown",
   "id": "daf323ab",
   "metadata": {},
   "source": [
    "## Introduction to SQL\n",
    "* SQLBolt'a hoş geldin.\n",
    "* SQLBolt, doğrudan tarayıcından erişebileceğin bir dizi interaktif ders ile SQL'i hızlı bir şekilde öğrenmeye yardımcı olmayı amaçlar.\n",
    "\n",
    "### What is SQL?\n",
    "* SQL ya da Structured Query Language, hem teknik hem de teknik olmayan kullanıcıların ilişkisel bir veritabanından verileri sorgulamasına, değiştirmesine ve dönüştürmesine izin vermek için tasarlanmış bir dildir. Sadeliği nedeniyle, SQL veritabanları milyonlarca web sitesi ve mobil uygulama için güvenli ve ölçeklenebilir depolama sağlar.\n",
    "\n",
    "#### Did you know?\n",
    "* SQLite, MySQL, Postgres, Oracle ve Microsoft SQL Server dahil olmak üzere birçok popüler SQL veritabanı vardır. Hepsi, bu sitenin öğreteceği ortak SQL dil standardını destekler, ancak her uygulama, desteklediği ek özellikler ve depolama türleri açısından farklılık gösterebilir.\n"
   ]
  },
  {
   "cell_type": "markdown",
   "id": "e2569300",
   "metadata": {},
   "source": [
    "### Relational databases\n",
    "\n",
    "* SQL syntaxını öğrenmeden önce, ilişkisel veritabanının gerçekte ne olduğuna dair bir modelinin olması önemlidir. İlişkisel bir veritabanı, ilgili (iki boyutlu) tabloların bir koleksiyonunu temsil eder. Tabloların her biri, sabit sayıda adlandırılmış kolon (tablonun attribute(nitelik)ları ve properties(özellikleri)) ve herhangi bir sayıda veri satırı içeren bir Excel spreadsheet (elektronik tablosuna)'e benzer.\n",
    "\n",
    "* Örneğin, Department of Motor Vehicles (Motorlu Taşıtlar Dairesi)'nin bir veri tabanı varsa, eyaletteki insanların kullandığı bilinen tüm araçları içeren bir tablo bulabilirsin. Bu tablonun, örneğin her aracın model adını, tipini, tekerlek sayısını ve kapı sayısını kaydetmesi gerekebilir.\n",
    "\n",
    "<img src = \"https://i.hizliresim.com/297dt4z.png\">\n",
    "\n",
    "* Böyle bir veritabanında, eyaletteki tüm kayıtlı sürücülerin listesi, verilebilecek sürücü belgesi türleri ve hatta her sürücü için sürüş ihlalleri gibi bilgileri içeren ek ilgili tablolar bulabilirsin.\n",
    "\n",
    "* SQL öğrenmenin amacı, bu verilerle ilgili \"Yoldaki hangi tür araçların dörtten az tekerleği vardır?\" veya \"Tesla kaç model araba üretiyor?\" gibi belirli soruları nasıl yanıtlayacağını öğrenmektir. Bu tür sorgular yol ile ilgili daha iyi kararlar verebilmemizi sağlar."
   ]
  },
  {
   "cell_type": "markdown",
   "id": "a0eb89eb",
   "metadata": {},
   "source": [
    "### About the lessons\n",
    "\n",
    "* Çoğu kullanıcı, mevcut bir veritabanıyla etkileşim kurmak için SQL öğreneceğinden, dersler sana bir SQL sorgsuunun çeşitli bölümlerini tanıtarak başlar. Daha sonraki dersler sana bir tabloyu (veya şemayı) nasıl değiştireceğini ve nasıl sıfırdan yeni tablolar oluşturacağını gösterecek.\n",
    "\n",
    "* Her ders farklı bir kavramı tanıtacak ve etkileşimli bir alıştırma ile sona erecek. Kendi hızında ilerle ve devam etmeden önce egzersizleri denemek için zaman harcamaktan korkma! Zaten SQL'e aşina isen, sağ üstteki bağlantıları kullanarak ileri atlayabilirsin, ancak yine de derslere çalışmanı öneririm!\n",
    "\n",
    "* Sonunda, SQL'i kendi projelerinde ve ötesinde kullanmak için güçlü bir temele sahip olabileceğini umuyorum."
   ]
  }
 ],
 "metadata": {
  "kernelspec": {
   "display_name": "Python 3 (ipykernel)",
   "language": "python",
   "name": "python3"
  },
  "language_info": {
   "codemirror_mode": {
    "name": "ipython",
    "version": 3
   },
   "file_extension": ".py",
   "mimetype": "text/x-python",
   "name": "python",
   "nbconvert_exporter": "python",
   "pygments_lexer": "ipython3",
   "version": "3.11.1"
  }
 },
 "nbformat": 4,
 "nbformat_minor": 5
}
