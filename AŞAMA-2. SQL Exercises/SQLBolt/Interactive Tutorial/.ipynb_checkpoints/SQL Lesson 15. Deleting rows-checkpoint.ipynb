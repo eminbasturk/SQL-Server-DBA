{
 "cells": [
  {
   "cell_type": "markdown",
   "id": "346cf60d",
   "metadata": {},
   "source": [
    "# SQL Lesson 15: Deleting rows\n",
    "**SQL Ders 15: Satırları silme**\n",
    "\n",
    "* Veritabanındaki bir tablodan veri silmen gerektiğinde, **WHERE** deyimi aracılığıyla üzerinde işlem yapılacak tabloyu ve silinecek tablonun satırlarını açıklayan bir **DELETE** deyimi kullanabilirsin.\n",
    "\n",
    "<img src = \"https://i.hizliresim.com/bo2qb8w.png\">\n",
    "\n",
    "* **WHERE** kısıtlamasını dışarıda bırakmaya karar verirsen, tüm satırlar kaldırılır; bu, (kasıtlıysa) bir tabloyu tamamen temizlemenin hızlı ve kolay bir yoludur.\n",
    "\n",
    "### Taking extra care\n",
    "**Daha dikkatli ol**\n",
    "\n",
    "* Son dersteki **UPDATE** ifadesinde olduğu gibi, doğru satırları kaldırdığından emin olmak için kısıtlamayı önce bir **SELECT** sorgusunda çalıştırman önerilir. uygun bir yedekleme veya test veritabanı olmadan, verileri geri alınamayacak şekilde kaldırmak tamamen kolaydır, bu nedenle **DELETE** ifadelerini her zaman iki kez oku ve bir kez çalıştır."
   ]
  },
  {
   "cell_type": "markdown",
   "id": "f3633f3a",
   "metadata": {},
   "source": [
    "## Exercise\n",
    "\n",
    "* Veritabanının biraz temizlenmesi gerekiyor, bu yüzden aşağıdaki görevlerde birkaç satırı silmeye çalış.\n",
    "\n",
    "### 1. Bu veritabanı çok büyüyor. 2005'ten önce yayınlanan tüm filmleri kaldıralım.\n",
    "\n",
    "<img src = \"https://i.hizliresim.com/73jxddu.png\">\n",
    "\n",
    "### 2. Andrew Stanton da stüdyodan ayrıldı, bu yüzden lütfen onun yönettiği tüm filmleri kaldır.\n",
    "\n",
    "<img src = \"https://i.hizliresim.com/oy9nyaw.png\">"
   ]
  }
 ],
 "metadata": {
  "kernelspec": {
   "display_name": "Python 3 (ipykernel)",
   "language": "python",
   "name": "python3"
  },
  "language_info": {
   "codemirror_mode": {
    "name": "ipython",
    "version": 3
   },
   "file_extension": ".py",
   "mimetype": "text/x-python",
   "name": "python",
   "nbconvert_exporter": "python",
   "pygments_lexer": "ipython3",
   "version": "3.11.1"
  }
 },
 "nbformat": 4,
 "nbformat_minor": 5
}
