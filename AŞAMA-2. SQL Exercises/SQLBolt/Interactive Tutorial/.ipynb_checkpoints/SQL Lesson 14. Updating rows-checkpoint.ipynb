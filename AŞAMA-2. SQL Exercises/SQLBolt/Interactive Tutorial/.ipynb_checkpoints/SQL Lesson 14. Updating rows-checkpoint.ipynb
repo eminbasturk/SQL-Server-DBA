{
 "cells": [
  {
   "cell_type": "markdown",
   "id": "dd7d50d9",
   "metadata": {},
   "source": [
    "# SQL Lesson 14: Updating rows\n",
    "**SQL Ders 14: Satırları güncelleme**\n",
    "\n",
    "* Yeni veri eklemeye ek olarak, **UPDATE** deyimi kullanılarak yapılabilen mevcut verileri güncellemek yaygın bir görevdir. **INSERT** ifadesine benzer şekilde, tam olarak hangi tablonun, kolonların ve satırların güncelleneceğini belirtmen gerekir. Ayrıca güncellemekte olduğun veriler, tablo şemasındaki sütunların veri türüyle eşleşmelidir.\n",
    "\n",
    "<img src = \"https://i.hizliresim.com/e974czh.png\">\n",
    "\n",
    "* İfade, birden fazla kolon/değer çifti alarak ve bu değişiklikleri **WHERE** deyimindeki kısıtlamayı karşılayan her satıra uygulayarak çalışır.\n",
    "\n",
    "### Taking care\n",
    "**Dikkatli ol**\n",
    "\n",
    "* SQL ile çalışan çoğu kişi, bir noktada verileri güncellerken hatalar yapacaktır. Bir üretim veritabanındaki yanlış satır kümesini güncellemek veya yanlışlıkla **WHERE** deyimini dışarıda bırakmak (güncellemenin tüm satırlara uygulanmasına neden olur), **UPDATE** deyimlerini oluştururken ekstra dikkatli olman gerekir. \n",
    "\n",
    "* Yararlı bir ipucu, her zaman önce kısıtlamayı yazmak ve doğru satırları güncellediğinden emin olmak için bir **SELECT** sorgusunda test etmek ve ancak bundan sonra güncellemek için kolon/değer çiftlerini yazmaktır."
   ]
  },
  {
   "cell_type": "markdown",
   "id": "ae248d09",
   "metadata": {},
   "source": [
    "## Exercise\n",
    "* Görünüşe göre **Movies** veritabanımızdaki bazı bilgiler yanlış olabilir, bu yüzden devam et ve aşağıdaki alıştırmaları yaparak bunları düzelt.\n",
    "\n",
    "### 1. A Bug's Life'ın yönetmeni yanlış, aslında John Lasseter tarafından yönetildi.\n",
    "\n",
    "<img src = \"https://i.hizliresim.com/awwm902.png\">\n",
    "\n",
    "### 2. Toy Story 2'nin çıkış yılı yanlış, aslında 1999'da vizyona girdi.\n",
    "\n",
    "<img src = \"https://i.hizliresim.com/emw1ioe.png\">\n",
    "\n",
    "### 3. Toy Story 8'in hem adı hem de yönetmeni yanlış! \"Toy Story 3\" olmalı ve Lee Unkrich tarafından yönetildi.\n",
    "\n",
    "<img src =\"https://i.hizliresim.com/br7ll9e.png\">"
   ]
  }
 ],
 "metadata": {
  "kernelspec": {
   "display_name": "Python 3 (ipykernel)",
   "language": "python",
   "name": "python3"
  },
  "language_info": {
   "codemirror_mode": {
    "name": "ipython",
    "version": 3
   },
   "file_extension": ".py",
   "mimetype": "text/x-python",
   "name": "python",
   "nbconvert_exporter": "python",
   "pygments_lexer": "ipython3",
   "version": "3.11.1"
  }
 },
 "nbformat": 4,
 "nbformat_minor": 5
}
