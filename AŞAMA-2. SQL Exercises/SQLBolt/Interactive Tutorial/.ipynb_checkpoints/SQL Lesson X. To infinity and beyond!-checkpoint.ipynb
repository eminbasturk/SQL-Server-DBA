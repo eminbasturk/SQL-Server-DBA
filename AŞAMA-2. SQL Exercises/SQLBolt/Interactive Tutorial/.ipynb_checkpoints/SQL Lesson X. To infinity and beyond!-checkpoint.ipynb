{
 "cells": [
  {
   "cell_type": "markdown",
   "id": "bc772a57",
   "metadata": {},
   "source": [
    "# SQL Lesson X: To infinity and beyond!\n",
    "**SQL Ders X: Sonsuza ve ötesine!**\n",
    "\n",
    "Tutorialı bitirdin. \n",
    "Derslerin sana SQL ile biraz daha fazla deneyim ve SQL'i kendi verilerinle kullanmak için biraz daha güven verdiğini umuyorum. SQL'in neler yapabileceğini biraz önce gözden geçirdin, bu nedenle SQL'in gerçek dünyada nasıl kullanılabileceği hakkında daha iyi bir fikir edinmek için **More Topics** bölümünden ilerleyebilirsin. Vaktin varsa, SQL'in derinliklerine dalmaya devam et. Daha fazla ayrıntıya ihtiyaç duyarsan, özellikle her veritabanının kendine özgü özellikleri ve optimizasyonları olduğundan, kullandığın belirli veritabanına ilişkin belgeleri okumanı da öneririm. "
   ]
  }
 ],
 "metadata": {
  "kernelspec": {
   "display_name": "Python 3 (ipykernel)",
   "language": "python",
   "name": "python3"
  },
  "language_info": {
   "codemirror_mode": {
    "name": "ipython",
    "version": 3
   },
   "file_extension": ".py",
   "mimetype": "text/x-python",
   "name": "python",
   "nbconvert_exporter": "python",
   "pygments_lexer": "ipython3",
   "version": "3.11.1"
  }
 },
 "nbformat": 4,
 "nbformat_minor": 5
}
