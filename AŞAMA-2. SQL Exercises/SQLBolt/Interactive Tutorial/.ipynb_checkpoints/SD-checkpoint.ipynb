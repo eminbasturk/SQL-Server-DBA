{
 "cells": [
  {
   "cell_type": "markdown",
   "id": "63ad4a5f",
   "metadata": {},
   "source": [
    "# SQL Review: Simple SELECT Queries\n",
    "**SQL İnceleme: Basit SELECT Sorguları**\n",
    "\n",
    "* Bu noktaya gelmekte iyi bir iş çıkardın! Artık temel bir sorgu yazmanın tadına vardığına göre, gerçek sorunları çözen sorgular yazma alıştırması yapman gerekir.\n",
    "\n",
    "### SELECT sorgusu\n",
    "\n",
    "<img src = \"https://i.hizliresim.com/d7m1gbd.png\">"
   ]
  },
  {
   "cell_type": "markdown",
   "id": "32e38021",
   "metadata": {},
   "source": [
    "## Exercise\n",
    "\n",
    "* Aşağıdaki alıştırmada, farklı bir tabloyla çalışıyor olacaksın. Bu tablo, nüfusları ve dünyadaki jeo-uzaysal konumları da dahil olmak üzere Kuzey Amerika'nın en kalabalık şehirlerinden birkaçı hakkında bilgi içeriyor.\n",
    "\n",
    "#### Did you know?\n",
    "* Pozitif enlemler kuzey yarımküreye, pozitif boylamlar ise doğu yarımküreye karşılık gelir. Kuzey Amerika ekvatorun kuzeyinde ve başlangıç meridyeninin batısında yer aldığından, listedeki tüm şehirlerin pozitif enlemleri ve negatif boylamları vardır.\n",
    "\n",
    "* Bildiğin görevlerde istenen bilgileri bulmak için bazı sorgular yazmayı dene. Her görev için sorgunda farklı bir clause bileşimi kullanman gerekebilir. İşin bittiğinde, birden çok tabloya yayılan sorgular hakkında bilgi edinmek için bir sonraki derse geç.\n",
    "\n",
    "### 1. Kanada'nın bütün şehirlerini ve nüfuslarını listele.\n",
    "\n",
    "<img src = \"https://i.hizliresim.com/3mcpanj.png\">\n",
    "<img src = \"https://i.hizliresim.com/89yt5t3.png\">\n",
    "\n",
    "### 2. ABD'deki tüm şehirleri kuzeyden güneye enlemlerine göre sırala.\n",
    "\n",
    "<img src = \"https://i.hizliresim.com/1t25bjf.png\">\n",
    "<img src = \"https://i.hizliresim.com/4g94igq.png\">\n",
    "\n",
    "### 3. Chicago'nun batısındaki tüm şehirleri, batıdan doğuya olacak şekilde sırala.\n",
    "\n",
    "<img src = \"https://i.hizliresim.com/l7u5v4d.png\">\n",
    "<img src = \"https://i.hizliresim.com/tgi2dzd.png\">\n",
    "\n",
    "### 4. Meksika'daki nüfusu en fazla olan iki şehri listele.\n",
    "\n",
    "<img src = \"https://i.hizliresim.com/b5clsfo.png\">\n",
    "<img src = \"https://i.hizliresim.com/dab80ts.png\">\n",
    "\n",
    "### 5. ABD'deki nüfusa göre en büyük üçüncü ve dördüncü şehri ve nüfuslarını listele.\n",
    "\n",
    "<img src = \"https://i.hizliresim.com/fw4xoxa.png\">\n",
    "<img src = \"https://i.hizliresim.com/th9dfie.png\">"
   ]
  }
 ],
 "metadata": {
  "kernelspec": {
   "display_name": "Python 3 (ipykernel)",
   "language": "python",
   "name": "python3"
  },
  "language_info": {
   "codemirror_mode": {
    "name": "ipython",
    "version": 3
   },
   "file_extension": ".py",
   "mimetype": "text/x-python",
   "name": "python",
   "nbconvert_exporter": "python",
   "pygments_lexer": "ipython3",
   "version": "3.11.1"
  }
 },
 "nbformat": 4,
 "nbformat_minor": 5
}
