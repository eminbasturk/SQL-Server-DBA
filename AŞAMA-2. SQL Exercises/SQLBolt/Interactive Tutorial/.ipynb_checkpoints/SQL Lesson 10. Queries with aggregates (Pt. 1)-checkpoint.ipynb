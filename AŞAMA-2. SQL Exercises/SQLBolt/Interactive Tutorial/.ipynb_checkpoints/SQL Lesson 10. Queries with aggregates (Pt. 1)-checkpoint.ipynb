{
 "cells": [
  {
   "cell_type": "markdown",
   "id": "90bcc52a",
   "metadata": {},
   "source": [
    "# SQL Lesson 10: Queries with aggregates (Pt. 1)\n",
    "**SQL Ders 10: Toplamalı sorgular (Pt.1)**\n",
    "\n",
    "* SQL, geçen derste tanıttığımız basit ifadelere ek olarak, bir veri satırı grubu hakkındaki bilgileri özetlemenizi sağlayan toplu ifadelerin (veya fonksiyonların) kullanımını da destekler. Kullanmakta olduğun Pixar veri tabanı ile, \"Pixar kaç film çekti?\" veya \"Her yıl en çok hasılat yapan Pixar filmi nedir?\" gibi soruları yanıtlamak için aggregate functionları kullanılabilir.\n",
    "\n",
    "<img src = \"https://i.hizliresim.com/ksa18cu.png\">\n",
    "\n",
    "* Belirli bir gruplama olmadan, her toplama işlevi tüm sonuç satırları kümesinde çalışacak ve tek bir değer döndürecektir. Ve normal ifadelerde olduğu gibi, toplama fonksiyonlarına bir alias vermek, sonuçların daha kolay okunmasını ve işlenmesini sağlar.\n",
    "\n",
    "### Common aggregate functions\n",
    "**Ortak toplama fonksiyonları**\n",
    "\n",
    "* Örneklerde kullanılacak bazı genel toplama fonksiyonları şunlardır: \n",
    "\n",
    "#### COUNT(*), COUNT(column)\n",
    "\n",
    "Kolon adı belirtilmezse gruptaki satır sayısını saymak için kullanılan yaygın bir fonksiyon. Aksi takdirde, belirtilen sütunda NULL olmayan değerlere sahip gruptaki satır sayısını sayar.\n",
    "\n",
    "#### MIN(column)\n",
    "\n",
    "Gruptaki tüm satırlar için belirtilen kolondaki en küçük sayısal değeri bulur.\n",
    "\n",
    "#### MAX(column)\n",
    "\n",
    "Gruptaki tüm satırlar için belirtilen kolondaki en büyük sayısal değeri bulur.\n",
    "\n",
    "#### AVG(column)\n",
    "\n",
    "Gruptaki tüm satırlar için belirtilen kolondaki ortalama sayısal değeri bulur.\n",
    "\n",
    "#### SUM(column)\n",
    "\n",
    "Gruptaki tüm satırlar için belirtilen kolondaki tüm sayısal değerlerin toplamını bulur.\n",
    "\n",
    "### Grouped aggregate functions\n",
    "**Gruplanmış aggregate fonksiyonlar**\n",
    "\n",
    "Tüm satırlarda toplamaya ek olarak, toplama fonksiyonlarını o grup içindeki bireysel veri gruplarına da uygulayabilirsin (örn. komedi ve aksiyon filmleri için gişe satışları)\n",
    "\n",
    "* Bu daha sonra **GROUP BY** deyimi tarafından tanımlanan benzersiz gruplar kadar çok sonuç yaratacaktır.\n",
    "\n",
    "<img src = \"https://i.hizliresim.com/o64lufn.png\">\n",
    "\n",
    "* **GROUP BY** deyimi, belirtilen sütunda aynı değere sahip satırları gruplandırarak çalışır."
   ]
  },
  {
   "cell_type": "markdown",
   "id": "b4738f17",
   "metadata": {},
   "source": [
    "## Exercise\n",
    "\n",
    "* Bu alıştırma için, **Employees** tablosuyla çalışacaksın. Bu tablodaki satırların, ekipler hakkında bazı üst düzey ölçümleri özetlemek için toplama fonksiyonlarını kullanma fırsatı verecek olan verileri nasıl paylaştığına dikkat et.\n",
    "\n",
    "### 1. Bir çalışanın stüdyoda bulunduğu en uzun süreyi bul.\n",
    "\n",
    "<img src = \"https://i.hizliresim.com/fqbe1co.png\">\n",
    "\n",
    "<img src = \"https://i.hizliresim.com/9k6j97l.png\">\n",
    "\n",
    "### 2. Her rol için, çalışanların o rolde çalıştıkları ortalama yıl sayısını bul.\n",
    "\n",
    "<img src = \"https://i.hizliresim.com/izmd9ri.png\">\n",
    "\n",
    "<img src = \"https://i.hizliresim.com/f4o96yu.png\">\n",
    "\n",
    "### 3. Her binada çalışılan toplam çalışan yılı sayısını bul.\n",
    "\n",
    "<img src = \"https://i.hizliresim.com/s8ptwwf.png\">\n",
    "\n",
    "<img src = \"https://i.hizliresim.com/osw2rq9.png\">"
   ]
  }
 ],
 "metadata": {
  "kernelspec": {
   "display_name": "Python 3 (ipykernel)",
   "language": "python",
   "name": "python3"
  },
  "language_info": {
   "codemirror_mode": {
    "name": "ipython",
    "version": 3
   },
   "file_extension": ".py",
   "mimetype": "text/x-python",
   "name": "python",
   "nbconvert_exporter": "python",
   "pygments_lexer": "ipython3",
   "version": "3.11.1"
  }
 },
 "nbformat": 4,
 "nbformat_minor": 5
}
