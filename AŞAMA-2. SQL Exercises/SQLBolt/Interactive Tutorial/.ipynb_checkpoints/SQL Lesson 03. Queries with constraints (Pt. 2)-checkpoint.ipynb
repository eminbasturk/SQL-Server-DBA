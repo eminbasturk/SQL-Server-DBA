{
 "cells": [
  {
   "cell_type": "markdown",
   "id": "c653100d",
   "metadata": {},
   "source": [
    "# SQL Lesson 3: Queries with constraints (Pt. 2)¶\n",
    "**SQL Ders 2: Kısıtlamalı sorgular (Part 2)**\n",
    "\n",
    "* SQL, metin verileri içeren sütunlarla <code>WHERE</code> clauseları yazarken, case-insensitive string comparison (büyük/küçük harfe duyarsız dize kaşılaştırması) ve wildcard pattern matching (joker karakter örüntüsü eşleştirme) gibi şeyler yapmak için bir dizi kullanışlı operatör destekler. Aşağıda birkaç genel metin verisine özgü operatörü görüyorsun: \n",
    "\n",
    "<img src = \"https://i.hizliresim.com/6fzymle.png\">\n",
    "\n",
    "#### Did you know?\n",
    "* Sorgu parserin (çözümleyici) sözcükleri SQL keywordlerinden ayırt edebilmesi için tüm stringlerin tırnak içerisine alınması gerekir.\n",
    "\n",
    "* Bu operatörler kullanırken çoğu veritabanı uygulaması oldukça verimli olsa da, full-text arama için en iyi araçların *Apache Lucene* ya da *Sphinx* gibi özel kütüphaneler olduğunu unutma. Bu kütüphaneler full-text arama yapmak için özel olarak tasarlanmıştır ve sonuç olarak daha verimlidir. Uluslararasılaştırma ve gelişmiş sorgular dahil olmak üzere çok çeşitli arama özelliklerini destekleyebilir."
   ]
  },
  {
   "cell_type": "markdown",
   "id": "51f2ffe7",
   "metadata": {},
   "source": [
    "## Exercise\n",
    "* İşte yine <code>WHERE</code> clauseu olan bir sorgunun tanımı, devam et ve sonuçları aşağıdaki görevlerde ihtiyacın olan bilgilerle sınırlamak için yukarıdaki operatörlerle bazı sorgular yazmayı dene.\n",
    "\n",
    "<img src = \"https://i.hizliresim.com/8zvyoti.png\">\n",
    "\n",
    "### 1. Bütün Toy Story filmlerini bul.\n",
    "\n",
    "<img src = \"https://i.hizliresim.com/ksqjcht.png\">\n",
    "<img src = \"https://i.hizliresim.com/cnm9qvp.png\">\n",
    "\n",
    "### 2. John Lasseter'ın yönettiği bütün filmleri bul.\n",
    "\n",
    "<img src = \"https://i.hizliresim.com/zmce3vl.png\">\n",
    "<img src = \"https://i.hizliresim.com/dtbuji7.png\">\n",
    "\n",
    "### 3. John Lasseter tarafından yönetilmeyen tüm filmleri (ve yönetmeni) bul.\n",
    "\n",
    "<img src = \"https://i.hizliresim.com/ks8lr63.png\">\n",
    "\n",
    "### 4. Bütün WALL-* filmlerini bul.\n",
    "\n",
    "<img src = \"https://i.hizliresim.com/1k337ql.png\">\n",
    "<img src = \"https://i.hizliresim.com/1bp140b.png\">"
   ]
  }
 ],
 "metadata": {
  "kernelspec": {
   "display_name": "Python 3 (ipykernel)",
   "language": "python",
   "name": "python3"
  },
  "language_info": {
   "codemirror_mode": {
    "name": "ipython",
    "version": 3
   },
   "file_extension": ".py",
   "mimetype": "text/x-python",
   "name": "python",
   "nbconvert_exporter": "python",
   "pygments_lexer": "ipython3",
   "version": "3.11.1"
  }
 },
 "nbformat": 4,
 "nbformat_minor": 5
}
