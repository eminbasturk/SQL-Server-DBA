{
 "cells": [
  {
   "cell_type": "markdown",
   "id": "87b13bd8",
   "metadata": {},
   "source": [
    "# SQL Lesson 8: A short note on NULLs\n",
    "**SQL Ders 8: NULL'lar hakkında kısa bir not**\n",
    "\n",
    "* Sorgular, kısıtlamalar (belirli fonksiyonlar null değerlere farklı davranır) oluştururken ve sonuçları işlerken özel dikkat gerektirdiğinden, veritabanlarında **NULL** değerleri olasılığını azaltmak her zaman iyidir.\n",
    "* Veritabanındaki **NULL** değerlere alternatif, sayısal veriler için 0, metin verileri için boş dizeler vb. gibi **veri türüne uygun default değerler**e sahip olmaktır. Ancak veritabanında eksik verilerin depolanması gerekiyorsa, default değerler daha sonraki analizleri çarpıtacaksa (örneğin, sayısal verilerde ortalama alırken) **NULL** değerleri uygun olabilir.\n",
    "* **OUTER JOIN**lerde olduğu gibi bazen **NULL** değerlerden kaçınmak da mümkün değildir. Bu durumlarda **IS NULL** veya **IS NOT NULL** kısıtlamasını kullanarak bir **WHERE** clause'undaki **NULL** değerler için bir sütunu test edebilirsin.\n",
    "\n",
    "<img src = \"https://i.hizliresim.com/cfpnv3l.png\">"
   ]
  },
  {
   "cell_type": "markdown",
   "id": "81ae0909",
   "metadata": {},
   "source": [
    "## Exercise\n",
    "* Bu alıştırma, son birkaç dersin bir tür gözden geçirilmesi olacak. Geçen dersteki **Employees** ve **Buildings** tablosu kullanılacak, ancak henüz bir bina atanmamış birkaç kişi işe alındı.\n",
    "\n",
    "<img src = \"https://i.hizliresim.com/iuy81z7.png\">\n",
    "\n",
    "### 1. Bir binaya atanmamış tüm çalışanların adını ve rolünü bul.\n",
    "\n",
    "<img src = \"https://i.hizliresim.com/h4z0cmt.png\">\n",
    "\n",
    "<img src = \"https://i.hizliresim.com/ssa6h4w.png\">\n",
    "\n",
    "### 2. Çalışanı olmayan binaların adlarını bul.\n",
    "\n",
    "<img src = \"https://i.hizliresim.com/dr3gxcv.png\">\n",
    "\n",
    "<img src = \"https://i.hizliresim.com/argne2r.png\">"
   ]
  }
 ],
 "metadata": {
  "kernelspec": {
   "display_name": "Python 3 (ipykernel)",
   "language": "python",
   "name": "python3"
  },
  "language_info": {
   "codemirror_mode": {
    "name": "ipython",
    "version": 3
   },
   "file_extension": ".py",
   "mimetype": "text/x-python",
   "name": "python",
   "nbconvert_exporter": "python",
   "pygments_lexer": "ipython3",
   "version": "3.11.1"
  }
 },
 "nbformat": 4,
 "nbformat_minor": 5
}
