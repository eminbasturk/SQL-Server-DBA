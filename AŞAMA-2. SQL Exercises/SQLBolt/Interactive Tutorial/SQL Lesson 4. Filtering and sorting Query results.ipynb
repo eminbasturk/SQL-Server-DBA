{
 "cells": [
  {
   "cell_type": "markdown",
   "id": "2e2252bb",
   "metadata": {},
   "source": [
    "# SQL Lesson 4: Filtering and sorting Query results\n",
    "**SQL Ders 4: Sorgu sonuçlarını filtreleme ve sıralama**\n",
    "\n",
    "* Bir veritabanındaki veriler benzersiz olsa bile, belirli bir sorgunun sonuçları aynı olmayabilir - örneğin Movies tablosunu ele alalım, aynı yıl birçok farklı film vizyona girebilir. Bu gibi durumlarda SQL, <code>DISTINCT</code> keywordünü kullanarak yinelenen sütun değerine sahip satırları atmak için uygun bir yol sağlar.\n",
    "\n",
    "### Benzersiz sonuçlara sahip SELECT sorgusu\n",
    "\n",
    "<img src = \"https://i.hizliresim.com/sgiuvsj.png\">\n",
    "\n",
    "* <code>DISTINCT</code> keywordü yinelenen satırları körü körüne kaldıracağından, gelecekteki derste gruplama ve <code>GROUP BY</code> clauseu kullanarak belirli sütunlara dayalı olarak yinelenenleri nasıl atacağını öğreneceksin.\n",
    "\n",
    "## Ordering results\n",
    "\n",
    "* Son birkaç dersteki özenle düzenlenmiş tablomuzun aksine, gerçek veritabanlarındaki çoğu veri belirli bir sütun düzeninde eklenmez. Sonuç olarak, bir tablonun boyutu binlerce hatta milyonlarca satıra çıktığı için bir sorgunun sonuçlarını okumak ve anlamak zor olabilir.\n",
    "\n",
    "* Buna yardımcı olmak için SQL, <code>ORDER BY</code> clauseunu kullanarak sonuçlarını belirli bir sütuna göre artan veya azalan düzende sıralamak için bir yol sağlar.\n",
    "\n",
    "### Sıralı sonuçlara sahip SELECT sorgusu\n",
    "\n",
    "<img src = \"https://i.hizliresim.com/hxjsx27.png\">\n",
    "\n",
    "* Bir <code>ORDER BY</code> clauseu belirtildiğinde, her satır, belirtilen sütunun değerine göre alfanümerik olarak sıralanır. Bazı veritabanlarında, uluslararası metin içeren verileri daha iyi sıralamak için collation da belirtebilirsin.\n",
    "\n",
    "## Limiting results to a subset\n",
    "**Sonuçları bir alt kümeyle sınırlama**\n",
    "\n",
    "* <CODE>ORDER BY</CODE> clauseu ile yaygın olarak kullanılan başka bir clause, ilgilendiğin sonuçların alt kümesini veritabanına belirtmek için yararlı bir optimizasyon olan <CODE>LIMIT</CODE> ve <code>OFFSET</code> clauselarıdır. <code>LIMIT</code>, döndürülecek satır sayısını azaltacak ve isteğe bağlı <code>OFFSET</code>, satır sayısını saymaya nereden başlayacağınızı belirtecektir.\n",
    "\n",
    "### Sınırlı satır içeren SELECT sorgusu\n",
    "\n",
    "<img src = \"https://i.hizliresim.com/slfot1b.png\">\n",
    "\n",
    "* Reddit veya Pinterest gibi web sitelerini düşünürsen, ön sayfa, popülerliğe ve zamana göre sıralanmış bağlantıların bir listesidir ve sonraki her sayfa, veritabanındaki farklı offsetlerdeki bağlantı kümeleriyle temsil edilebilir. Bu clauseları kullanarak, veritabanı daha sonra yalnızca istenen içeriği işleyip döndürerek sorguları daha hızlı ve daha verimli şekilde yürütebilir. \n",
    "\n",
    "#### Did you know?\n",
    "* Bir sorgunun diğer bölümlerine göre <code>LIMIT</code> ve <code>OFFSET</code>'in ne zaman uygulandığını merak ediyorsan, bunlar genellikle diğer clauselar uygulandıktan sonra yapılır. Sorgunun birkaç bölümünü daha tanıttıktan sonra *Lesson 12: Order of execution*'da buna daha fazla değinilecek."
   ]
  },
  {
   "cell_type": "markdown",
   "id": "04c4f58a",
   "metadata": {},
   "source": [
    "## Exercise\n",
    "\n",
    "* Bu derste birkaç kavram var, ancak hepsinin uygulanması oldukça basit. İşleri renklendirmek için, gerçek hayatta görebileceğin türden verileri daha iyi taklit etmek adına Movies tablosu karıştırıldı. Sorgularında yukarıda belirtilen gerekli keywordleri ve clauseları dene ve kullan.\n",
    "\n",
    "### 1. Bütün Pixar yönetmenlerini listele (alfabetik olarak), yinelemeler olmadan\n",
    "\n",
    "<img src = \"https://i.hizliresim.com/b3oeu5k.png\">\n",
    "\n",
    "### 2. Yayınlanan son dört Pixar filmini listele (en yeniden en eskiye doğru sırala)\n",
    "\n",
    "<img src = \"https://i.hizliresim.com/syniwz8.png\">\n",
    "<img src = \"https://i.hizliresim.com/3d5mqp4.png\">\n",
    "\n",
    "### 3. Alfabetik olarak sıralanmış ilk beş Pixar filmini listele.\n",
    "\n",
    "<img src = \"https://i.hizliresim.com/3v6q198.png\">\n",
    "<img src = \"https://i.hizliresim.com/3jz1cn0.png\">\n",
    "\n",
    "### 4. Alfabetik olarak sıralanmış ilk beşliden sonraki beş Pixar filmini listele.\n",
    "\n",
    "<img src = \"https://i.hizliresim.com/7341jaj.png\">\n",
    "<img src = \"https://i.hizliresim.com/owkq9tc.png\">"
   ]
  }
 ],
 "metadata": {
  "kernelspec": {
   "display_name": "Python 3 (ipykernel)",
   "language": "python",
   "name": "python3"
  },
  "language_info": {
   "codemirror_mode": {
    "name": "ipython",
    "version": 3
   },
   "file_extension": ".py",
   "mimetype": "text/x-python",
   "name": "python",
   "nbconvert_exporter": "python",
   "pygments_lexer": "ipython3",
   "version": "3.11.1"
  }
 },
 "nbformat": 4,
 "nbformat_minor": 5
}
