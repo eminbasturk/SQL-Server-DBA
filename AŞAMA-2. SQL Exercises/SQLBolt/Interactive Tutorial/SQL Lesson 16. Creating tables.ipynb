{
 "cells": [
  {
   "cell_type": "markdown",
   "id": "ceaa667b",
   "metadata": {},
   "source": [
    "# SQL Lesson 16: Creating tables\n",
    "**SQL Ders 16: Tablo oluşturma**\n",
    "\n",
    "* Veritabanında depolanacak yeni veriler ve ilişkiler olduğunda, **CREATE TABLE** deyimini kullanarak yeni bir veritabanı tablosu oluşturabilirsin.\n",
    "\n",
    "<img src = \"https://i.hizliresim.com/6c7jj74.png\">\n",
    "\n",
    "* Yeni tablonun yapısı, bir dizi sütunu tanımlayan tablo şemasıyla tanımlanır. Her sütunun bir adı, o sütunda izin verilen türü, eklenen değeler üzerinde isteğe bağlı bir tablo kısıtlaması ve isteğe bağlı bir varsayılan değer vardır.\n",
    "* Aynı ada sahip bir tablo zaten varsa, SQL uygulaması genellikle bir hata atar, bu nedenle hatayı bastırmak ve varsa bir tablo oluşturmayı atlamak için **IF NOT EXISTS** deyimini kullanabilirsin.\n",
    "\n",
    "### Table data types\n",
    "**Tablo veri türleri**\n",
    "\n",
    "Farklı veritabanları farklı veri türlerini destekler, ancak yaygın türler sayısal, string ve tarihler, mantıksal değerler ve hatta binary veriler gibi diğer çeşitli şeyleri destekler. İşte gerçek kodda kullanabileceğin bazı örnekler.\n",
    "\n",
    "| Data type | Description |\n",
    "| --- | --- |\n",
    "| **INTEGER**, **BOOLEAN** | Integer veri türleri, bir şeyin sayısı veya bir yaş gibi tamsayı değerlerini saklayabilir. Bazı uygulamalarda, boole değeri yalnızca 0 veya 1'lik bir tamsayı değeri olarak temsil edilir. |\n",
    "| **FLOAT**, **DOUBLE**, **REAL** | Ondalıklı veri türleri, ölçümler veya kesirli değerler gibi daha kesin sayısal verileri depolayabilir. Bu değer için gereken ondalıklı hassasiyete bağlı olarak farklı türler kullanılabilir. |\n",
    "| **CHARACTER(num_chars)**, **VARCHAR(num_chars)**, **TEXT** | Metin bazlı veri türleri, stringleri ve metni her türlü yerel ayarda depolayabilir. Çeşitli türler arasındaki ayrım, genellikle bu sütunlarla çalışırken veritabanının verimliliğinin altını çizer. Hem CHARACTER hem de VARCHAR (variable character) türleri, saklayabilecekleri maksimum karakter sayısıyla belirtilir (daha uzun değerler kesilebilir), bu nedenle büyük tablolarla depolamak ve sorgulamak daha verimli olabilir. |\n",
    "| **DATE**, **DATETIME** | SQL, zaman serilerini ve olay verilerini takip etmek için tarih ve saat damgalarını da saklayabilir. Özellikle zaman dilimleri arasında verileri işlerken bunlarla çalışmak zor olabilir. |\n",
    "| **BLOB** | Son olarak SQL, binary verileri doğrudan veritabanındaki bloblarda depolayabilir. Bu değerler genellikle veritabanı için opaktır, bu nedenle onları yeniden sorgulamak için genellikle doğru meta verilerle depolamanız gerekir. |\n",
    "\n",
    "### Table constraints\n",
    "**Tablo kısıtlamaları**\n",
    "\n",
    "Bu derste tablo kısıtlamalarına çok derinlemesine girilmeyecek, ancak her sütunda, o sütuna hangi değerlerin eklenebileceğini sınırlayan ek tablo kısıtlamaları olabilir.\n",
    "\n",
    "| Constraint | Description |\n",
    "| --- | --- |\n",
    "| **PRIMARY KEY** | Bu, bu sütundaki değerlerin benzersiz olduğu ve her değerin bu tablodaki tek bir satırı tanımlamak için kullanılabileceği anlamına gelir. |\n",
    "| **AUTOINCREMENT** | Tamsayı değerler için bu, değerin otomatik olarak doldurulduğu ve her satır eklemede artırıldığı anlamına gelir. Tüm veritabanlarında desteklenmez. |\n",
    "| **UNIQUE** | Bu, bu sütundaki değerlerin benzersiz olması gerektiği anlamına gelir, dolayısıyla bu sütuna tablodaki başka bir satırla aynı değere sahip başka bir satır ekleyemezsin. Tablodaki bir satır için bir anahtar olması gerekmediği için 'PRIMARY KEY'den farklıdır. |\n",
    "| **NOT NULL** | Bu, girilen değerin \"NULL\" olamayacağı anlamına gelir. |\n",
    "| **CHECK (expression)** | Bu, girilen değerlerin geçerli olup olmadığını test etmek için daha karmaşık bir ifade çalıştırmanıza olanak tanır. Örneğin, değerlerin pozitif veya belirli bir boyuttan büyük olup olmadığını kontrol edebilir veya belirli bir önekle başlayabilirsin, vb. | \n",
    "| **FOREIGN KEY** | Bu, bu sütundaki her değerin başka bir tablodaki bir sütundaki başka bir değere karşılık gelmesini sağlayan bir tutarlılık kontrolüdür. Örneğin, biri tüm çalışanları id'sine göre listeleyen ve diğeri bordro bilgilerini listeleyen iki tablo varsa, \"FOREIGN KEY\" bordro tablosundaki her satırın ana çalışan listesindeki geçerli bir çalışana karşılık gelmesini sağlayabilir. |\n",
    "\n",
    "### An example\n",
    "**Bir örnek**\n",
    "\n",
    "Bir örnek şimdiye kadar derslerde kullandığımız **Movies** tablosu için örnek bir şema aşağıdadır.\n",
    "\n",
    "<img src = \"https://i.hizliresim.com/avs5jnq.png\">"
   ]
  },
  {
   "cell_type": "markdown",
   "id": "9b305adf",
   "metadata": {},
   "source": [
    "## Exercise\n",
    "\n",
    "Bu alıştırmada, içine yeni satırlar ekleyebilmemiz için yeni bir tablo oluşturmamız gerekecek.\n",
    "\n",
    "### 1. Aşağıdaki kolonlarla Veritabanı adlı yeni bir tablo oluştur:\n",
    "* **Name**, Veritabanının adını açıklayan bir string (text)\n",
    "* **Version**, Bu veritabanının en son sürümünün bir değeri (floating point)\n",
    "* **Download_count**, Bu veritabanının indirilme sayısının tamsayı değeri\n",
    "* Bu tablonun herhangi bir kısıtlaması yoktur.\n",
    "\n",
    "<img src = \"https://i.hizliresim.com/enolm4b.png\">\n",
    "\n",
    "<img src = \"https://i.hizliresim.com/qbpqkt5.png\">"
   ]
  }
 ],
 "metadata": {
  "kernelspec": {
   "display_name": "Python 3 (ipykernel)",
   "language": "python",
   "name": "python3"
  },
  "language_info": {
   "codemirror_mode": {
    "name": "ipython",
    "version": 3
   },
   "file_extension": ".py",
   "mimetype": "text/x-python",
   "name": "python",
   "nbconvert_exporter": "python",
   "pygments_lexer": "ipython3",
   "version": "3.11.1"
  }
 },
 "nbformat": 4,
 "nbformat_minor": 5
}
